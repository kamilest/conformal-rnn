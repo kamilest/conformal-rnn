{
 "cells": [
  {
   "cell_type": "code",
   "execution_count": 2,
   "metadata": {},
   "outputs": [
    {
     "name": "stdout",
     "output_type": "stream",
     "text": [
      "The autoreload extension is already loaded. To reload it, use:\n",
      "  %reload_ext autoreload\n"
     ]
    }
   ],
   "source": [
    "%load_ext autoreload\n",
    "%autoreload 2"
   ]
  },
  {
   "cell_type": "code",
   "execution_count": 40,
   "metadata": {
    "collapsed": false,
    "jupyter": {
     "outputs_hidden": false
    }
   },
   "outputs": [],
   "source": [
    "import numpy as np\n",
    "from matplotlib import pyplot as plt\n",
    "%matplotlib inline\n",
    "\n",
    "import torch\n",
    "import pickle"
   ]
  },
  {
   "cell_type": "markdown",
   "metadata": {},
   "source": [
    "## Time-dependent, no periodic component"
   ]
  },
  {
   "cell_type": "code",
   "execution_count": 31,
   "metadata": {},
   "outputs": [],
   "source": [
    "# from utils.train_synthetic import train_conformal_forecaster\n",
    "time_dependent_results = train_conformal_forecaster(noise_mode='time-dependent')"
   ]
  },
  {
   "cell_type": "markdown",
   "metadata": {},
   "source": [
    "**Joint coverage**"
   ]
  },
  {
   "cell_type": "code",
   "execution_count": 32,
   "metadata": {},
   "outputs": [
    {
     "name": "stdout",
     "output_type": "stream",
     "text": [
      "92.0\\%\n",
      "91.6\\%\n",
      "92.0\\%\n",
      "92.2\\%\n",
      "91.2\\%\n"
     ]
    }
   ],
   "source": [
    "for result in time_dependent_results:\n",
    "    print('{:.1f}\\\\%'.format(result['Mean joint coverage'] * 100))"
   ]
  },
  {
   "cell_type": "markdown",
   "metadata": {},
   "source": [
    "**Independent coverage**"
   ]
  },
  {
   "cell_type": "code",
   "execution_count": 33,
   "metadata": {},
   "outputs": [
    {
     "name": "stdout",
     "output_type": "stream",
     "text": [
      "tensor([0.9600, 0.9840, 0.9820, 0.9940, 0.9820])\n",
      "[96.0\\%, 99.4\\%]\n",
      "\n",
      "tensor([0.9840, 0.9880, 0.9840, 0.9560, 0.9840])\n",
      "[95.6\\%, 98.8\\%]\n",
      "\n",
      "tensor([0.9820, 0.9820, 0.9720, 0.9760, 0.9780])\n",
      "[97.2\\%, 98.2\\%]\n",
      "\n",
      "tensor([0.9800, 0.9800, 0.9740, 0.9920, 0.9840])\n",
      "[97.4\\%, 99.2\\%]\n",
      "\n",
      "tensor([0.9780, 0.9800, 0.9900, 0.9780, 0.9800])\n",
      "[97.8\\%, 99.0\\%]\n",
      "\n"
     ]
    }
   ],
   "source": [
    "for result in time_dependent_results:\n",
    "    independent_coverages = result['Mean independent coverage']\n",
    "    print(independent_coverages)\n",
    "#     print('{:.1f} \\\\(\\\\pm\\\\) {:.1f}\\\\%'.format(independent_coverages.mean() * 100, independent_coverages.std() * 100))\n",
    "    print('[{:.1f}\\\\%, {:.1f}\\\\%]'.format(independent_coverages.min() * 100, independent_coverages.max() * 100))\n",
    "    print()"
   ]
  },
  {
   "cell_type": "markdown",
   "metadata": {},
   "source": [
    "**Mean absolute error**"
   ]
  },
  {
   "cell_type": "code",
   "execution_count": 34,
   "metadata": {},
   "outputs": [
    {
     "name": "stdout",
     "output_type": "stream",
     "text": [
      "tensor([2.3385, 3.1437, 3.7521, 4.0304, 4.2055], grad_fn=<MeanBackward1>)\n",
      "3.49 \\(\\pm\\) 2.69\n",
      "\n",
      "tensor([2.8506, 3.5456, 4.1636, 4.6017, 4.7974], grad_fn=<MeanBackward1>)\n",
      "3.99 \\(\\pm\\) 3.13\n",
      "\n",
      "tensor([3.9038, 4.5945, 5.0242, 5.6742, 5.4950], grad_fn=<MeanBackward1>)\n",
      "4.94 \\(\\pm\\) 3.79\n",
      "\n",
      "tensor([4.3761, 5.1412, 6.1135, 5.9675, 6.7823], grad_fn=<MeanBackward1>)\n",
      "5.68 \\(\\pm\\) 4.35\n",
      "\n",
      "tensor([5.4778, 6.2312, 7.0181, 7.4857, 7.7957], grad_fn=<MeanBackward1>)\n",
      "6.80 \\(\\pm\\) 5.33\n",
      "\n"
     ]
    }
   ],
   "source": [
    "for result in time_dependent_results:\n",
    "    errors = result['Errors']\n",
    "    print(errors.mean(axis=0)) \n",
    "#     print(errors.mean())\n",
    "    print('{:.2f} \\\\(\\\\pm\\\\) {:.2f}'.format(errors.mean(), errors.std()))\n",
    "    print()"
   ]
  },
  {
   "cell_type": "markdown",
   "metadata": {},
   "source": [
    "**Interval widths**"
   ]
  },
  {
   "cell_type": "code",
   "execution_count": 35,
   "metadata": {},
   "outputs": [
    {
     "name": "stdout",
     "output_type": "stream",
     "text": [
      "tensor([12.8132, 17.8813, 21.2491, 23.2933, 23.6637], requires_grad=True)\n",
      "tensor(19.7801, grad_fn=<MeanBackward0>) tensor(4.5201, grad_fn=<StdBackward0>)\n",
      "\n",
      "tensor([17.1109, 20.6710, 22.1549, 23.8422, 27.9436], requires_grad=True)\n",
      "tensor(22.3445, grad_fn=<MeanBackward0>) tensor(3.9944, grad_fn=<StdBackward0>)\n",
      "\n",
      "tensor([22.0895, 25.7180, 28.0620, 32.3142, 33.7863], requires_grad=True)\n",
      "tensor(28.3940, grad_fn=<MeanBackward0>) tensor(4.7818, grad_fn=<StdBackward0>)\n",
      "\n",
      "tensor([25.1534, 29.1088, 32.5214, 39.1727, 41.6589], requires_grad=True)\n",
      "tensor(33.5230, grad_fn=<MeanBackward0>) tensor(6.8675, grad_fn=<StdBackward0>)\n",
      "\n",
      "tensor([31.4864, 34.9797, 43.5343, 42.1337, 47.7705], requires_grad=True)\n",
      "tensor(39.9809, grad_fn=<MeanBackward0>) tensor(6.6164, grad_fn=<StdBackward0>)\n",
      "\n"
     ]
    }
   ],
   "source": [
    "for result in time_dependent_results:\n",
    "    print(result['Mean confidence interval widths'])\n",
    "    print(result['Mean confidence interval widths'].mean(), result['Mean confidence interval widths'].std())\n",
    "    print()"
   ]
  },
  {
   "cell_type": "markdown",
   "metadata": {},
   "source": [
    "## Static noise, no periodic component"
   ]
  },
  {
   "cell_type": "code",
   "execution_count": 15,
   "metadata": {},
   "outputs": [],
   "source": [
    "static_results = train_conformal_forecaster(noise_mode='static')"
   ]
  },
  {
   "cell_type": "markdown",
   "metadata": {},
   "source": [
    "**Joint coverage**"
   ]
  },
  {
   "cell_type": "code",
   "execution_count": 16,
   "metadata": {},
   "outputs": [
    {
     "name": "stdout",
     "output_type": "stream",
     "text": [
      "95.0\\%\n",
      "94.4\\%\n",
      "93.2\\%\n",
      "93.4\\%\n",
      "92.4\\%\n"
     ]
    }
   ],
   "source": [
    "for result in static_results:\n",
    "    print('{:.1f}\\\\%'.format(result['Mean joint coverage'] * 100))"
   ]
  },
  {
   "cell_type": "markdown",
   "metadata": {},
   "source": [
    "**Independent coverage**"
   ]
  },
  {
   "cell_type": "code",
   "execution_count": 17,
   "metadata": {},
   "outputs": [
    {
     "name": "stdout",
     "output_type": "stream",
     "text": [
      "tensor([0.9780, 0.9860, 0.9860, 0.9780, 0.9800])\n",
      "[97.8\\%, 98.6\\%]\n",
      "\n",
      "tensor([0.9840, 0.9780, 0.9820, 0.9840, 0.9840])\n",
      "[97.8\\%, 98.4\\%]\n",
      "\n",
      "tensor([0.9720, 0.9800, 0.9780, 0.9760, 0.9800])\n",
      "[97.2\\%, 98.0\\%]\n",
      "\n",
      "tensor([0.9820, 0.9840, 0.9720, 0.9640, 0.9680])\n",
      "[96.4\\%, 98.4\\%]\n",
      "\n",
      "tensor([0.9780, 0.9680, 0.9780, 0.9720, 0.9760])\n",
      "[96.8\\%, 97.8\\%]\n",
      "\n"
     ]
    }
   ],
   "source": [
    "for result in static_results:\n",
    "    independent_coverages = result['Mean independent coverage']\n",
    "    print(independent_coverages)\n",
    "#     print('{:.1f} \\\\(\\\\pm\\\\) {:.1f}\\\\%'.format(independent_coverages.mean() * 100, independent_coverages.std() * 100))\n",
    "    print('[{:.1f}\\\\%, {:.1f}\\\\%]'.format(independent_coverages.min() * 100, independent_coverages.max() * 100))\n",
    "    print()"
   ]
  },
  {
   "cell_type": "markdown",
   "metadata": {},
   "source": [
    "**Mean absolute error**"
   ]
  },
  {
   "cell_type": "code",
   "execution_count": 18,
   "metadata": {},
   "outputs": [
    {
     "name": "stdout",
     "output_type": "stream",
     "text": [
      "tensor([1.8995, 2.5804, 3.1298, 3.5363, 3.7695], grad_fn=<MeanBackward1>)\n",
      "2.98 \\(\\pm\\) 2.41\n",
      "\n",
      "tensor([1.9419, 2.7828, 3.3485, 3.6435, 3.9276], grad_fn=<MeanBackward1>)\n",
      "3.13 \\(\\pm\\) 2.48\n",
      "\n",
      "tensor([1.9291, 2.7528, 3.5822, 4.0033, 4.2119], grad_fn=<MeanBackward1>)\n",
      "3.30 \\(\\pm\\) 2.68\n",
      "\n",
      "tensor([2.0626, 2.7283, 3.1654, 3.6567, 3.9644], grad_fn=<MeanBackward1>)\n",
      "3.12 \\(\\pm\\) 2.52\n",
      "\n",
      "tensor([1.9955, 2.6569, 3.4058, 3.6974, 3.8686], grad_fn=<MeanBackward1>)\n",
      "3.12 \\(\\pm\\) 2.54\n",
      "\n"
     ]
    }
   ],
   "source": [
    "for result in static_results:\n",
    "    errors = result['Errors']\n",
    "    print(errors.mean(axis=0)) \n",
    "#     print(errors.mean())\n",
    "    print('{:.2f} \\\\(\\\\pm\\\\) {:.2f}'.format(errors.mean(), errors.std()))\n",
    "    print()"
   ]
  },
  {
   "cell_type": "markdown",
   "metadata": {},
   "source": [
    "**Interval widths**"
   ]
  },
  {
   "cell_type": "code",
   "execution_count": 19,
   "metadata": {},
   "outputs": [
    {
     "name": "stdout",
     "output_type": "stream",
     "text": [
      "tensor([11.4507, 15.3996, 19.2507, 21.0733, 22.1902], requires_grad=True)\n",
      "tensor(17.8729, grad_fn=<MeanBackward0>) tensor(4.4199, grad_fn=<StdBackward0>)\n",
      "\n",
      "tensor([12.1119, 16.7439, 18.5749, 21.4060, 23.3589], requires_grad=True)\n",
      "tensor(18.4391, grad_fn=<MeanBackward0>) tensor(4.3570, grad_fn=<StdBackward0>)\n",
      "\n",
      "tensor([11.4600, 16.2007, 19.3880, 23.0490, 23.6155], requires_grad=True)\n",
      "tensor(18.7427, grad_fn=<MeanBackward0>) tensor(5.0548, grad_fn=<StdBackward0>)\n",
      "\n",
      "tensor([11.7586, 16.4172, 18.6265, 20.4468, 23.1094], requires_grad=True)\n",
      "tensor(18.0717, grad_fn=<MeanBackward0>) tensor(4.2988, grad_fn=<StdBackward0>)\n",
      "\n",
      "tensor([11.1144, 15.1959, 18.9498, 20.8329, 22.0748], requires_grad=True)\n",
      "tensor(17.6336, grad_fn=<MeanBackward0>) tensor(4.4759, grad_fn=<StdBackward0>)\n",
      "\n"
     ]
    }
   ],
   "source": [
    "for result in static_results:\n",
    "    print(result['Mean confidence interval widths'])\n",
    "    print(result['Mean confidence interval widths'].mean(), result['Mean confidence interval widths'].std())\n",
    "    print()"
   ]
  },
  {
   "cell_type": "markdown",
   "metadata": {},
   "source": [
    "## Periodic component, time dependent noise"
   ]
  },
  {
   "cell_type": "code",
   "execution_count": 158,
   "metadata": {},
   "outputs": [],
   "source": [
    "periodic_results = train_conformal_forecaster(noise_mode='periodic')"
   ]
  },
  {
   "cell_type": "markdown",
   "metadata": {},
   "source": [
    "**Joint coverage**"
   ]
  },
  {
   "cell_type": "code",
   "execution_count": 159,
   "metadata": {},
   "outputs": [
    {
     "name": "stdout",
     "output_type": "stream",
     "text": [
      "94.4\\%\n",
      "93.0\\%\n"
     ]
    }
   ],
   "source": [
    "for result in periodic_results:\n",
    "    print('{:.1f}\\\\%'.format(result['Mean joint coverage'] * 100))"
   ]
  },
  {
   "cell_type": "markdown",
   "metadata": {},
   "source": [
    "**Independent coverage**"
   ]
  },
  {
   "cell_type": "code",
   "execution_count": 160,
   "metadata": {},
   "outputs": [
    {
     "name": "stdout",
     "output_type": "stream",
     "text": [
      "tensor([0.9900, 0.9920, 0.9900, 0.9800, 0.9940, 0.9800, 0.9920, 0.9840, 0.9900,\n",
      "        0.9880])\n",
      "[98.0\\%, 99.4\\%]\n",
      "\n",
      "tensor([0.9940, 0.9960, 0.9880, 0.9820, 0.9820, 0.9880, 0.9900, 0.9940, 0.9800,\n",
      "        0.9900])\n",
      "[98.0\\%, 99.6\\%]\n",
      "\n"
     ]
    }
   ],
   "source": [
    "for result in periodic_results:\n",
    "    independent_coverages = result['Mean independent coverage']\n",
    "    print(independent_coverages)\n",
    "#     print('{:.1f} \\\\(\\\\pm\\\\) {:.1f}\\\\%'.format(independent_coverages.mean() * 100, independent_coverages.std() * 100))\n",
    "    print('[{:.1f}\\\\%, {:.1f}\\\\%]'.format(independent_coverages.min() * 100, independent_coverages.max() * 100))\n",
    "    print()"
   ]
  },
  {
   "cell_type": "markdown",
   "metadata": {},
   "source": [
    "**Mean absolute error**"
   ]
  },
  {
   "cell_type": "code",
   "execution_count": 161,
   "metadata": {},
   "outputs": [
    {
     "name": "stdout",
     "output_type": "stream",
     "text": [
      "tensor([ 7.1017,  7.1336,  9.1060,  9.7436, 10.8817, 11.7779, 12.8745, 13.3424,\n",
      "        14.6040, 14.6704], grad_fn=<MeanBackward1>)\n",
      "11.12 \\(\\pm\\) 9.42\n",
      "\n",
      "tensor([ 8.0780, 10.8483, 12.7975, 12.4866, 12.4846, 13.3862, 14.0606, 14.4793,\n",
      "        14.3295, 14.8086], grad_fn=<MeanBackward1>)\n",
      "12.78 \\(\\pm\\) 9.95\n",
      "\n"
     ]
    }
   ],
   "source": [
    "for result in periodic_results:\n",
    "    errors = result['Errors']\n",
    "    print(errors.mean(axis=0)) \n",
    "#     print(errors.mean())\n",
    "    print('{:.2f} \\\\(\\\\pm\\\\) {:.2f}'.format(errors.mean(), errors.std()))\n",
    "    print()"
   ]
  },
  {
   "cell_type": "markdown",
   "metadata": {},
   "source": [
    "**Interval widths**"
   ]
  },
  {
   "cell_type": "code",
   "execution_count": 162,
   "metadata": {},
   "outputs": [
    {
     "name": "stdout",
     "output_type": "stream",
     "text": [
      "tensor([50.6244, 53.6450, 67.4296, 61.9072, 77.1742, 73.2698, 88.7495, 90.1940,\n",
      "        99.7400, 99.4827], requires_grad=True)\n",
      "tensor(76.2216, grad_fn=<MeanBackward0>) tensor(17.9602, grad_fn=<StdBackward0>)\n",
      "\n",
      "tensor([ 58.1606,  80.7202,  87.3097,  75.0322,  74.2798,  81.7930,  92.1664,\n",
      "        100.0012,  87.9910,  92.0041], requires_grad=True)\n",
      "tensor(82.9458, grad_fn=<MeanBackward0>) tensor(11.8358, grad_fn=<StdBackward0>)\n",
      "\n"
     ]
    }
   ],
   "source": [
    "for result in periodic_results:\n",
    "    print(result['Mean confidence interval widths'])\n",
    "    print(result['Mean confidence interval widths'].mean(), result['Mean confidence interval widths'].std())\n",
    "    print()"
   ]
  },
  {
   "cell_type": "markdown",
   "metadata": {},
   "source": [
    "## Plotting"
   ]
  },
  {
   "cell_type": "code",
   "execution_count": 38,
   "metadata": {},
   "outputs": [],
   "source": [
    "import pickle"
   ]
  },
  {
   "cell_type": "code",
   "execution_count": 151,
   "metadata": {},
   "outputs": [],
   "source": [
    "def plot_timeseries(noise_mode, baseline, index=None, forecast_only=False, figsize=(28,4), figure_name=None):\n",
    "     \n",
    "    plt.rcParams.update({\n",
    "    \"text.usetex\": False,\n",
    "    \"font.family\": \"sans-serif\",\n",
    "    \"font.sans-serif\": [\"Helvetica\"]})\n",
    "    plt.rcParams.update({'axes.titlesize': 16})\n",
    "    \n",
    "    datasets = []\n",
    "    for i in ([2, 10] if noise_mode == 'periodic' else range(1, 6)):\n",
    "        with open('processed_data/synthetic_{}_raw_{}.pkl'.format(noise_mode, i), 'rb') as f:\n",
    "            datasets.append(pickle.load(f))\n",
    "        \n",
    "    with open('saved_results/{}_{}.pkl'.format(noise_mode, baseline), 'rb') as f:\n",
    "        all_results = pickle.load(f)\n",
    "        \n",
    "    fig, axs = plt.subplots(nrows=1, ncols=len(datasets), figsize=figsize, sharey=True)\n",
    "\n",
    "    for j, ax in enumerate(axs.flat):\n",
    "        _, _, dataset = datasets[j]\n",
    "        results = all_results[j]\n",
    "        \n",
    "        X, Y = dataset\n",
    "            \n",
    "        if index is None:\n",
    "            index = range(len(X))\n",
    "        i = np.random.choice(index)\n",
    "\n",
    "        \n",
    "        # Derive unpadded sequences and targets\n",
    "        sequence, target = X[i], Y[i]\n",
    "        \n",
    "        horizon = len(target)\n",
    "        length = len(sequence)\n",
    "        \n",
    "        if not forecast_only:\n",
    "            # (Scatter)plot of the time series\n",
    "            ax.plot(range(1, length+1), sequence, color=\"black\")\n",
    "            \n",
    "            # Prediction start vertical\n",
    "            ax.axvline(length, linestyle=\"--\", color=\"black\")\n",
    "        \n",
    "        ax.scatter(range(length + 1, length + horizon + 1), target, color=\"black\")\n",
    "        \n",
    "        # Interval boundaries\n",
    "        upper_limit = results['Upper limit']\n",
    "        lower_limit = results['Lower limit']\n",
    "        \n",
    "        lower = [sequence[-1].item()] + lower_limit[i].flatten().tolist()\n",
    "        upper = [sequence[-1].item()] + upper_limit[i].flatten().tolist()\n",
    "        preds = [sequence[-1].item()] + results['Point predictions'][i].flatten().tolist()\n",
    "\n",
    "        ax.fill_between(range(length, length + horizon + 1), lower, upper, color=\"r\", alpha=0.25)\n",
    "        ax.plot(range(length, length + horizon + 1), lower, linestyle=\"--\", color=\"r\")\n",
    "        ax.plot(range(length, length + horizon + 1), upper, linestyle=\"--\", color=\"r\")\n",
    "        ax.plot(range(length, length + horizon + 1), preds, linestyle=\"--\", linewidth=3, color=\"r\")\n",
    "\n",
    "#         if j == 0:\n",
    "#             ax.set(ylabel='Prediction')  \n",
    "        ax.set(xlabel='Time step')\n",
    "        if noise_mode == 'time-dependent':\n",
    "            ax.set(title='$\\sigma_t^2 =${:.1f}$t$'.format((j+1)*0.1))\n",
    "    \n",
    "    plt.subplots_adjust(left=0.1,\n",
    "                    bottom=0.1, \n",
    "                    right=0.9, \n",
    "                    top=0.9, \n",
    "                    wspace=0.1, \n",
    "                    hspace=0.4)\n",
    "    \n",
    "#     plt.xlabel('Time step')\n",
    "#     plt.ylabel('Prediction')\n",
    "    if figure_name is not None:\n",
    "        plt.savefig('{}.png'.format(figure_name) , bbox_inches='tight')\n",
    "    plt.show()"
   ]
  },
  {
   "cell_type": "code",
   "execution_count": 152,
   "metadata": {},
   "outputs": [
    {
     "data": {
      "image/png": "[encoded data removed]",
      "text/plain": [
       "<Figure size 2016x288 with 5 Axes>"
      ]
     },
     "metadata": {
      "needs_background": "light"
     },
     "output_type": "display_data"
    }
   ],
   "source": [
    "plot_timeseries(noise_mode='time-dependent', baseline='CPRNN', figure_name='time-dependent')"
   ]
  },
  {
   "cell_type": "code",
   "execution_count": 173,
   "metadata": {},
   "outputs": [
    {
     "data": {
      "image/png": "[encoded data removed]",
      "text/plain": [
       "<Figure size 1440x216 with 2 Axes>"
      ]
     },
     "metadata": {
      "needs_background": "light"
     },
     "output_type": "display_data"
    }
   ],
   "source": [
    "plot_timeseries(noise_mode='periodic', baseline='CPRNN', figsize=(20,3), figure_name='periodic')"
   ]
  },
  {
   "cell_type": "code",
   "execution_count": null,
   "metadata": {},
   "outputs": [],
   "source": []
  }
 ],
 "metadata": {
  "kernelspec": {
   "display_name": "Python 3",
   "language": "python",
   "name": "python3"
  },
  "language_info": {
   "codemirror_mode": {
    "name": "ipython",
    "version": 3
   },
   "file_extension": ".py",
   "mimetype": "text/x-python",
   "name": "python",
   "nbconvert_exporter": "python",
   "pygments_lexer": "ipython3",
   "version": "3.7.9"
  }
 },
 "nbformat": 4,
 "nbformat_minor": 4
}
