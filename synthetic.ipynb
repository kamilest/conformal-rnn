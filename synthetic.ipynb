{
 "cells": [
  {
   "cell_type": "code",
   "execution_count": 2,
   "metadata": {},
   "outputs": [
    {
     "name": "stdout",
     "output_type": "stream",
     "text": [
      "The autoreload extension is already loaded. To reload it, use:\n",
      "  %reload_ext autoreload\n"
     ]
    }
   ],
   "source": [
    "%load_ext autoreload\n",
    "%autoreload 2"
   ]
  },
  {
   "cell_type": "code",
   "execution_count": 5,
   "metadata": {
    "collapsed": false,
    "jupyter": {
     "outputs_hidden": false
    }
   },
   "outputs": [],
   "source": [
    "import numpy as np\n",
    "from matplotlib import pyplot as plt\n",
    "%matplotlib inline\n",
    "\n",
    "import torch\n",
    "import pickle\n",
    "\n",
    "from models.rnn import RNN     # library containing the base RNN model implementation in torch\n",
    "from models.uncertainty import RNN_uncertainty_wrapper\n",
    "from utils.make_data import *       # library for generating synthetic data  "
   ]
  },
  {
   "cell_type": "markdown",
   "metadata": {},
   "source": [
    "## Hyperparameters"
   ]
  },
  {
   "cell_type": "code",
   "execution_count": 24,
   "metadata": {},
   "outputs": [],
   "source": [
    "# Dataset size\n",
    "n_train_samples = 1000\n",
    "n_calibration_samples = 1000\n",
    "n_test_samples = 500\n",
    "\n",
    "# Time series parameters\n",
    "seq_len = 10\n",
    "horizon = 5\n",
    "noise_profile = [0.1 * k for k in range(seq_len + horizon)]\n",
    "periodicity = 2\n",
    "amplitude = 1\n",
    "dynamic_sequence_lengths=False\n",
    "\n",
    "# LSTM parameters\n",
    "epochs=1000\n",
    "batch_size=100\n",
    "embedding_size=20\n",
    "coverage=0.9\n",
    "error_rate=1-coverage\n",
    "lr=0.01\n",
    "\n",
    "params = dict({\"INPUT_SIZE\":1,      # RNN parameters\n",
    "               \"EPOCH\":epochs, \n",
    "               \"N_STEPS\":epochs//batch_size, \n",
    "               \"BATCH_SIZE\":batch_size, \n",
    "               \"MAX_STEPS\":seq_len,\n",
    "               \"OUTPUT_SIZE\":horizon,\n",
    "               \"mode\":\"LSTM\"})"
   ]
  },
  {
   "cell_type": "markdown",
   "metadata": {},
   "source": [
    "## Generate datasets"
   ]
  },
  {
   "cell_type": "code",
   "execution_count": 26,
   "metadata": {},
   "outputs": [],
   "source": [
    "from utils.make_data import generate_autoregressive_forecast_dataset\n",
    "\n",
    "X_train, Y_train = generate_autoregressive_forecast_dataset(n_samples=n_train_samples, \n",
    "                                                               seq_len=seq_len, \n",
    "                                                               horizon=horizon, \n",
    "                                                               periodicity=periodicity,\n",
    "                                                               noise_profile=noise_profile, \n",
    "                                                               amplitude=amplitude,\n",
    "                                                               dynamic_sequence_lengths=dynamic_sequence_lengths,\n",
    "                                                               return_raw=True)\n",
    "\n",
    "X_test, Y_test = generate_autoregressive_forecast_dataset(n_samples=min(n_test_samples, 500), # because code is slow \n",
    "                                                               seq_len=seq_len, \n",
    "                                                               horizon=horizon, \n",
    "                                                               periodicity=periodicity,\n",
    "                                                               noise_profile=noise_profile, \n",
    "                                                               amplitude=amplitude,\n",
    "                                                               dynamic_sequence_lengths=dynamic_sequence_lengths,\n",
    "                                                               return_raw=True)"
   ]
  },
  {
   "cell_type": "code",
   "execution_count": 29,
   "metadata": {
    "collapsed": false,
    "jupyter": {
     "outputs_hidden": false
    }
   },
   "outputs": [
    {
     "name": "stdout",
     "output_type": "stream",
     "text": [
      "Epoch:  0 | train loss: 97.3504\n",
      "Epoch:  50 | train loss: 16.2253\n",
      "Epoch:  100 | train loss: 16.2354\n",
      "Epoch:  150 | train loss: 12.8781\n",
      "Epoch:  200 | train loss: 12.4396\n",
      "Epoch:  250 | train loss: 11.0007\n",
      "Epoch:  300 | train loss: 10.0603\n",
      "Epoch:  350 | train loss: 8.6897\n",
      "Epoch:  400 | train loss: 9.3566\n",
      "Epoch:  450 | train loss: 7.1223\n",
      "Epoch:  500 | train loss: 8.8977\n",
      "Epoch:  550 | train loss: 8.9665\n",
      "Epoch:  600 | train loss: 7.3974\n",
      "Epoch:  650 | train loss: 7.8560\n",
      "Epoch:  700 | train loss: 7.5733\n",
      "Epoch:  750 | train loss: 7.1926\n",
      "Epoch:  800 | train loss: 7.5927\n",
      "Epoch:  850 | train loss: 7.6044\n",
      "Epoch:  900 | train loss: 7.1506\n",
      "Epoch:  950 | train loss: 8.4479\n"
     ]
    }
   ],
   "source": [
    "from models.rnn import RNN\n",
    "RNN_model = RNN(**params)\n",
    "RNN_model.fit(X, Y)"
   ]
  },
  {
   "cell_type": "markdown",
   "metadata": {},
   "source": [
    "## Uncertainty estimation"
   ]
  },
  {
   "cell_type": "code",
   "execution_count": 32,
   "metadata": {},
   "outputs": [],
   "source": [
    "from models.uncertainty import RNN_uncertainty_wrapper\n",
    "from models.losses import single_losses\n",
    "\n",
    "RNN_model_ = RNN_uncertainty_wrapper(RNN_model)"
   ]
  },
  {
   "cell_type": "markdown",
   "metadata": {},
   "source": [
    "## Coverage evaluation"
   ]
  },
  {
   "cell_type": "code",
   "execution_count": 40,
   "metadata": {
    "collapsed": false,
    "jupyter": {
     "outputs_hidden": false
    }
   },
   "outputs": [],
   "source": [
    "def coverage(intervals, target, coverage_mode='joint'):\n",
    "    \"\"\" Determines whether intervals coverage the target prediction.\n",
    "\n",
    "    Depending on the coverage_mode (either 'joint' or 'independent), will return\n",
    "    either a list of whether each target or all targets satisfy the coverage.\n",
    "    \"\"\"\n",
    "\n",
    "    lower, upper = intervals[0], intervals[1]\n",
    "\n",
    "    horizon_coverages = np.logical_and(target >= lower, target <= upper)\n",
    "    if coverage_mode == 'independent':\n",
    "        return horizon_coverages\n",
    "    else:  # joint coverage\n",
    "        return np.all(horizon_coverages, axis=0)"
   ]
  },
  {
   "cell_type": "code",
   "execution_count": 43,
   "metadata": {},
   "outputs": [
    {
     "name": "stdout",
     "output_type": "stream",
     "text": [
      "Example 0\n",
      "Example 50\n",
      "Example 100\n",
      "Example 150\n",
      "Example 200\n",
      "Example 250\n",
      "Example 300\n",
      "Example 350\n",
      "Example 400\n",
      "Example 450\n",
      "% of series within predicted intervals: 1.0\n"
     ]
    }
   ],
   "source": [
    "coverages = []\n",
    "intervals = []\n",
    "\n",
    "for i, (x, y) in enumerate(zip(X_test, Y_test)): \n",
    "    y_pred, y_l_approx, y_u_approx = RNN_model_.predict(x)\n",
    "    interval = np.array([y_l_approx[0], y_u_approx[0]])\n",
    "    covers = coverage(interval, y.flatten().detach().numpy())\n",
    "    coverages.append(covers)\n",
    "    intervals.append(interval)\n",
    "    if i % 50 == 0:\n",
    "        print('Example {}'.format(i))\n",
    "\n",
    "print('% of series within predicted intervals: {}'.format(np.mean(coverages)))"
   ]
  },
  {
   "cell_type": "code",
   "execution_count": 80,
   "metadata": {
    "collapsed": false,
    "jupyter": {
     "outputs_hidden": false
    }
   },
   "outputs": [
    {
     "data": {
      "text/plain": [
       "Text(0, 0.5, 'Prediction')"
      ]
     },
     "execution_count": 80,
     "metadata": {},
     "output_type": "execute_result"
    },
    {
     "data": {
      "image/png": "[encoded data removed]",
      "text/plain": [
       "<Figure size 432x288 with 1 Axes>"
      ]
     },
     "metadata": {
      "needs_background": "light"
     },
     "output_type": "display_data"
    }
   ],
   "source": [
    "plt.fill_between(range(len(y)), y_l_approx[0], y_u_approx[0], color=\"r\", alpha=0.25)\n",
    "plt.plot(y_l_approx[0], linestyle=\"--\", color=\"r\")\n",
    "plt.plot(y_u_approx[0], linestyle=\"--\", color=\"r\")\n",
    "plt.plot(y_pred[0], linestyle=\"--\", linewidth=3, color=\"r\")\n",
    "\n",
    "plt.scatter(range(len(y)), y, color=\"black\")\n",
    "\n",
    "plt.xlabel(\"Time step\", fontsize=12)\n",
    "plt.ylabel(\"Prediction\", fontsize=12)"
   ]
  },
  {
   "cell_type": "code",
   "execution_count": 67,
   "metadata": {},
   "outputs": [],
   "source": [
    "    \n",
    "def plot_ts(X, Y, coverages, intervals, idx=None, forecast_only=False):\n",
    "    fig, axs = plt.subplots(nrows=5, ncols=1, figsize=(12, 8), sharex=True)\n",
    "    \n",
    "    if idx is None:\n",
    "        idx = range(len(X))\n",
    "\n",
    "    for ax in axs.flat:\n",
    "        i = np.random.choice(idx)\n",
    "        \n",
    "        # Derive unpadded sequences and targets\n",
    "        sequence, target = X[i].tolist(), Y[i].tolist()\n",
    "        \n",
    "        horizon = len(target)\n",
    "        length = len(sequence)\n",
    "        \n",
    "        if not forecast_only:\n",
    "            # (Scatter)plot of the time series\n",
    "            ax.plot(range(1, length+1), sequence, color=\"black\")\n",
    "            \n",
    "            # Prediction start vertical\n",
    "            ax.axvline(length, linestyle=\"--\", color=\"black\")\n",
    "        \n",
    "        ax.scatter(range(length + 1, length + horizon + 1), target, color=\"black\")\n",
    "        \n",
    "        # Interval boundaries\n",
    "        lower = sequence[-1] + intervals[i][0][:horizon].flatten().tolist()\n",
    "        upper = sequence[-1] + intervals[i][1][:horizon].flatten().tolist()\n",
    "#         pred = [sequence[-1]] + (intervals[i, 0] + (intervals[i, 1] - intervals[i, 0]) / 2).flatten().tolist()[:horizon]\n",
    "\n",
    "        ax.fill_between(range(length, length + horizon + 1), lower, upper, color=\"r\", alpha=0.25)\n",
    "        ax.plot(range(length, length + horizon + 1), lower, linestyle=\"--\", color=\"r\")\n",
    "        ax.plot(range(length, length + horizon + 1), upper, linestyle=\"--\", color=\"r\")\n",
    "#         ax.plot(range(length, length + horizon + 1), pred, linestyle=\"--\", linewidth=3, color=\"r\")\n",
    "\n",
    "        ax.set(ylabel='Prediction')\n",
    "    \n",
    "    plt.xlabel('Time step')\n",
    "    #     plt.ylabel('Prediction')\n",
    "    plt.show()"
   ]
  },
  {
   "cell_type": "code",
   "execution_count": 68,
   "metadata": {},
   "outputs": [
    {
     "data": {
      "image/png": "[encoded data removed]",
      "text/plain": [
       "<Figure size 864x576 with 5 Axes>"
      ]
     },
     "metadata": {
      "needs_background": "light"
     },
     "output_type": "display_data"
    }
   ],
   "source": [
    "plot_ts(X_test, Y_test, coverages, intervals)"
   ]
  },
  {
   "cell_type": "code",
   "execution_count": 73,
   "metadata": {},
   "outputs": [
    {
     "data": {
      "text/plain": [
       "array([289.92712212, 205.42254631, 200.30601715, 281.63409718,\n",
       "       182.44998256])"
      ]
     },
     "execution_count": 73,
     "metadata": {},
     "output_type": "execute_result"
    }
   ],
   "source": [
    "np_intervals = np.array(intervals)\n",
    "(np_intervals[:, 1] - np_intervals[:, 0]).mean(axis=0)"
   ]
  },
  {
   "cell_type": "code",
   "execution_count": 74,
   "metadata": {},
   "outputs": [
    {
     "data": {
      "text/plain": [
       "231.94795306396472"
      ]
     },
     "execution_count": 74,
     "metadata": {},
     "output_type": "execute_result"
    }
   ],
   "source": [
    "(np_intervals[:, 1] - np_intervals[:, 0]).mean()"
   ]
  },
  {
   "cell_type": "code",
   "execution_count": 75,
   "metadata": {},
   "outputs": [],
   "source": [
    "resuts_bjrnn = {'coverages': coverages, 'intervals': intervals}"
   ]
  },
  {
   "cell_type": "code",
   "execution_count": 76,
   "metadata": {},
   "outputs": [],
   "source": [
    "import pickle"
   ]
  },
  {
   "cell_type": "code",
   "execution_count": 78,
   "metadata": {},
   "outputs": [],
   "source": [
    "with open('results_bjrnn_1000_epochs.pkl', 'wb') as output:\n",
    "    pickle.dump(resuts_bjrnn, output, pickle.HIGHEST_PROTOCOL)"
   ]
  },
  {
   "cell_type": "code",
   "execution_count": 79,
   "metadata": {},
   "outputs": [
    {
     "data": {
      "text/plain": [
       "94523"
      ]
     },
     "execution_count": 79,
     "metadata": {},
     "output_type": "execute_result"
    }
   ],
   "source": [
    "import gc\n",
    "gc.collect()"
   ]
  },
  {
   "cell_type": "markdown",
   "metadata": {},
   "source": [
    "## Data collection"
   ]
  },
  {
   "cell_type": "markdown",
   "metadata": {},
   "source": [
    "## Static noise profile, no periodic component"
   ]
  },
  {
   "cell_type": "code",
   "execution_count": null,
   "metadata": {},
   "outputs": [],
   "source": []
  },
  {
   "cell_type": "code",
   "execution_count": 15,
   "metadata": {},
   "outputs": [],
   "source": [
    "def get_coverage(intervals, target, coverage_mode='joint'):\n",
    "    \"\"\" Determines whether intervals coverage the target prediction.\n",
    "\n",
    "    Depending on the coverage_mode (either 'joint' or 'independent), will return\n",
    "    either a list of whether each target or all targets satisfy the coverage.\n",
    "    \"\"\"\n",
    "\n",
    "    lower, upper = intervals[0], intervals[1]\n",
    "\n",
    "    horizon_coverages = np.logical_and(target >= lower, target <= upper)\n",
    "    if coverage_mode == 'independent':\n",
    "        return horizon_coverages\n",
    "    else:  # joint coverage\n",
    "        return np.all(horizon_coverages, axis=0)"
   ]
  },
  {
   "cell_type": "code",
   "execution_count": 8,
   "metadata": {},
   "outputs": [],
   "source": [
    "import gc"
   ]
  },
  {
   "cell_type": "code",
   "execution_count": 32,
   "metadata": {},
   "outputs": [
    {
     "name": "stdout",
     "output_type": "stream",
     "text": [
      "Epoch:  0 | train loss: 63.0638\n",
      "Epoch:  50 | train loss: 10.0039\n",
      "Epoch:  100 | train loss: 8.2270\n",
      "Epoch:  150 | train loss: 6.2254\n",
      "Epoch:  200 | train loss: 5.4448\n",
      "Epoch:  250 | train loss: 5.7949\n",
      "Epoch:  300 | train loss: 4.7508\n",
      "Epoch:  350 | train loss: 3.9480\n",
      "Epoch:  400 | train loss: 3.9652\n",
      "Epoch:  450 | train loss: 3.0326\n",
      "Epoch:  500 | train loss: 4.2378\n",
      "Epoch:  550 | train loss: 4.5754\n",
      "Epoch:  600 | train loss: 3.7151\n",
      "Epoch:  650 | train loss: 3.2437\n",
      "Epoch:  700 | train loss: 3.9066\n",
      "Epoch:  750 | train loss: 3.5982\n",
      "Epoch:  800 | train loss: 4.5271\n",
      "Epoch:  850 | train loss: 3.8436\n",
      "Epoch:  900 | train loss: 2.6945\n",
      "Epoch:  950 | train loss: 2.8282\n",
      "Example 0\n",
      "Example 50\n",
      "Example 100\n",
      "Example 150\n",
      "Example 200\n",
      "Example 250\n",
      "Example 300\n",
      "Example 350\n",
      "Example 400\n",
      "Example 450\n",
      "Model 4:\tcoverage: 1.0\twidths: [29.70712175 32.2419688  36.25516169 35.82950735 35.10840432]\n",
      "Epoch:  0 | train loss: 50.0922\n",
      "Epoch:  50 | train loss: 9.0148\n",
      "Epoch:  100 | train loss: 9.1638\n",
      "Epoch:  150 | train loss: 8.0127\n",
      "Epoch:  200 | train loss: 7.2730\n",
      "Epoch:  250 | train loss: 5.9705\n",
      "Epoch:  300 | train loss: 5.9056\n",
      "Epoch:  350 | train loss: 5.1901\n",
      "Epoch:  400 | train loss: 4.3489\n",
      "Epoch:  450 | train loss: 4.2333\n",
      "Epoch:  500 | train loss: 4.5441\n",
      "Epoch:  550 | train loss: 5.1901\n",
      "Epoch:  600 | train loss: 4.0009\n",
      "Epoch:  650 | train loss: 3.9674\n",
      "Epoch:  700 | train loss: 4.0280\n",
      "Epoch:  750 | train loss: 3.7608\n",
      "Epoch:  800 | train loss: 3.8565\n",
      "Epoch:  850 | train loss: 3.0831\n",
      "Epoch:  900 | train loss: 5.0723\n",
      "Epoch:  950 | train loss: 3.5233\n",
      "Example 0\n",
      "Example 50\n",
      "Example 100\n",
      "Example 150\n",
      "Example 200\n",
      "Example 250\n",
      "Example 300\n",
      "Example 350\n",
      "Example 400\n",
      "Example 450\n",
      "Model 5:\tcoverage: 1.0\twidths: [47.92936153 52.66787895 48.91844757 56.80543155 49.81428621]\n"
     ]
    }
   ],
   "source": [
    "from models.rnn import RNN     # library containing the base RNN model implementation in torch\n",
    "from models.uncertainty import RNN_uncertainty_wrapper\n",
    "from models.losses import single_losses\n",
    "from utils.make_data import *       # library for generating synthetic data \n",
    "\n",
    "# Dataset size\n",
    "n_train_samples = 1000\n",
    "n_calibration_samples = 1000\n",
    "n_test_samples = 500\n",
    "\n",
    "# Time series parameters\n",
    "seq_len = 10\n",
    "horizon = 5\n",
    "noise_profile = None\n",
    "periodicity = None\n",
    "amplitude = 1\n",
    "dynamic_sequence_lengths=False\n",
    "\n",
    "# LSTM parameters\n",
    "epochs=1000\n",
    "batch_size=100\n",
    "embedding_size=20\n",
    "coverage=0.9\n",
    "lr=0.01\n",
    "\n",
    "params = dict({\"INPUT_SIZE\":1,      # RNN parameters\n",
    "               \"EPOCH\":epochs, \n",
    "               \"N_STEPS\":epochs//batch_size, \n",
    "               \"BATCH_SIZE\":batch_size, \n",
    "               \"MAX_STEPS\":seq_len,\n",
    "               \"OUTPUT_SIZE\":horizon,\n",
    "               \"mode\":\"LSTM\"})\n",
    "\n",
    "# results_static_noise_no_periodic = []\n",
    "for i in range(4, 6):\n",
    "    noise_profile = [0.1 * i for k in range(seq_len + horizon)]\n",
    "    X_train, Y_train = generate_autoregressive_forecast_dataset(n_samples=n_train_samples, \n",
    "                                                                   seq_len=seq_len, \n",
    "                                                                   horizon=horizon, \n",
    "                                                                   periodicity=periodicity,\n",
    "                                                                   noise_profile=noise_profile, \n",
    "                                                                   amplitude=amplitude,\n",
    "                                                                   dynamic_sequence_lengths=dynamic_sequence_lengths,\n",
    "                                                                   return_raw=True)\n",
    "\n",
    "    X_test, Y_test = generate_autoregressive_forecast_dataset(n_samples=min(n_test_samples, 500), # because code is slow \n",
    "                                                                   seq_len=seq_len, \n",
    "                                                                   horizon=horizon, \n",
    "                                                                   periodicity=periodicity,\n",
    "                                                                   noise_profile=noise_profile, \n",
    "                                                                   amplitude=amplitude,\n",
    "                                                                   dynamic_sequence_lengths=dynamic_sequence_lengths,\n",
    "                                                                   return_raw=True)\n",
    "    \n",
    "    RNN_model = RNN(**params)\n",
    "    RNN_model.fit(X_train, Y_train)\n",
    "    \n",
    "    RNN_model_ = RNN_uncertainty_wrapper(RNN_model)\n",
    "    \n",
    "    coverages = []\n",
    "    intervals = []\n",
    "\n",
    "    for j, (x, y) in enumerate(zip(X_test, Y_test)): \n",
    "        y_pred, y_l_approx, y_u_approx = RNN_model_.predict(x)\n",
    "        interval = np.array([y_l_approx[0], y_u_approx[0]])\n",
    "        covers = get_coverage(interval, y.flatten().detach().numpy())\n",
    "        coverages.append(covers)\n",
    "        intervals.append(interval)\n",
    "        if j % 50 == 0:\n",
    "            print('Example {}'.format(j))\n",
    "            \n",
    "    mean_coverage = np.mean(coverages)\n",
    "    np_intervals = np.array(intervals)\n",
    "    interval_widths = (np_intervals[:, 1] - np_intervals[:, 0]).mean(axis=0)\n",
    "\n",
    "    result = {'coverages': coverages,\n",
    "               'intervals': intervals,\n",
    "               'mean_coverage': mean_coverage,\n",
    "               'interval_widths': interval_widths}\n",
    "    \n",
    "    print('Model {}:\\tcoverage: {}\\twidths: {}'.format(i, result['mean_coverage'], result['interval_widths']))\n",
    "    results_static_noise_no_periodic.append(result)\n",
    "    del RNN_model\n",
    "    del RNN_model_\n",
    "    gc.collect()\n",
    "\n",
    "with open('results_bjrnn_1000_epochs_results_static_noise_no_periodic.pkl', 'wb') as output:\n",
    "    pickle.dump(results_static_noise_no_periodic, output, pickle.HIGHEST_PROTOCOL)"
   ]
  },
  {
   "cell_type": "code",
   "execution_count": 18,
   "metadata": {},
   "outputs": [
    {
     "name": "stdout",
     "output_type": "stream",
     "text": [
      "Example 0\n",
      "Example 50\n",
      "Example 100\n",
      "Example 150\n",
      "Example 200\n",
      "Example 250\n",
      "Example 300\n",
      "Example 350\n",
      "Example 400\n",
      "Example 450\n",
      "Model 499:\tcoverage: 1.0\twidths: [104.19228963 106.85713277  73.6337753  139.76958941  67.78157175]\n"
     ]
    },
    {
     "data": {
      "text/plain": [
       "57"
      ]
     },
     "execution_count": 18,
     "metadata": {},
     "output_type": "execute_result"
    }
   ],
   "source": [
    "for i, (x, y) in enumerate(zip(X_test, Y_test)): \n",
    "    y_pred, y_l_approx, y_u_approx = RNN_model_.predict(x)\n",
    "    interval = np.array([y_l_approx[0], y_u_approx[0]])\n",
    "    covers = get_coverage(interval, y.flatten().detach().numpy())\n",
    "    coverages.append(covers)\n",
    "    intervals.append(interval)\n",
    "    if i % 50 == 0:\n",
    "        print('Example {}'.format(i))\n",
    "        \n",
    "mean_coverage = np.mean(coverages)\n",
    "np_intervals = np.array(intervals)\n",
    "interval_widths = (np_intervals[:, 1] - np_intervals[:, 0]).mean(axis=0)\n",
    "\n",
    "result = {'coverages': coverages,\n",
    "           'intervals': intervals,\n",
    "           'mean_coverage': mean_coverage,\n",
    "           'interval_widths': interval_widths}\n",
    "\n",
    "print('Model {}:\\tcoverage: {}\\twidths: {}'.format(i, result['mean_coverage'], result['interval_widths']))\n",
    "results_static_noise_no_periodic.append(result)\n",
    "del RNN_model\n",
    "del RNN_model_\n",
    "gc.collect()"
   ]
  },
  {
   "cell_type": "markdown",
   "metadata": {},
   "source": [
    "## Time-dependent, no periodic component"
   ]
  },
  {
   "cell_type": "code",
   "execution_count": 26,
   "metadata": {},
   "outputs": [],
   "source": [
    "from utils.train_synthetic import train_conformal_forecaster\n",
    "time_dependent_results = train_conformal_forecaster(noise_mode='time-dependent')"
   ]
  },
  {
   "cell_type": "markdown",
   "metadata": {},
   "source": [
    "**Joint coverage**"
   ]
  },
  {
   "cell_type": "code",
   "execution_count": 27,
   "metadata": {},
   "outputs": [
    {
     "name": "stdout",
     "output_type": "stream",
     "text": [
      "93.2\\%\n",
      "90.6\\%\n",
      "91.6\\%\n",
      "89.6\\%\n",
      "92.4\\%\n"
     ]
    }
   ],
   "source": [
    "for result in time_dependent_results:\n",
    "    print('{:.1f}\\\\%'.format(result['Mean joint coverage'] * 100))"
   ]
  },
  {
   "cell_type": "markdown",
   "metadata": {},
   "source": [
    "**Independent coverage**"
   ]
  },
  {
   "cell_type": "code",
   "execution_count": 28,
   "metadata": {},
   "outputs": [
    {
     "name": "stdout",
     "output_type": "stream",
     "text": [
      "tensor([0.9720, 0.9800, 0.9800, 0.9860, 0.9840])\n",
      "[97.2\\%, 98.6\\%]\n",
      "\n",
      "tensor([0.9740, 0.9740, 0.9680, 0.9780, 0.9780])\n",
      "[96.8\\%, 97.8\\%]\n",
      "\n",
      "tensor([0.9760, 0.9740, 0.9740, 0.9840, 0.9820])\n",
      "[97.4\\%, 98.4\\%]\n",
      "\n",
      "tensor([0.9920, 0.9800, 0.9700, 0.9780, 0.9680])\n",
      "[96.8\\%, 99.2\\%]\n",
      "\n",
      "tensor([0.9920, 0.9820, 0.9660, 0.9940, 0.9840])\n",
      "[96.6\\%, 99.4\\%]\n",
      "\n"
     ]
    }
   ],
   "source": [
    "for result in time_dependent_results:\n",
    "    independent_coverages = result['Mean independent coverage']\n",
    "    print(independent_coverages)\n",
    "#     print('{:.1f} \\\\(\\\\pm\\\\) {:.1f}\\\\%'.format(independent_coverages.mean() * 100, independent_coverages.std() * 100))\n",
    "    print('[{:.1f}\\\\%, {:.1f}\\\\%]'.format(independent_coverages.min() * 100, independent_coverages.max() * 100))\n",
    "    print()"
   ]
  },
  {
   "cell_type": "markdown",
   "metadata": {},
   "source": [
    "**Mean absolute error**"
   ]
  },
  {
   "cell_type": "code",
   "execution_count": 29,
   "metadata": {},
   "outputs": [
    {
     "name": "stdout",
     "output_type": "stream",
     "text": [
      "tensor([2.3099, 3.0091, 3.5102, 3.9770, 4.1958], grad_fn=<MeanBackward1>)\n",
      "3.40 \\(\\pm\\) 2.72\n",
      "\n",
      "tensor([2.9745, 3.6425, 4.2272, 4.4881, 4.8378], grad_fn=<MeanBackward1>)\n",
      "4.03 \\(\\pm\\) 3.15\n",
      "\n",
      "tensor([3.5179, 4.3270, 4.6743, 5.4508, 5.6045], grad_fn=<MeanBackward1>)\n",
      "4.71 \\(\\pm\\) 3.81\n",
      "\n",
      "tensor([4.4263, 4.9512, 5.5697, 6.4860, 7.4472], grad_fn=<MeanBackward1>)\n",
      "5.78 \\(\\pm\\) 4.71\n",
      "\n",
      "tensor([5.2594, 6.0974, 6.9606, 7.3179, 7.8766], grad_fn=<MeanBackward1>)\n",
      "6.70 \\(\\pm\\) 5.21\n",
      "\n"
     ]
    }
   ],
   "source": [
    "for result in time_dependent_results:\n",
    "    errors = result['Errors']\n",
    "    print(errors.mean(axis=0)) \n",
    "#     print(errors.mean())\n",
    "    print('{:.2f} \\\\(\\\\pm\\\\) {:.2f}'.format(errors.mean(), errors.std()))\n",
    "    print()"
   ]
  },
  {
   "cell_type": "markdown",
   "metadata": {},
   "source": [
    "**Interval widths**"
   ]
  },
  {
   "cell_type": "code",
   "execution_count": 30,
   "metadata": {},
   "outputs": [
    {
     "name": "stdout",
     "output_type": "stream",
     "text": [
      "tensor([13.4436, 18.3892, 20.9351, 23.8382, 24.1570], requires_grad=True)\n",
      "tensor(20.1526, grad_fn=<MeanBackward0>) tensor(4.4258, grad_fn=<StdBackward0>)\n",
      "\n",
      "tensor([16.6999, 20.8997, 22.9564, 25.8216, 28.4418], requires_grad=True)\n",
      "tensor(22.9639, grad_fn=<MeanBackward0>) tensor(4.5186, grad_fn=<StdBackward0>)\n",
      "\n",
      "tensor([21.3814, 24.7751, 27.8165, 32.6590, 34.2529], requires_grad=True)\n",
      "tensor(28.1770, grad_fn=<MeanBackward0>) tensor(5.3593, grad_fn=<StdBackward0>)\n",
      "\n",
      "tensor([27.3286, 28.1902, 31.0342, 38.9969, 40.9657], requires_grad=True)\n",
      "tensor(33.3031, grad_fn=<MeanBackward0>) tensor(6.2873, grad_fn=<StdBackward0>)\n",
      "\n",
      "tensor([31.1803, 34.2488, 38.8375, 45.3334, 48.0656], requires_grad=True)\n",
      "tensor(39.5331, grad_fn=<MeanBackward0>) tensor(7.1524, grad_fn=<StdBackward0>)\n",
      "\n"
     ]
    }
   ],
   "source": [
    "for result in time_dependent_results:\n",
    "    print(result['Mean confidence interval widths'])\n",
    "    print(result['Mean confidence interval widths'].mean(), result['Mean confidence interval widths'].std())\n",
    "    print()"
   ]
  },
  {
   "cell_type": "markdown",
   "metadata": {},
   "source": [
    "## Static noise, no periodic component"
   ]
  },
  {
   "cell_type": "code",
   "execution_count": 15,
   "metadata": {},
   "outputs": [],
   "source": [
    "static_results = train_conformal_forecaster(noise_mode='static')"
   ]
  },
  {
   "cell_type": "markdown",
   "metadata": {},
   "source": [
    "**Joint coverage**"
   ]
  },
  {
   "cell_type": "code",
   "execution_count": 16,
   "metadata": {},
   "outputs": [
    {
     "name": "stdout",
     "output_type": "stream",
     "text": [
      "95.0\\%\n",
      "94.4\\%\n",
      "93.2\\%\n",
      "93.4\\%\n",
      "92.4\\%\n"
     ]
    }
   ],
   "source": [
    "for result in static_results:\n",
    "    print('{:.1f}\\\\%'.format(result['Mean joint coverage'] * 100))"
   ]
  },
  {
   "cell_type": "markdown",
   "metadata": {},
   "source": [
    "**Independent coverage**"
   ]
  },
  {
   "cell_type": "code",
   "execution_count": 17,
   "metadata": {},
   "outputs": [
    {
     "name": "stdout",
     "output_type": "stream",
     "text": [
      "tensor([0.9780, 0.9860, 0.9860, 0.9780, 0.9800])\n",
      "[97.8\\%, 98.6\\%]\n",
      "\n",
      "tensor([0.9840, 0.9780, 0.9820, 0.9840, 0.9840])\n",
      "[97.8\\%, 98.4\\%]\n",
      "\n",
      "tensor([0.9720, 0.9800, 0.9780, 0.9760, 0.9800])\n",
      "[97.2\\%, 98.0\\%]\n",
      "\n",
      "tensor([0.9820, 0.9840, 0.9720, 0.9640, 0.9680])\n",
      "[96.4\\%, 98.4\\%]\n",
      "\n",
      "tensor([0.9780, 0.9680, 0.9780, 0.9720, 0.9760])\n",
      "[96.8\\%, 97.8\\%]\n",
      "\n"
     ]
    }
   ],
   "source": [
    "for result in static_results:\n",
    "    independent_coverages = result['Mean independent coverage']\n",
    "    print(independent_coverages)\n",
    "#     print('{:.1f} \\\\(\\\\pm\\\\) {:.1f}\\\\%'.format(independent_coverages.mean() * 100, independent_coverages.std() * 100))\n",
    "    print('[{:.1f}\\\\%, {:.1f}\\\\%]'.format(independent_coverages.min() * 100, independent_coverages.max() * 100))\n",
    "    print()"
   ]
  },
  {
   "cell_type": "markdown",
   "metadata": {},
   "source": [
    "**Mean absolute error**"
   ]
  },
  {
   "cell_type": "code",
   "execution_count": 18,
   "metadata": {},
   "outputs": [
    {
     "name": "stdout",
     "output_type": "stream",
     "text": [
      "tensor([1.8995, 2.5804, 3.1298, 3.5363, 3.7695], grad_fn=<MeanBackward1>)\n",
      "2.98 \\(\\pm\\) 2.41\n",
      "\n",
      "tensor([1.9419, 2.7828, 3.3485, 3.6435, 3.9276], grad_fn=<MeanBackward1>)\n",
      "3.13 \\(\\pm\\) 2.48\n",
      "\n",
      "tensor([1.9291, 2.7528, 3.5822, 4.0033, 4.2119], grad_fn=<MeanBackward1>)\n",
      "3.30 \\(\\pm\\) 2.68\n",
      "\n",
      "tensor([2.0626, 2.7283, 3.1654, 3.6567, 3.9644], grad_fn=<MeanBackward1>)\n",
      "3.12 \\(\\pm\\) 2.52\n",
      "\n",
      "tensor([1.9955, 2.6569, 3.4058, 3.6974, 3.8686], grad_fn=<MeanBackward1>)\n",
      "3.12 \\(\\pm\\) 2.54\n",
      "\n"
     ]
    }
   ],
   "source": [
    "for result in static_results:\n",
    "    errors = result['Errors']\n",
    "    print(errors.mean(axis=0)) \n",
    "#     print(errors.mean())\n",
    "    print('{:.2f} \\\\(\\\\pm\\\\) {:.2f}'.format(errors.mean(), errors.std()))\n",
    "    print()"
   ]
  },
  {
   "cell_type": "markdown",
   "metadata": {},
   "source": [
    "**Interval widths**"
   ]
  },
  {
   "cell_type": "code",
   "execution_count": 19,
   "metadata": {},
   "outputs": [
    {
     "name": "stdout",
     "output_type": "stream",
     "text": [
      "tensor([11.4507, 15.3996, 19.2507, 21.0733, 22.1902], requires_grad=True)\n",
      "tensor(17.8729, grad_fn=<MeanBackward0>) tensor(4.4199, grad_fn=<StdBackward0>)\n",
      "\n",
      "tensor([12.1119, 16.7439, 18.5749, 21.4060, 23.3589], requires_grad=True)\n",
      "tensor(18.4391, grad_fn=<MeanBackward0>) tensor(4.3570, grad_fn=<StdBackward0>)\n",
      "\n",
      "tensor([11.4600, 16.2007, 19.3880, 23.0490, 23.6155], requires_grad=True)\n",
      "tensor(18.7427, grad_fn=<MeanBackward0>) tensor(5.0548, grad_fn=<StdBackward0>)\n",
      "\n",
      "tensor([11.7586, 16.4172, 18.6265, 20.4468, 23.1094], requires_grad=True)\n",
      "tensor(18.0717, grad_fn=<MeanBackward0>) tensor(4.2988, grad_fn=<StdBackward0>)\n",
      "\n",
      "tensor([11.1144, 15.1959, 18.9498, 20.8329, 22.0748], requires_grad=True)\n",
      "tensor(17.6336, grad_fn=<MeanBackward0>) tensor(4.4759, grad_fn=<StdBackward0>)\n",
      "\n"
     ]
    }
   ],
   "source": [
    "for result in static_results:\n",
    "    print(result['Mean confidence interval widths'])\n",
    "    print(result['Mean confidence interval widths'].mean(), result['Mean confidence interval widths'].std())\n",
    "    print()"
   ]
  },
  {
   "cell_type": "markdown",
   "metadata": {},
   "source": [
    "## Periodic component, static noise"
   ]
  },
  {
   "cell_type": "code",
   "execution_count": 20,
   "metadata": {},
   "outputs": [],
   "source": [
    "periodic_results = train_conformal_forecaster(noise_mode='periodic')"
   ]
  },
  {
   "cell_type": "markdown",
   "metadata": {},
   "source": [
    "**Joint coverage**"
   ]
  },
  {
   "cell_type": "code",
   "execution_count": 21,
   "metadata": {},
   "outputs": [
    {
     "name": "stdout",
     "output_type": "stream",
     "text": [
      "97.6\\%\n",
      "93.2\\%\n"
     ]
    }
   ],
   "source": [
    "for result in periodic_results:\n",
    "    print('{:.1f}\\\\%'.format(result['Mean joint coverage'] * 100))"
   ]
  },
  {
   "cell_type": "markdown",
   "metadata": {},
   "source": [
    "**Independent coverage**"
   ]
  },
  {
   "cell_type": "code",
   "execution_count": 22,
   "metadata": {},
   "outputs": [
    {
     "name": "stdout",
     "output_type": "stream",
     "text": [
      "tensor([0.9920, 0.9960, 0.9920, 0.9940, 0.9960, 0.9960, 0.9960, 0.9980, 0.9980,\n",
      "        0.9960])\n",
      "[99.2\\%, 99.8\\%]\n",
      "\n",
      "tensor([0.9880, 0.9840, 0.9940, 0.9920, 0.9960, 0.9920, 0.9920, 0.9840, 0.9800,\n",
      "        0.9880])\n",
      "[98.0\\%, 99.6\\%]\n",
      "\n"
     ]
    }
   ],
   "source": [
    "for result in periodic_results:\n",
    "    independent_coverages = result['Mean independent coverage']\n",
    "    print(independent_coverages)\n",
    "#     print('{:.1f} \\\\(\\\\pm\\\\) {:.1f}\\\\%'.format(independent_coverages.mean() * 100, independent_coverages.std() * 100))\n",
    "    print('[{:.1f}\\\\%, {:.1f}\\\\%]'.format(independent_coverages.min() * 100, independent_coverages.max() * 100))\n",
    "    print()"
   ]
  },
  {
   "cell_type": "markdown",
   "metadata": {},
   "source": [
    "**Mean absolute error**"
   ]
  },
  {
   "cell_type": "code",
   "execution_count": 23,
   "metadata": {},
   "outputs": [
    {
     "name": "stdout",
     "output_type": "stream",
     "text": [
      "tensor([ 7.4363,  7.4771,  9.3391,  9.7334, 11.2197, 11.6655, 12.9182, 13.1885,\n",
      "        13.9832, 13.9535], grad_fn=<MeanBackward1>)\n",
      "11.09 \\(\\pm\\) 8.85\n",
      "\n",
      "tensor([ 8.8976, 11.8946, 13.1749, 12.8028, 12.3277, 12.7602, 14.0399, 15.6923,\n",
      "        15.0483, 13.8442], grad_fn=<MeanBackward1>)\n",
      "13.05 \\(\\pm\\) 10.23\n",
      "\n"
     ]
    }
   ],
   "source": [
    "for result in periodic_results:\n",
    "    errors = result['Errors']\n",
    "    print(errors.mean(axis=0)) \n",
    "#     print(errors.mean())\n",
    "    print('{:.2f} \\\\(\\\\pm\\\\) {:.2f}'.format(errors.mean(), errors.std()))\n",
    "    print()"
   ]
  },
  {
   "cell_type": "markdown",
   "metadata": {},
   "source": [
    "**Interval widths**"
   ]
  },
  {
   "cell_type": "code",
   "execution_count": 24,
   "metadata": {},
   "outputs": [
    {
     "name": "stdout",
     "output_type": "stream",
     "text": [
      "tensor([ 52.4876,  59.0043,  65.9346,  75.7754,  80.5779,  82.2282,  89.9427,\n",
      "         98.7705,  94.7996, 103.5400], requires_grad=True)\n",
      "tensor(80.3061, grad_fn=<MeanBackward0>) tensor(17.1339, grad_fn=<StdBackward0>)\n",
      "\n",
      "tensor([55.9986, 74.3429, 84.9096, 81.1981, 78.3629, 84.8813, 90.4266, 94.0434,\n",
      "        90.9185, 91.8483], requires_grad=True)\n",
      "tensor(82.6930, grad_fn=<MeanBackward0>) tensor(11.3192, grad_fn=<StdBackward0>)\n",
      "\n"
     ]
    }
   ],
   "source": [
    "for result in periodic_results:\n",
    "    print(result['Mean confidence interval widths'])\n",
    "    print(result['Mean confidence interval widths'].mean(), result['Mean confidence interval widths'].std())\n",
    "    print()"
   ]
  },
  {
   "cell_type": "code",
   "execution_count": null,
   "metadata": {},
   "outputs": [],
   "source": []
  }
 ],
 "metadata": {
  "kernelspec": {
   "display_name": "Python 3",
   "language": "python",
   "name": "python3"
  },
  "language_info": {
   "codemirror_mode": {
    "name": "ipython",
    "version": 3
   },
   "file_extension": ".py",
   "mimetype": "text/x-python",
   "name": "python",
   "nbconvert_exporter": "python",
   "pygments_lexer": "ipython3",
   "version": "3.7.9"
  }
 },
 "nbformat": 4,
 "nbformat_minor": 4
}
