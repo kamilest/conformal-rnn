{
 "cells": [
  {
   "cell_type": "code",
   "execution_count": 2,
   "metadata": {},
   "outputs": [
    {
     "name": "stdout",
     "output_type": "stream",
     "text": [
      "The autoreload extension is already loaded. To reload it, use:\n",
      "  %reload_ext autoreload\n"
     ]
    }
   ],
   "source": [
    "%load_ext autoreload\n",
    "%autoreload 2"
   ]
  },
  {
   "cell_type": "code",
   "execution_count": 40,
   "metadata": {
    "collapsed": false,
    "jupyter": {
     "outputs_hidden": false
    }
   },
   "outputs": [],
   "source": [
    "import numpy as np\n",
    "from matplotlib import pyplot as plt\n",
    "%matplotlib inline\n",
    "\n",
    "import torch\n",
    "import pickle"
   ]
  },
  {
   "cell_type": "markdown",
   "metadata": {},
   "source": [
    "## Time-dependent, no periodic component"
   ]
  },
  {
   "cell_type": "code",
   "execution_count": 31,
   "metadata": {},
   "outputs": [],
   "source": [
    "# from utils.train_synthetic import train_conformal_forecaster\n",
    "time_dependent_results = train_conformal_forecaster(noise_mode='time-dependent')"
   ]
  },
  {
   "cell_type": "markdown",
   "metadata": {},
   "source": [
    "**Joint coverage**"
   ]
  },
  {
   "cell_type": "code",
   "execution_count": 32,
   "metadata": {},
   "outputs": [
    {
     "name": "stdout",
     "output_type": "stream",
     "text": [
      "92.0\\%\n",
      "91.6\\%\n",
      "92.0\\%\n",
      "92.2\\%\n",
      "91.2\\%\n"
     ]
    }
   ],
   "source": [
    "for result in time_dependent_results:\n",
    "    print('{:.1f}\\\\%'.format(result['Mean joint coverage'] * 100))"
   ]
  },
  {
   "cell_type": "markdown",
   "metadata": {},
   "source": [
    "**Independent coverage**"
   ]
  },
  {
   "cell_type": "code",
   "execution_count": 33,
   "metadata": {},
   "outputs": [
    {
     "name": "stdout",
     "output_type": "stream",
     "text": [
      "tensor([0.9600, 0.9840, 0.9820, 0.9940, 0.9820])\n",
      "[96.0\\%, 99.4\\%]\n",
      "\n",
      "tensor([0.9840, 0.9880, 0.9840, 0.9560, 0.9840])\n",
      "[95.6\\%, 98.8\\%]\n",
      "\n",
      "tensor([0.9820, 0.9820, 0.9720, 0.9760, 0.9780])\n",
      "[97.2\\%, 98.2\\%]\n",
      "\n",
      "tensor([0.9800, 0.9800, 0.9740, 0.9920, 0.9840])\n",
      "[97.4\\%, 99.2\\%]\n",
      "\n",
      "tensor([0.9780, 0.9800, 0.9900, 0.9780, 0.9800])\n",
      "[97.8\\%, 99.0\\%]\n",
      "\n"
     ]
    }
   ],
   "source": [
    "for result in time_dependent_results:\n",
    "    independent_coverages = result['Mean independent coverage']\n",
    "    print(independent_coverages)\n",
    "#     print('{:.1f} \\\\(\\\\pm\\\\) {:.1f}\\\\%'.format(independent_coverages.mean() * 100, independent_coverages.std() * 100))\n",
    "    print('[{:.1f}\\\\%, {:.1f}\\\\%]'.format(independent_coverages.min() * 100, independent_coverages.max() * 100))\n",
    "    print()"
   ]
  },
  {
   "cell_type": "markdown",
   "metadata": {},
   "source": [
    "**Mean absolute error**"
   ]
  },
  {
   "cell_type": "code",
   "execution_count": 34,
   "metadata": {},
   "outputs": [
    {
     "name": "stdout",
     "output_type": "stream",
     "text": [
      "tensor([2.3385, 3.1437, 3.7521, 4.0304, 4.2055], grad_fn=<MeanBackward1>)\n",
      "3.49 \\(\\pm\\) 2.69\n",
      "\n",
      "tensor([2.8506, 3.5456, 4.1636, 4.6017, 4.7974], grad_fn=<MeanBackward1>)\n",
      "3.99 \\(\\pm\\) 3.13\n",
      "\n",
      "tensor([3.9038, 4.5945, 5.0242, 5.6742, 5.4950], grad_fn=<MeanBackward1>)\n",
      "4.94 \\(\\pm\\) 3.79\n",
      "\n",
      "tensor([4.3761, 5.1412, 6.1135, 5.9675, 6.7823], grad_fn=<MeanBackward1>)\n",
      "5.68 \\(\\pm\\) 4.35\n",
      "\n",
      "tensor([5.4778, 6.2312, 7.0181, 7.4857, 7.7957], grad_fn=<MeanBackward1>)\n",
      "6.80 \\(\\pm\\) 5.33\n",
      "\n"
     ]
    }
   ],
   "source": [
    "for result in time_dependent_results:\n",
    "    errors = result['Errors']\n",
    "    print(errors.mean(axis=0)) \n",
    "#     print(errors.mean())\n",
    "    print('{:.2f} \\\\(\\\\pm\\\\) {:.2f}'.format(errors.mean(), errors.std()))\n",
    "    print()"
   ]
  },
  {
   "cell_type": "markdown",
   "metadata": {},
   "source": [
    "**Interval widths**"
   ]
  },
  {
   "cell_type": "code",
   "execution_count": 35,
   "metadata": {},
   "outputs": [
    {
     "name": "stdout",
     "output_type": "stream",
     "text": [
      "tensor([12.8132, 17.8813, 21.2491, 23.2933, 23.6637], requires_grad=True)\n",
      "tensor(19.7801, grad_fn=<MeanBackward0>) tensor(4.5201, grad_fn=<StdBackward0>)\n",
      "\n",
      "tensor([17.1109, 20.6710, 22.1549, 23.8422, 27.9436], requires_grad=True)\n",
      "tensor(22.3445, grad_fn=<MeanBackward0>) tensor(3.9944, grad_fn=<StdBackward0>)\n",
      "\n",
      "tensor([22.0895, 25.7180, 28.0620, 32.3142, 33.7863], requires_grad=True)\n",
      "tensor(28.3940, grad_fn=<MeanBackward0>) tensor(4.7818, grad_fn=<StdBackward0>)\n",
      "\n",
      "tensor([25.1534, 29.1088, 32.5214, 39.1727, 41.6589], requires_grad=True)\n",
      "tensor(33.5230, grad_fn=<MeanBackward0>) tensor(6.8675, grad_fn=<StdBackward0>)\n",
      "\n",
      "tensor([31.4864, 34.9797, 43.5343, 42.1337, 47.7705], requires_grad=True)\n",
      "tensor(39.9809, grad_fn=<MeanBackward0>) tensor(6.6164, grad_fn=<StdBackward0>)\n",
      "\n"
     ]
    }
   ],
   "source": [
    "for result in time_dependent_results:\n",
    "    print(result['Mean confidence interval widths'])\n",
    "    print(result['Mean confidence interval widths'].mean(), result['Mean confidence interval widths'].std())\n",
    "    print()"
   ]
  },
  {
   "cell_type": "markdown",
   "metadata": {},
   "source": [
    "## Static noise, no periodic component"
   ]
  },
  {
   "cell_type": "code",
   "execution_count": 174,
   "metadata": {},
   "outputs": [],
   "source": [
    "static_results = train_conformal_forecaster(noise_mode='static')"
   ]
  },
  {
   "cell_type": "markdown",
   "metadata": {},
   "source": [
    "**Joint coverage**"
   ]
  },
  {
   "cell_type": "code",
   "execution_count": 175,
   "metadata": {},
   "outputs": [
    {
     "name": "stdout",
     "output_type": "stream",
     "text": [
      "93.4\\%\n",
      "95.2\\%\n",
      "94.0\\%\n",
      "93.4\\%\n",
      "95.0\\%\n"
     ]
    }
   ],
   "source": [
    "for result in static_results:\n",
    "    print('{:.1f}\\\\%'.format(result['Mean joint coverage'] * 100))"
   ]
  },
  {
   "cell_type": "markdown",
   "metadata": {},
   "source": [
    "**Independent coverage**"
   ]
  },
  {
   "cell_type": "code",
   "execution_count": 176,
   "metadata": {},
   "outputs": [
    {
     "name": "stdout",
     "output_type": "stream",
     "text": [
      "tensor([0.9800, 0.9720, 0.9600, 0.9840, 0.9860])\n",
      "[96.0\\%, 98.6\\%]\n",
      "\n",
      "tensor([0.9820, 0.9820, 0.9920, 0.9800, 0.9840])\n",
      "[98.0\\%, 99.2\\%]\n",
      "\n",
      "tensor([0.9840, 0.9760, 0.9920, 0.9860, 0.9820])\n",
      "[97.6\\%, 99.2\\%]\n",
      "\n",
      "tensor([0.9840, 0.9740, 0.9740, 0.9780, 0.9800])\n",
      "[97.4\\%, 98.4\\%]\n",
      "\n",
      "tensor([0.9760, 0.9820, 0.9800, 0.9820, 0.9760])\n",
      "[97.6\\%, 98.2\\%]\n",
      "\n"
     ]
    }
   ],
   "source": [
    "for result in static_results:\n",
    "    independent_coverages = result['Mean independent coverage']\n",
    "    print(independent_coverages)\n",
    "#     print('{:.1f} \\\\(\\\\pm\\\\) {:.1f}\\\\%'.format(independent_coverages.mean() * 100, independent_coverages.std() * 100))\n",
    "    print('[{:.1f}\\\\%, {:.1f}\\\\%]'.format(independent_coverages.min() * 100, independent_coverages.max() * 100))\n",
    "    print()"
   ]
  },
  {
   "cell_type": "markdown",
   "metadata": {},
   "source": [
    "**Mean absolute error**"
   ]
  },
  {
   "cell_type": "code",
   "execution_count": 177,
   "metadata": {},
   "outputs": [
    {
     "name": "stdout",
     "output_type": "stream",
     "text": [
      "tensor([2.0872, 2.9400, 3.5203, 3.9272, 4.1159], grad_fn=<MeanBackward1>)\n",
      "3.32 \\(\\pm\\) 2.64\n",
      "\n",
      "tensor([1.8089, 2.6188, 3.2409, 3.6305, 3.8306], grad_fn=<MeanBackward1>)\n",
      "3.03 \\(\\pm\\) 2.49\n",
      "\n",
      "tensor([1.9565, 2.6556, 3.3701, 3.8385, 4.0479], grad_fn=<MeanBackward1>)\n",
      "3.17 \\(\\pm\\) 2.51\n",
      "\n",
      "tensor([1.9175, 2.6714, 3.2163, 3.7312, 3.7828], grad_fn=<MeanBackward1>)\n",
      "3.06 \\(\\pm\\) 2.45\n",
      "\n",
      "tensor([1.9798, 2.7544, 3.3348, 3.8711, 4.1161], grad_fn=<MeanBackward1>)\n",
      "3.21 \\(\\pm\\) 2.65\n",
      "\n"
     ]
    }
   ],
   "source": [
    "for result in static_results:\n",
    "    errors = result['Errors']\n",
    "    print(errors.mean(axis=0)) \n",
    "#     print(errors.mean())\n",
    "    print('{:.2f} \\\\(\\\\pm\\\\) {:.2f}'.format(errors.mean(), errors.std()))\n",
    "    print()"
   ]
  },
  {
   "cell_type": "markdown",
   "metadata": {},
   "source": [
    "**Interval widths**"
   ]
  },
  {
   "cell_type": "code",
   "execution_count": 178,
   "metadata": {},
   "outputs": [
    {
     "name": "stdout",
     "output_type": "stream",
     "text": [
      "tensor([11.4049, 15.6011, 18.4794, 21.4902, 22.7816], requires_grad=True)\n",
      "tensor(17.9514, grad_fn=<MeanBackward0>) tensor(4.5966, grad_fn=<StdBackward0>)\n",
      "\n",
      "tensor([11.3676, 15.2927, 20.2274, 21.7256, 22.5205], requires_grad=True)\n",
      "tensor(18.2268, grad_fn=<MeanBackward0>) tensor(4.7523, grad_fn=<StdBackward0>)\n",
      "\n",
      "tensor([11.8162, 15.4993, 19.1731, 21.7291, 22.6258], requires_grad=True)\n",
      "tensor(18.1687, grad_fn=<MeanBackward0>) tensor(4.5009, grad_fn=<StdBackward0>)\n",
      "\n",
      "tensor([11.9010, 14.8107, 18.2220, 20.3336, 21.5495], requires_grad=True)\n",
      "tensor(17.3634, grad_fn=<MeanBackward0>) tensor(3.9824, grad_fn=<StdBackward0>)\n",
      "\n",
      "tensor([11.6268, 15.8042, 19.8905, 22.2562, 23.6211], requires_grad=True)\n",
      "tensor(18.6398, grad_fn=<MeanBackward0>) tensor(4.9163, grad_fn=<StdBackward0>)\n",
      "\n"
     ]
    }
   ],
   "source": [
    "for result in static_results:\n",
    "    print(result['Mean confidence interval widths'])\n",
    "    print(result['Mean confidence interval widths'].mean(), result['Mean confidence interval widths'].std())\n",
    "    print()"
   ]
  },
  {
   "cell_type": "markdown",
   "metadata": {},
   "source": [
    "## Periodic component, time dependent noise"
   ]
  },
  {
   "cell_type": "code",
   "execution_count": 179,
   "metadata": {},
   "outputs": [],
   "source": [
    "periodic_results = train_conformal_forecaster(noise_mode='periodic')"
   ]
  },
  {
   "cell_type": "markdown",
   "metadata": {},
   "source": [
    "**Joint coverage**"
   ]
  },
  {
   "cell_type": "code",
   "execution_count": 180,
   "metadata": {},
   "outputs": [
    {
     "name": "stdout",
     "output_type": "stream",
     "text": [
      "93.6\\%\n",
      "90.8\\%\n"
     ]
    }
   ],
   "source": [
    "for result in periodic_results:\n",
    "    print('{:.1f}\\\\%'.format(result['Mean joint coverage'] * 100))"
   ]
  },
  {
   "cell_type": "markdown",
   "metadata": {},
   "source": [
    "**Independent coverage**"
   ]
  },
  {
   "cell_type": "code",
   "execution_count": 181,
   "metadata": {},
   "outputs": [
    {
     "name": "stdout",
     "output_type": "stream",
     "text": [
      "tensor([0.9800, 0.9880, 0.9840, 0.9940, 0.9860, 0.9980, 0.9940, 0.9960, 0.9960,\n",
      "        0.9840])\n",
      "[98.0\\%, 99.8\\%]\n",
      "\n",
      "tensor([0.9920, 0.9900, 0.9880, 0.9880, 0.9980, 0.9820, 0.9900, 0.9820, 0.9880,\n",
      "        0.9860])\n",
      "[98.2\\%, 99.8\\%]\n",
      "\n"
     ]
    }
   ],
   "source": [
    "for result in periodic_results:\n",
    "    independent_coverages = result['Mean independent coverage']\n",
    "    print(independent_coverages)\n",
    "#     print('{:.1f} \\\\(\\\\pm\\\\) {:.1f}\\\\%'.format(independent_coverages.mean() * 100, independent_coverages.std() * 100))\n",
    "    print('[{:.1f}\\\\%, {:.1f}\\\\%]'.format(independent_coverages.min() * 100, independent_coverages.max() * 100))\n",
    "    print()"
   ]
  },
  {
   "cell_type": "markdown",
   "metadata": {},
   "source": [
    "**Mean absolute error**"
   ]
  },
  {
   "cell_type": "code",
   "execution_count": 182,
   "metadata": {},
   "outputs": [
    {
     "name": "stdout",
     "output_type": "stream",
     "text": [
      "tensor([ 9.2719,  8.7163, 11.2114, 10.9359, 12.1758, 12.1385, 14.2406, 13.7489,\n",
      "        14.9719, 14.9102], grad_fn=<MeanBackward1>)\n",
      "12.23 \\(\\pm\\) 9.45\n",
      "\n",
      "tensor([13.7796, 14.7361, 16.0265, 16.0010, 16.5716, 17.8106, 18.4755, 19.6435,\n",
      "        19.2586, 19.6999], grad_fn=<MeanBackward1>)\n",
      "17.20 \\(\\pm\\) 13.22\n",
      "\n"
     ]
    }
   ],
   "source": [
    "for result in periodic_results:\n",
    "    errors = result['Errors']\n",
    "    print(errors.mean(axis=0)) \n",
    "#     print(errors.mean())\n",
    "    print('{:.2f} \\\\(\\\\pm\\\\) {:.2f}'.format(errors.mean(), errors.std()))\n",
    "    print()"
   ]
  },
  {
   "cell_type": "markdown",
   "metadata": {},
   "source": [
    "**Interval widths**"
   ]
  },
  {
   "cell_type": "code",
   "execution_count": 183,
   "metadata": {},
   "outputs": [
    {
     "name": "stdout",
     "output_type": "stream",
     "text": [
      "tensor([59.7701, 61.1170, 70.0357, 74.4743, 79.0557, 87.5056, 93.0214, 92.5021,\n",
      "        95.7963, 95.7216], requires_grad=True)\n",
      "tensor(80.9000, grad_fn=<MeanBackward0>) tensor(14.0132, grad_fn=<StdBackward0>)\n",
      "\n",
      "tensor([ 84.4764,  97.2791, 108.4707, 103.8025, 110.0651, 112.0813, 118.9014,\n",
      "        116.7674, 112.3318, 127.5560], requires_grad=True)\n",
      "tensor(109.1732, grad_fn=<MeanBackward0>) tensor(11.9731, grad_fn=<StdBackward0>)\n",
      "\n"
     ]
    }
   ],
   "source": [
    "for result in periodic_results:\n",
    "    print(result['Mean confidence interval widths'])\n",
    "    print(result['Mean confidence interval widths'].mean(), result['Mean confidence interval widths'].std())\n",
    "    print()"
   ]
  },
  {
   "cell_type": "markdown",
   "metadata": {},
   "source": [
    "## Plotting"
   ]
  },
  {
   "cell_type": "code",
   "execution_count": 38,
   "metadata": {},
   "outputs": [],
   "source": [
    "import pickle"
   ]
  },
  {
   "cell_type": "code",
   "execution_count": 184,
   "metadata": {},
   "outputs": [],
   "source": [
    "def plot_timeseries(noise_mode, baseline, index=None, forecast_only=False, figsize=(28,4), figure_name=None):\n",
    "     \n",
    "    plt.rcParams.update({\n",
    "    \"text.usetex\": False,\n",
    "    \"font.family\": \"sans-serif\",\n",
    "    \"font.sans-serif\": [\"Helvetica\"]})\n",
    "    plt.rcParams.update({'axes.titlesize': 16})\n",
    "    \n",
    "    datasets = []\n",
    "    for i in ([2, 10] if noise_mode == 'periodic' else range(1, 6)):\n",
    "        with open('processed_data/synthetic_{}_raw_{}.pkl'.format(noise_mode, i), 'rb') as f:\n",
    "            datasets.append(pickle.load(f))\n",
    "        \n",
    "    with open('saved_results/{}_{}.pkl'.format(noise_mode, baseline), 'rb') as f:\n",
    "        all_results = pickle.load(f)\n",
    "        \n",
    "    fig, axs = plt.subplots(nrows=1, ncols=len(datasets), figsize=figsize, sharey=True)\n",
    "\n",
    "    for j, ax in enumerate(axs.flat):\n",
    "        _, _, dataset = datasets[j]\n",
    "        results = all_results[j]\n",
    "        \n",
    "        X, Y = dataset\n",
    "            \n",
    "        if index is None:\n",
    "            index = range(len(X))\n",
    "        i = np.random.choice(index)\n",
    "\n",
    "        \n",
    "        # Derive unpadded sequences and targets\n",
    "        sequence, target = X[i], Y[i]\n",
    "        \n",
    "        horizon = len(target)\n",
    "        length = len(sequence)\n",
    "        \n",
    "        if not forecast_only:\n",
    "            # (Scatter)plot of the time series\n",
    "            ax.plot(range(1, length+1), sequence, color=\"black\")\n",
    "            \n",
    "            # Prediction start vertical\n",
    "            ax.axvline(length, linestyle=\"--\", color=\"black\")\n",
    "        \n",
    "        ax.scatter(range(length + 1, length + horizon + 1), target, color=\"black\")\n",
    "        \n",
    "        # Interval boundaries\n",
    "        upper_limit = results['Upper limit']\n",
    "        lower_limit = results['Lower limit']\n",
    "        \n",
    "        lower = [sequence[-1].item()] + lower_limit[i].flatten().tolist()\n",
    "        upper = [sequence[-1].item()] + upper_limit[i].flatten().tolist()\n",
    "        preds = [sequence[-1].item()] + results['Point predictions'][i].flatten().tolist()\n",
    "\n",
    "        ax.fill_between(range(length, length + horizon + 1), lower, upper, color=\"r\", alpha=0.25)\n",
    "        ax.plot(range(length, length + horizon + 1), lower, linestyle=\"--\", color=\"r\")\n",
    "        ax.plot(range(length, length + horizon + 1), upper, linestyle=\"--\", color=\"r\")\n",
    "        ax.plot(range(length, length + horizon + 1), preds, linestyle=\"--\", linewidth=3, color=\"r\")\n",
    "\n",
    "#         if j == 0:\n",
    "#             ax.set(ylabel='Prediction')  \n",
    "        ax.set(xlabel='Time step')\n",
    "        if noise_mode == 'time-dependent':\n",
    "            ax.set(title='$\\sigma_t^2 =${:.1f}$t$'.format((j+1)*0.1))\n",
    "    \n",
    "    plt.subplots_adjust(left=0.1,\n",
    "                    bottom=0.1, \n",
    "                    right=0.9, \n",
    "                    top=0.9, \n",
    "                    wspace=0.1, \n",
    "                    hspace=0.4)\n",
    "    \n",
    "#     plt.xlabel('Time step')\n",
    "#     plt.ylabel('Prediction')\n",
    "    if figure_name is not None:\n",
    "        plt.savefig('{}.png'.format(figure_name) , bbox_inches='tight')\n",
    "    plt.show()"
   ]
  },
  {
   "cell_type": "code",
   "execution_count": 152,
   "metadata": {},
   "outputs": [
    {
     "data": {
      "image/png": "[encoded data removed]",
      "text/plain": [
       "<Figure size 2016x288 with 5 Axes>"
      ]
     },
     "metadata": {
      "needs_background": "light"
     },
     "output_type": "display_data"
    }
   ],
   "source": [
    "plot_timeseries(noise_mode='time-dependent', baseline='CPRNN', figure_name='time-dependent')"
   ]
  },
  {
   "cell_type": "code",
   "execution_count": 194,
   "metadata": {},
   "outputs": [
    {
     "data": {
      "image/png": "[encoded data removed]",
      "text/plain": [
       "<Figure size 1440x216 with 2 Axes>"
      ]
     },
     "metadata": {
      "needs_background": "light"
     },
     "output_type": "display_data"
    }
   ],
   "source": [
    "plot_timeseries(noise_mode='periodic', baseline='CPRNN', figsize=(20,3), figure_name='periodic')"
   ]
  },
  {
   "cell_type": "markdown",
   "metadata": {},
   "source": [
    "## Long horizon analysis"
   ]
  },
  {
   "cell_type": "code",
   "execution_count": 2,
   "metadata": {},
   "outputs": [
    {
     "data": {
      "text/plain": [
       "[(<utils.data_processing_synthetic.AutoregressiveForecastDataset at 0x7fd591e088d0>,\n",
       "  <utils.data_processing_synthetic.AutoregressiveForecastDataset at 0x7fd58fed2150>,\n",
       "  <utils.data_processing_synthetic.AutoregressiveForecastDataset at 0x7fd58f971f90>)]"
      ]
     },
     "execution_count": 2,
     "metadata": {},
     "output_type": "execute_result"
    }
   ],
   "source": [
    "from utils.data_processing_synthetic import get_synthetic_splits\n",
    "get_synthetic_splits(length=20, n_calibration=10000, conformal=True, cached=False)"
   ]
  },
  {
   "cell_type": "code",
   "execution_count": 33,
   "metadata": {},
   "outputs": [
    {
     "name": "stdout",
     "output_type": "stream",
     "text": [
      "Epoch: 0\tTrain loss: 92.09859313964844\n",
      "Epoch: 50\tTrain loss: 8.682822608947754\n",
      "Epoch: 100\tTrain loss: 8.540002632141114\n",
      "Epoch: 150\tTrain loss: 8.491893529891968\n",
      "Epoch: 200\tTrain loss: 8.490971851348878\n",
      "Epoch: 250\tTrain loss: 8.495005989074707\n",
      "Epoch: 300\tTrain loss: 8.500922393798827\n",
      "Epoch: 350\tTrain loss: 8.490542697906495\n",
      "Epoch: 400\tTrain loss: 8.49884033203125\n",
      "Epoch: 450\tTrain loss: 8.491770839691162\n",
      "Epoch: 500\tTrain loss: 8.490327453613281\n",
      "Epoch: 550\tTrain loss: 8.497047901153564\n",
      "Epoch: 600\tTrain loss: 8.493861103057862\n",
      "Epoch: 650\tTrain loss: 8.49359712600708\n",
      "Epoch: 700\tTrain loss: 8.488061046600341\n",
      "Epoch: 750\tTrain loss: 8.487854957580566\n",
      "Epoch: 800\tTrain loss: 8.495618152618409\n",
      "Epoch: 850\tTrain loss: 8.48921251296997\n",
      "Epoch: 900\tTrain loss: 8.4827410697937\n",
      "Epoch: 950\tTrain loss: 8.488468837738036\n"
     ]
    }
   ],
   "source": [
    "from utils.train_synthetic import train_conformal_forecaster\n",
    "_ = train_conformal_forecaster(noise_mode='long-horizon', retrain=True, save_model=True, save_results=False, rnn_mode='GRU')"
   ]
  },
  {
   "cell_type": "code",
   "execution_count": 34,
   "metadata": {},
   "outputs": [],
   "source": [
    "import torch\n",
    "model = torch.load('saved_models/long-horizon_CPRNN_GRU_100.pt')"
   ]
  },
  {
   "cell_type": "code",
   "execution_count": 35,
   "metadata": {},
   "outputs": [],
   "source": [
    "import numpy as np"
   ]
  },
  {
   "cell_type": "code",
   "execution_count": 53,
   "metadata": {},
   "outputs": [],
   "source": [
    "widths = []\n",
    "alphas = np.arange(100) * 0.01\n",
    "for alpha in alphas:\n",
    "    corrected_alpha = alpha / model.horizon\n",
    "    corrected_critical_calibration_scores = torch.tensor([[\n",
    "            torch.quantile(\n",
    "                position_calibration_scores,\n",
    "                q=1 - corrected_alpha * model.n_train / (model.n_train + 1))\n",
    "            for position_calibration_scores in feature_calibration_scores]\n",
    "            for feature_calibration_scores in model.calibration_scores]).T\n",
    "    widths.append(corrected_critical_calibration_scores.flatten().tolist())\n",
    "widths = np.array(widths)\n",
    "widths = widths * 2"
   ]
  },
  {
   "cell_type": "markdown",
   "metadata": {},
   "source": [
    "Low to high allowed error rate (high to low coverage): intervals get narrower when lower coverage is required"
   ]
  },
  {
   "cell_type": "code",
   "execution_count": 55,
   "metadata": {},
   "outputs": [
    {
     "data": {
      "text/plain": [
       "[<matplotlib.lines.Line2D at 0x7fd58490db10>]"
      ]
     },
     "execution_count": 55,
     "metadata": {},
     "output_type": "execute_result"
    },
    {
     "data": {
      "image/png": "[encoded data removed]",
      "text/plain": [
       "<Figure size 432x288 with 1 Axes>"
      ]
     },
     "metadata": {
      "needs_background": "light"
     },
     "output_type": "display_data"
    }
   ],
   "source": [
    "import matplotlib.pyplot as plt\n",
    "plt.plot(widths[0])\n",
    "plt.plot(widths[49])\n",
    "plt.plot(widths[99])"
   ]
  },
  {
   "cell_type": "code",
   "execution_count": 75,
   "metadata": {},
   "outputs": [],
   "source": [
    "widths = {}\n",
    "for rnn_model in ['LSTM', 'RNN', 'GRU']:\n",
    "    model = torch.load('saved_models/long-horizon_CPRNN_{}_100.pt'.format(rnn_model))\n",
    "    \n",
    "    ws = []\n",
    "    alphas = np.arange(100) * 0.01\n",
    "    for alpha in alphas:\n",
    "        corrected_alpha = alpha / model.horizon\n",
    "        corrected_critical_calibration_scores = torch.tensor([[\n",
    "                torch.quantile(\n",
    "                    position_calibration_scores,\n",
    "                    q=1 - corrected_alpha * model.n_train / (model.n_train + 1))\n",
    "                for position_calibration_scores in feature_calibration_scores]\n",
    "                for feature_calibration_scores in model.calibration_scores]).T\n",
    "        ws.append(corrected_critical_calibration_scores.flatten().tolist())\n",
    "    ws = np.array(ws)\n",
    "    ws = ws * 2\n",
    "    widths[rnn_model] = ws"
   ]
  },
  {
   "cell_type": "code",
   "execution_count": 118,
   "metadata": {},
   "outputs": [],
   "source": [
    "def compute_valid_horizons(threshold_width=15):\n",
    "    valid_horizons = {}\n",
    "    for rnn_model in ['LSTM', 'RNN', 'GRU']:    \n",
    "        T = []\n",
    "        ws = widths[rnn_model]\n",
    "        for i, _ in enumerate(alphas):\n",
    "            t = 0\n",
    "            while t < ws.shape[1] and ws[i, t] < threshold_width:\n",
    "                t += 1\n",
    "            T.append(t)\n",
    "        valid_horizons[rnn_model] = np.array(T)\n",
    "    return valid_horizons"
   ]
  },
  {
   "cell_type": "code",
   "execution_count": 127,
   "metadata": {},
   "outputs": [],
   "source": [
    "plt.rcParams.update({\n",
    "    \"text.usetex\": False,\n",
    "    \"font.family\": \"sans-serif\",\n",
    "    \"font.sans-serif\": [\"Helvetica\"]})\n",
    "plt.rcParams.update({'axes.labelsize': 12,\n",
    "                     'axes.titlesize': 12})"
   ]
  },
  {
   "cell_type": "code",
   "execution_count": 129,
   "metadata": {},
   "outputs": [
    {
     "data": {
      "image/png": "[encoded data removed]",
      "text/plain": [
       "<Figure size 432x288 with 1 Axes>"
      ]
     },
     "metadata": {
      "needs_background": "light"
     },
     "output_type": "display_data"
    }
   ],
   "source": [
    "threshold_width = 15\n",
    "for threshold_width in [16]:\n",
    "    valid_horizons = compute_valid_horizons(threshold_width)\n",
    "    for rnn_model in valid_horizons.keys():\n",
    "        plt.plot(1-alphas, valid_horizons[rnn_model], label='Co{}'.format(rnn_model))\n",
    "plt.xlabel('Coverage $\\\\alpha$')\n",
    "plt.ylabel('Horizon $H$')\n",
    "plt.legend()\n",
    "plt.show()"
   ]
  },
  {
   "cell_type": "code",
   "execution_count": null,
   "metadata": {},
   "outputs": [],
   "source": []
  }
 ],
 "metadata": {
  "kernelspec": {
   "display_name": "Python 3",
   "language": "python",
   "name": "python3"
  },
  "language_info": {
   "codemirror_mode": {
    "name": "ipython",
    "version": 3
   },
   "file_extension": ".py",
   "mimetype": "text/x-python",
   "name": "python",
   "nbconvert_exporter": "python",
   "pygments_lexer": "ipython3",
   "version": "3.7.9"
  }
 },
 "nbformat": 4,
 "nbformat_minor": 4
}
