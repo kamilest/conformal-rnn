{
 "cells": [
  {
   "cell_type": "code",
   "execution_count": 8,
   "id": "e8602d8b-cb7c-488b-9787-1e624204f8f2",
   "metadata": {},
   "outputs": [],
   "source": [
    "%load_ext autoreload\n",
    "%autoreload 2\n",
    "\n",
    "import pickle\n",
    "import matplotlib.pyplot as plt"
   ]
  },
  {
   "cell_type": "code",
   "execution_count": 2,
   "id": "320dd9be-5f0c-4685-b068-677c5de4ce2d",
   "metadata": {},
   "outputs": [],
   "source": [
    "from utils.train_mimic import run_mimic_experiments"
   ]
  },
  {
   "cell_type": "markdown",
   "id": "25f26614-5553-437b-9af5-2618e9aec6f1",
   "metadata": {},
   "source": [
    "# MIMIC-III: forecasting white blood cell count"
   ]
  },
  {
   "cell_type": "code",
   "execution_count": 14,
   "id": "418b0da7-a749-471e-9fec-9bca56da50ec",
   "metadata": {},
   "outputs": [
    {
     "name": "stdout",
     "output_type": "stream",
     "text": [
      "Training CPRNN\n",
      "Epoch: 0\tTrain loss: 158.37157385689872\n",
      "Epoch: 50\tTrain loss: 50.88561725616455\n",
      "Epoch: 100\tTrain loss: 54.290787151881624\n",
      "Epoch: 150\tTrain loss: 50.80563054765974\n",
      "Epoch: 200\tTrain loss: 57.097449847630095\n",
      "Epoch: 250\tTrain loss: 50.70339856828962\n",
      "Epoch: 300\tTrain loss: 51.36100387573242\n",
      "Epoch: 350\tTrain loss: 50.46761431012835\n",
      "Epoch: 400\tTrain loss: 54.56309863499233\n",
      "Epoch: 450\tTrain loss: 50.349569865635466\n",
      "Epoch: 500\tTrain loss: 52.914791107177734\n",
      "Epoch: 550\tTrain loss: 50.52208941323416\n",
      "Epoch: 600\tTrain loss: 53.666399410792756\n",
      "Epoch: 650\tTrain loss: 51.18830612727574\n",
      "Epoch: 700\tTrain loss: 50.823435238429475\n",
      "Epoch: 750\tTrain loss: 51.00881712777274\n",
      "Epoch: 800\tTrain loss: 66.29941749572754\n",
      "Epoch: 850\tTrain loss: 50.88368511199951\n",
      "Epoch: 900\tTrain loss: 51.778152874537874\n",
      "Epoch: 950\tTrain loss: 52.10406616755894\n",
      "Training QRNN\n",
      "Epoch:  0 | train loss: 11.2706\n",
      "Epoch:  0 | train loss: 3.1549\n",
      "Epoch:  0 | train loss: 1.8760\n",
      "Epoch:  0 | train loss: 1.3015\n",
      "Epoch:  0 | train loss: 1.3261\n",
      "Epoch:  0 | train loss: 1.9406\n",
      "Epoch:  0 | train loss: 1.3779\n",
      "Epoch:  0 | train loss: 1.1028\n",
      "Epoch:  0 | train loss: 1.6136\n",
      "Epoch:  0 | train loss: 1.1571\n",
      "Epoch:  0 | train loss: 1.9830\n",
      "Epoch:  0 | train loss: 1.2923\n",
      "Epoch:  0 | train loss: 1.1255\n",
      "Epoch:  0 | train loss: 1.6166\n",
      "Epoch:  0 | train loss: 1.1127\n",
      "Epoch:  0 | train loss: 1.8437\n",
      "Epoch:  0 | train loss: 1.4965\n",
      "Epoch:  0 | train loss: 1.4064\n",
      "Epoch:  0 | train loss: 1.4778\n",
      "Epoch:  0 | train loss: 1.4130\n",
      "Epoch:  1 | train loss: 1.5003\n",
      "Epoch:  1 | train loss: 1.2732\n",
      "Epoch:  1 | train loss: 1.2630\n",
      "Epoch:  1 | train loss: 1.4381\n",
      "Epoch:  1 | train loss: 1.3964\n",
      "Epoch:  1 | train loss: 0.9857\n",
      "Epoch:  1 | train loss: 1.2327\n",
      "Epoch:  1 | train loss: 1.0980\n",
      "Epoch:  1 | train loss: 1.3300\n",
      "Epoch:  1 | train loss: 2.4467\n",
      "Epoch:  1 | train loss: 1.2788\n",
      "Epoch:  1 | train loss: 1.6368\n",
      "Epoch:  1 | train loss: 1.0599\n",
      "Epoch:  1 | train loss: 1.0762\n",
      "Epoch:  1 | train loss: 1.8949\n",
      "Epoch:  1 | train loss: 1.2065\n",
      "Epoch:  1 | train loss: 1.8277\n",
      "Epoch:  1 | train loss: 1.2836\n",
      "Epoch:  1 | train loss: 1.4959\n",
      "Epoch:  1 | train loss: 0.9743\n",
      "Epoch:  2 | train loss: 1.0710\n",
      "Epoch:  2 | train loss: 1.3851\n",
      "Epoch:  2 | train loss: 1.3833\n",
      "Epoch:  2 | train loss: 1.3717\n",
      "Epoch:  2 | train loss: 1.1803\n",
      "Epoch:  2 | train loss: 1.0404\n",
      "Epoch:  2 | train loss: 1.4226\n",
      "Epoch:  2 | train loss: 1.3041\n",
      "Epoch:  2 | train loss: 1.4330\n",
      "Epoch:  2 | train loss: 1.1972\n",
      "Epoch:  2 | train loss: 1.4547\n",
      "Epoch:  2 | train loss: 1.2374\n",
      "Epoch:  2 | train loss: 1.3041\n",
      "Epoch:  2 | train loss: 2.0092\n",
      "Epoch:  2 | train loss: 1.7026\n",
      "Epoch:  2 | train loss: 1.1963\n",
      "Epoch:  2 | train loss: 1.7185\n",
      "Epoch:  2 | train loss: 1.3247\n",
      "Epoch:  2 | train loss: 1.3884\n",
      "Epoch:  2 | train loss: 1.8802\n",
      "Epoch:  3 | train loss: 1.3421\n",
      "Epoch:  3 | train loss: 1.4791\n",
      "Epoch:  3 | train loss: 1.2123\n",
      "Epoch:  3 | train loss: 1.3228\n",
      "Epoch:  3 | train loss: 1.0243\n",
      "Epoch:  3 | train loss: 1.3770\n",
      "Epoch:  3 | train loss: 1.2106\n",
      "Epoch:  3 | train loss: 1.3200\n",
      "Epoch:  3 | train loss: 1.4405\n",
      "Epoch:  3 | train loss: 1.5959\n",
      "Epoch:  3 | train loss: 1.2006\n",
      "Epoch:  3 | train loss: 1.2233\n",
      "Epoch:  3 | train loss: 1.8728\n",
      "Epoch:  3 | train loss: 1.4594\n",
      "Epoch:  3 | train loss: 1.0307\n",
      "Epoch:  3 | train loss: 1.8296\n",
      "Epoch:  3 | train loss: 1.8213\n",
      "Epoch:  3 | train loss: 1.3202\n",
      "Epoch:  3 | train loss: 1.2138\n",
      "Epoch:  3 | train loss: 1.2009\n",
      "Epoch:  4 | train loss: 1.4320\n",
      "Epoch:  4 | train loss: 1.4572\n",
      "Epoch:  4 | train loss: 1.8624\n",
      "Epoch:  4 | train loss: 1.2275\n",
      "Epoch:  4 | train loss: 1.3706\n",
      "Epoch:  4 | train loss: 1.6414\n",
      "Epoch:  4 | train loss: 1.6892\n",
      "Epoch:  4 | train loss: 1.0808\n",
      "Epoch:  4 | train loss: 1.0656\n",
      "Epoch:  4 | train loss: 1.6094\n",
      "Epoch:  4 | train loss: 1.5598\n",
      "Epoch:  4 | train loss: 1.1307\n",
      "Epoch:  4 | train loss: 1.9985\n",
      "Epoch:  4 | train loss: 1.4057\n",
      "Epoch:  4 | train loss: 1.1559\n",
      "Epoch:  4 | train loss: 1.3160\n",
      "Epoch:  4 | train loss: 1.3650\n",
      "Epoch:  4 | train loss: 1.4570\n",
      "Epoch:  4 | train loss: 1.2268\n",
      "Epoch:  4 | train loss: 1.5491\n",
      "Epoch:  5 | train loss: 1.5137\n",
      "Epoch:  5 | train loss: 1.3325\n",
      "Epoch:  5 | train loss: 1.4323\n",
      "Epoch:  5 | train loss: 1.4121\n",
      "Epoch:  5 | train loss: 1.3298\n",
      "Epoch:  5 | train loss: 1.1560\n",
      "Epoch:  5 | train loss: 2.2039\n",
      "Epoch:  5 | train loss: 1.5696\n",
      "Epoch:  5 | train loss: 0.9821\n",
      "Epoch:  5 | train loss: 1.1444\n",
      "Epoch:  5 | train loss: 1.8777\n",
      "Epoch:  5 | train loss: 1.7540\n",
      "Epoch:  5 | train loss: 1.4307\n",
      "Epoch:  5 | train loss: 1.3853\n",
      "Epoch:  5 | train loss: 1.3115\n",
      "Epoch:  5 | train loss: 1.2484\n",
      "Epoch:  5 | train loss: 1.3517\n",
      "Epoch:  5 | train loss: 1.6683\n",
      "Epoch:  5 | train loss: 1.4213\n",
      "Epoch:  5 | train loss: 1.6654\n",
      "Epoch:  6 | train loss: 1.1974\n",
      "Epoch:  6 | train loss: 1.6386\n",
      "Epoch:  6 | train loss: 1.2631\n",
      "Epoch:  6 | train loss: 2.0324\n",
      "Epoch:  6 | train loss: 1.6083\n",
      "Epoch:  6 | train loss: 1.1351\n",
      "Epoch:  6 | train loss: 1.8085\n",
      "Epoch:  6 | train loss: 1.1512\n",
      "Epoch:  6 | train loss: 1.0293\n",
      "Epoch:  6 | train loss: 1.1623\n",
      "Epoch:  6 | train loss: 1.2145\n",
      "Epoch:  6 | train loss: 1.7102\n",
      "Epoch:  6 | train loss: 1.5462\n",
      "Epoch:  6 | train loss: 1.4672\n",
      "Epoch:  6 | train loss: 1.1658\n",
      "Epoch:  6 | train loss: 1.6143\n",
      "Epoch:  6 | train loss: 1.5065\n",
      "Epoch:  6 | train loss: 1.4830\n",
      "Epoch:  6 | train loss: 1.2413\n",
      "Epoch:  6 | train loss: 1.2661\n",
      "Epoch:  7 | train loss: 1.6858\n",
      "Epoch:  7 | train loss: 1.2260\n",
      "Epoch:  7 | train loss: 1.1947\n",
      "Epoch:  7 | train loss: 1.3161\n",
      "Epoch:  7 | train loss: 1.1849\n",
      "Epoch:  7 | train loss: 1.9896\n",
      "Epoch:  7 | train loss: 1.0348\n",
      "Epoch:  7 | train loss: 0.7636\n",
      "Epoch:  7 | train loss: 1.1854\n",
      "Epoch:  7 | train loss: 0.9181\n",
      "Epoch:  7 | train loss: 1.1940\n",
      "Epoch:  7 | train loss: 0.8055\n",
      "Epoch:  7 | train loss: 1.0506\n",
      "Epoch:  7 | train loss: 0.7677\n",
      "Epoch:  7 | train loss: 0.8353\n",
      "Epoch:  7 | train loss: 0.7889\n",
      "Epoch:  7 | train loss: 0.7950\n",
      "Epoch:  7 | train loss: 1.6947\n",
      "Epoch:  7 | train loss: 0.6939\n",
      "Epoch:  7 | train loss: 0.8011\n",
      "Epoch:  8 | train loss: 0.9052\n",
      "Epoch:  8 | train loss: 0.9796\n",
      "Epoch:  8 | train loss: 0.6982\n",
      "Epoch:  8 | train loss: 0.7206\n",
      "Epoch:  8 | train loss: 0.6113\n",
      "Epoch:  8 | train loss: 0.5429\n",
      "Epoch:  8 | train loss: 0.6448\n",
      "Epoch:  8 | train loss: 0.6159\n",
      "Epoch:  8 | train loss: 0.8202\n",
      "Epoch:  8 | train loss: 0.6608\n",
      "Epoch:  8 | train loss: 0.6551\n",
      "Epoch:  8 | train loss: 0.7032\n",
      "Epoch:  8 | train loss: 0.5315\n",
      "Epoch:  8 | train loss: 0.6266\n",
      "Epoch:  8 | train loss: 0.8024\n",
      "Epoch:  8 | train loss: 0.7300\n",
      "Epoch:  8 | train loss: 0.7896\n",
      "Epoch:  8 | train loss: 0.8379\n",
      "Epoch:  8 | train loss: 0.8218\n",
      "Epoch:  8 | train loss: 0.7627\n",
      "Epoch:  9 | train loss: 0.5864\n",
      "Epoch:  9 | train loss: 0.6760\n",
      "Epoch:  9 | train loss: 0.7732\n",
      "Epoch:  9 | train loss: 0.6525\n",
      "Epoch:  9 | train loss: 0.6196\n",
      "Epoch:  9 | train loss: 0.7892\n",
      "Epoch:  9 | train loss: 0.8493\n",
      "Epoch:  9 | train loss: 0.6359\n",
      "Epoch:  9 | train loss: 0.7879\n",
      "Epoch:  9 | train loss: 0.7213\n",
      "Epoch:  9 | train loss: 0.7033\n",
      "Epoch:  9 | train loss: 0.8349\n",
      "Epoch:  9 | train loss: 0.5667\n",
      "Epoch:  9 | train loss: 0.7561\n",
      "Epoch:  9 | train loss: 0.5952\n",
      "Epoch:  9 | train loss: 0.7336\n",
      "Epoch:  9 | train loss: 0.6317\n",
      "Epoch:  9 | train loss: 1.0761\n",
      "Epoch:  9 | train loss: 0.6883\n",
      "Epoch:  9 | train loss: 0.5878\n",
      "Training DPRNN\n",
      "Epoch:  0 | train loss: 164.1288\n",
      "Epoch:  0 | train loss: 35.2395\n",
      "Epoch:  0 | train loss: 90.4513\n",
      "Epoch:  0 | train loss: 38.6360\n",
      "Epoch:  0 | train loss: 46.2499\n",
      "Epoch:  0 | train loss: 26.5762\n",
      "Epoch:  0 | train loss: 38.3280\n",
      "Epoch:  0 | train loss: 56.9705\n",
      "Epoch:  0 | train loss: 33.9402\n",
      "Epoch:  0 | train loss: 30.5293\n",
      "Epoch:  0 | train loss: 52.7642\n",
      "Epoch:  0 | train loss: 37.1859\n",
      "Epoch:  0 | train loss: 166.2282\n",
      "Epoch:  0 | train loss: 36.7723\n",
      "Epoch:  0 | train loss: 66.0729\n",
      "Epoch:  0 | train loss: 48.5001\n",
      "Epoch:  0 | train loss: 54.9719\n",
      "Epoch:  0 | train loss: 58.5435\n",
      "Epoch:  0 | train loss: 39.3446\n",
      "Epoch:  0 | train loss: 39.4453\n",
      "Epoch:  1 | train loss: 35.4848\n",
      "Epoch:  1 | train loss: 50.4459\n",
      "Epoch:  1 | train loss: 35.8053\n",
      "Epoch:  1 | train loss: 48.6721\n",
      "Epoch:  1 | train loss: 40.0509\n",
      "Epoch:  1 | train loss: 35.2946\n",
      "Epoch:  1 | train loss: 49.1048\n",
      "Epoch:  1 | train loss: 38.3363\n",
      "Epoch:  1 | train loss: 45.7617\n",
      "Epoch:  1 | train loss: 34.3583\n",
      "Epoch:  1 | train loss: 36.1155\n",
      "Epoch:  1 | train loss: 166.2919\n",
      "Epoch:  1 | train loss: 37.2569\n",
      "Epoch:  1 | train loss: 47.5770\n",
      "Epoch:  1 | train loss: 33.7167\n",
      "Epoch:  1 | train loss: 84.6516\n",
      "Epoch:  1 | train loss: 135.4793\n",
      "Epoch:  1 | train loss: 54.5311\n",
      "Epoch:  1 | train loss: 53.8484\n",
      "Epoch:  1 | train loss: 38.8142\n",
      "Epoch:  2 | train loss: 46.1149\n",
      "Epoch:  2 | train loss: 49.4446\n",
      "Epoch:  2 | train loss: 57.7655\n",
      "Epoch:  2 | train loss: 28.6283\n",
      "Epoch:  2 | train loss: 56.5723\n",
      "Epoch:  2 | train loss: 25.1386\n",
      "Epoch:  2 | train loss: 36.9474\n",
      "Epoch:  2 | train loss: 37.0039\n",
      "Epoch:  2 | train loss: 36.4419\n",
      "Epoch:  2 | train loss: 99.0160\n",
      "Epoch:  2 | train loss: 69.5497\n",
      "Epoch:  2 | train loss: 24.7193\n",
      "Epoch:  2 | train loss: 50.7719\n",
      "Epoch:  2 | train loss: 49.4278\n",
      "Epoch:  2 | train loss: 35.3071\n",
      "Epoch:  2 | train loss: 58.1554\n",
      "Epoch:  2 | train loss: 43.2056\n",
      "Epoch:  2 | train loss: 107.2608\n",
      "Epoch:  2 | train loss: 71.9262\n",
      "Epoch:  2 | train loss: 18.5868\n",
      "Epoch:  3 | train loss: 54.2793\n",
      "Epoch:  3 | train loss: 31.5346\n",
      "Epoch:  3 | train loss: 58.4426\n",
      "Epoch:  3 | train loss: 55.5387\n",
      "Epoch:  3 | train loss: 28.8417\n",
      "Epoch:  3 | train loss: 28.0889\n",
      "Epoch:  3 | train loss: 29.4146\n",
      "Epoch:  3 | train loss: 50.0122\n",
      "Epoch:  3 | train loss: 26.8459\n",
      "Epoch:  3 | train loss: 29.3840\n",
      "Epoch:  3 | train loss: 24.0201\n",
      "Epoch:  3 | train loss: 64.4982\n",
      "Epoch:  3 | train loss: 51.4680\n",
      "Epoch:  3 | train loss: 49.4412\n",
      "Epoch:  3 | train loss: 71.6351\n",
      "Epoch:  3 | train loss: 35.5435\n",
      "Epoch:  3 | train loss: 63.0320\n",
      "Epoch:  3 | train loss: 61.6409\n",
      "Epoch:  3 | train loss: 34.1088\n",
      "Epoch:  3 | train loss: 36.0862\n",
      "Epoch:  4 | train loss: 37.8063\n",
      "Epoch:  4 | train loss: 51.1801\n",
      "Epoch:  4 | train loss: 37.1241\n",
      "Epoch:  4 | train loss: 27.3505\n",
      "Epoch:  4 | train loss: 44.5922\n",
      "Epoch:  4 | train loss: 42.9054\n",
      "Epoch:  4 | train loss: 66.6456\n",
      "Epoch:  4 | train loss: 66.9604\n",
      "Epoch:  4 | train loss: 32.8573\n",
      "Epoch:  4 | train loss: 37.7809\n",
      "Epoch:  4 | train loss: 26.1722\n",
      "Epoch:  4 | train loss: 50.2346\n",
      "Epoch:  4 | train loss: 25.5800\n",
      "Epoch:  4 | train loss: 32.0040\n",
      "Epoch:  4 | train loss: 40.2440\n",
      "Epoch:  4 | train loss: 26.7987\n",
      "Epoch:  4 | train loss: 72.7887\n",
      "Epoch:  4 | train loss: 65.6632\n",
      "Epoch:  4 | train loss: 48.0722\n",
      "Epoch:  4 | train loss: 64.0874\n",
      "Epoch:  5 | train loss: 34.8684\n",
      "Epoch:  5 | train loss: 57.5134\n",
      "Epoch:  5 | train loss: 41.2917\n",
      "Epoch:  5 | train loss: 60.9037\n",
      "Epoch:  5 | train loss: 24.7014\n",
      "Epoch:  5 | train loss: 77.1126\n",
      "Epoch:  5 | train loss: 46.7220\n",
      "Epoch:  5 | train loss: 30.3271\n",
      "Epoch:  5 | train loss: 26.9737\n",
      "Epoch:  5 | train loss: 35.3525\n",
      "Epoch:  5 | train loss: 31.4954\n",
      "Epoch:  5 | train loss: 43.5318\n",
      "Epoch:  5 | train loss: 44.6369\n",
      "Epoch:  5 | train loss: 38.4692\n",
      "Epoch:  5 | train loss: 44.4353\n",
      "Epoch:  5 | train loss: 82.3692\n",
      "Epoch:  5 | train loss: 30.1839\n",
      "Epoch:  5 | train loss: 79.0256\n",
      "Epoch:  5 | train loss: 60.9742\n",
      "Epoch:  5 | train loss: 27.4834\n",
      "Epoch:  6 | train loss: 32.7704\n",
      "Epoch:  6 | train loss: 32.0986\n",
      "Epoch:  6 | train loss: 25.6635\n",
      "Epoch:  6 | train loss: 37.5448\n",
      "Epoch:  6 | train loss: 35.0161\n",
      "Epoch:  6 | train loss: 49.9934\n",
      "Epoch:  6 | train loss: 49.9006\n",
      "Epoch:  6 | train loss: 48.1026\n",
      "Epoch:  6 | train loss: 29.6854\n",
      "Epoch:  6 | train loss: 49.6833\n",
      "Epoch:  6 | train loss: 64.2049\n",
      "Epoch:  6 | train loss: 48.3239\n",
      "Epoch:  6 | train loss: 32.6174\n",
      "Epoch:  6 | train loss: 72.3221\n",
      "Epoch:  6 | train loss: 48.9175\n",
      "Epoch:  6 | train loss: 119.8267\n",
      "Epoch:  6 | train loss: 86.5985\n",
      "Epoch:  6 | train loss: 46.7832\n",
      "Epoch:  6 | train loss: 40.5767\n",
      "Epoch:  6 | train loss: 62.7339\n",
      "Epoch:  7 | train loss: 30.9227\n",
      "Epoch:  7 | train loss: 20.7440\n",
      "Epoch:  7 | train loss: 39.7947\n",
      "Epoch:  7 | train loss: 37.7953\n",
      "Epoch:  7 | train loss: 29.4480\n",
      "Epoch:  7 | train loss: 39.9628\n",
      "Epoch:  7 | train loss: 32.9504\n",
      "Epoch:  7 | train loss: 64.2264\n",
      "Epoch:  7 | train loss: 27.5624\n",
      "Epoch:  7 | train loss: 23.3770\n",
      "Epoch:  7 | train loss: 30.6246\n",
      "Epoch:  7 | train loss: 49.7055\n",
      "Epoch:  7 | train loss: 41.1896\n",
      "Epoch:  7 | train loss: 50.4144\n",
      "Epoch:  7 | train loss: 37.1655\n",
      "Epoch:  7 | train loss: 58.5584\n",
      "Epoch:  7 | train loss: 34.4028\n",
      "Epoch:  7 | train loss: 37.1320\n",
      "Epoch:  7 | train loss: 41.8858\n",
      "Epoch:  7 | train loss: 44.0421\n",
      "Epoch:  8 | train loss: 41.3501\n",
      "Epoch:  8 | train loss: 42.8079\n",
      "Epoch:  8 | train loss: 49.6677\n",
      "Epoch:  8 | train loss: 134.9541\n",
      "Epoch:  8 | train loss: 34.7717\n",
      "Epoch:  8 | train loss: 30.4048\n",
      "Epoch:  8 | train loss: 31.2268\n",
      "Epoch:  8 | train loss: 72.6263\n",
      "Epoch:  8 | train loss: 44.6220\n",
      "Epoch:  8 | train loss: 23.5266\n",
      "Epoch:  8 | train loss: 33.8491\n",
      "Epoch:  8 | train loss: 63.5112\n",
      "Epoch:  8 | train loss: 48.9710\n",
      "Epoch:  8 | train loss: 30.6798\n",
      "Epoch:  8 | train loss: 33.8666\n",
      "Epoch:  8 | train loss: 41.4954\n",
      "Epoch:  8 | train loss: 59.7845\n",
      "Epoch:  8 | train loss: 39.9035\n",
      "Epoch:  8 | train loss: 40.0265\n",
      "Epoch:  8 | train loss: 35.5927\n",
      "Epoch:  9 | train loss: 89.4976\n",
      "Epoch:  9 | train loss: 63.1474\n",
      "Epoch:  9 | train loss: 28.0195\n",
      "Epoch:  9 | train loss: 44.2826\n",
      "Epoch:  9 | train loss: 39.7488\n",
      "Epoch:  9 | train loss: 61.7846\n",
      "Epoch:  9 | train loss: 34.4245\n",
      "Epoch:  9 | train loss: 28.6615\n",
      "Epoch:  9 | train loss: 43.3317\n",
      "Epoch:  9 | train loss: 36.2534\n",
      "Epoch:  9 | train loss: 50.7039\n",
      "Epoch:  9 | train loss: 29.6898\n",
      "Epoch:  9 | train loss: 32.2124\n",
      "Epoch:  9 | train loss: 27.5168\n",
      "Epoch:  9 | train loss: 60.2019\n",
      "Epoch:  9 | train loss: 72.1748\n",
      "Epoch:  9 | train loss: 42.9799\n",
      "Epoch:  9 | train loss: 23.7499\n",
      "Epoch:  9 | train loss: 56.8230\n",
      "Epoch:  9 | train loss: 148.7029\n"
     ]
    }
   ],
   "source": [
    "mimic_results = run_mimic_experiments(retrain=True)"
   ]
  },
  {
   "cell_type": "code",
   "execution_count": 11,
   "id": "4a9c7d0e-5598-4bf0-99c1-325d789da2c9",
   "metadata": {},
   "outputs": [],
   "source": [
    "import numpy as np"
   ]
  },
  {
   "cell_type": "code",
   "execution_count": 131,
   "id": "75eba8ee-ea11-4e93-bbc8-ec1f8150f1c5",
   "metadata": {},
   "outputs": [
    {
     "data": {
      "text/plain": [
       "0.9340000152587891"
      ]
     },
     "execution_count": 131,
     "metadata": {},
     "output_type": "execute_result"
    }
   ],
   "source": [
    "mimic_results['CPRNN']['mean_coverage']"
   ]
  },
  {
   "cell_type": "code",
   "execution_count": 132,
   "id": "40e08513-ada2-49c3-b664-551d89f040f7",
   "metadata": {},
   "outputs": [
    {
     "data": {
      "text/plain": [
       "[22.145597457885742, 22.235078811645508]"
      ]
     },
     "execution_count": 132,
     "metadata": {},
     "output_type": "execute_result"
    }
   ],
   "source": [
    "mimic_results['CPRNN']['interval_widths']"
   ]
  },
  {
   "cell_type": "code",
   "execution_count": 133,
   "id": "baf3764a-0ce0-4338-8219-dd821b1fb352",
   "metadata": {},
   "outputs": [
    {
     "data": {
      "text/plain": [
       "0.022"
      ]
     },
     "execution_count": 133,
     "metadata": {},
     "output_type": "execute_result"
    }
   ],
   "source": [
    "mimic_results['DPRNN']['Coverage']"
   ]
  },
  {
   "cell_type": "code",
   "execution_count": 134,
   "id": "50d5396f-2e82-4bdb-aab8-8e2d75bf58f8",
   "metadata": {},
   "outputs": [
    {
     "data": {
      "text/plain": [
       "0.25100785"
      ]
     },
     "execution_count": 134,
     "metadata": {},
     "output_type": "execute_result"
    }
   ],
   "source": [
    "mimic_results['DPRNN']['CI length']"
   ]
  },
  {
   "cell_type": "code",
   "execution_count": 135,
   "id": "edbfd069-baa3-4e13-8d27-5b967b02332a",
   "metadata": {},
   "outputs": [
    {
     "data": {
      "text/plain": [
       "array([0.24011813, 0.26189747], dtype=float32)"
      ]
     },
     "execution_count": 135,
     "metadata": {},
     "output_type": "execute_result"
    }
   ],
   "source": [
    "ci = mimic_results['DPRNN']['Confidence intervals']\n",
    "np.mean(ci, axis=0).flatten()"
   ]
  },
  {
   "cell_type": "code",
   "execution_count": 136,
   "id": "7ed60edd-0399-487f-aa6e-bcc10dba53dd",
   "metadata": {},
   "outputs": [
    {
     "data": {
      "text/plain": [
       "0.9175"
      ]
     },
     "execution_count": 136,
     "metadata": {},
     "output_type": "execute_result"
    }
   ],
   "source": [
    "mimic_results['QRNN']['Coverage']"
   ]
  },
  {
   "cell_type": "code",
   "execution_count": 137,
   "id": "b09ba946-9682-4a00-a28b-3de4b9e87e64",
   "metadata": {},
   "outputs": [
    {
     "data": {
      "text/plain": [
       "11.464559"
      ]
     },
     "execution_count": 137,
     "metadata": {},
     "output_type": "execute_result"
    }
   ],
   "source": [
    "mimic_results['QRNN']['CI length']"
   ]
  },
  {
   "cell_type": "code",
   "execution_count": 138,
   "id": "d8e09588-9cc4-4218-9b05-940a32f528b4",
   "metadata": {},
   "outputs": [
    {
     "data": {
      "text/plain": [
       "array([11.149874, 11.779233], dtype=float32)"
      ]
     },
     "execution_count": 138,
     "metadata": {},
     "output_type": "execute_result"
    }
   ],
   "source": [
    "ci = mimic_results['QRNN']['Confidence intervals']\n",
    "np.mean(ci, axis=0).flatten()"
   ]
  },
  {
   "cell_type": "markdown",
   "id": "084ed32a-2470-415c-aa6d-38f4c1d533fb",
   "metadata": {},
   "source": [
    "# EEG dataset: forecasting EEG signals\n",
    "Signals come from different distributions. Patients are shown different combinations of stimuli, and the recordings are taken from different parts of the brain.\n",
    "\n",
    "Split 896 training instances to 600 / 296 true training/calibration.\n",
    "\n",
    "(if using control data only, then 448 = 300 + 148)\n",
    "\n",
    "Downsample training sequences to 50 steps\n",
    "* 40 steps input, 10 prediction"
   ]
  },
  {
   "cell_type": "code",
   "execution_count": 26,
   "id": "e5796196-c9bc-4162-9a72-6be22cc1845c",
   "metadata": {},
   "outputs": [],
   "source": [
    "from utils.eeg_data_processing import get_raw_eeg_data\n",
    "data = get_raw_eeg_data(cached=True, split='train')"
   ]
  },
  {
   "cell_type": "code",
   "execution_count": 45,
   "id": "db9cea1f-bf72-4a2d-bd8b-7f8a697bd35a",
   "metadata": {},
   "outputs": [],
   "source": [
    "from scipy.signal import resample"
   ]
  },
  {
   "cell_type": "code",
   "execution_count": 29,
   "id": "13ada434-d770-4181-885f-7bcfa2338bfd",
   "metadata": {},
   "outputs": [
    {
     "data": {
      "text/plain": [
       "19200"
      ]
     },
     "execution_count": 29,
     "metadata": {},
     "output_type": "execute_result"
    }
   ],
   "source": [
    "len(data)"
   ]
  },
  {
   "cell_type": "code",
   "execution_count": 117,
   "id": "98562ea3-58fe-4cc9-8baa-306865558557",
   "metadata": {},
   "outputs": [
    {
     "data": {
      "text/plain": [
       "[<matplotlib.lines.Line2D at 0x7fb8550e6310>]"
      ]
     },
     "execution_count": 117,
     "metadata": {},
     "output_type": "execute_result"
    },
    {
     "data": {
      "image/png": "[encoded data removed]",
      "text/plain": [
       "<Figure size 432x288 with 1 Axes>"
      ]
     },
     "metadata": {
      "needs_background": "light"
     },
     "output_type": "display_data"
    }
   ],
   "source": [
    "i = np.random.randint(19200)\n",
    "plt.plot(data_resampled[i])"
   ]
  },
  {
   "cell_type": "code",
   "execution_count": 94,
   "id": "110e6f40-ae76-419b-95b4-caa97a076592",
   "metadata": {},
   "outputs": [
    {
     "data": {
      "text/plain": [
       "0"
      ]
     },
     "execution_count": 94,
     "metadata": {},
     "output_type": "execute_result"
    }
   ],
   "source": [
    "len(data)"
   ]
  },
  {
   "cell_type": "code",
   "execution_count": 96,
   "id": "9951573b-7273-4584-8c14-be6cbe66ce61",
   "metadata": {},
   "outputs": [
    {
     "data": {
      "text/plain": [
       "\"b'0'\""
      ]
     },
     "execution_count": 96,
     "metadata": {},
     "output_type": "execute_result"
    }
   ],
   "source": [
    "b'0'"
   ]
  },
  {
   "cell_type": "code",
   "execution_count": null,
   "id": "71e2086a-4fac-45e6-a487-4c4dfcdf81a6",
   "metadata": {},
   "outputs": [],
   "source": []
  },
  {
   "cell_type": "code",
   "execution_count": 105,
   "id": "50615bf8-96a6-44ab-a552-474d4d687a8c",
   "metadata": {},
   "outputs": [],
   "source": [
    "import os\n",
    "import pathlib\n",
    "import gzip"
   ]
  },
  {
   "cell_type": "code",
   "execution_count": 110,
   "id": "5d490c89-443e-4369-8792-6d40441c1572",
   "metadata": {},
   "outputs": [
    {
     "name": "stdout",
     "output_type": "stream",
     "text": [
      "data/eeg/SMNI_CMI_TRAIN/co2c0000344/co2c0000344.rd.071.gz\n",
      "#\n",
      "data/eeg/SMNI_CMI_TRAIN/co2c0000342/co2c0000342.rd.001.gz\n",
      "#\n",
      "data/eeg/SMNI_CMI_TRAIN/co2c0000345/co2c0000345.rd.014.gz\n",
      "#\n",
      "data/eeg/SMNI_CMI_TRAIN/co2c0000340/co2c0000340.rd.007.gz\n",
      "#\n",
      "data/eeg/SMNI_CMI_TRAIN/co2c0000347/co2c0000347.rd.059.gz\n",
      "#\n",
      "data/eeg/SMNI_CMI_TRAIN/co2c0000346/co2c0000346.rd.026.gz\n",
      "#\n",
      "data/eeg/SMNI_CMI_TRAIN/co2c0000341/co2c0000341.rd.019.gz\n",
      "#\n",
      "data/eeg/SMNI_CMI_TRAIN/co2c0000337/co2c0000337.rd.027.gz\n",
      "#\n",
      "data/eeg/SMNI_CMI_TRAIN/co2c0000339/co2c0000339.rd.035.gz\n",
      "#\n",
      "data/eeg/SMNI_CMI_TRAIN/co2c0000338/co2c0000338.rd.035.gz\n",
      "#\n"
     ]
    }
   ],
   "source": [
    "def parse_eeg_file(filename):\n",
    "    with gzip.open(filename, 'rb') as f:\n",
    "        chans = {}\n",
    "        for line in f:\n",
    "            tokens = line.decode('ascii').split()\n",
    "            print(tokens[0])\n",
    "            if tokens[0] != '#':\n",
    "                print('here')\n",
    "                if tokens[1] not in chans.keys():\n",
    "                    chans[tokens[1]] = []\n",
    "                chans[tokens[1]].append(float(tokens[3]))\n",
    "            break\n",
    "        chan_arrays = []\n",
    "        for chan in chans.values():\n",
    "            chan_arrays.append(chan)\n",
    "    return chan_arrays\n",
    "\n",
    "root = 'data/eeg/SMNI_CMI_TRAIN'\n",
    "\n",
    "dataset = []\n",
    "for folder in os.listdir(root):\n",
    "    if folder != 'README' and (False or folder[3] == 'c'):\n",
    "        subfolder = os.path.join(root, folder)\n",
    "        for filename in os.listdir(subfolder):\n",
    "            f = os.path.join(subfolder, filename)\n",
    "            print(f)\n",
    "            if '.gz' in pathlib.Path(f).suffixes:\n",
    "                chan_arrays = parse_eeg_file(f)\n",
    "                dataset.extend(chan_arrays)\n",
    "                break"
   ]
  },
  {
   "cell_type": "code",
   "execution_count": 122,
   "id": "92035461-2cbc-4d87-89a6-d8732011b7a5",
   "metadata": {},
   "outputs": [],
   "source": [
    "X_train = data_resampled\n",
    "\n",
    "calibration_idx = np.random.choice(len(X_train), replace=False,\n",
    "                                           size=int(0.2 * len(X_train)))\n",
    "train_idx = np.setdiff1d(range(len(X_train)), calibration_idx)"
   ]
  },
  {
   "cell_type": "code",
   "execution_count": 123,
   "id": "0978eea7-f57f-4a65-98f2-b304857db852",
   "metadata": {},
   "outputs": [
    {
     "data": {
      "text/plain": [
       "array([ 7668, 14526, 11465, ...,   883,  7084, 18803])"
      ]
     },
     "execution_count": 123,
     "metadata": {},
     "output_type": "execute_result"
    }
   ],
   "source": [
    "calibration_idx"
   ]
  },
  {
   "cell_type": "code",
   "execution_count": 126,
   "id": "fac55c1f-539b-432b-89c1-36ccf1558f79",
   "metadata": {},
   "outputs": [],
   "source": [
    "import torch"
   ]
  },
  {
   "cell_type": "code",
   "execution_count": 1,
   "id": "ae9385da-b2a2-41eb-b152-c746533b38e9",
   "metadata": {},
   "outputs": [
    {
     "name": "stdout",
     "output_type": "stream",
     "text": [
      "Training DPRNN\n",
      "{'epochs': 10, 'batch_size': 150, 'embedding_size': 20, 'coverage': 0.9, 'lr': 0.01, 'n_steps': 1000, 'input_size': 1, 'max_steps': 40, 'output_size': 10}\n",
      "Epoch:  0 | train loss: 126.6505\n",
      "Epoch:  0 | train loss: 321.6871\n",
      "Epoch:  0 | train loss: 60.9047\n",
      "Epoch:  0 | train loss: 76.5769\n",
      "Epoch:  0 | train loss: 52.3232\n",
      "Epoch:  0 | train loss: 77.4224\n",
      "Epoch:  0 | train loss: 55.4997\n",
      "Epoch:  0 | train loss: 143.3620\n",
      "Epoch:  0 | train loss: 66.8440\n",
      "Epoch:  0 | train loss: 80.3922\n",
      "Epoch:  0 | train loss: 71.8597\n",
      "Epoch:  0 | train loss: 63.4919\n",
      "Epoch:  0 | train loss: 83.7669\n",
      "Epoch:  0 | train loss: 217.4729\n",
      "Epoch:  0 | train loss: 123.6347\n",
      "Epoch:  0 | train loss: 142.7558\n",
      "Epoch:  0 | train loss: 218.5715\n",
      "Epoch:  0 | train loss: 285.6799\n",
      "Epoch:  0 | train loss: 110.2929\n",
      "Epoch:  0 | train loss: 81.6428\n",
      "Epoch:  1 | train loss: 49.6919\n",
      "Epoch:  1 | train loss: 130.6322\n",
      "Epoch:  1 | train loss: 115.0878\n",
      "Epoch:  1 | train loss: 132.6172\n",
      "Epoch:  1 | train loss: 56.4864\n",
      "Epoch:  1 | train loss: 168.7701\n",
      "Epoch:  1 | train loss: 57.0921\n",
      "Epoch:  1 | train loss: 117.6609\n",
      "Epoch:  1 | train loss: 114.6224\n",
      "Epoch:  1 | train loss: 165.2213\n",
      "Epoch:  1 | train loss: 132.6861\n",
      "Epoch:  1 | train loss: 154.6422\n",
      "Epoch:  1 | train loss: 58.1567\n",
      "Epoch:  1 | train loss: 390.6194\n",
      "Epoch:  1 | train loss: 130.6301\n",
      "Epoch:  1 | train loss: 121.0939\n",
      "Epoch:  1 | train loss: 63.7125\n",
      "Epoch:  1 | train loss: 74.7818\n",
      "Epoch:  1 | train loss: 70.4876\n",
      "Epoch:  1 | train loss: 61.1094\n",
      "Epoch:  2 | train loss: 91.8199\n",
      "Epoch:  2 | train loss: 104.1177\n",
      "Epoch:  2 | train loss: 95.6771\n",
      "Epoch:  2 | train loss: 296.8440\n",
      "Epoch:  2 | train loss: 67.6761\n",
      "Epoch:  2 | train loss: 336.0973\n",
      "Epoch:  2 | train loss: 115.5139\n",
      "Epoch:  2 | train loss: 151.0413\n",
      "Epoch:  2 | train loss: 574.2050\n",
      "Epoch:  2 | train loss: 103.5256\n",
      "Epoch:  2 | train loss: 150.7294\n",
      "Epoch:  2 | train loss: 60.5125\n",
      "Epoch:  2 | train loss: 132.6490\n",
      "Epoch:  2 | train loss: 117.6477\n",
      "Epoch:  2 | train loss: 64.7325\n",
      "Epoch:  2 | train loss: 71.5595\n",
      "Epoch:  2 | train loss: 55.6039\n",
      "Epoch:  2 | train loss: 171.5838\n",
      "Epoch:  2 | train loss: 94.9346\n",
      "Epoch:  2 | train loss: 96.8710\n",
      "Epoch:  3 | train loss: 232.6133\n",
      "Epoch:  3 | train loss: 86.3789\n",
      "Epoch:  3 | train loss: 167.4234\n",
      "Epoch:  3 | train loss: 62.4968\n",
      "Epoch:  3 | train loss: 210.0468\n",
      "Epoch:  3 | train loss: 81.7693\n",
      "Epoch:  3 | train loss: 186.0399\n",
      "Epoch:  3 | train loss: 93.5649\n",
      "Epoch:  3 | train loss: 108.7456\n",
      "Epoch:  3 | train loss: 90.6127\n",
      "Epoch:  3 | train loss: 63.9683\n",
      "Epoch:  3 | train loss: 130.8805\n",
      "Epoch:  3 | train loss: 60.9050\n",
      "Epoch:  3 | train loss: 129.5538\n",
      "Epoch:  3 | train loss: 116.5547\n",
      "Epoch:  3 | train loss: 97.2818\n",
      "Epoch:  3 | train loss: 66.8817\n",
      "Epoch:  3 | train loss: 88.7522\n",
      "Epoch:  3 | train loss: 63.1894\n",
      "Epoch:  3 | train loss: 112.9922\n",
      "Epoch:  4 | train loss: 54.5759\n",
      "Epoch:  4 | train loss: 55.0722\n",
      "Epoch:  4 | train loss: 88.8617\n",
      "Epoch:  4 | train loss: 87.8895\n",
      "Epoch:  4 | train loss: 150.9761\n",
      "Epoch:  4 | train loss: 74.2589\n",
      "Epoch:  4 | train loss: 72.8292\n",
      "Epoch:  4 | train loss: 61.4791\n",
      "Epoch:  4 | train loss: 267.5901\n",
      "Epoch:  4 | train loss: 71.3773\n",
      "Epoch:  4 | train loss: 57.6503\n",
      "Epoch:  4 | train loss: 81.4274\n",
      "Epoch:  4 | train loss: 92.2612\n",
      "Epoch:  4 | train loss: 208.0408\n",
      "Epoch:  4 | train loss: 81.6270\n",
      "Epoch:  4 | train loss: 60.5851\n",
      "Epoch:  4 | train loss: 87.8123\n",
      "Epoch:  4 | train loss: 144.1961\n",
      "Epoch:  4 | train loss: 103.3684\n",
      "Epoch:  4 | train loss: 160.3606\n",
      "Epoch:  5 | train loss: 85.4603\n",
      "Epoch:  5 | train loss: 59.7136\n",
      "Epoch:  5 | train loss: 78.6588\n",
      "Epoch:  5 | train loss: 54.4336\n",
      "Epoch:  5 | train loss: 98.0674\n",
      "Epoch:  5 | train loss: 84.8407\n",
      "Epoch:  5 | train loss: 70.6202\n",
      "Epoch:  5 | train loss: 88.3825\n",
      "Epoch:  5 | train loss: 60.4184\n",
      "Epoch:  5 | train loss: 69.9258\n",
      "Epoch:  5 | train loss: 158.8537\n",
      "Epoch:  5 | train loss: 58.7847\n",
      "Epoch:  5 | train loss: 52.4462\n",
      "Epoch:  5 | train loss: 66.3339\n",
      "Epoch:  5 | train loss: 61.0919\n",
      "Epoch:  5 | train loss: 137.9033\n",
      "Epoch:  5 | train loss: 83.1809\n",
      "Epoch:  5 | train loss: 122.9743\n",
      "Epoch:  5 | train loss: 115.9874\n",
      "Epoch:  5 | train loss: 189.7778\n",
      "Epoch:  6 | train loss: 61.4311\n",
      "Epoch:  6 | train loss: 59.6747\n",
      "Epoch:  6 | train loss: 110.5142\n",
      "Epoch:  6 | train loss: 255.2166\n",
      "Epoch:  6 | train loss: 66.6134\n",
      "Epoch:  6 | train loss: 172.6004\n",
      "Epoch:  6 | train loss: 84.2452\n",
      "Epoch:  6 | train loss: 65.4254\n",
      "Epoch:  6 | train loss: 51.7090\n",
      "Epoch:  6 | train loss: 105.3055\n",
      "Epoch:  6 | train loss: 108.5558\n",
      "Epoch:  6 | train loss: 65.9207\n",
      "Epoch:  6 | train loss: 63.7659\n",
      "Epoch:  6 | train loss: 111.7933\n",
      "Epoch:  6 | train loss: 142.7561\n",
      "Epoch:  6 | train loss: 73.9893\n",
      "Epoch:  6 | train loss: 79.8691\n",
      "Epoch:  6 | train loss: 100.5672\n",
      "Epoch:  6 | train loss: 55.7547\n",
      "Epoch:  6 | train loss: 107.3243\n",
      "Epoch:  7 | train loss: 61.7675\n",
      "Epoch:  7 | train loss: 65.1627\n",
      "Epoch:  7 | train loss: 86.9139\n",
      "Epoch:  7 | train loss: 46.9851\n",
      "Epoch:  7 | train loss: 153.1027\n",
      "Epoch:  7 | train loss: 91.0345\n",
      "Epoch:  7 | train loss: 96.0758\n",
      "Epoch:  7 | train loss: 95.2031\n",
      "Epoch:  7 | train loss: 75.4783\n",
      "Epoch:  7 | train loss: 91.5072\n",
      "Epoch:  7 | train loss: 145.5104\n",
      "Epoch:  7 | train loss: 123.3301\n",
      "Epoch:  7 | train loss: 122.4884\n",
      "Epoch:  7 | train loss: 47.5055\n",
      "Epoch:  7 | train loss: 67.5422\n",
      "Epoch:  7 | train loss: 52.8106\n",
      "Epoch:  7 | train loss: 129.9653\n",
      "Epoch:  7 | train loss: 73.9095\n",
      "Epoch:  7 | train loss: 105.6984\n",
      "Epoch:  7 | train loss: 62.6316\n",
      "Epoch:  8 | train loss: 76.2546\n",
      "Epoch:  8 | train loss: 283.5374\n",
      "Epoch:  8 | train loss: 46.2216\n",
      "Epoch:  8 | train loss: 133.3552\n",
      "Epoch:  8 | train loss: 50.1941\n",
      "Epoch:  8 | train loss: 91.1753\n",
      "Epoch:  8 | train loss: 113.5133\n",
      "Epoch:  8 | train loss: 44.8756\n",
      "Epoch:  8 | train loss: 76.2126\n",
      "Epoch:  8 | train loss: 61.1079\n",
      "Epoch:  8 | train loss: 72.4262\n",
      "Epoch:  8 | train loss: 45.9690\n",
      "Epoch:  8 | train loss: 63.0932\n",
      "Epoch:  8 | train loss: 123.8054\n",
      "Epoch:  8 | train loss: 72.9807\n",
      "Epoch:  8 | train loss: 75.6847\n",
      "Epoch:  8 | train loss: 50.8341\n",
      "Epoch:  8 | train loss: 95.4463\n",
      "Epoch:  8 | train loss: 110.5856\n",
      "Epoch:  8 | train loss: 56.8905\n",
      "Epoch:  9 | train loss: 52.4938\n",
      "Epoch:  9 | train loss: 70.8365\n",
      "Epoch:  9 | train loss: 89.4390\n",
      "Epoch:  9 | train loss: 104.8694\n",
      "Epoch:  9 | train loss: 83.1443\n",
      "Epoch:  9 | train loss: 77.6895\n",
      "Epoch:  9 | train loss: 44.8102\n",
      "Epoch:  9 | train loss: 54.0999\n",
      "Epoch:  9 | train loss: 54.5059\n",
      "Epoch:  9 | train loss: 110.2178\n",
      "Epoch:  9 | train loss: 50.1348\n",
      "Epoch:  9 | train loss: 82.3212\n",
      "Epoch:  9 | train loss: 556.0739\n",
      "Epoch:  9 | train loss: 172.9108\n",
      "Epoch:  9 | train loss: 55.7659\n",
      "Epoch:  9 | train loss: 201.9614\n",
      "Epoch:  9 | train loss: 73.3525\n",
      "Epoch:  9 | train loss: 152.3305\n",
      "Epoch:  9 | train loss: 154.5555\n",
      "Epoch:  9 | train loss: 63.8382\n"
     ]
    }
   ],
   "source": [
    "from utils.train_mimic import run_medical_experiments\n",
    "results = run_medical_experiments(retrain=True, dataset='eeg', baselines=['DPRNN'])"
   ]
  },
  {
   "cell_type": "code",
   "execution_count": 13,
   "id": "940bb03b-aed4-4911-97fb-e78abd45fcc7",
   "metadata": {},
   "outputs": [
    {
     "name": "stdout",
     "output_type": "stream",
     "text": [
      "here\n"
     ]
    }
   ],
   "source": [
    "from utils.train_mimic import run_medical_experiments\n",
    "results = run_medical_experiments(dataset='eeg')"
   ]
  },
  {
   "cell_type": "code",
   "execution_count": 15,
   "id": "4cf32c9d-8c02-4419-8280-72850bf12bd0",
   "metadata": {},
   "outputs": [
    {
     "data": {
      "text/plain": [
       "0.9716145992279053"
      ]
     },
     "execution_count": 15,
     "metadata": {},
     "output_type": "execute_result"
    }
   ],
   "source": [
    "results['CPRNN']['mean_coverage']"
   ]
  },
  {
   "cell_type": "code",
   "execution_count": 23,
   "id": "d5025481-0c57-49f4-b55c-a59000c78f04",
   "metadata": {},
   "outputs": [
    {
     "data": {
      "text/plain": [
       "(66.30071601867675, 13.065296320516955)"
      ]
     },
     "execution_count": 23,
     "metadata": {},
     "output_type": "execute_result"
    }
   ],
   "source": [
    "np.mean(results['CPRNN']['interval_widths']), np.std(results['CPRNN']['interval_widths'])"
   ]
  },
  {
   "cell_type": "code",
   "execution_count": 17,
   "id": "d21dc201-04d6-4793-b659-5b05cfbc8829",
   "metadata": {},
   "outputs": [
    {
     "data": {
      "text/plain": [
       "0.4481880208333333"
      ]
     },
     "execution_count": 17,
     "metadata": {},
     "output_type": "execute_result"
    }
   ],
   "source": [
    "results['DPRNN']['Coverage']"
   ]
  },
  {
   "cell_type": "code",
   "execution_count": 18,
   "id": "d9becd74-5ca4-4eb0-82e8-ef2dc229319f",
   "metadata": {},
   "outputs": [
    {
     "data": {
      "text/plain": [
       "8.05982"
      ]
     },
     "execution_count": 18,
     "metadata": {},
     "output_type": "execute_result"
    }
   ],
   "source": [
    "results['DPRNN']['CI length']"
   ]
  },
  {
   "cell_type": "code",
   "execution_count": 24,
   "id": "88081a2a-dc33-480d-be30-3f09d0a062ca",
   "metadata": {},
   "outputs": [
    {
     "data": {
      "text/plain": [
       "(8.0598135, 6.8367715)"
      ]
     },
     "execution_count": 24,
     "metadata": {},
     "output_type": "execute_result"
    }
   ],
   "source": [
    "import numpy as np\n",
    "ci = results['DPRNN']['Confidence intervals']\n",
    "np.mean(np.mean(ci, axis=0).flatten()), np.mean(np.std(ci, axis=0).flatten())"
   ]
  },
  {
   "cell_type": "code",
   "execution_count": 20,
   "id": "3fc5da04-b367-49f7-b9ec-f884665c2faf",
   "metadata": {},
   "outputs": [
    {
     "data": {
      "text/plain": [
       "0.8731104166666667"
      ]
     },
     "execution_count": 20,
     "metadata": {},
     "output_type": "execute_result"
    }
   ],
   "source": [
    "results['QRNN']['Coverage']"
   ]
  },
  {
   "cell_type": "code",
   "execution_count": 21,
   "id": "08befb77-b20e-4b0c-afee-2fd58b80b131",
   "metadata": {},
   "outputs": [
    {
     "data": {
      "text/plain": [
       "21.264711"
      ]
     },
     "execution_count": 21,
     "metadata": {},
     "output_type": "execute_result"
    }
   ],
   "source": [
    "results['QRNN']['CI length']"
   ]
  },
  {
   "cell_type": "code",
   "execution_count": 25,
   "id": "c7be10fa-cda4-4401-b97e-8263745141f8",
   "metadata": {},
   "outputs": [
    {
     "data": {
      "text/plain": [
       "(21.264704, 11.7837)"
      ]
     },
     "execution_count": 25,
     "metadata": {},
     "output_type": "execute_result"
    }
   ],
   "source": [
    "ci = results['QRNN']['Confidence intervals']\n",
    "np.mean(np.mean(ci, axis=0).flatten()), np.mean(np.std(ci, axis=0).flatten())"
   ]
  },
  {
   "cell_type": "code",
   "execution_count": 33,
   "id": "3cf08fde-3e64-4907-a9fd-3b79de74f176",
   "metadata": {},
   "outputs": [],
   "source": [
    "from utils.mimic_data_processing import process_mimic_data"
   ]
  },
  {
   "cell_type": "code",
   "execution_count": 34,
   "id": "ba7b5936-9084-4689-937b-83c38ce4de79",
   "metadata": {},
   "outputs": [],
   "source": [
    "X, Y, L = process_mimic_data()"
   ]
  },
  {
   "cell_type": "code",
   "execution_count": 35,
   "id": "cc72c6c1-8312-4499-9eff-88a9b5cb8eda",
   "metadata": {},
   "outputs": [
    {
     "data": {
      "text/plain": [
       "4323"
      ]
     },
     "execution_count": 35,
     "metadata": {},
     "output_type": "execute_result"
    }
   ],
   "source": [
    "len(X)"
   ]
  },
  {
   "cell_type": "code",
   "execution_count": 37,
   "id": "b7d49f40-6348-45fb-b7a5-644223210aa2",
   "metadata": {},
   "outputs": [
    {
     "data": {
      "text/plain": [
       "(10.554244737450844, 7.011804421918092)"
      ]
     },
     "execution_count": 37,
     "metadata": {},
     "output_type": "execute_result"
    }
   ],
   "source": [
    "np.mean(L), np.std(L)"
   ]
  },
  {
   "cell_type": "code",
   "execution_count": 40,
   "id": "16fba6b3-1726-490b-9b59-8d939ee76d89",
   "metadata": {},
   "outputs": [
    {
     "data": {
      "text/plain": [
       "5"
      ]
     },
     "execution_count": 40,
     "metadata": {},
     "output_type": "execute_result"
    }
   ],
   "source": [
    "np.min(L)"
   ]
  },
  {
   "cell_type": "code",
   "execution_count": null,
   "id": "2303b3ee-c6f0-4999-8624-e504ab66c5eb",
   "metadata": {},
   "outputs": [],
   "source": []
  }
 ],
 "metadata": {
  "kernelspec": {
   "display_name": "Python 3",
   "language": "python",
   "name": "python3"
  },
  "language_info": {
   "codemirror_mode": {
    "name": "ipython",
    "version": 3
   },
   "file_extension": ".py",
   "mimetype": "text/x-python",
   "name": "python",
   "nbconvert_exporter": "python",
   "pygments_lexer": "ipython3",
   "version": "3.7.9"
  }
 },
 "nbformat": 4,
 "nbformat_minor": 5
}
