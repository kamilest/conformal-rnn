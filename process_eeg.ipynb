{
 "cells": [
  {
   "cell_type": "code",
   "execution_count": 1,
   "id": "e8602d8b-cb7c-488b-9787-1e624204f8f2",
   "metadata": {},
   "outputs": [],
   "source": [
    "%load_ext autoreload\n",
    "%autoreload 2\n",
    "\n",
    "import pickle\n",
    "import matplotlib.pyplot as plt"
   ]
  },
  {
   "cell_type": "code",
   "execution_count": 2,
   "id": "320dd9be-5f0c-4685-b068-677c5de4ce2d",
   "metadata": {},
   "outputs": [],
   "source": [
    "from utils.train_medical import run_mimic_experiments, run_eeg_experiments, run_medical_experiments"
   ]
  },
  {
   "cell_type": "markdown",
   "id": "25f26614-5553-437b-9af5-2618e9aec6f1",
   "metadata": {},
   "source": [
    "# MIMIC-III: forecasting white blood cell count"
   ]
  },
  {
   "cell_type": "code",
   "execution_count": null,
   "id": "418b0da7-a749-471e-9fec-9bca56da50ec",
   "metadata": {},
   "outputs": [
    {
     "name": "stdout",
     "output_type": "stream",
     "text": [
      "Training CPRNN\n",
      "Epoch: 0\tTrain loss: 156.74915640694755\n",
      "Epoch: 50\tTrain loss: 53.13235078539167\n",
      "Epoch: 100\tTrain loss: 53.64533070155552\n",
      "Epoch: 150\tTrain loss: 51.56313732692173\n",
      "Epoch: 200\tTrain loss: 55.60751519884382\n",
      "Epoch: 250\tTrain loss: 51.39998326982771\n",
      "Epoch: 300\tTrain loss: 50.69910785130092\n",
      "Epoch: 350\tTrain loss: 51.46189144679478\n",
      "Epoch: 400\tTrain loss: 51.4951046534947\n",
      "Epoch: 450\tTrain loss: 51.346938133239746\n",
      "Epoch: 500\tTrain loss: 52.24199744633266\n",
      "Epoch: 550\tTrain loss: 52.51100335802351\n",
      "Epoch: 600\tTrain loss: 50.9170960017613\n",
      "Epoch: 650\tTrain loss: 55.39422171456473\n",
      "Epoch: 700\tTrain loss: 67.61379609789167\n",
      "Epoch: 750\tTrain loss: 50.58711297171457\n",
      "Epoch: 800\tTrain loss: 51.071151869637625\n",
      "Epoch: 850\tTrain loss: 50.609366689409526\n",
      "Epoch: 900\tTrain loss: 51.22157260349819\n",
      "Epoch: 950\tTrain loss: 51.123785155160085\n",
      "Training QRNN\n",
      "Epoch:  0 | train loss: 2.4016\n",
      "Epoch:  1 | train loss: 1.7792\n"
     ]
    }
   ],
   "source": [
    "mimic_results = run_medical_experiments(retrain=True, dataset='mimic')"
   ]
  },
  {
   "cell_type": "markdown",
   "id": "084ed32a-2470-415c-aa6d-38f4c1d533fb",
   "metadata": {},
   "source": [
    "# EEG dataset: forecasting EEG signals\n",
    "Signals come from different distributions. Patients are shown different combinations of stimuli, and the recordings are taken from different parts of the brain.\n",
    "\n",
    "Split 896 training instances to 600 / 296 true training/calibration.\n",
    "\n",
    "(if using control data only, then 448 = 300 + 148)\n",
    "\n",
    "Downsample training sequences to 50 steps\n",
    "* 40 steps input, 10 prediction"
   ]
  },
  {
   "cell_type": "code",
   "execution_count": null,
   "id": "2303b3ee-c6f0-4999-8624-e504ab66c5eb",
   "metadata": {},
   "outputs": [],
   "source": [
    "eeg_results = run_medical_experiments(retrain=True, dataset='eeg')"
   ]
  }
 ],
 "metadata": {
  "kernelspec": {
   "display_name": "Python 3",
   "language": "python",
   "name": "python3"
  },
  "language_info": {
   "codemirror_mode": {
    "name": "ipython",
    "version": 3
   },
   "file_extension": ".py",
   "mimetype": "text/x-python",
   "name": "python",
   "nbconvert_exporter": "python",
   "pygments_lexer": "ipython3",
   "version": "3.7.9"
  }
 },
 "nbformat": 4,
 "nbformat_minor": 5
}
