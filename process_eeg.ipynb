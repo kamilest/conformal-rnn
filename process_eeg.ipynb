{
 "cells": [
  {
   "cell_type": "code",
   "execution_count": 1,
   "id": "e8602d8b-cb7c-488b-9787-1e624204f8f2",
   "metadata": {},
   "outputs": [],
   "source": [
    "%load_ext autoreload\n",
    "%autoreload 2\n",
    "\n",
    "import pickle\n",
    "import matplotlib.pyplot as plt"
   ]
  },
  {
   "cell_type": "code",
   "execution_count": 2,
   "id": "320dd9be-5f0c-4685-b068-677c5de4ce2d",
   "metadata": {},
   "outputs": [],
   "source": [
    "from utils.train_medical import run_mimic_experiments, run_eeg_experiments, run_medical_experiments"
   ]
  },
  {
   "cell_type": "markdown",
   "id": "25f26614-5553-437b-9af5-2618e9aec6f1",
   "metadata": {},
   "source": [
    "# MIMIC-III: forecasting white blood cell count"
   ]
  },
  {
   "cell_type": "code",
   "execution_count": 9,
   "id": "418b0da7-a749-471e-9fec-9bca56da50ec",
   "metadata": {},
   "outputs": [
    {
     "name": "stdout",
     "output_type": "stream",
     "text": [
      "Training CPRNN\n",
      "Epoch: 0\tTrain loss: 156.74915640694755\n"
     ]
    },
    {
     "ename": "KeyboardInterrupt",
     "evalue": "",
     "output_type": "error",
     "traceback": [
      "\u001b[0;31m---------------------------------------------------------------------------\u001b[0m",
      "\u001b[0;31mKeyboardInterrupt\u001b[0m                         Traceback (most recent call last)",
      "\u001b[0;32m<ipython-input-9-108bf889124d>\u001b[0m in \u001b[0;36m<module>\u001b[0;34m\u001b[0m\n\u001b[0;32m----> 1\u001b[0;31m \u001b[0mmimic_results\u001b[0m \u001b[0;34m=\u001b[0m \u001b[0mrun_medical_experiments\u001b[0m\u001b[0;34m(\u001b[0m\u001b[0mretrain\u001b[0m\u001b[0;34m=\u001b[0m\u001b[0;32mTrue\u001b[0m\u001b[0;34m,\u001b[0m \u001b[0mdataset\u001b[0m\u001b[0;34m=\u001b[0m\u001b[0;34m'mimic'\u001b[0m\u001b[0;34m)\u001b[0m\u001b[0;34m\u001b[0m\u001b[0;34m\u001b[0m\u001b[0m\n\u001b[0m",
      "\u001b[0;32m~/Documents/Oxford/dissertation/conformal-rnn/utils/train_medical.py\u001b[0m in \u001b[0;36mrun_medical_experiments\u001b[0;34m(params, baselines, retrain, dataset, length, horizon)\u001b[0m\n\u001b[1;32m     57\u001b[0m                 model.fit(train_dataset, calibration_dataset,\n\u001b[1;32m     58\u001b[0m                           \u001b[0mepochs\u001b[0m\u001b[0;34m=\u001b[0m\u001b[0mparams\u001b[0m\u001b[0;34m[\u001b[0m\u001b[0;34m'epochs'\u001b[0m\u001b[0;34m]\u001b[0m\u001b[0;34m,\u001b[0m \u001b[0mlr\u001b[0m\u001b[0;34m=\u001b[0m\u001b[0mparams\u001b[0m\u001b[0;34m[\u001b[0m\u001b[0;34m'lr'\u001b[0m\u001b[0;34m]\u001b[0m\u001b[0;34m,\u001b[0m\u001b[0;34m\u001b[0m\u001b[0;34m\u001b[0m\u001b[0m\n\u001b[0;32m---> 59\u001b[0;31m                           batch_size=params['batch_size'])\n\u001b[0m\u001b[1;32m     60\u001b[0m                 \u001b[0mindependent_coverages\u001b[0m\u001b[0;34m,\u001b[0m \u001b[0mjoint_coverages\u001b[0m\u001b[0;34m,\u001b[0m \u001b[0mintervals\u001b[0m \u001b[0;34m=\u001b[0m\u001b[0;31m \u001b[0m\u001b[0;31m\\\u001b[0m\u001b[0;34m\u001b[0m\u001b[0;34m\u001b[0m\u001b[0m\n\u001b[1;32m     61\u001b[0m                     model.evaluate_coverage(\n",
      "\u001b[0;32m~/Documents/Oxford/dissertation/conformal-rnn/models/cprnn.py\u001b[0m in \u001b[0;36mfit\u001b[0;34m(self, train_dataset, calibration_dataset, epochs, lr, batch_size)\u001b[0m\n\u001b[1;32m    136\u001b[0m \u001b[0;34m\u001b[0m\u001b[0m\n\u001b[1;32m    137\u001b[0m         \u001b[0;31m# Train the multi-horizon forecaster.\u001b[0m\u001b[0;34m\u001b[0m\u001b[0;34m\u001b[0m\u001b[0;34m\u001b[0m\u001b[0m\n\u001b[0;32m--> 138\u001b[0;31m         \u001b[0mself\u001b[0m\u001b[0;34m.\u001b[0m\u001b[0mtrain_forecaster\u001b[0m\u001b[0;34m(\u001b[0m\u001b[0mtrain_loader\u001b[0m\u001b[0;34m,\u001b[0m \u001b[0mepochs\u001b[0m\u001b[0;34m,\u001b[0m \u001b[0mlr\u001b[0m\u001b[0;34m)\u001b[0m\u001b[0;34m\u001b[0m\u001b[0;34m\u001b[0m\u001b[0m\n\u001b[0m\u001b[1;32m    139\u001b[0m         \u001b[0;31m# Collect calibration scores\u001b[0m\u001b[0;34m\u001b[0m\u001b[0;34m\u001b[0m\u001b[0;34m\u001b[0m\u001b[0m\n\u001b[1;32m    140\u001b[0m         \u001b[0mself\u001b[0m\u001b[0;34m.\u001b[0m\u001b[0mcalibrate\u001b[0m\u001b[0;34m(\u001b[0m\u001b[0mcalibration_dataset\u001b[0m\u001b[0;34m,\u001b[0m \u001b[0mn_train\u001b[0m\u001b[0;34m=\u001b[0m\u001b[0mlen\u001b[0m\u001b[0;34m(\u001b[0m\u001b[0mtrain_dataset\u001b[0m\u001b[0;34m)\u001b[0m\u001b[0;34m)\u001b[0m\u001b[0;34m\u001b[0m\u001b[0;34m\u001b[0m\u001b[0m\n",
      "\u001b[0;32m~/Documents/Oxford/dissertation/conformal-rnn/models/cprnn.py\u001b[0m in \u001b[0;36mtrain_forecaster\u001b[0;34m(self, train_loader, epochs, lr)\u001b[0m\n\u001b[1;32m     83\u001b[0m \u001b[0;34m\u001b[0m\u001b[0m\n\u001b[1;32m     84\u001b[0m                 \u001b[0mloss\u001b[0m \u001b[0;34m=\u001b[0m \u001b[0mcriterion\u001b[0m\u001b[0;34m(\u001b[0m\u001b[0mvalid_out\u001b[0m\u001b[0;34m.\u001b[0m\u001b[0mfloat\u001b[0m\u001b[0;34m(\u001b[0m\u001b[0;34m)\u001b[0m\u001b[0;34m,\u001b[0m \u001b[0mtargets\u001b[0m\u001b[0;34m.\u001b[0m\u001b[0mfloat\u001b[0m\u001b[0;34m(\u001b[0m\u001b[0;34m)\u001b[0m\u001b[0;34m)\u001b[0m\u001b[0;34m\u001b[0m\u001b[0;34m\u001b[0m\u001b[0m\n\u001b[0;32m---> 85\u001b[0;31m                 \u001b[0mloss\u001b[0m\u001b[0;34m.\u001b[0m\u001b[0mbackward\u001b[0m\u001b[0;34m(\u001b[0m\u001b[0;34m)\u001b[0m\u001b[0;34m\u001b[0m\u001b[0;34m\u001b[0m\u001b[0m\n\u001b[0m\u001b[1;32m     86\u001b[0m \u001b[0;34m\u001b[0m\u001b[0m\n\u001b[1;32m     87\u001b[0m                 \u001b[0mtrain_loss\u001b[0m \u001b[0;34m+=\u001b[0m \u001b[0mloss\u001b[0m\u001b[0;34m.\u001b[0m\u001b[0mitem\u001b[0m\u001b[0;34m(\u001b[0m\u001b[0;34m)\u001b[0m\u001b[0;34m\u001b[0m\u001b[0;34m\u001b[0m\u001b[0m\n",
      "\u001b[0;32m~/anaconda3/envs/aml/lib/python3.7/site-packages/torch/tensor.py\u001b[0m in \u001b[0;36mbackward\u001b[0;34m(self, gradient, retain_graph, create_graph, inputs)\u001b[0m\n\u001b[1;32m    243\u001b[0m                 \u001b[0mcreate_graph\u001b[0m\u001b[0;34m=\u001b[0m\u001b[0mcreate_graph\u001b[0m\u001b[0;34m,\u001b[0m\u001b[0;34m\u001b[0m\u001b[0;34m\u001b[0m\u001b[0m\n\u001b[1;32m    244\u001b[0m                 inputs=inputs)\n\u001b[0;32m--> 245\u001b[0;31m         \u001b[0mtorch\u001b[0m\u001b[0;34m.\u001b[0m\u001b[0mautograd\u001b[0m\u001b[0;34m.\u001b[0m\u001b[0mbackward\u001b[0m\u001b[0;34m(\u001b[0m\u001b[0mself\u001b[0m\u001b[0;34m,\u001b[0m \u001b[0mgradient\u001b[0m\u001b[0;34m,\u001b[0m \u001b[0mretain_graph\u001b[0m\u001b[0;34m,\u001b[0m \u001b[0mcreate_graph\u001b[0m\u001b[0;34m,\u001b[0m \u001b[0minputs\u001b[0m\u001b[0;34m=\u001b[0m\u001b[0minputs\u001b[0m\u001b[0;34m)\u001b[0m\u001b[0;34m\u001b[0m\u001b[0;34m\u001b[0m\u001b[0m\n\u001b[0m\u001b[1;32m    246\u001b[0m \u001b[0;34m\u001b[0m\u001b[0m\n\u001b[1;32m    247\u001b[0m     \u001b[0;32mdef\u001b[0m \u001b[0mregister_hook\u001b[0m\u001b[0;34m(\u001b[0m\u001b[0mself\u001b[0m\u001b[0;34m,\u001b[0m \u001b[0mhook\u001b[0m\u001b[0;34m)\u001b[0m\u001b[0;34m:\u001b[0m\u001b[0;34m\u001b[0m\u001b[0;34m\u001b[0m\u001b[0m\n",
      "\u001b[0;32m~/anaconda3/envs/aml/lib/python3.7/site-packages/torch/autograd/__init__.py\u001b[0m in \u001b[0;36mbackward\u001b[0;34m(tensors, grad_tensors, retain_graph, create_graph, grad_variables, inputs)\u001b[0m\n\u001b[1;32m    145\u001b[0m     Variable._execution_engine.run_backward(\n\u001b[1;32m    146\u001b[0m         \u001b[0mtensors\u001b[0m\u001b[0;34m,\u001b[0m \u001b[0mgrad_tensors_\u001b[0m\u001b[0;34m,\u001b[0m \u001b[0mretain_graph\u001b[0m\u001b[0;34m,\u001b[0m \u001b[0mcreate_graph\u001b[0m\u001b[0;34m,\u001b[0m \u001b[0minputs\u001b[0m\u001b[0;34m,\u001b[0m\u001b[0;34m\u001b[0m\u001b[0;34m\u001b[0m\u001b[0m\n\u001b[0;32m--> 147\u001b[0;31m         allow_unreachable=True, accumulate_grad=True)  # allow_unreachable flag\n\u001b[0m\u001b[1;32m    148\u001b[0m \u001b[0;34m\u001b[0m\u001b[0m\n\u001b[1;32m    149\u001b[0m \u001b[0;34m\u001b[0m\u001b[0m\n",
      "\u001b[0;31mKeyboardInterrupt\u001b[0m: "
     ]
    }
   ],
   "source": [
    "mimic_results = run_medical_experiments(retrain=True, dataset='mimic')"
   ]
  },
  {
   "cell_type": "markdown",
   "id": "084ed32a-2470-415c-aa6d-38f4c1d533fb",
   "metadata": {},
   "source": [
    "# EEG dataset: forecasting EEG signals\n",
    "Signals come from different distributions. Patients are shown different combinations of stimuli, and the recordings are taken from different parts of the brain.\n",
    "\n",
    "Split 896 training instances to 600 / 296 true training/calibration.\n",
    "\n",
    "(if using control data only, then 448 = 300 + 148)\n",
    "\n",
    "Downsample training sequences to 50 steps\n",
    "* 40 steps input, 10 prediction"
   ]
  },
  {
   "cell_type": "code",
   "execution_count": 26,
   "id": "e5796196-c9bc-4162-9a72-6be22cc1845c",
   "metadata": {},
   "outputs": [],
   "source": [
    "from utils.eeg_data_processing import get_raw_eeg_data\n",
    "data = get_raw_eeg_data(cached=True, split='train')"
   ]
  },
  {
   "cell_type": "code",
   "execution_count": 45,
   "id": "db9cea1f-bf72-4a2d-bd8b-7f8a697bd35a",
   "metadata": {},
   "outputs": [],
   "source": [
    "from scipy.signal import resample"
   ]
  },
  {
   "cell_type": "code",
   "execution_count": 29,
   "id": "13ada434-d770-4181-885f-7bcfa2338bfd",
   "metadata": {},
   "outputs": [
    {
     "data": {
      "text/plain": [
       "19200"
      ]
     },
     "execution_count": 29,
     "metadata": {},
     "output_type": "execute_result"
    }
   ],
   "source": [
    "len(data)"
   ]
  },
  {
   "cell_type": "code",
   "execution_count": 117,
   "id": "98562ea3-58fe-4cc9-8baa-306865558557",
   "metadata": {},
   "outputs": [
    {
     "data": {
      "text/plain": [
       "[<matplotlib.lines.Line2D at 0x7fb8550e6310>]"
      ]
     },
     "execution_count": 117,
     "metadata": {},
     "output_type": "execute_result"
    },
    {
     "data": {
      "image/png": "[encoded data removed]",
      "text/plain": [
       "<Figure size 432x288 with 1 Axes>"
      ]
     },
     "metadata": {
      "needs_background": "light"
     },
     "output_type": "display_data"
    }
   ],
   "source": [
    "i = np.random.randint(19200)\n",
    "plt.plot(data_resampled[i])"
   ]
  },
  {
   "cell_type": "code",
   "execution_count": 94,
   "id": "110e6f40-ae76-419b-95b4-caa97a076592",
   "metadata": {},
   "outputs": [
    {
     "data": {
      "text/plain": [
       "0"
      ]
     },
     "execution_count": 94,
     "metadata": {},
     "output_type": "execute_result"
    }
   ],
   "source": [
    "len(data)"
   ]
  },
  {
   "cell_type": "code",
   "execution_count": 96,
   "id": "9951573b-7273-4584-8c14-be6cbe66ce61",
   "metadata": {},
   "outputs": [
    {
     "data": {
      "text/plain": [
       "\"b'0'\""
      ]
     },
     "execution_count": 96,
     "metadata": {},
     "output_type": "execute_result"
    }
   ],
   "source": [
    "b'0'"
   ]
  },
  {
   "cell_type": "code",
   "execution_count": null,
   "id": "71e2086a-4fac-45e6-a487-4c4dfcdf81a6",
   "metadata": {},
   "outputs": [],
   "source": []
  },
  {
   "cell_type": "code",
   "execution_count": 105,
   "id": "50615bf8-96a6-44ab-a552-474d4d687a8c",
   "metadata": {},
   "outputs": [],
   "source": [
    "import os\n",
    "import pathlib\n",
    "import gzip"
   ]
  },
  {
   "cell_type": "code",
   "execution_count": 110,
   "id": "5d490c89-443e-4369-8792-6d40441c1572",
   "metadata": {},
   "outputs": [
    {
     "name": "stdout",
     "output_type": "stream",
     "text": [
      "data/eeg/SMNI_CMI_TRAIN/co2c0000344/co2c0000344.rd.071.gz\n",
      "#\n",
      "data/eeg/SMNI_CMI_TRAIN/co2c0000342/co2c0000342.rd.001.gz\n",
      "#\n",
      "data/eeg/SMNI_CMI_TRAIN/co2c0000345/co2c0000345.rd.014.gz\n",
      "#\n",
      "data/eeg/SMNI_CMI_TRAIN/co2c0000340/co2c0000340.rd.007.gz\n",
      "#\n",
      "data/eeg/SMNI_CMI_TRAIN/co2c0000347/co2c0000347.rd.059.gz\n",
      "#\n",
      "data/eeg/SMNI_CMI_TRAIN/co2c0000346/co2c0000346.rd.026.gz\n",
      "#\n",
      "data/eeg/SMNI_CMI_TRAIN/co2c0000341/co2c0000341.rd.019.gz\n",
      "#\n",
      "data/eeg/SMNI_CMI_TRAIN/co2c0000337/co2c0000337.rd.027.gz\n",
      "#\n",
      "data/eeg/SMNI_CMI_TRAIN/co2c0000339/co2c0000339.rd.035.gz\n",
      "#\n",
      "data/eeg/SMNI_CMI_TRAIN/co2c0000338/co2c0000338.rd.035.gz\n",
      "#\n"
     ]
    }
   ],
   "source": [
    "def parse_eeg_file(filename):\n",
    "    with gzip.open(filename, 'rb') as f:\n",
    "        chans = {}\n",
    "        for line in f:\n",
    "            tokens = line.decode('ascii').split()\n",
    "            print(tokens[0])\n",
    "            if tokens[0] != '#':\n",
    "                print('here')\n",
    "                if tokens[1] not in chans.keys():\n",
    "                    chans[tokens[1]] = []\n",
    "                chans[tokens[1]].append(float(tokens[3]))\n",
    "            break\n",
    "        chan_arrays = []\n",
    "        for chan in chans.values():\n",
    "            chan_arrays.append(chan)\n",
    "    return chan_arrays\n",
    "\n",
    "root = 'data/eeg/SMNI_CMI_TRAIN'\n",
    "\n",
    "dataset = []\n",
    "for folder in os.listdir(root):\n",
    "    if folder != 'README' and (False or folder[3] == 'c'):\n",
    "        subfolder = os.path.join(root, folder)\n",
    "        for filename in os.listdir(subfolder):\n",
    "            f = os.path.join(subfolder, filename)\n",
    "            print(f)\n",
    "            if '.gz' in pathlib.Path(f).suffixes:\n",
    "                chan_arrays = parse_eeg_file(f)\n",
    "                dataset.extend(chan_arrays)\n",
    "                break"
   ]
  },
  {
   "cell_type": "code",
   "execution_count": 122,
   "id": "92035461-2cbc-4d87-89a6-d8732011b7a5",
   "metadata": {},
   "outputs": [],
   "source": [
    "X_train = data_resampled\n",
    "\n",
    "calibration_idx = np.random.choice(len(X_train), replace=False,\n",
    "                                           size=int(0.2 * len(X_train)))\n",
    "train_idx = np.setdiff1d(range(len(X_train)), calibration_idx)"
   ]
  },
  {
   "cell_type": "code",
   "execution_count": 123,
   "id": "0978eea7-f57f-4a65-98f2-b304857db852",
   "metadata": {},
   "outputs": [
    {
     "data": {
      "text/plain": [
       "array([ 7668, 14526, 11465, ...,   883,  7084, 18803])"
      ]
     },
     "execution_count": 123,
     "metadata": {},
     "output_type": "execute_result"
    }
   ],
   "source": [
    "calibration_idx"
   ]
  },
  {
   "cell_type": "code",
   "execution_count": 126,
   "id": "fac55c1f-539b-432b-89c1-36ccf1558f79",
   "metadata": {},
   "outputs": [],
   "source": [
    "import torch"
   ]
  },
  {
   "cell_type": "code",
   "execution_count": 13,
   "id": "940bb03b-aed4-4911-97fb-e78abd45fcc7",
   "metadata": {},
   "outputs": [
    {
     "name": "stdout",
     "output_type": "stream",
     "text": [
      "here\n"
     ]
    }
   ],
   "source": [
    "from utils.train_mimic import run_medical_experiments\n",
    "results = run_medical_experiments(dataset='eeg')"
   ]
  },
  {
   "cell_type": "code",
   "execution_count": 15,
   "id": "4cf32c9d-8c02-4419-8280-72850bf12bd0",
   "metadata": {},
   "outputs": [
    {
     "data": {
      "text/plain": [
       "0.9716145992279053"
      ]
     },
     "execution_count": 15,
     "metadata": {},
     "output_type": "execute_result"
    }
   ],
   "source": [
    "results['CPRNN']['mean_coverage']"
   ]
  },
  {
   "cell_type": "code",
   "execution_count": 23,
   "id": "d5025481-0c57-49f4-b55c-a59000c78f04",
   "metadata": {},
   "outputs": [
    {
     "data": {
      "text/plain": [
       "(66.30071601867675, 13.065296320516955)"
      ]
     },
     "execution_count": 23,
     "metadata": {},
     "output_type": "execute_result"
    }
   ],
   "source": [
    "np.mean(results['CPRNN']['interval_widths']), np.std(results['CPRNN']['interval_widths'])"
   ]
  },
  {
   "cell_type": "code",
   "execution_count": 17,
   "id": "d21dc201-04d6-4793-b659-5b05cfbc8829",
   "metadata": {},
   "outputs": [
    {
     "data": {
      "text/plain": [
       "0.4481880208333333"
      ]
     },
     "execution_count": 17,
     "metadata": {},
     "output_type": "execute_result"
    }
   ],
   "source": [
    "results['DPRNN']['Coverage']"
   ]
  },
  {
   "cell_type": "code",
   "execution_count": 18,
   "id": "d9becd74-5ca4-4eb0-82e8-ef2dc229319f",
   "metadata": {},
   "outputs": [
    {
     "data": {
      "text/plain": [
       "8.05982"
      ]
     },
     "execution_count": 18,
     "metadata": {},
     "output_type": "execute_result"
    }
   ],
   "source": [
    "results['DPRNN']['CI length']"
   ]
  },
  {
   "cell_type": "code",
   "execution_count": 24,
   "id": "88081a2a-dc33-480d-be30-3f09d0a062ca",
   "metadata": {},
   "outputs": [
    {
     "data": {
      "text/plain": [
       "(8.0598135, 6.8367715)"
      ]
     },
     "execution_count": 24,
     "metadata": {},
     "output_type": "execute_result"
    }
   ],
   "source": [
    "import numpy as np\n",
    "ci = results['DPRNN']['Confidence intervals']\n",
    "np.mean(np.mean(ci, axis=0).flatten()), np.mean(np.std(ci, axis=0).flatten())"
   ]
  },
  {
   "cell_type": "code",
   "execution_count": 21,
   "id": "24b25dba-924f-4878-8e88-57dd954b7bae",
   "metadata": {},
   "outputs": [
    {
     "ename": "NameError",
     "evalue": "name 'results' is not defined",
     "output_type": "error",
     "traceback": [
      "\u001b[0;31m---------------------------------------------------------------------------\u001b[0m",
      "\u001b[0;31mNameError\u001b[0m                                 Traceback (most recent call last)",
      "\u001b[0;32m<ipython-input-21-56f3c4474908>\u001b[0m in \u001b[0;36m<module>\u001b[0;34m\u001b[0m\n\u001b[0;32m----> 1\u001b[0;31m \u001b[0mresults\u001b[0m\u001b[0;34m[\u001b[0m\u001b[0;34m'DPRNN'\u001b[0m\u001b[0;34m]\u001b[0m\u001b[0;34m[\u001b[0m\u001b[0;34m'Confidence intervals'\u001b[0m\u001b[0;34m]\u001b[0m\u001b[0;34m\u001b[0m\u001b[0;34m\u001b[0m\u001b[0m\n\u001b[0m",
      "\u001b[0;31mNameError\u001b[0m: name 'results' is not defined"
     ]
    }
   ],
   "source": [
    "results['DPRNN']['Confidence intervals']"
   ]
  },
  {
   "cell_type": "code",
   "execution_count": 20,
   "id": "3fc5da04-b367-49f7-b9ec-f884665c2faf",
   "metadata": {},
   "outputs": [
    {
     "data": {
      "text/plain": [
       "0.8731104166666667"
      ]
     },
     "execution_count": 20,
     "metadata": {},
     "output_type": "execute_result"
    }
   ],
   "source": [
    "results['QRNN']['Coverage']"
   ]
  },
  {
   "cell_type": "code",
   "execution_count": 21,
   "id": "08befb77-b20e-4b0c-afee-2fd58b80b131",
   "metadata": {},
   "outputs": [
    {
     "data": {
      "text/plain": [
       "21.264711"
      ]
     },
     "execution_count": 21,
     "metadata": {},
     "output_type": "execute_result"
    }
   ],
   "source": [
    "results['QRNN']['CI length']"
   ]
  },
  {
   "cell_type": "code",
   "execution_count": 25,
   "id": "c7be10fa-cda4-4401-b97e-8263745141f8",
   "metadata": {},
   "outputs": [
    {
     "data": {
      "text/plain": [
       "(21.264704, 11.7837)"
      ]
     },
     "execution_count": 25,
     "metadata": {},
     "output_type": "execute_result"
    }
   ],
   "source": [
    "ci = results['QRNN']['Confidence intervals']\n",
    "np.mean(np.mean(ci, axis=0).flatten()), np.mean(np.std(ci, axis=0).flatten())"
   ]
  },
  {
   "cell_type": "code",
   "execution_count": 33,
   "id": "3cf08fde-3e64-4907-a9fd-3b79de74f176",
   "metadata": {},
   "outputs": [],
   "source": [
    "from utils.mimic_data_processing import process_mimic_data"
   ]
  },
  {
   "cell_type": "code",
   "execution_count": 34,
   "id": "ba7b5936-9084-4689-937b-83c38ce4de79",
   "metadata": {},
   "outputs": [],
   "source": [
    "X, Y, L = process_mimic_data()"
   ]
  },
  {
   "cell_type": "code",
   "execution_count": 35,
   "id": "cc72c6c1-8312-4499-9eff-88a9b5cb8eda",
   "metadata": {},
   "outputs": [
    {
     "data": {
      "text/plain": [
       "4323"
      ]
     },
     "execution_count": 35,
     "metadata": {},
     "output_type": "execute_result"
    }
   ],
   "source": [
    "len(X)"
   ]
  },
  {
   "cell_type": "code",
   "execution_count": 37,
   "id": "b7d49f40-6348-45fb-b7a5-644223210aa2",
   "metadata": {},
   "outputs": [
    {
     "data": {
      "text/plain": [
       "(10.554244737450844, 7.011804421918092)"
      ]
     },
     "execution_count": 37,
     "metadata": {},
     "output_type": "execute_result"
    }
   ],
   "source": [
    "np.mean(L), np.std(L)"
   ]
  },
  {
   "cell_type": "code",
   "execution_count": 40,
   "id": "16fba6b3-1726-490b-9b59-8d939ee76d89",
   "metadata": {},
   "outputs": [
    {
     "data": {
      "text/plain": [
       "5"
      ]
     },
     "execution_count": 40,
     "metadata": {},
     "output_type": "execute_result"
    }
   ],
   "source": [
    "np.min(L)"
   ]
  },
  {
   "cell_type": "code",
   "execution_count": null,
   "id": "2303b3ee-c6f0-4999-8624-e504ab66c5eb",
   "metadata": {},
   "outputs": [],
   "source": []
  }
 ],
 "metadata": {
  "kernelspec": {
   "display_name": "Python 3",
   "language": "python",
   "name": "python3"
  },
  "language_info": {
   "codemirror_mode": {
    "name": "ipython",
    "version": 3
   },
   "file_extension": ".py",
   "mimetype": "text/x-python",
   "name": "python",
   "nbconvert_exporter": "python",
   "pygments_lexer": "ipython3",
   "version": "3.7.9"
  }
 },
 "nbformat": 4,
 "nbformat_minor": 5
}
