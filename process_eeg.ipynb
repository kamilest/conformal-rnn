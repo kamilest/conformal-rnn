{
 "cells": [
  {
   "cell_type": "code",
   "execution_count": 14,
   "id": "e8602d8b-cb7c-488b-9787-1e624204f8f2",
   "metadata": {},
   "outputs": [],
   "source": [
    "import gzip\n",
    "import os\n",
    "import pathlib"
   ]
  },
  {
   "cell_type": "code",
   "execution_count": 2,
   "id": "90e23e71-6bbe-4f82-a6a0-26b90ce48f4a",
   "metadata": {},
   "outputs": [],
   "source": [
    "eeg_root_train = 'data/eeg/SMNI_CMI_TRAIN'\n",
    "eeg_root_test = 'data/eeg/SMNI_CMI_TEST'"
   ]
  },
  {
   "cell_type": "code",
   "execution_count": 4,
   "id": "2b7cc7ff-094d-4417-b519-32a018177488",
   "metadata": {},
   "outputs": [
    {
     "data": {
      "text/plain": [
       "['co2a0000372',\n",
       " 'co2a0000375',\n",
       " 'co2c0000344',\n",
       " 'co2c0000342',\n",
       " 'co2c0000345',\n",
       " 'co2a0000368',\n",
       " 'co2a0000369',\n",
       " 'README',\n",
       " 'co2a0000370',\n",
       " 'co2a0000377',\n",
       " 'co2a0000378',\n",
       " 'co2a0000371',\n",
       " 'co2c0000340',\n",
       " 'co2c0000347',\n",
       " 'co2c0000346',\n",
       " 'co2c0000341',\n",
       " 'co2c0000337',\n",
       " 'co2c0000339',\n",
       " 'co2c0000338',\n",
       " 'co2a0000365',\n",
       " 'co2a0000364']"
      ]
     },
     "execution_count": 4,
     "metadata": {},
     "output_type": "execute_result"
    }
   ],
   "source": [
    "os.listdir(eeg_root_train)"
   ]
  },
  {
   "cell_type": "code",
   "execution_count": 15,
   "id": "46750971-3ad2-461d-8e87-83c1d52b834e",
   "metadata": {},
   "outputs": [],
   "source": []
  },
  {
   "cell_type": "code",
   "execution_count": 46,
   "id": "a79bfa77-f529-4fe6-b6b2-76c8959674c9",
   "metadata": {},
   "outputs": [],
   "source": [
    "def parse_eeg_file(filename):\n",
    "    with gzip.open(filename, 'rb') as f:\n",
    "        chans = {}\n",
    "        for line in f:\n",
    "            tokens = line.decode('ascii').split()\n",
    "            if tokens[0] == '25':\n",
    "                if tokens[1] not in chans.keys():\n",
    "                    chans[tokens[1]] = []\n",
    "                chans[tokens[1]].append(float(tokens[3]))\n",
    "        chan_arrays = []\n",
    "        for chan in chans.values():\n",
    "            chan_arrays.append(chan)\n",
    "    return chan_arrays"
   ]
  },
  {
   "cell_type": "code",
   "execution_count": 54,
   "id": "0883fce4-ca62-4072-ab7d-4349dd99345b",
   "metadata": {},
   "outputs": [],
   "source": [
    "def parse_eeg_dataset(root):\n",
    "    dataset = []\n",
    "    for folder in os.listdir(root):\n",
    "        if folder != 'README':\n",
    "            subfolder = os.path.join(root, folder)\n",
    "            for filename in os.listdir(subfolder):\n",
    "                f = os.path.join(subfolder, filename)\n",
    "                if '.gz' in pathlib.Path(f).suffixes:\n",
    "                    chan_arrays = parse_eeg_file(f)\n",
    "                    dataset.extend(chan_arrays)\n",
    "    return dataset"
   ]
  },
  {
   "cell_type": "code",
   "execution_count": 55,
   "id": "03fa168e-4de5-4c14-926e-9147e3f39e7b",
   "metadata": {},
   "outputs": [
    {
     "data": {
      "text/plain": [
       "256"
      ]
     },
     "execution_count": 55,
     "metadata": {},
     "output_type": "execute_result"
    }
   ],
   "source": [
    "len(parse_eeg_dataset(eeg_root_train))"
   ]
  },
  {
   "cell_type": "code",
   "execution_count": 56,
   "id": "f7d221d1-7b86-439a-a4b7-e45dbc5620e2",
   "metadata": {},
   "outputs": [],
   "source": [
    "train_chan_arrays = parse_eeg_dataset(eeg_root_train)"
   ]
  },
  {
   "cell_type": "code",
   "execution_count": 63,
   "id": "6c12f5d2-1ab7-4bba-8676-8f67f83becfc",
   "metadata": {},
   "outputs": [
    {
     "data": {
      "text/plain": [
       "896"
      ]
     },
     "execution_count": 63,
     "metadata": {},
     "output_type": "execute_result"
    }
   ],
   "source": [
    "len(train_chan_arrays)"
   ]
  },
  {
   "cell_type": "code",
   "execution_count": 58,
   "id": "6041bed7-a96b-49f1-833f-5b80b814162d",
   "metadata": {},
   "outputs": [],
   "source": [
    "import matplotlib.pyplot as plt"
   ]
  },
  {
   "cell_type": "code",
   "execution_count": 61,
   "id": "2c9bdf93-b3f6-4fe2-b43a-abda72ca2f9d",
   "metadata": {},
   "outputs": [
    {
     "data": {
      "text/plain": [
       "[<matplotlib.lines.Line2D at 0x7fa727810e50>]"
      ]
     },
     "execution_count": 61,
     "metadata": {},
     "output_type": "execute_result"
    },
    {
     "data": {
      "image/png": "[encoded data removed]",
      "text/plain": [
       "<Figure size 432x288 with 1 Axes>"
      ]
     },
     "metadata": {
      "needs_background": "light"
     },
     "output_type": "display_data"
    }
   ],
   "source": [
    "plt.plot(train_dataset[0])"
   ]
  },
  {
   "cell_type": "code",
   "execution_count": null,
   "id": "8b92aa24-7ebe-44a7-b358-3a52bc14064a",
   "metadata": {},
   "outputs": [],
   "source": []
  }
 ],
 "metadata": {
  "kernelspec": {
   "display_name": "Python 3",
   "language": "python",
   "name": "python3"
  },
  "language_info": {
   "codemirror_mode": {
    "name": "ipython",
    "version": 3
   },
   "file_extension": ".py",
   "mimetype": "text/x-python",
   "name": "python",
   "nbconvert_exporter": "python",
   "pygments_lexer": "ipython3",
   "version": "3.7.9"
  }
 },
 "nbformat": 4,
 "nbformat_minor": 5
}
