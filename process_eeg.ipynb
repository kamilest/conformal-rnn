{
 "cells": [
  {
   "cell_type": "code",
   "execution_count": 14,
   "id": "e8602d8b-cb7c-488b-9787-1e624204f8f2",
   "metadata": {},
   "outputs": [],
   "source": [
    "import gzip\n",
    "import os\n",
    "import pathlib\n",
    "\n",
    "import matplotlib.pyplot as plt"
   ]
  },
  {
   "cell_type": "code",
   "execution_count": 56,
   "id": "f7d221d1-7b86-439a-a4b7-e45dbc5620e2",
   "metadata": {},
   "outputs": [],
   "source": [
    "train_chan_arrays = parse_eeg_dataset(eeg_root_train)"
   ]
  },
  {
   "cell_type": "code",
   "execution_count": 61,
   "id": "2c9bdf93-b3f6-4fe2-b43a-abda72ca2f9d",
   "metadata": {},
   "outputs": [
    {
     "data": {
      "text/plain": [
       "[<matplotlib.lines.Line2D at 0x7fa727810e50>]"
      ]
     },
     "execution_count": 61,
     "metadata": {},
     "output_type": "execute_result"
    },
    {
     "data": {
      "image/png": "[encoded data removed]",
      "text/plain": [
       "<Figure size 432x288 with 1 Axes>"
      ]
     },
     "metadata": {
      "needs_background": "light"
     },
     "output_type": "display_data"
    }
   ],
   "source": [
    "plt.plot(train_dataset[0])"
   ]
  },
  {
   "cell_type": "code",
   "execution_count": 65,
   "id": "79614e2a-8f0d-4eb8-8832-fa1aa203a087",
   "metadata": {},
   "outputs": [],
   "source": [
    "import pickle"
   ]
  },
  {
   "cell_type": "code",
   "execution_count": 66,
   "id": "8b92aa24-7ebe-44a7-b358-3a52bc14064a",
   "metadata": {},
   "outputs": [],
   "source": [
    " with open('data/mimic.p', 'rb') as f:\n",
    "        MIMIC_data = pickle.load(f)"
   ]
  },
  {
   "cell_type": "code",
   "execution_count": 69,
   "id": "7f40122f-8983-42d7-8520-93956c1aa7b6",
   "metadata": {},
   "outputs": [
    {
     "data": {
      "text/plain": [
       "dict_keys(['longitudinal', 'static', 'trajectory_lengths'])"
      ]
     },
     "execution_count": 69,
     "metadata": {},
     "output_type": "execute_result"
    }
   ],
   "source": [
    "MIMIC_data.keys()"
   ]
  },
  {
   "cell_type": "code",
   "execution_count": 72,
   "id": "fdce57a6-97ef-467f-8220-54213fd97198",
   "metadata": {},
   "outputs": [
    {
     "data": {
      "text/plain": [
       "(5833, 50, 28)"
      ]
     },
     "execution_count": 72,
     "metadata": {},
     "output_type": "execute_result"
    }
   ],
   "source": [
    "MIMIC_data['longitudinal'].shape"
   ]
  },
  {
   "cell_type": "code",
   "execution_count": 73,
   "id": "94bf5e17-9b10-49ac-b44e-22c25ad1f5a7",
   "metadata": {},
   "outputs": [
    {
     "name": "stdout",
     "output_type": "stream",
     "text": [
      "29\n"
     ]
    }
   ],
   "source": [
    "feature_names = ['temphigh', 'heartratehigh', 'sysbplow', 'diasbplow',\n",
    "                     'meanbplow', 'spo2high',\n",
    "                     'fio2high', 'respratelow', 'glucoselow', 'bicarbonatehigh',\n",
    "                     'bicarbonatelow', 'creatininehigh', 'creatininelow',\n",
    "                     'hematocrithigh',\n",
    "                     'hematocritlow', 'hemoglobinhigh', 'hemoglobinlow',\n",
    "                     'platelethigh',\n",
    "                     'plateletlow', 'potassiumlow', 'potassiumhigh', 'bunhigh',\n",
    "                     'bunlow',\n",
    "                     'wbchigh', 'wbclow', 'antibiotics', 'norepinephrine',\n",
    "                     'mechanical_ventilator'\n",
    "                     'age', 'weight']\n",
    "print(len(feature_names))"
   ]
  },
  {
   "cell_type": "code",
   "execution_count": 82,
   "id": "f052471a-2dbf-446d-88b0-5b5b7f921a85",
   "metadata": {},
   "outputs": [],
   "source": [
    "import numpy as np"
   ]
  },
  {
   "cell_type": "code",
   "execution_count": 83,
   "id": "68cbd069-45de-4e94-93be-11367bd18681",
   "metadata": {},
   "outputs": [
    {
     "data": {
      "text/plain": [
       "8.833704783130464"
      ]
     },
     "execution_count": 83,
     "metadata": {},
     "output_type": "execute_result"
    }
   ],
   "source": [
    "np.mean(MIMIC_data['trajectory_lengths'])"
   ]
  },
  {
   "cell_type": "code",
   "execution_count": 75,
   "id": "83fac813-1162-4725-b91d-b05ffb491a2a",
   "metadata": {},
   "outputs": [],
   "source": [
    "from utils.mimic_data_processing import process_MIMIC_data"
   ]
  },
  {
   "cell_type": "code",
   "execution_count": 76,
   "id": "a35372c9-36ed-469e-8a1c-99fe5ffc719d",
   "metadata": {},
   "outputs": [],
   "source": [
    "X_, Y_, T_, L, feature_names = process_MIMIC_data()"
   ]
  },
  {
   "cell_type": "code",
   "execution_count": 80,
   "id": "6e56ccd5-8603-42b9-9147-9350717e27e2",
   "metadata": {},
   "outputs": [
    {
     "data": {
      "text/plain": [
       "array([[ 2.29027669,  3.39571048,  1.92084313,  2.6162321 ,  2.2673646 ,\n",
       "         2.17745592,  3.66632584,  2.47124705,  2.84493661,  1.29015477,\n",
       "         1.34930826,  0.84917877,  0.68311168,  2.5399749 ,  2.60647107,\n",
       "         2.32860357,  2.38804373,  3.09512095,  2.51720403,  1.62505779,\n",
       "         1.89167086,  0.65755071,  0.65755071,  2.5860554 ,  1.47692368,\n",
       "         2.99880056, -0.16873673,  3.21954908, -1.3826081 , -0.6230196 ],\n",
       "       [ 2.18153977,  2.90542233,  2.42766821,  3.52976298,  3.10341544,\n",
       "         2.17745592,  1.20923978,  1.50184637,  2.73616352,  1.4837812 ,\n",
       "         1.5493241 ,  0.73224078,  0.80875161,  1.86642466,  1.81626312,\n",
       "         1.67805891,  1.71742073,  1.60223584,  1.42807254,  2.49873577,\n",
       "         2.26251961,  0.95483518,  0.95483518,  0.84125116,  0.64923541,\n",
       "         2.99880056, -0.16873673,  3.21954908, -1.3826081 , -0.6230196 ],\n",
       "       [ 2.14658861,  2.41513418,  2.66774324,  4.06713409,  3.60504595,\n",
       "         2.17745592,  1.20923978,  0.97308237,  2.14878882,  1.87103404,\n",
       "         1.94935577,  0.96611676,  1.06003146,  2.10821193,  1.78932421,\n",
       "         1.8862332 ,  1.95884501,  1.96890937,  2.02620212,  2.70035377,\n",
       "         2.44794399,  1.31157654,  1.31157654,  0.75401095,  0.83734638,\n",
       "         2.99880056,  5.92639185,  3.21954908, -1.3826081 , -0.6230196 ],\n",
       "       [ 2.09610361,  3.37119607,  0.74714296,  0.19806211,  0.63706544,\n",
       "         2.17745592,  3.66632584,  0.97308237,  2.27931653,  2.06466047,\n",
       "         0.14921324,  1.55080672,  1.06003146,  2.59178645,  2.04973365,\n",
       "         2.04236392,  1.82472041,  2.15224614,  1.37450869,  1.96108778,\n",
       "         3.31325773,  2.02505926,  2.02505926,  3.2839771 ,  1.17594613,\n",
       "         2.99880056, -0.16873673, -0.3106025 , -1.3826081 , -0.6230196 ]])"
      ]
     },
     "execution_count": 80,
     "metadata": {},
     "output_type": "execute_result"
    }
   ],
   "source": [
    "X_[0]"
   ]
  },
  {
   "cell_type": "code",
   "execution_count": 81,
   "id": "555e4f00-224a-4670-b618-d91abee6d992",
   "metadata": {},
   "outputs": [
    {
     "data": {
      "text/plain": [
       "array([ 7. ,  6.5, 21. , 21. ])"
      ]
     },
     "execution_count": 81,
     "metadata": {},
     "output_type": "execute_result"
    }
   ],
   "source": [
    "Y_[0]"
   ]
  },
  {
   "cell_type": "code",
   "execution_count": 85,
   "id": "7e46af73-4572-4673-a148-ec0f2f0443bd",
   "metadata": {},
   "outputs": [
    {
     "data": {
      "text/plain": [
       "(5833, 2)"
      ]
     },
     "execution_count": 85,
     "metadata": {},
     "output_type": "execute_result"
    }
   ],
   "source": [
    "MIMIC_data['static'].shape"
   ]
  },
  {
   "cell_type": "code",
   "execution_count": 87,
   "id": "0188cce0-cdca-4d99-be7c-0732b6ff195b",
   "metadata": {},
   "outputs": [
    {
     "data": {
      "text/plain": [
       "'antibiotics'"
      ]
     },
     "execution_count": 87,
     "metadata": {},
     "output_type": "execute_result"
    }
   ],
   "source": [
    "feature_names[25]"
   ]
  },
  {
   "cell_type": "code",
   "execution_count": 89,
   "id": "b63b4026-afe9-4379-b1b3-0a5d61cc09f1",
   "metadata": {},
   "outputs": [],
   "source": [
    "from sklearn.preprocessing import StandardScaler"
   ]
  },
  {
   "cell_type": "code",
   "execution_count": 90,
   "id": "857d30af-c2a9-46e0-9b76-a3c35ff56a9b",
   "metadata": {},
   "outputs": [],
   "source": [
    "feature_names = ['temphigh', 'heartratehigh', 'sysbplow', 'diasbplow',\n",
    "                     'meanbplow', 'spo2high',\n",
    "                     'fio2high', 'respratelow', 'glucoselow', 'bicarbonatehigh',\n",
    "                     'bicarbonatelow', 'creatininehigh', 'creatininelow',\n",
    "                     'hematocrithigh',\n",
    "                     'hematocritlow', 'hemoglobinhigh', 'hemoglobinlow',\n",
    "                     'platelethigh',\n",
    "                     'plateletlow', 'potassiumlow', 'potassiumhigh', 'bunhigh',\n",
    "                     'bunlow',\n",
    "                     'wbchigh', 'wbclow', 'antibiotics', 'norepinephrine',\n",
    "                     'mechanical_ventilator'\n",
    "                     'age', 'weight']\n",
    "\n",
    "with open('data/mimic.p', 'rb') as f:\n",
    "    MIMIC_data = pickle.load(f)\n",
    "\n",
    "XX = MIMIC_data[\"longitudinal\"][:, :, :]\n",
    "static = np.repeat(MIMIC_data['static'].reshape((-1, 1, 2)), XX.shape[1],\n",
    "                   axis=1)  # append age and weight features\n",
    "\n",
    "X = np.concatenate((XX, static), axis=2)  # MIMIC_data[\"longitudinal\"][:,\n",
    "# :, :] #list(set(list(range(28))) - set([23, 24, 25]))]\n",
    "Y = MIMIC_data[\"longitudinal\"][:, :, 23]  # 'wbchigh'\n",
    "T = MIMIC_data[\"longitudinal\"][:, :, 25]  # 'antibiotics'\n",
    "L = MIMIC_data['trajectory_lengths']\n",
    "\n",
    "scaler = StandardScaler()\n",
    "X_unrolled = X.reshape((X.shape[0] * X.shape[1], X.shape[2]))\n",
    "X_unrolled = scaler.fit_transform(X_unrolled)\n",
    "X_rerolled = X_unrolled.reshape((X.shape[0], X.shape[1], X.shape[2]))\n",
    "X_ = [X_rerolled[k, :L[k] - 1, :] for k in range(X_rerolled.shape[0])]\n",
    "Y_ = [Y[k, 1:L[k]] for k in range(Y.shape[0])]\n",
    "T_ = [T[k, :L[k]] for k in range(T.shape[0])]"
   ]
  },
  {
   "cell_type": "code",
   "execution_count": 92,
   "id": "25a80365-f567-42fb-b165-1835e831d4da",
   "metadata": {},
   "outputs": [
    {
     "data": {
      "text/plain": [
       "array([17. ,  7. ,  6.5, 21. , 21. ,  0. ,  0. ,  0. ,  0. ,  0. ,  0. ,\n",
       "        0. ,  0. ,  0. ,  0. ,  0. ,  0. ,  0. ,  0. ,  0. ,  0. ,  0. ,\n",
       "        0. ,  0. ,  0. ,  0. ,  0. ,  0. ,  0. ,  0. ,  0. ,  0. ,  0. ,\n",
       "        0. ,  0. ,  0. ,  0. ,  0. ,  0. ,  0. ,  0. ,  0. ,  0. ,  0. ,\n",
       "        0. ,  0. ,  0. ,  0. ,  0. ,  0. ])"
      ]
     },
     "execution_count": 92,
     "metadata": {},
     "output_type": "execute_result"
    }
   ],
   "source": [
    "Y[0]"
   ]
  },
  {
   "cell_type": "code",
   "execution_count": 93,
   "id": "7c166747-4479-48b8-ac83-d83fc941f2b4",
   "metadata": {},
   "outputs": [
    {
     "data": {
      "text/plain": [
       "5"
      ]
     },
     "execution_count": 93,
     "metadata": {},
     "output_type": "execute_result"
    }
   ],
   "source": [
    "L[0]"
   ]
  },
  {
   "cell_type": "code",
   "execution_count": 114,
   "id": "12ac81bc-7552-4590-ad03-78aabca775ea",
   "metadata": {},
   "outputs": [
    {
     "data": {
      "text/plain": [
       "array([15.1, 17. , 15.9, 12. ])"
      ]
     },
     "execution_count": 114,
     "metadata": {},
     "output_type": "execute_result"
    }
   ],
   "source": [
    "Y_[1]"
   ]
  },
  {
   "cell_type": "code",
   "execution_count": 97,
   "id": "924a0fcb-af7a-4296-b6cb-0481695c0817",
   "metadata": {},
   "outputs": [
    {
     "data": {
      "text/plain": [
       "(30,)"
      ]
     },
     "execution_count": 97,
     "metadata": {},
     "output_type": "execute_result"
    }
   ],
   "source": [
    "X[0][23].shape"
   ]
  },
  {
   "cell_type": "code",
   "execution_count": 112,
   "id": "fd20b4db-dbbe-457f-8f43-c52645234b17",
   "metadata": {},
   "outputs": [
    {
     "data": {
      "text/plain": [
       "4323"
      ]
     },
     "execution_count": 112,
     "metadata": {},
     "output_type": "execute_result"
    }
   ],
   "source": [
    "len(np.where(L>4)[0])"
   ]
  },
  {
   "cell_type": "code",
   "execution_count": 110,
   "id": "8705b474-253e-46ee-a33a-682a3cdcea21",
   "metadata": {},
   "outputs": [
    {
     "data": {
      "text/plain": [
       "array([2.5860554 , 0.84125116, 0.75401095, 3.2839771 ])"
      ]
     },
     "execution_count": 110,
     "metadata": {},
     "output_type": "execute_result"
    }
   ],
   "source": [
    "X_[0][:, 23]"
   ]
  },
  {
   "cell_type": "markdown",
   "id": "c01dfc34-a423-4e21-82f3-ae4a2f8e8eb6",
   "metadata": {},
   "source": [
    "4323 patients with 5+ observed values; use small horizon of 2 values\n",
    "* split patients into training/calibration/test groups: 2800/1823/500 or 3823/500"
   ]
  },
  {
   "cell_type": "code",
   "execution_count": 119,
   "id": "0b41dfad-87a6-49a1-9891-41ed0d5eabec",
   "metadata": {},
   "outputs": [
    {
     "data": {
      "text/plain": [
       "array([17. ,  7. ,  6.5, 21. , 21. ,  0. ,  0. ,  0. ,  0. ,  0. ,  0. ,\n",
       "        0. ,  0. ,  0. ,  0. ,  0. ,  0. ,  0. ,  0. ,  0. ,  0. ,  0. ,\n",
       "        0. ,  0. ,  0. ,  0. ,  0. ,  0. ,  0. ,  0. ,  0. ,  0. ,  0. ,\n",
       "        0. ,  0. ,  0. ,  0. ,  0. ,  0. ,  0. ,  0. ,  0. ,  0. ,  0. ,\n",
       "        0. ,  0. ,  0. ,  0. ,  0. ,  0. ])"
      ]
     },
     "execution_count": 119,
     "metadata": {},
     "output_type": "execute_result"
    }
   ],
   "source": [
    "X[0][:, 23]"
   ]
  },
  {
   "cell_type": "code",
   "execution_count": 113,
   "id": "8e96feda-2cb9-4504-b03a-6af70e04a8ac",
   "metadata": {},
   "outputs": [
    {
     "data": {
      "text/plain": [
       "3823"
      ]
     },
     "execution_count": 113,
     "metadata": {},
     "output_type": "execute_result"
    }
   ],
   "source": [
    "4323 - 500"
   ]
  },
  {
   "cell_type": "code",
   "execution_count": 115,
   "id": "bec06198-911c-4b84-9b47-7b7d36b45a5b",
   "metadata": {},
   "outputs": [
    {
     "data": {
      "text/plain": [
       "(5833, 50, 30)"
      ]
     },
     "execution_count": 115,
     "metadata": {},
     "output_type": "execute_result"
    }
   ],
   "source": [
    "X.shape"
   ]
  },
  {
   "cell_type": "code",
   "execution_count": 117,
   "id": "cc40dacf-7654-476f-acaa-3fcb7678939c",
   "metadata": {},
   "outputs": [
    {
     "data": {
      "text/plain": [
       "array([ 7. ,  6.5, 21. , 21. ])"
      ]
     },
     "execution_count": 117,
     "metadata": {},
     "output_type": "execute_result"
    }
   ],
   "source": [
    "Y_[0]"
   ]
  },
  {
   "cell_type": "code",
   "execution_count": 118,
   "id": "b9a71188-814b-4b79-ad3e-856ace1b4348",
   "metadata": {},
   "outputs": [
    {
     "data": {
      "text/plain": [
       "array([17. ,  7. ,  6.5, 21. , 21. ,  0. ,  0. ,  0. ,  0. ,  0. ,  0. ,\n",
       "        0. ,  0. ,  0. ,  0. ,  0. ,  0. ,  0. ,  0. ,  0. ,  0. ,  0. ,\n",
       "        0. ,  0. ,  0. ,  0. ,  0. ,  0. ,  0. ,  0. ,  0. ,  0. ,  0. ,\n",
       "        0. ,  0. ,  0. ,  0. ,  0. ,  0. ,  0. ,  0. ,  0. ,  0. ,  0. ,\n",
       "        0. ,  0. ,  0. ,  0. ,  0. ,  0. ])"
      ]
     },
     "execution_count": 118,
     "metadata": {},
     "output_type": "execute_result"
    }
   ],
   "source": [
    "Y[0]"
   ]
  },
  {
   "cell_type": "code",
   "execution_count": 121,
   "id": "bdbaeb1b-b0a0-4908-ae9a-059d76e59e9f",
   "metadata": {},
   "outputs": [
    {
     "data": {
      "text/plain": [
       "23"
      ]
     },
     "execution_count": 121,
     "metadata": {},
     "output_type": "execute_result"
    }
   ],
   "source": [
    "feature_names.index('wbchigh')"
   ]
  },
  {
   "cell_type": "code",
   "execution_count": 128,
   "id": "79d1a05c-66d4-4b31-8da7-207c3ad42278",
   "metadata": {},
   "outputs": [],
   "source": [
    "horizon=2\n",
    "a = []\n",
    "b = []\n",
    "for k in np.where(L > 5)[0]:\n",
    "    a.append(Y[k, :L[k]-horizon])\n",
    "    b.append(Y[k, L[k]-horizon:L[k]])"
   ]
  },
  {
   "cell_type": "code",
   "execution_count": 133,
   "id": "b9996e0c-6f2a-4728-8b0a-c05fa9cdba20",
   "metadata": {},
   "outputs": [
    {
     "data": {
      "text/plain": [
       "302.5"
      ]
     },
     "execution_count": 133,
     "metadata": {},
     "output_type": "execute_result"
    }
   ],
   "source": [
    "A.max()"
   ]
  },
  {
   "cell_type": "code",
   "execution_count": 135,
   "id": "6ba39d3a-ee00-46a5-84c2-a925268264cb",
   "metadata": {},
   "outputs": [
    {
     "data": {
      "text/plain": [
       "13.5"
      ]
     },
     "execution_count": 135,
     "metadata": {},
     "output_type": "execute_result"
    }
   ],
   "source": [
    "B.max()"
   ]
  },
  {
   "cell_type": "code",
   "execution_count": 149,
   "id": "6f027bef-b91c-4a5f-8bf1-664562dcc480",
   "metadata": {},
   "outputs": [
    {
     "data": {
      "text/plain": [
       "array([13.4,  8.5])"
      ]
     },
     "execution_count": 149,
     "metadata": {},
     "output_type": "execute_result"
    }
   ],
   "source": []
  },
  {
   "cell_type": "code",
   "execution_count": 141,
   "id": "083866bb-0185-4331-841c-670ddb629367",
   "metadata": {},
   "outputs": [
    {
     "data": {
      "text/plain": [
       "array([[17. ,  7. ,  6.5, ...,  0. ,  0. ,  0. ],\n",
       "       [15.8, 15.1, 17. , ...,  0. ,  0. ,  0. ],\n",
       "       [ 9.9, 10.7,  9.2, ...,  0. ,  0. ,  0. ],\n",
       "       ...,\n",
       "       [15.4, 11.1,  9.6, ...,  0. ,  0. ,  0. ],\n",
       "       [ 9. ,  7.5,  7.1, ...,  0. ,  0. ,  0. ],\n",
       "       [95.4, 84.4, 74.2, ...,  0. ,  0. ,  0. ]])"
      ]
     },
     "execution_count": 141,
     "metadata": {},
     "output_type": "execute_result"
    }
   ],
   "source": [
    "Y"
   ]
  },
  {
   "cell_type": "code",
   "execution_count": 142,
   "id": "bc10d2b0-6ba2-4712-90ff-1e483090d0c5",
   "metadata": {},
   "outputs": [],
   "source": [
    "scaler = StandardScaler()"
   ]
  },
  {
   "cell_type": "code",
   "execution_count": 138,
   "id": "cefb890b-4ca2-48b4-919e-444f9006c5c4",
   "metadata": {},
   "outputs": [],
   "source": [
    "Y_scaled = scaler.fit_transform(Y)"
   ]
  },
  {
   "cell_type": "code",
   "execution_count": 139,
   "id": "f0f0beaa-4948-41b2-9790-1a4b0b85a240",
   "metadata": {},
   "outputs": [
    {
     "data": {
      "text/plain": [
       "array([[ 0.29103029, -0.73859044, -0.70754806, ..., -0.01803265,\n",
       "        -0.01309457,  0.        ],\n",
       "       [ 0.17082964,  0.31550957,  0.68262512, ..., -0.01803265,\n",
       "        -0.01309457,  0.        ],\n",
       "       [-0.42015693, -0.25708797, -0.35007495, ..., -0.01803265,\n",
       "        -0.01309457,  0.        ],\n",
       "       ...,\n",
       "       [ 0.13076275, -0.20503365, -0.29711598, ..., -0.01803265,\n",
       "        -0.01309457,  0.        ],\n",
       "       [-0.51030743, -0.67352254, -0.62810959, ..., -0.01803265,\n",
       "        -0.01309457,  0.        ],\n",
       "       [ 8.14413997,  9.33392073,  8.255759  , ..., -0.01803265,\n",
       "        -0.01309457,  0.        ]])"
      ]
     },
     "execution_count": 139,
     "metadata": {},
     "output_type": "execute_result"
    }
   ],
   "source": [
    "Y_scaled"
   ]
  },
  {
   "cell_type": "code",
   "execution_count": 150,
   "id": "320dd9be-5f0c-4685-b068-677c5de4ce2d",
   "metadata": {},
   "outputs": [],
   "source": [
    "%load_ext autoreload\n",
    "%autoreload 2"
   ]
  },
  {
   "cell_type": "code",
   "execution_count": 151,
   "id": "418b0da7-a749-471e-9fec-9bca56da50ec",
   "metadata": {},
   "outputs": [
    {
     "ename": "ImportError",
     "evalue": "cannot import name 'split_MIMIC_data' from 'utils.mimic_data_processing' (/Users/kamilestankeviciute/Documents/Oxford/dissertation/conformal-rnn/utils/mimic_data_processing.py)",
     "output_type": "error",
     "traceback": [
      "\u001b[0;31m---------------------------------------------------------------------------\u001b[0m",
      "\u001b[0;31mImportError\u001b[0m                               Traceback (most recent call last)",
      "\u001b[0;32m<ipython-input-151-687df4b931e0>\u001b[0m in \u001b[0;36m<module>\u001b[0;34m\u001b[0m\n\u001b[0;32m----> 1\u001b[0;31m \u001b[0;32mfrom\u001b[0m \u001b[0mutils\u001b[0m\u001b[0;34m.\u001b[0m\u001b[0mmimic_data_processing\u001b[0m \u001b[0;32mimport\u001b[0m \u001b[0msplit_MIMIC_data\u001b[0m\u001b[0;34m\u001b[0m\u001b[0;34m\u001b[0m\u001b[0m\n\u001b[0m",
      "\u001b[0;31mImportError\u001b[0m: cannot import name 'split_MIMIC_data' from 'utils.mimic_data_processing' (/Users/kamilestankeviciute/Documents/Oxford/dissertation/conformal-rnn/utils/mimic_data_processing.py)"
     ]
    }
   ],
   "source": [
    "from utils.mimic_data_processing import split_MIMIC_data"
   ]
  },
  {
   "cell_type": "code",
   "execution_count": null,
   "id": "26472072-0414-490a-9d75-dccd27fc84d0",
   "metadata": {},
   "outputs": [],
   "source": []
  }
 ],
 "metadata": {
  "kernelspec": {
   "display_name": "Python 3",
   "language": "python",
   "name": "python3"
  },
  "language_info": {
   "codemirror_mode": {
    "name": "ipython",
    "version": 3
   },
   "file_extension": ".py",
   "mimetype": "text/x-python",
   "name": "python",
   "nbconvert_exporter": "python",
   "pygments_lexer": "ipython3",
   "version": "3.7.9"
  }
 },
 "nbformat": 4,
 "nbformat_minor": 5
}
