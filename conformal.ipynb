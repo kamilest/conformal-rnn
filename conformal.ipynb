{
 "cells": [
  {
   "cell_type": "code",
   "execution_count": 4,
   "id": "mediterranean-privilege",
   "metadata": {},
   "outputs": [],
   "source": [
    "%load_ext autoreload\n",
    "%autoreload 2"
   ]
  },
  {
   "cell_type": "code",
   "execution_count": 9,
   "id": "governmental-miller",
   "metadata": {},
   "outputs": [],
   "source": [
    "import torch\n",
    "import numpy as np\n",
    "import matplotlib.pyplot as plt"
   ]
  },
  {
   "cell_type": "markdown",
   "id": "former-complement",
   "metadata": {},
   "source": [
    "## Plotting helper functions"
   ]
  },
  {
   "cell_type": "code",
   "execution_count": 889,
   "id": "mysterious-bedroom",
   "metadata": {},
   "outputs": [],
   "source": [
    "def plot_miscoverage_examples(test_dataset, coverages, intervals):\n",
    "    miscovered_idx = torch.nonzero(~coverages, as_tuple=False)[:, 0].tolist()\n",
    "    fig, axs = plt.subplots(5, 2, figsize=(10, 10), sharey=True)\n",
    "\n",
    "    for ax in axs.flat:\n",
    "        i = np.random.choice(miscovered_idx)\n",
    "        ax.fill_between(range(test_dataset[i][1].size(0)),\n",
    "                         intervals[i, 0].flatten().tolist(), \n",
    "                         intervals[i, 1].flatten().tolist(), \n",
    "                         color=\"r\", alpha=0.25)\n",
    "        ax.plot(intervals[i, 0].flatten().tolist(), linestyle=\"--\", color=\"r\")\n",
    "        ax.plot(intervals[i, 1].flatten().tolist(), linestyle=\"--\", color=\"r\")\n",
    "        ax.plot((intervals[i, 0] + (intervals[i, 1] - intervals[i, 0]) / 2).flatten().tolist(), linestyle=\"--\", linewidth=3, color=\"r\")\n",
    "\n",
    "        ax.scatter(range(test_dataset[i][1].size(0)), test_dataset[i][1].flatten().tolist(), color=\"black\")\n",
    "\n",
    "        ax.set(xlabel='Time step', ylabel='Prediction')\n",
    "    plt.show()\n",
    "    \n",
    "def plot_ts(dataset, coverages, intervals, idx=None, forecast_only=False):\n",
    "    fig, axs = plt.subplots(nrows=5, ncols=1, figsize=(12, 8), sharex=True)\n",
    "    \n",
    "    if idx is None:\n",
    "        idx = range(len(dataset))\n",
    "\n",
    "    for ax in axs.flat:\n",
    "        i = np.random.choice(idx)\n",
    "        \n",
    "        # Derive unpadded sequences and targets\n",
    "        sequence, target, length = dataset[i]\n",
    "        \n",
    "        horizon = min(len(target), length)\n",
    "        sequence, target = sequence[:length].flatten().tolist(), target[:horizon].flatten().tolist()\n",
    "        \n",
    "        if not forecast_only:\n",
    "            # (Scatter)plot of the time series\n",
    "            ax.plot(range(1, length+1), sequence, color=\"black\")\n",
    "            \n",
    "            # Prediction start vertical\n",
    "            ax.axvline(length, linestyle=\"--\", color=\"black\")\n",
    "        \n",
    "        ax.scatter(range(length + 1, length + horizon + 1), target, color=\"black\")\n",
    "        \n",
    "        # Interval boundaries\n",
    "        lower = [sequence[-1]] + intervals[i, 0].flatten().tolist()[:horizon]\n",
    "        upper = [sequence[-1]] + intervals[i, 1].flatten().tolist()[:horizon]\n",
    "        pred = [sequence[-1]] + (intervals[i, 0] + (intervals[i, 1] - intervals[i, 0]) / 2).flatten().tolist()[:horizon]\n",
    "        \n",
    "        ax.fill_between(range(length, length + horizon + 1), lower, upper, color=\"r\", alpha=0.25)\n",
    "        ax.plot(range(length, length + horizon + 1), lower, linestyle=\"--\", color=\"r\")\n",
    "        ax.plot(range(length, length + horizon + 1), upper, linestyle=\"--\", color=\"r\")\n",
    "        ax.plot(range(length, length + horizon + 1), pred, linestyle=\"--\", linewidth=3, color=\"r\")\n",
    "\n",
    "        ax.set(ylabel='Prediction')\n",
    "    \n",
    "    plt.xlabel('Time step')\n",
    "    #     plt.ylabel('Prediction')\n",
    "    plt.show()"
   ]
  },
  {
   "cell_type": "markdown",
   "id": "sticky-spoke",
   "metadata": {},
   "source": [
    "## Hyperparameters"
   ]
  },
  {
   "cell_type": "code",
   "execution_count": 963,
   "id": "indian-anime",
   "metadata": {},
   "outputs": [],
   "source": [
    "# Dataset size\n",
    "n_train_samples = 1000\n",
    "n_calibration_samples = 1000\n",
    "n_test_samples = 500\n",
    "\n",
    "# Time series parameters\n",
    "seq_len = 10\n",
    "horizon = 5\n",
    "noise_profile = [0.1 * k for k in range(seq_len + horizon)]\n",
    "periodicity = 2\n",
    "amplitude = 1\n",
    "dynamic_sequence_lengths=False\n",
    "\n",
    "# LSTM parameters\n",
    "epochs=1000\n",
    "batch_size=100\n",
    "embedding_size=20\n",
    "coverage=0.9\n",
    "lr=0.01"
   ]
  },
  {
   "cell_type": "markdown",
   "id": "reflected-scanner",
   "metadata": {},
   "source": [
    "## Generate datasets"
   ]
  },
  {
   "cell_type": "code",
   "execution_count": 964,
   "id": "focal-portfolio",
   "metadata": {},
   "outputs": [],
   "source": [
    "from utils.make_data import generate_autoregressive_forecast_dataset\n",
    "train_dataset = generate_autoregressive_forecast_dataset(n_samples=n_train_samples, \n",
    "                                                               seq_len=seq_len, \n",
    "                                                               horizon=horizon, \n",
    "                                                               periodicity=periodicity,\n",
    "                                                               noise_profile=noise_profile, \n",
    "                                                               amplitude=amplitude,\n",
    "                                                               dynamic_sequence_lengths=dynamic_sequence_lengths)\n",
    "calibration_dataset = generate_autoregressive_forecast_dataset(n_samples=n_calibration_samples, \n",
    "                                                               seq_len=seq_len, \n",
    "                                                               horizon=horizon, \n",
    "                                                               periodicity=periodicity,\n",
    "                                                               noise_profile=noise_profile, \n",
    "                                                               amplitude=amplitude,\n",
    "                                                               dynamic_sequence_lengths=dynamic_sequence_lengths)\n",
    "test_dataset = generate_autoregressive_forecast_dataset(n_samples=n_test_samples, \n",
    "                                                               seq_len=seq_len, \n",
    "                                                               horizon=horizon, \n",
    "                                                               periodicity=periodicity,\n",
    "                                                               noise_profile=noise_profile, \n",
    "                                                               amplitude=amplitude,\n",
    "                                                               dynamic_sequence_lengths=dynamic_sequence_lengths)"
   ]
  },
  {
   "cell_type": "markdown",
   "id": "sacred-assembly",
   "metadata": {},
   "source": [
    "## Conformal forecaster"
   ]
  },
  {
   "cell_type": "code",
   "execution_count": 965,
   "id": "center-forty",
   "metadata": {},
   "outputs": [],
   "source": [
    "from models.conformal import ConformalForecaster\n",
    "model = ConformalForecaster(embedding_size=embedding_size, horizon=horizon, error_rate=1-coverage)"
   ]
  },
  {
   "cell_type": "code",
   "execution_count": 966,
   "id": "tight-oracle",
   "metadata": {},
   "outputs": [
    {
     "name": "stdout",
     "output_type": "stream",
     "text": [
      "Epoch: 0\tTrain loss: 90.03600997924805\n",
      "Epoch: 50\tTrain loss: 16.06012830734253\n",
      "Epoch: 100\tTrain loss: 13.419668865203857\n",
      "Epoch: 150\tTrain loss: 12.036290264129638\n",
      "Epoch: 200\tTrain loss: 10.706856536865235\n",
      "Epoch: 250\tTrain loss: 9.539083862304688\n",
      "Epoch: 300\tTrain loss: 8.627713441848755\n",
      "Epoch: 350\tTrain loss: 8.575873565673827\n",
      "Epoch: 400\tTrain loss: 8.18711452484131\n",
      "Epoch: 450\tTrain loss: 7.170155477523804\n",
      "Epoch: 500\tTrain loss: 7.597601652145386\n",
      "Epoch: 550\tTrain loss: 8.1293475151062\n",
      "Epoch: 600\tTrain loss: 6.668988990783691\n",
      "Epoch: 650\tTrain loss: 6.817715740203857\n",
      "Epoch: 700\tTrain loss: 6.375599479675293\n",
      "Epoch: 750\tTrain loss: 6.400059652328491\n",
      "Epoch: 800\tTrain loss: 6.817319059371949\n",
      "Epoch: 850\tTrain loss: 7.949629306793213\n",
      "Epoch: 900\tTrain loss: 6.128638410568238\n",
      "Epoch: 950\tTrain loss: 6.272935771942139\n"
     ]
    }
   ],
   "source": [
    "model.fit(train_dataset, calibration_dataset, epochs=epochs, lr=lr, batch_size=batch_size)"
   ]
  },
  {
   "cell_type": "markdown",
   "id": "authentic-flower",
   "metadata": {},
   "source": [
    "## Coverage evaluation"
   ]
  },
  {
   "cell_type": "code",
   "execution_count": 967,
   "id": "aggregate-weapon",
   "metadata": {},
   "outputs": [
    {
     "name": "stdout",
     "output_type": "stream",
     "text": [
      "% of series within predicted intervals: 0.9200000166893005\n"
     ]
    }
   ],
   "source": [
    "coverages, intervals = model.evaluate_coverage(test_dataset)\n",
    "print('% of series within predicted intervals: {}'.format(torch.mean(coverages.float(), dim=0).item()))"
   ]
  },
  {
   "cell_type": "markdown",
   "id": "optional-astrology",
   "metadata": {},
   "source": [
    "## Plotting"
   ]
  },
  {
   "cell_type": "code",
   "execution_count": 968,
   "id": "toxic-defendant",
   "metadata": {},
   "outputs": [
    {
     "data": {
      "image/png": "[encoded data removed]",
      "text/plain": [
       "<Figure size 864x576 with 5 Axes>"
      ]
     },
     "metadata": {
      "needs_background": "light"
     },
     "output_type": "display_data"
    }
   ],
   "source": [
    "plot_ts(test_dataset, coverages, intervals)"
   ]
  },
  {
   "cell_type": "markdown",
   "id": "centered-outdoors",
   "metadata": {},
   "source": [
    "Interval widths:"
   ]
  },
  {
   "cell_type": "code",
   "execution_count": 977,
   "id": "alpine-restaurant",
   "metadata": {},
   "outputs": [
    {
     "data": {
      "text/plain": [
       "[21.165647506713867,\n",
       " 20.323575973510742,\n",
       " 26.415739059448242,\n",
       " 27.204988479614258,\n",
       " 28.79669761657715]"
      ]
     },
     "execution_count": 977,
     "metadata": {},
     "output_type": "execute_result"
    }
   ],
   "source": [
    "(intervals[:, 1] - intervals[:, 0]).squeeze().mean(dim=0).tolist()"
   ]
  },
  {
   "cell_type": "code",
   "execution_count": 976,
   "id": "amended-symposium",
   "metadata": {},
   "outputs": [
    {
     "data": {
      "text/plain": [
       "tensor(24.7813, grad_fn=<MeanBackward0>)"
      ]
     },
     "execution_count": 976,
     "metadata": {},
     "output_type": "execute_result"
    }
   ],
   "source": [
    "(intervals[:, 1] - intervals[:, 0]).squeeze().mean()"
   ]
  },
  {
   "cell_type": "markdown",
   "id": "decent-domain",
   "metadata": {},
   "source": [
    "In comparison with BJ-RNN on the same dataset and parameters (with the underlying RNN achieving the same training loss), Conformal forecaster:\n",
    "* was significantly, incomparatively faster\n",
    "* while it has lower empirical coverage (92% vs 100%) it is still at the sufficient level satisfying the theoretical guarantees\n",
    "* has much smaller interval widths (24.7813 vs 231.94795306396472)\n"
   ]
  },
  {
   "cell_type": "markdown",
   "id": "elder-operator",
   "metadata": {},
   "source": [
    "## Collecting all data"
   ]
  },
  {
   "cell_type": "markdown",
   "id": "genetic-deployment",
   "metadata": {},
   "source": [
    "Things to try:\n",
    "1. increasing (time-dependent) noise variance, no periodicity: try visibly increasing series\n",
    "2. noise sweep (*will probably require normalisation* for good performance but should still show guarantees although with wide intervals for the wide examples)\n",
    "3. periodic patterns\n",
    "4. different time series lengths"
   ]
  },
  {
   "cell_type": "code",
   "execution_count": 978,
   "id": "requested-diamond",
   "metadata": {},
   "outputs": [],
   "source": [
    "from utils.train_conformal import train_conformal_forecaster"
   ]
  },
  {
   "cell_type": "code",
   "execution_count": null,
   "id": "wrapped-mailman",
   "metadata": {},
   "outputs": [],
   "source": [
    "results = []\n",
    "for i in range(1, 6):\n",
    "    noise_profile = [0.1 * k * i for k in range(seq_len + horizon)]\n",
    "    result = train_conformal_forecaster(noise_profile=noise_profile)\n",
    "    print('Model {}:\\tcoverage: {}\\twidths: {}'.format(i, result['mean_coverage'], result['interval_widths']))\n",
    "    results.append(result)"
   ]
  },
  {
   "cell_type": "code",
   "execution_count": 983,
   "id": "toxic-optimization",
   "metadata": {},
   "outputs": [],
   "source": [
    "from utils.make_data import generate_autoregressive_forecast_dataset\n",
    "\n",
    "train_dataset_x = generate_autoregressive_forecast_dataset(n_samples=n_train_samples, \n",
    "                                                               seq_len=seq_len, \n",
    "                                                               horizon=horizon, \n",
    "                                                               periodicity=periodicity,\n",
    "                                                               noise_profile=noise_profile, \n",
    "                                                               amplitude=amplitude,\n",
    "                                                               dynamic_sequence_lengths=dynamic_sequence_lengths)\n",
    "calibration_dataset_x = generate_autoregressive_forecast_dataset(n_samples=n_calibration_samples, \n",
    "                                                               seq_len=seq_len, \n",
    "                                                               horizon=horizon, \n",
    "                                                               periodicity=periodicity,\n",
    "                                                               noise_profile=noise_profile, \n",
    "                                                               amplitude=amplitude,\n",
    "                                                               dynamic_sequence_lengths=dynamic_sequence_lengths)\n",
    "test_dataset_x = generate_autoregressive_forecast_dataset(n_samples=n_test_samples, \n",
    "                                                               seq_len=seq_len, \n",
    "                                                               horizon=horizon, \n",
    "                                                               periodicity=periodicity,\n",
    "                                                               noise_profile=noise_profile, \n",
    "                                                               amplitude=amplitude,\n",
    "                                                               dynamic_sequence_lengths=dynamic_sequence_lengths)"
   ]
  },
  {
   "cell_type": "markdown",
   "id": "optional-cliff",
   "metadata": {},
   "source": [
    "## Conformal forecaster"
   ]
  },
  {
   "cell_type": "code",
   "execution_count": 984,
   "id": "impossible-wings",
   "metadata": {},
   "outputs": [],
   "source": [
    "from models.conformal import ConformalForecaster\n",
    "model_x = ConformalForecaster(embedding_size=embedding_size, horizon=horizon, error_rate=1-coverage)"
   ]
  },
  {
   "cell_type": "code",
   "execution_count": 985,
   "id": "neither-piano",
   "metadata": {},
   "outputs": [
    {
     "name": "stdout",
     "output_type": "stream",
     "text": [
      "Epoch: 0\tTrain loss: 96.71368026733398\n",
      "Epoch: 50\tTrain loss: 16.560448932647706\n",
      "Epoch: 100\tTrain loss: 14.431479930877686\n",
      "Epoch: 150\tTrain loss: 12.659294700622558\n",
      "Epoch: 200\tTrain loss: 12.42998971939087\n",
      "Epoch: 250\tTrain loss: 10.524146461486817\n",
      "Epoch: 300\tTrain loss: 9.547363376617431\n",
      "Epoch: 350\tTrain loss: 9.923514461517334\n",
      "Epoch: 400\tTrain loss: 9.386300659179687\n",
      "Epoch: 450\tTrain loss: 9.263593387603759\n",
      "Epoch: 500\tTrain loss: 8.214104843139648\n",
      "Epoch: 550\tTrain loss: 7.847737741470337\n",
      "Epoch: 600\tTrain loss: 7.737237644195557\n",
      "Epoch: 650\tTrain loss: 7.695864248275757\n",
      "Epoch: 700\tTrain loss: 7.722361993789673\n",
      "Epoch: 750\tTrain loss: 7.293479585647583\n",
      "Epoch: 800\tTrain loss: 7.3325395584106445\n",
      "Epoch: 850\tTrain loss: 6.865914535522461\n",
      "Epoch: 900\tTrain loss: 6.8702412128448485\n",
      "Epoch: 950\tTrain loss: 9.24401330947876\n"
     ]
    }
   ],
   "source": [
    "model_x.fit(train_dataset_x, calibration_dataset_x, epochs=epochs, lr=lr, batch_size=batch_size)"
   ]
  },
  {
   "cell_type": "code",
   "execution_count": 986,
   "id": "british-mercury",
   "metadata": {},
   "outputs": [
    {
     "name": "stdout",
     "output_type": "stream",
     "text": [
      "Epoch: 0\tTrain loss: 93.6583969116211\n",
      "Epoch: 50\tTrain loss: 16.307931995391847\n",
      "Epoch: 100\tTrain loss: 14.921547126770019\n",
      "Epoch: 150\tTrain loss: 13.85702428817749\n",
      "Epoch: 200\tTrain loss: 12.792230319976806\n",
      "Epoch: 250\tTrain loss: 11.747208213806152\n",
      "Epoch: 300\tTrain loss: 10.877283763885497\n",
      "Epoch: 350\tTrain loss: 10.84754819869995\n",
      "Epoch: 400\tTrain loss: 9.792602157592773\n",
      "Epoch: 450\tTrain loss: 9.538048362731933\n",
      "Epoch: 500\tTrain loss: 9.103987741470338\n",
      "Epoch: 550\tTrain loss: 8.536530685424804\n",
      "Epoch: 600\tTrain loss: 8.183154964447022\n",
      "Epoch: 650\tTrain loss: 7.824663877487183\n",
      "Epoch: 700\tTrain loss: 8.21445279121399\n",
      "Epoch: 750\tTrain loss: 7.824004602432251\n",
      "Epoch: 800\tTrain loss: 7.423264789581299\n",
      "Epoch: 850\tTrain loss: 9.015694332122802\n",
      "Epoch: 900\tTrain loss: 7.0830858707427975\n",
      "Epoch: 950\tTrain loss: 7.266385555267334\n",
      "Model 1:\tcoverage: 0.9259999990463257\twidths: [19.406827926635742, 18.344846725463867, 25.127168655395508, 23.551210403442383, 30.696773529052734]\n",
      "Epoch: 0\tTrain loss: 97.99895095825195\n",
      "Epoch: 50\tTrain loss: 21.837291526794434\n",
      "Epoch: 100\tTrain loss: 19.335736656188963\n",
      "Epoch: 150\tTrain loss: 17.465253257751463\n",
      "Epoch: 200\tTrain loss: 15.87989320755005\n",
      "Epoch: 250\tTrain loss: 14.578430080413819\n",
      "Epoch: 300\tTrain loss: 13.427033138275146\n",
      "Epoch: 350\tTrain loss: 13.079155349731446\n",
      "Epoch: 400\tTrain loss: 12.266751766204834\n",
      "Epoch: 450\tTrain loss: 12.316389846801759\n",
      "Epoch: 500\tTrain loss: 11.579533004760743\n",
      "Epoch: 550\tTrain loss: 11.768003845214844\n",
      "Epoch: 600\tTrain loss: 11.121707344055176\n",
      "Epoch: 650\tTrain loss: 11.106789588928223\n",
      "Epoch: 700\tTrain loss: 10.8480655670166\n",
      "Epoch: 750\tTrain loss: 10.761925220489502\n",
      "Epoch: 800\tTrain loss: 10.954820919036866\n",
      "Epoch: 850\tTrain loss: 10.79913396835327\n",
      "Epoch: 900\tTrain loss: 10.680819892883301\n",
      "Epoch: 950\tTrain loss: 10.507159519195557\n",
      "Model 2:\tcoverage: 0.9200000166893005\twidths: [21.617525100708008, 21.51790428161621, 29.256925582885742, 28.479833602905273, 31.3201847076416]\n",
      "Epoch: 0\tTrain loss: 107.12467498779297\n",
      "Epoch: 50\tTrain loss: 30.31542263031006\n",
      "Epoch: 100\tTrain loss: 26.318248558044434\n",
      "Epoch: 150\tTrain loss: 22.638251304626465\n",
      "Epoch: 200\tTrain loss: 20.295867729187012\n",
      "Epoch: 250\tTrain loss: 18.709950256347657\n",
      "Epoch: 300\tTrain loss: 17.566324996948243\n",
      "Epoch: 350\tTrain loss: 17.560186004638673\n",
      "Epoch: 400\tTrain loss: 15.864274597167968\n",
      "Epoch: 450\tTrain loss: 15.865883827209473\n",
      "Epoch: 500\tTrain loss: 15.637640190124511\n",
      "Epoch: 550\tTrain loss: 14.80507164001465\n",
      "Epoch: 600\tTrain loss: 14.74525957107544\n",
      "Epoch: 650\tTrain loss: 15.20098581314087\n",
      "Epoch: 700\tTrain loss: 16.339227390289306\n",
      "Epoch: 750\tTrain loss: 14.110823440551759\n",
      "Epoch: 800\tTrain loss: 14.136362457275391\n",
      "Epoch: 850\tTrain loss: 13.699423122406007\n",
      "Epoch: 900\tTrain loss: 16.226342010498048\n",
      "Epoch: 950\tTrain loss: 13.969445991516114\n",
      "Model 3:\tcoverage: 0.9319999814033508\twidths: [25.735265731811523, 27.37310791015625, 30.265897750854492, 35.062931060791016, 38.84307861328125]\n",
      "Epoch: 0\tTrain loss: 119.09370956420898\n",
      "Epoch: 50\tTrain loss: 41.21624565124512\n",
      "Epoch: 100\tTrain loss: 37.090890884399414\n",
      "Epoch: 150\tTrain loss: 34.300940322875974\n",
      "Epoch: 200\tTrain loss: 31.49313907623291\n",
      "Epoch: 250\tTrain loss: 29.532799530029298\n",
      "Epoch: 300\tTrain loss: 28.90257167816162\n",
      "Epoch: 350\tTrain loss: 27.863871765136718\n",
      "Epoch: 400\tTrain loss: 26.159393119812012\n",
      "Epoch: 450\tTrain loss: 25.39728240966797\n",
      "Epoch: 500\tTrain loss: 26.620579528808594\n",
      "Epoch: 550\tTrain loss: 24.265622711181642\n",
      "Epoch: 600\tTrain loss: 23.71150150299072\n",
      "Epoch: 650\tTrain loss: 24.53270092010498\n",
      "Epoch: 700\tTrain loss: 23.714770889282228\n",
      "Epoch: 750\tTrain loss: 23.329040145874025\n",
      "Epoch: 800\tTrain loss: 22.59771842956543\n",
      "Epoch: 850\tTrain loss: 23.898033905029298\n",
      "Epoch: 900\tTrain loss: 24.370013999938966\n",
      "Epoch: 950\tTrain loss: 21.43176155090332\n",
      "Model 4:\tcoverage: 0.8740000128746033\twidths: [28.495361328125, 31.176143646240234, 35.544185638427734, 37.1971435546875, 44.127037048339844]\n",
      "Epoch: 0\tTrain loss: 135.93872146606446\n",
      "Epoch: 50\tTrain loss: 55.63547248840332\n",
      "Epoch: 100\tTrain loss: 52.41322288513184\n",
      "Epoch: 150\tTrain loss: 49.80799102783203\n",
      "Epoch: 200\tTrain loss: 47.634588623046874\n",
      "Epoch: 250\tTrain loss: 45.57779083251953\n",
      "Epoch: 300\tTrain loss: 43.23747596740723\n",
      "Epoch: 350\tTrain loss: 42.51036376953125\n",
      "Epoch: 400\tTrain loss: 41.146088409423825\n",
      "Epoch: 450\tTrain loss: 39.10457534790039\n",
      "Epoch: 500\tTrain loss: 37.934132766723636\n",
      "Epoch: 550\tTrain loss: 36.967872047424315\n",
      "Epoch: 600\tTrain loss: 37.20993423461914\n",
      "Epoch: 650\tTrain loss: 36.453902053833005\n",
      "Epoch: 700\tTrain loss: 35.76477279663086\n",
      "Epoch: 750\tTrain loss: 34.351169204711915\n",
      "Epoch: 800\tTrain loss: 34.677363586425784\n",
      "Epoch: 850\tTrain loss: 38.21133613586426\n",
      "Epoch: 900\tTrain loss: 33.31679191589355\n",
      "Epoch: 950\tTrain loss: 34.248230171203616\n",
      "Model 5:\tcoverage: 0.8600000143051147\twidths: [32.562042236328125, 35.39011001586914, 39.5670166015625, 40.29541015625, 48.9525146484375]\n"
     ]
    }
   ],
   "source": [
    "# Dataset size\n",
    "n_train_samples = 1000\n",
    "n_calibration_samples = 1000\n",
    "n_test_samples = 500\n",
    "\n",
    "# Time series parameters\n",
    "seq_len = 10\n",
    "horizon = 5\n",
    "noise_profile = None\n",
    "periodicity = 2\n",
    "amplitude = 1\n",
    "dynamic_sequence_lengths=False\n",
    "\n",
    "# LSTM parameters\n",
    "epochs=1000\n",
    "batch_size=100\n",
    "embedding_size=20\n",
    "coverage=0.9\n",
    "lr=0.01\n",
    "\n",
    "results = []\n",
    "for i in range(1, 6):\n",
    "    noise_profile = [0.1 * k * i for k in range(seq_len + horizon)]\n",
    "    train_dataset_x = generate_autoregressive_forecast_dataset(n_samples=n_train_samples, \n",
    "                                                               seq_len=seq_len, \n",
    "                                                               horizon=horizon, \n",
    "                                                               periodicity=periodicity,\n",
    "                                                               noise_profile=noise_profile, \n",
    "                                                               amplitude=amplitude,\n",
    "                                                               dynamic_sequence_lengths=dynamic_sequence_lengths)\n",
    "    calibration_dataset_x = generate_autoregressive_forecast_dataset(n_samples=n_calibration_samples, \n",
    "                                                                   seq_len=seq_len, \n",
    "                                                                   horizon=horizon, \n",
    "                                                                   periodicity=periodicity,\n",
    "                                                                   noise_profile=noise_profile, \n",
    "                                                                   amplitude=amplitude,\n",
    "                                                                   dynamic_sequence_lengths=dynamic_sequence_lengths)\n",
    "    test_dataset_x = generate_autoregressive_forecast_dataset(n_samples=n_test_samples, \n",
    "                                                                   seq_len=seq_len, \n",
    "                                                                   horizon=horizon, \n",
    "                                                                   periodicity=periodicity,\n",
    "                                                                   noise_profile=noise_profile, \n",
    "                                                                   amplitude=amplitude,\n",
    "                                                                   dynamic_sequence_lengths=dynamic_sequence_lengths)\n",
    "    model_x = ConformalForecaster(embedding_size=embedding_size, horizon=horizon, error_rate=1-coverage)\n",
    "    \n",
    "    model_x.fit(train_dataset_x, calibration_dataset_x, epochs=epochs, lr=lr, batch_size=batch_size)\n",
    "    \n",
    "    coverages, intervals = model_x.evaluate_coverage(test_dataset_x)\n",
    "    mean_coverage = torch.mean(coverages.float(), dim=0).item()\n",
    "    interval_widths = (intervals[:, 1] - intervals[:, 0]).squeeze().mean(\n",
    "        dim=0).tolist()\n",
    "\n",
    "    result = {'coverages': coverages,\n",
    "               'intervals': intervals,\n",
    "               'mean_coverage': mean_coverage,\n",
    "               'interval_widths': interval_widths}\n",
    "    \n",
    "    print('Model {}:\\tcoverage: {}\\twidths: {}'.format(i, result['mean_coverage'], result['interval_widths']))\n",
    "    results.append(result)\n",
    "    "
   ]
  },
  {
   "cell_type": "code",
   "execution_count": 991,
   "id": "cubic-monte",
   "metadata": {},
   "outputs": [
    {
     "name": "stdout",
     "output_type": "stream",
     "text": [
      "Epoch: 0\tTrain loss: 131.66316909790038\n",
      "Epoch: 50\tTrain loss: 57.15425033569336\n",
      "Epoch: 100\tTrain loss: 53.97360000610352\n",
      "Epoch: 150\tTrain loss: 50.63601493835449\n",
      "Epoch: 200\tTrain loss: 46.72647476196289\n",
      "Epoch: 250\tTrain loss: 43.096554565429685\n",
      "Epoch: 300\tTrain loss: 39.958683013916016\n",
      "Epoch: 350\tTrain loss: 39.79352645874023\n",
      "Epoch: 400\tTrain loss: 36.788832092285155\n",
      "Epoch: 450\tTrain loss: 36.722150039672854\n",
      "Epoch: 500\tTrain loss: 35.21601257324219\n",
      "Epoch: 550\tTrain loss: 35.63125381469727\n",
      "Epoch: 600\tTrain loss: 34.07886371612549\n",
      "Epoch: 650\tTrain loss: 32.697760009765624\n",
      "Epoch: 700\tTrain loss: 32.290945816040036\n",
      "Epoch: 750\tTrain loss: 35.08457450866699\n",
      "Epoch: 800\tTrain loss: 34.27659873962402\n",
      "Epoch: 850\tTrain loss: 30.97606506347656\n",
      "Epoch: 900\tTrain loss: 30.8461051940918\n",
      "Epoch: 950\tTrain loss: 32.64703636169433\n",
      "Epoch: 1000\tTrain loss: 31.458338737487793\n",
      "Epoch: 1050\tTrain loss: 34.405197334289554\n",
      "Epoch: 1100\tTrain loss: 29.644252967834472\n",
      "Epoch: 1150\tTrain loss: 29.563762664794922\n",
      "Epoch: 1200\tTrain loss: 29.511008262634277\n",
      "Epoch: 1250\tTrain loss: 29.257576179504394\n",
      "Epoch: 1300\tTrain loss: 28.70036334991455\n",
      "Epoch: 1350\tTrain loss: 29.972486114501955\n",
      "Epoch: 1400\tTrain loss: 30.441232109069823\n",
      "Epoch: 1450\tTrain loss: 32.869244766235354\n",
      "Epoch: 1500\tTrain loss: 27.51994934082031\n",
      "Epoch: 1550\tTrain loss: 29.5971736907959\n",
      "Epoch: 1600\tTrain loss: 28.921197128295898\n",
      "Epoch: 1650\tTrain loss: 29.823611640930174\n",
      "Epoch: 1700\tTrain loss: 27.838206481933593\n",
      "Epoch: 1750\tTrain loss: 28.42797088623047\n",
      "Epoch: 1800\tTrain loss: 27.498397254943846\n",
      "Epoch: 1850\tTrain loss: 28.15637493133545\n",
      "Epoch: 1900\tTrain loss: 30.85179901123047\n",
      "Epoch: 1950\tTrain loss: 28.262884902954102\n",
      "Epoch: 2000\tTrain loss: 31.782069587707518\n",
      "Epoch: 2050\tTrain loss: 29.513791656494142\n",
      "Epoch: 2100\tTrain loss: 27.221302795410157\n",
      "Epoch: 2150\tTrain loss: 26.816318893432616\n",
      "Epoch: 2200\tTrain loss: 26.722213363647462\n",
      "Epoch: 2250\tTrain loss: 37.040200805664064\n",
      "Epoch: 2300\tTrain loss: 27.21037139892578\n",
      "Epoch: 2350\tTrain loss: 29.584629440307616\n",
      "Epoch: 2400\tTrain loss: 44.57291603088379\n",
      "Epoch: 2450\tTrain loss: 31.081023597717284\n",
      "Epoch: 2500\tTrain loss: 26.036673736572265\n",
      "Epoch: 2550\tTrain loss: 27.274983215332032\n",
      "Epoch: 2600\tTrain loss: 31.30412902832031\n",
      "Epoch: 2650\tTrain loss: 26.225827598571776\n",
      "Epoch: 2700\tTrain loss: 33.96451263427734\n",
      "Epoch: 2750\tTrain loss: 56.25961074829102\n",
      "Epoch: 2800\tTrain loss: 53.96088905334473\n",
      "Epoch: 2850\tTrain loss: 51.09690437316895\n",
      "Epoch: 2900\tTrain loss: 50.31329231262207\n",
      "Epoch: 2950\tTrain loss: 48.38447265625\n",
      "Epoch: 3000\tTrain loss: 52.23378715515137\n",
      "Epoch: 3050\tTrain loss: 51.02215347290039\n",
      "Epoch: 3100\tTrain loss: 46.31032829284668\n",
      "Epoch: 3150\tTrain loss: 44.175899505615234\n",
      "Epoch: 3200\tTrain loss: 42.64845695495605\n",
      "Epoch: 3250\tTrain loss: 48.17414741516113\n",
      "Epoch: 3300\tTrain loss: 46.95085144042969\n",
      "Epoch: 3350\tTrain loss: 43.868479537963864\n",
      "Epoch: 3400\tTrain loss: 45.413194274902345\n",
      "Epoch: 3450\tTrain loss: 44.64277038574219\n",
      "Epoch: 3500\tTrain loss: 41.765066146850586\n",
      "Epoch: 3550\tTrain loss: 42.6332649230957\n",
      "Epoch: 3600\tTrain loss: 42.37198944091797\n",
      "Epoch: 3650\tTrain loss: 48.7020751953125\n",
      "Epoch: 3700\tTrain loss: 41.57132797241211\n",
      "Epoch: 3750\tTrain loss: 39.15960960388183\n",
      "Epoch: 3800\tTrain loss: 44.350959396362306\n",
      "Epoch: 3850\tTrain loss: 43.28102569580078\n",
      "Epoch: 3900\tTrain loss: 41.74517135620117\n",
      "Epoch: 3950\tTrain loss: 40.11340103149414\n",
      "Model 5:\tcoverage: 0.9319999814033508\twidths: [34.766414642333984, 33.82406234741211, 40.848304748535156, 43.69893264770508, 47.72249221801758]\n"
     ]
    }
   ],
   "source": [
    "# Dataset size\n",
    "n_train_samples = 1000\n",
    "n_calibration_samples = 1000\n",
    "n_test_samples = 500\n",
    "\n",
    "# Time series parameters\n",
    "seq_len = 10\n",
    "horizon = 5\n",
    "noise_profile = None\n",
    "periodicity = 2\n",
    "amplitude = 1\n",
    "dynamic_sequence_lengths=False\n",
    "\n",
    "# LSTM parameters\n",
    "epochs=4000\n",
    "batch_size=100\n",
    "embedding_size=20\n",
    "coverage=0.9\n",
    "lr=0.01\n",
    "\n",
    "# results_4000 = []\n",
    "for i in range(5, 6):\n",
    "    noise_profile = [0.1 * k * i for k in range(seq_len + horizon)]\n",
    "    train_dataset_x = generate_autoregressive_forecast_dataset(n_samples=n_train_samples, \n",
    "                                                               seq_len=seq_len, \n",
    "                                                               horizon=horizon, \n",
    "                                                               periodicity=periodicity,\n",
    "                                                               noise_profile=noise_profile, \n",
    "                                                               amplitude=amplitude,\n",
    "                                                               dynamic_sequence_lengths=dynamic_sequence_lengths)\n",
    "    calibration_dataset_x = generate_autoregressive_forecast_dataset(n_samples=n_calibration_samples, \n",
    "                                                                   seq_len=seq_len, \n",
    "                                                                   horizon=horizon, \n",
    "                                                                   periodicity=periodicity,\n",
    "                                                                   noise_profile=noise_profile, \n",
    "                                                                   amplitude=amplitude,\n",
    "                                                                   dynamic_sequence_lengths=dynamic_sequence_lengths)\n",
    "    test_dataset_x = generate_autoregressive_forecast_dataset(n_samples=n_test_samples, \n",
    "                                                                   seq_len=seq_len, \n",
    "                                                                   horizon=horizon, \n",
    "                                                                   periodicity=periodicity,\n",
    "                                                                   noise_profile=noise_profile, \n",
    "                                                                   amplitude=amplitude,\n",
    "                                                                   dynamic_sequence_lengths=dynamic_sequence_lengths)\n",
    "    model_x = ConformalForecaster(embedding_size=embedding_size, horizon=horizon, error_rate=1-coverage)\n",
    "    \n",
    "    model_x.fit(train_dataset_x, calibration_dataset_x, epochs=epochs, lr=lr, batch_size=batch_size)\n",
    "    \n",
    "    coverages, intervals = model_x.evaluate_coverage(test_dataset_x)\n",
    "    mean_coverage = torch.mean(coverages.float(), dim=0).item()\n",
    "    interval_widths = (intervals[:, 1] - intervals[:, 0]).squeeze().mean(\n",
    "        dim=0).tolist()\n",
    "\n",
    "    result = {'coverages': coverages,\n",
    "               'intervals': intervals,\n",
    "               'mean_coverage': mean_coverage,\n",
    "               'interval_widths': interval_widths}\n",
    "    \n",
    "    print('Model {}:\\tcoverage: {}\\twidths: {}'.format(i, result['mean_coverage'], result['interval_widths']))\n",
    "    results_4000.append(result)\n",
    "    "
   ]
  },
  {
   "cell_type": "code",
   "execution_count": 994,
   "id": "tired-grenada",
   "metadata": {},
   "outputs": [
    {
     "name": "stdout",
     "output_type": "stream",
     "text": [
      "0.9160000085830688\n",
      "0.9340000152587891\n",
      "0.9359999895095825\n",
      "0.9139999747276306\n",
      "0.9319999814033508\n"
     ]
    }
   ],
   "source": [
    "for result in results_4000:\n",
    "    print(result['mean_coverage'])"
   ]
  },
  {
   "cell_type": "code",
   "execution_count": 995,
   "id": "ideal-patch",
   "metadata": {},
   "outputs": [],
   "source": [
    "import pickle"
   ]
  },
  {
   "cell_type": "code",
   "execution_count": 996,
   "id": "automotive-portfolio",
   "metadata": {},
   "outputs": [],
   "source": [
    "with open('results_4000_epochs_increasing_time_dependent_noise.pkl', 'wb') as output:\n",
    "    pickle.dump(results_4000, output, pickle.HIGHEST_PROTOCOL)"
   ]
  },
  {
   "cell_type": "code",
   "execution_count": 997,
   "id": "likely-sending",
   "metadata": {},
   "outputs": [
    {
     "data": {
      "text/plain": [
       "5"
      ]
     },
     "execution_count": 997,
     "metadata": {},
     "output_type": "execute_result"
    }
   ],
   "source": [
    "len(results)"
   ]
  },
  {
   "cell_type": "code",
   "execution_count": 998,
   "id": "correct-rough",
   "metadata": {},
   "outputs": [],
   "source": [
    "with open('results_1000_epochs_increasing_time_dependent_noise.pkl', 'wb') as output:\n",
    "    pickle.dump(results, output, pickle.HIGHEST_PROTOCOL)"
   ]
  },
  {
   "cell_type": "code",
   "execution_count": 999,
   "id": "diverse-template",
   "metadata": {},
   "outputs": [
    {
     "name": "stdout",
     "output_type": "stream",
     "text": [
      "0.9259999990463257\n",
      "0.9200000166893005\n",
      "0.9319999814033508\n",
      "0.8740000128746033\n",
      "0.8600000143051147\n"
     ]
    }
   ],
   "source": [
    "for result in results:\n",
    "    print(result['mean_coverage'])"
   ]
  },
  {
   "cell_type": "markdown",
   "id": "important-concentration",
   "metadata": {},
   "source": [
    "## Static noise, no periodic component"
   ]
  },
  {
   "cell_type": "code",
   "execution_count": 1012,
   "id": "shaped-powell",
   "metadata": {},
   "outputs": [
    {
     "name": "stdout",
     "output_type": "stream",
     "text": [
      "Epoch: 0\tTrain loss: 67.0411334991455\n",
      "Epoch: 50\tTrain loss: 9.493545627593994\n",
      "Epoch: 100\tTrain loss: 7.949249505996704\n",
      "Epoch: 150\tTrain loss: 6.495412063598633\n",
      "Epoch: 200\tTrain loss: 5.038233852386474\n",
      "Epoch: 250\tTrain loss: 4.586574816703797\n",
      "Epoch: 300\tTrain loss: 3.938397264480591\n",
      "Epoch: 350\tTrain loss: 4.152902340888977\n",
      "Epoch: 400\tTrain loss: 3.4305545330047607\n",
      "Epoch: 450\tTrain loss: 3.4036927700042723\n",
      "Epoch: 500\tTrain loss: 3.1382314920425416\n",
      "Epoch: 550\tTrain loss: 3.7801637649536133\n",
      "Epoch: 600\tTrain loss: 3.7448605060577393\n",
      "Epoch: 650\tTrain loss: 3.283921718597412\n",
      "Epoch: 700\tTrain loss: 3.07552285194397\n",
      "Epoch: 750\tTrain loss: 2.7147955656051637\n",
      "Epoch: 800\tTrain loss: 3.470752310752869\n",
      "Epoch: 850\tTrain loss: 2.704321789741516\n",
      "Epoch: 900\tTrain loss: 2.6370020389556883\n",
      "Epoch: 950\tTrain loss: 5.021201276779175\n",
      "Model 1:\tcoverage: 0.9340000152587891\twidths: [11.87833023071289, 16.612380981445312, 19.602855682373047, 22.665311813354492, 24.152437210083008]\n",
      "Epoch: 0\tTrain loss: 65.21984100341797\n",
      "Epoch: 50\tTrain loss: 9.21742024421692\n",
      "Epoch: 100\tTrain loss: 8.031450986862183\n",
      "Epoch: 150\tTrain loss: 6.477533149719238\n",
      "Epoch: 200\tTrain loss: 5.204186868667603\n",
      "Epoch: 250\tTrain loss: 4.509435677528382\n",
      "Epoch: 300\tTrain loss: 4.985428094863892\n",
      "Epoch: 350\tTrain loss: 3.593477892875671\n",
      "Epoch: 400\tTrain loss: 3.857542324066162\n",
      "Epoch: 450\tTrain loss: 3.605642580986023\n",
      "Epoch: 500\tTrain loss: 4.042921018600464\n",
      "Epoch: 550\tTrain loss: 3.1807992458343506\n",
      "Epoch: 600\tTrain loss: 2.942073202133179\n",
      "Epoch: 650\tTrain loss: 2.9669188022613526\n",
      "Epoch: 700\tTrain loss: 3.0241790771484376\n",
      "Epoch: 750\tTrain loss: 3.014303946495056\n",
      "Epoch: 800\tTrain loss: 2.9893332719802856\n",
      "Epoch: 850\tTrain loss: 2.5513808965682983\n",
      "Epoch: 900\tTrain loss: 2.897646760940552\n",
      "Epoch: 950\tTrain loss: 2.807885503768921\n",
      "Model 2:\tcoverage: 0.9419999718666077\twidths: [11.648309707641602, 15.920487403869629, 20.336063385009766, 22.738672256469727, 24.14940643310547]\n",
      "Epoch: 0\tTrain loss: 66.17840538024902\n",
      "Epoch: 50\tTrain loss: 9.400512981414796\n",
      "Epoch: 100\tTrain loss: 8.47325234413147\n",
      "Epoch: 150\tTrain loss: 7.0771314144134525\n",
      "Epoch: 200\tTrain loss: 6.243567228317261\n",
      "Epoch: 250\tTrain loss: 5.78021469116211\n",
      "Epoch: 300\tTrain loss: 4.746645498275757\n",
      "Epoch: 350\tTrain loss: 4.461672401428222\n",
      "Epoch: 400\tTrain loss: 4.523788547515869\n",
      "Epoch: 450\tTrain loss: 4.310985851287842\n",
      "Epoch: 500\tTrain loss: 4.766955327987671\n",
      "Epoch: 550\tTrain loss: 4.1233536958694454\n",
      "Epoch: 600\tTrain loss: 3.884066843986511\n",
      "Epoch: 650\tTrain loss: 3.7913673877716065\n",
      "Epoch: 700\tTrain loss: 4.394886088371277\n",
      "Epoch: 750\tTrain loss: 8.476630067825317\n",
      "Epoch: 800\tTrain loss: 3.6038676738739013\n",
      "Epoch: 850\tTrain loss: 3.8881417989730833\n",
      "Epoch: 900\tTrain loss: 4.821392154693603\n",
      "Epoch: 950\tTrain loss: 4.745243406295776\n",
      "Model 3:\tcoverage: 0.9319999814033508\twidths: [10.29664421081543, 13.987640380859375, 17.380460739135742, 20.119047164916992, 20.61351203918457]\n",
      "Epoch: 0\tTrain loss: 64.18328590393067\n",
      "Epoch: 50\tTrain loss: 9.385296440124511\n",
      "Epoch: 100\tTrain loss: 8.508054304122926\n",
      "Epoch: 150\tTrain loss: 7.243728256225586\n",
      "Epoch: 200\tTrain loss: 6.593177652359008\n",
      "Epoch: 250\tTrain loss: 5.644372034072876\n",
      "Epoch: 300\tTrain loss: 4.887992572784424\n",
      "Epoch: 350\tTrain loss: 4.749071359634399\n",
      "Epoch: 400\tTrain loss: 4.159252309799195\n",
      "Epoch: 450\tTrain loss: 4.032470107078552\n",
      "Epoch: 500\tTrain loss: 3.800678539276123\n",
      "Epoch: 550\tTrain loss: 4.080595517158509\n",
      "Epoch: 600\tTrain loss: 3.819114327430725\n",
      "Epoch: 650\tTrain loss: 3.6237383842468263\n",
      "Epoch: 700\tTrain loss: 4.322822403907776\n",
      "Epoch: 750\tTrain loss: 3.5017232418060305\n",
      "Epoch: 800\tTrain loss: 3.628391146659851\n",
      "Epoch: 850\tTrain loss: 3.41893310546875\n",
      "Epoch: 900\tTrain loss: 3.1607388973236086\n",
      "Epoch: 950\tTrain loss: 3.2087859869003297\n",
      "Model 4:\tcoverage: 0.9599999785423279\twidths: [12.25448989868164, 15.960968971252441, 20.742290496826172, 22.307729721069336, 24.873567581176758]\n",
      "Epoch: 0\tTrain loss: 67.38778381347656\n",
      "Epoch: 50\tTrain loss: 9.313237762451172\n",
      "Epoch: 100\tTrain loss: 8.775399303436279\n",
      "Epoch: 150\tTrain loss: 7.833372592926025\n",
      "Epoch: 200\tTrain loss: 6.720237493515015\n",
      "Epoch: 250\tTrain loss: 5.648180055618286\n",
      "Epoch: 300\tTrain loss: 4.911968851089478\n",
      "Epoch: 350\tTrain loss: 4.706380462646484\n",
      "Epoch: 400\tTrain loss: 4.112759304046631\n",
      "Epoch: 450\tTrain loss: 4.3634517908096315\n",
      "Epoch: 500\tTrain loss: 3.8109044075012206\n",
      "Epoch: 550\tTrain loss: 3.5936667919158936\n",
      "Epoch: 600\tTrain loss: 3.584768295288086\n",
      "Epoch: 650\tTrain loss: 3.796844220161438\n",
      "Epoch: 700\tTrain loss: 3.7202457427978515\n",
      "Epoch: 750\tTrain loss: 3.2059217214584352\n",
      "Epoch: 800\tTrain loss: 4.134340119361878\n",
      "Epoch: 850\tTrain loss: 3.6905819892883303\n",
      "Epoch: 900\tTrain loss: 4.294393730163574\n",
      "Epoch: 950\tTrain loss: 3.187516283988953\n",
      "Model 5:\tcoverage: 0.9259999990463257\twidths: [12.06562614440918, 16.437530517578125, 18.481922149658203, 21.967538833618164, 22.439624786376953]\n"
     ]
    }
   ],
   "source": [
    "from models.conformal import ConformalForecaster\n",
    "from utils.make_data import generate_autoregressive_forecast_dataset, seasonal\n",
    "\n",
    "# Dataset size\n",
    "n_train_samples = 1000\n",
    "n_calibration_samples = 1000\n",
    "n_test_samples = 500\n",
    "\n",
    "# Time series parameters\n",
    "seq_len = 10\n",
    "horizon = 5\n",
    "noise_profile = None\n",
    "periodicity = None\n",
    "amplitude = 1\n",
    "dynamic_sequence_lengths=False\n",
    "\n",
    "# LSTM parameters\n",
    "epochs=1000\n",
    "batch_size=100\n",
    "embedding_size=20\n",
    "coverage=0.9\n",
    "lr=0.01\n",
    "\n",
    "results_static_noise_no_periodic = []\n",
    "for i in range(1, 6):\n",
    "    noise_profile = [0.1 * i for k in range(seq_len + horizon)]\n",
    "    train_dataset_x = generate_autoregressive_forecast_dataset(n_samples=n_train_samples, \n",
    "                                                               seq_len=seq_len, \n",
    "                                                               horizon=horizon, \n",
    "                                                               periodicity=periodicity,\n",
    "                                                               noise_profile=noise_profile, \n",
    "                                                               amplitude=amplitude,\n",
    "                                                               dynamic_sequence_lengths=dynamic_sequence_lengths)\n",
    "    calibration_dataset_x = generate_autoregressive_forecast_dataset(n_samples=n_calibration_samples, \n",
    "                                                                   seq_len=seq_len, \n",
    "                                                                   horizon=horizon, \n",
    "                                                                   periodicity=periodicity,\n",
    "                                                                   noise_profile=noise_profile, \n",
    "                                                                   amplitude=amplitude,\n",
    "                                                                   dynamic_sequence_lengths=dynamic_sequence_lengths)\n",
    "    test_dataset_x = generate_autoregressive_forecast_dataset(n_samples=n_test_samples, \n",
    "                                                                   seq_len=seq_len, \n",
    "                                                                   horizon=horizon, \n",
    "                                                                   periodicity=periodicity,\n",
    "                                                                   noise_profile=noise_profile, \n",
    "                                                                   amplitude=amplitude,\n",
    "                                                                   dynamic_sequence_lengths=dynamic_sequence_lengths)\n",
    "    model_x = ConformalForecaster(embedding_size=embedding_size, horizon=horizon, error_rate=1-coverage)\n",
    "    \n",
    "    model_x.fit(train_dataset_x, calibration_dataset_x, epochs=epochs, lr=lr, batch_size=batch_size)\n",
    "    \n",
    "    coverages, intervals = model_x.evaluate_coverage(test_dataset_x)\n",
    "    mean_coverage = torch.mean(coverages.float(), dim=0).item()\n",
    "    interval_widths = (intervals[:, 1] - intervals[:, 0]).squeeze().mean(\n",
    "        dim=0).tolist()\n",
    "\n",
    "    result = {'coverages': coverages,\n",
    "               'intervals': intervals,\n",
    "               'mean_coverage': mean_coverage,\n",
    "               'interval_widths': interval_widths}\n",
    "    \n",
    "    print('Model {}:\\tcoverage: {}\\twidths: {}'.format(i, result['mean_coverage'], result['interval_widths']))\n",
    "    results_static_noise_no_periodic.append(result)"
   ]
  },
  {
   "cell_type": "code",
   "execution_count": 1013,
   "id": "perfect-crown",
   "metadata": {},
   "outputs": [],
   "source": [
    "with open('results_1000_epochs_results_static_noise_no_periodic.pkl', 'wb') as output:\n",
    "    pickle.dump(results_static_noise_no_periodic, output, pickle.HIGHEST_PROTOCOL)"
   ]
  },
  {
   "cell_type": "code",
   "execution_count": 1023,
   "id": "natural-trial",
   "metadata": {},
   "outputs": [],
   "source": [
    "with open('results_1000_epochs_results_static_noise_no_periodic.pkl', 'rb') as f:\n",
    "    results_static_noise_no_periodic = pickle.load(f)"
   ]
  },
  {
   "cell_type": "markdown",
   "id": "persistent-architecture",
   "metadata": {},
   "source": [
    "## Time-dependent noise, no periodic component"
   ]
  },
  {
   "cell_type": "code",
   "execution_count": null,
   "id": "seasonal-exhibit",
   "metadata": {},
   "outputs": [],
   "source": [
    "from utils.make_data import generate_autoregressive_forecast_dataset\n",
    "from utils.train_conformal import train_conformal_forecaster\n",
    "\n",
    "results_time_dependent_noise_no_periodic = []\n",
    "for i in range(1, 6):\n",
    "    noise_profile = [0.1 * k * i for k in range(seq_len + horizon)]\n",
    "    result = train_conformal_forecaster(noise_profile=noise_profile)\n",
    "    print('Model {}:\\tcoverage: {}\\twidths: {}'.format(i, result['mean_coverage'], result['interval_widths']))\n",
    "    results_time_dependent_noise_no_periodic.append(result)"
   ]
  },
  {
   "cell_type": "code",
   "execution_count": 1034,
   "id": "altered-print",
   "metadata": {},
   "outputs": [
    {
     "name": "stdout",
     "output_type": "stream",
     "text": [
      "Epoch: 0\tTrain loss: 71.19627456665039\n",
      "Epoch: 50\tTrain loss: 10.097429180145264\n",
      "Epoch: 100\tTrain loss: 8.923922538757324\n",
      "Epoch: 150\tTrain loss: 7.811067867279053\n",
      "Epoch: 200\tTrain loss: 6.969545602798462\n",
      "Epoch: 250\tTrain loss: 6.199916839599609\n",
      "Epoch: 300\tTrain loss: 5.412591552734375\n",
      "Epoch: 350\tTrain loss: 4.974897956848144\n",
      "Epoch: 400\tTrain loss: 5.078815507888794\n",
      "Epoch: 450\tTrain loss: 4.757040786743164\n",
      "Epoch: 500\tTrain loss: 4.7942112445831295\n",
      "Epoch: 550\tTrain loss: 4.148000025749207\n",
      "Epoch: 600\tTrain loss: 4.0260467529296875\n",
      "Epoch: 650\tTrain loss: 4.032127451896668\n",
      "Epoch: 700\tTrain loss: 4.036386346817016\n",
      "Epoch: 750\tTrain loss: 3.9042105197906496\n",
      "Epoch: 800\tTrain loss: 3.7553478479385376\n",
      "Epoch: 850\tTrain loss: 3.5951181650161743\n",
      "Epoch: 900\tTrain loss: 7.41148099899292\n",
      "Epoch: 950\tTrain loss: 4.887320852279663\n",
      "Model 1:\tcoverage: 0.9319999814033508\twidths: [13.129165649414062, 16.979276657104492, 20.505002975463867, 22.548702239990234, 23.987567901611328]\n",
      "Epoch: 0\tTrain loss: 70.41642570495605\n",
      "Epoch: 50\tTrain loss: 15.677043151855468\n",
      "Epoch: 100\tTrain loss: 14.427819156646729\n",
      "Epoch: 150\tTrain loss: 12.02298936843872\n",
      "Epoch: 200\tTrain loss: 10.289387798309326\n",
      "Epoch: 250\tTrain loss: 9.478400325775146\n",
      "Epoch: 300\tTrain loss: 9.106546783447266\n",
      "Epoch: 350\tTrain loss: 8.377445507049561\n",
      "Epoch: 400\tTrain loss: 8.536479997634888\n",
      "Epoch: 450\tTrain loss: 8.552325439453124\n",
      "Epoch: 500\tTrain loss: 7.750134229660034\n",
      "Epoch: 550\tTrain loss: 7.310176706314087\n",
      "Epoch: 600\tTrain loss: 7.183499526977539\n",
      "Epoch: 650\tTrain loss: 7.532525253295899\n",
      "Epoch: 700\tTrain loss: 7.29747953414917\n",
      "Epoch: 750\tTrain loss: 6.8287210941314695\n",
      "Epoch: 800\tTrain loss: 6.84912142753601\n",
      "Epoch: 850\tTrain loss: 6.92812967300415\n",
      "Epoch: 900\tTrain loss: 6.917502593994141\n",
      "Epoch: 950\tTrain loss: 6.4747092723846436\n",
      "Model 2:\tcoverage: 0.9319999814033508\twidths: [18.420989990234375, 20.36871337890625, 24.040712356567383, 27.313383102416992, 30.42703628540039]\n",
      "Epoch: 0\tTrain loss: 82.41650161743163\n",
      "Epoch: 50\tTrain loss: 23.804573631286623\n",
      "Epoch: 100\tTrain loss: 21.902490234375\n",
      "Epoch: 150\tTrain loss: 18.827254867553712\n",
      "Epoch: 200\tTrain loss: 17.829483032226562\n",
      "Epoch: 250\tTrain loss: 16.112661170959473\n",
      "Epoch: 300\tTrain loss: 14.71834201812744\n",
      "Epoch: 350\tTrain loss: 14.197721481323242\n",
      "Epoch: 400\tTrain loss: 13.085321998596191\n",
      "Epoch: 450\tTrain loss: 13.65547046661377\n",
      "Epoch: 500\tTrain loss: 13.107283306121825\n",
      "Epoch: 550\tTrain loss: 13.13648567199707\n",
      "Epoch: 600\tTrain loss: 11.968904876708985\n",
      "Epoch: 650\tTrain loss: 12.147204399108887\n",
      "Epoch: 700\tTrain loss: 11.67498836517334\n",
      "Epoch: 750\tTrain loss: 11.808645248413086\n",
      "Epoch: 800\tTrain loss: 11.164138793945312\n",
      "Epoch: 850\tTrain loss: 12.105996704101562\n",
      "Epoch: 900\tTrain loss: 11.829177570343017\n",
      "Epoch: 950\tTrain loss: 10.482694625854492\n",
      "Model 3:\tcoverage: 0.9100000262260437\twidths: [22.495054244995117, 25.2607421875, 28.620363235473633, 31.033323287963867, 33.729190826416016]\n",
      "Epoch: 0\tTrain loss: 88.94972763061523\n",
      "Epoch: 50\tTrain loss: 33.23120746612549\n",
      "Epoch: 100\tTrain loss: 31.570883178710936\n",
      "Epoch: 150\tTrain loss: 28.90209846496582\n",
      "Epoch: 200\tTrain loss: 27.986833381652833\n",
      "Epoch: 250\tTrain loss: 26.966058349609376\n",
      "Epoch: 300\tTrain loss: 25.280211448669434\n",
      "Epoch: 350\tTrain loss: 26.057723426818846\n",
      "Epoch: 400\tTrain loss: 24.398744201660158\n",
      "Epoch: 450\tTrain loss: 24.009694480895995\n",
      "Epoch: 500\tTrain loss: 24.300038146972657\n",
      "Epoch: 550\tTrain loss: 22.748201370239258\n",
      "Epoch: 600\tTrain loss: 26.324232482910155\n",
      "Epoch: 650\tTrain loss: 21.524250030517578\n",
      "Epoch: 700\tTrain loss: 23.376283264160158\n",
      "Epoch: 750\tTrain loss: 21.918292427062987\n",
      "Epoch: 800\tTrain loss: 21.338608741760254\n",
      "Epoch: 850\tTrain loss: 20.732859420776368\n",
      "Epoch: 900\tTrain loss: 20.60249481201172\n",
      "Epoch: 950\tTrain loss: 20.638310050964357\n",
      "Model 4:\tcoverage: 0.9160000085830688\twidths: [25.305753707885742, 30.610931396484375, 35.61184310913086, 37.288902282714844, 38.91567611694336]\n",
      "Epoch: 0\tTrain loss: 100.86189193725586\n",
      "Epoch: 50\tTrain loss: 48.56712303161621\n",
      "Epoch: 100\tTrain loss: 45.80906295776367\n",
      "Epoch: 150\tTrain loss: 43.00887565612793\n",
      "Epoch: 200\tTrain loss: 39.48065605163574\n",
      "Epoch: 250\tTrain loss: 36.893212509155276\n",
      "Epoch: 300\tTrain loss: 35.182762908935544\n",
      "Epoch: 350\tTrain loss: 34.166028594970705\n",
      "Epoch: 400\tTrain loss: 32.25402145385742\n",
      "Epoch: 450\tTrain loss: 32.003812599182126\n",
      "Epoch: 500\tTrain loss: 30.885624504089357\n",
      "Epoch: 550\tTrain loss: 30.136153984069825\n",
      "Epoch: 600\tTrain loss: 30.74670124053955\n",
      "Epoch: 650\tTrain loss: 28.946650886535643\n",
      "Epoch: 700\tTrain loss: 30.073575592041017\n",
      "Epoch: 750\tTrain loss: 36.32210140228271\n",
      "Epoch: 800\tTrain loss: 30.733696746826173\n",
      "Epoch: 850\tTrain loss: 29.88876094818115\n",
      "Epoch: 900\tTrain loss: 30.015406799316406\n",
      "Epoch: 950\tTrain loss: 31.27860908508301\n",
      "Model 5:\tcoverage: 0.9200000166893005\twidths: [28.161285400390625, 33.78194808959961, 38.835079193115234, 42.88496780395508, 46.091373443603516]\n"
     ]
    }
   ],
   "source": [
    "from models.conformal import ConformalForecaster\n",
    "from utils.make_data import generate_autoregressive_forecast_dataset, seasonal\n",
    "\n",
    "# Dataset size\n",
    "n_train_samples = 1000\n",
    "n_calibration_samples = 1000\n",
    "n_test_samples = 500\n",
    "\n",
    "# Time series parameters\n",
    "seq_len = 10\n",
    "horizon = 5\n",
    "noise_profile = None\n",
    "periodicity = None\n",
    "amplitude = 1\n",
    "dynamic_sequence_lengths=False\n",
    "\n",
    "# LSTM parameters\n",
    "epochs=1000\n",
    "batch_size=100\n",
    "embedding_size=20\n",
    "coverage=0.9\n",
    "lr=0.01\n",
    "\n",
    "results_time_dependent_noise_no_periodic = []\n",
    "models = []\n",
    "test_datasets = []\n",
    "for i in range(1, 6):\n",
    "    noise_profile = [0.1 * i * k for k in range(seq_len + horizon)]\n",
    "    train_dataset_x = generate_autoregressive_forecast_dataset(n_samples=n_train_samples, \n",
    "                                                               seq_len=seq_len, \n",
    "                                                               horizon=horizon, \n",
    "                                                               periodicity=periodicity,\n",
    "                                                               noise_profile=noise_profile, \n",
    "                                                               amplitude=amplitude,\n",
    "                                                               dynamic_sequence_lengths=dynamic_sequence_lengths)\n",
    "    calibration_dataset_x = generate_autoregressive_forecast_dataset(n_samples=n_calibration_samples, \n",
    "                                                                   seq_len=seq_len, \n",
    "                                                                   horizon=horizon, \n",
    "                                                                   periodicity=periodicity,\n",
    "                                                                   noise_profile=noise_profile, \n",
    "                                                                   amplitude=amplitude,\n",
    "                                                                   dynamic_sequence_lengths=dynamic_sequence_lengths)\n",
    "    test_dataset_x = generate_autoregressive_forecast_dataset(n_samples=n_test_samples, \n",
    "                                                                   seq_len=seq_len, \n",
    "                                                                   horizon=horizon, \n",
    "                                                                   periodicity=periodicity,\n",
    "                                                                   noise_profile=noise_profile, \n",
    "                                                                   amplitude=amplitude,\n",
    "                                                                   dynamic_sequence_lengths=dynamic_sequence_lengths)\n",
    "    model_x = ConformalForecaster(embedding_size=embedding_size, horizon=horizon, error_rate=1-coverage)\n",
    "    \n",
    "    model_x.fit(train_dataset_x, calibration_dataset_x, epochs=epochs, lr=lr, batch_size=batch_size)\n",
    "    \n",
    "    coverages, intervals = model_x.evaluate_coverage(test_dataset_x)\n",
    "    mean_coverage = torch.mean(coverages.float(), dim=0).item()\n",
    "    interval_widths = (intervals[:, 1] - intervals[:, 0]).squeeze().mean(\n",
    "        dim=0).tolist()\n",
    "\n",
    "    result = {'coverages': coverages,\n",
    "               'intervals': intervals,\n",
    "               'mean_coverage': mean_coverage,\n",
    "               'interval_widths': interval_widths}\n",
    "    \n",
    "    print('Model {}:\\tcoverage: {}\\twidths: {}'.format(i, result['mean_coverage'], result['interval_widths']))\n",
    "    results_time_dependent_noise_no_periodic.append(result)\n",
    "    \n",
    "    models.append(model_x)\n",
    "    test_datasets.append(test_dataset_x)"
   ]
  },
  {
   "cell_type": "code",
   "execution_count": 1022,
   "id": "under-video",
   "metadata": {},
   "outputs": [],
   "source": [
    "with open('results_1000_epochs_results_time_dependent_noise_no_periodic.pkl', 'wb') as output:\n",
    "    pickle.dump(results_time_dynamic_noise_no_periodic, output, pickle.HIGHEST_PROTOCOL)"
   ]
  },
  {
   "cell_type": "code",
   "execution_count": 1027,
   "id": "appropriate-signature",
   "metadata": {},
   "outputs": [],
   "source": [
    "with open('results_1000_epochs_results_time_dependent_noise_no_periodic.pkl', 'rb') as f:\n",
    "    results_time_dynamic_noise_no_periodic = pickle.load(f)"
   ]
  },
  {
   "cell_type": "code",
   "execution_count": 1028,
   "id": "golden-coalition",
   "metadata": {},
   "outputs": [
    {
     "name": "stdout",
     "output_type": "stream",
     "text": [
      "0.9399999976158142\n",
      "0.9039999842643738\n",
      "0.9139999747276306\n",
      "0.9100000262260437\n",
      "0.9079999923706055\n"
     ]
    }
   ],
   "source": [
    "for result in results_time_dynamic_noise_no_periodic:\n",
    "    print(result['mean_coverage'])"
   ]
  },
  {
   "cell_type": "code",
   "execution_count": 1031,
   "id": "affecting-activation",
   "metadata": {},
   "outputs": [
    {
     "name": "stdout",
     "output_type": "stream",
     "text": [
      "21.269060707092287 4.723428076212273\n",
      "20.919184112548827 3.1121865379590186\n",
      "28.402471923828124 5.921233599293254\n",
      "33.2564136505127 5.212662649180631\n",
      "39.42118530273437 5.605765149860427\n"
     ]
    }
   ],
   "source": [
    "for result in results_time_dynamic_noise_no_periodic:\n",
    "    print(np.mean(result['interval_widths']), np.std(result['interval_widths']))"
   ]
  },
  {
   "cell_type": "code",
   "execution_count": 1026,
   "id": "infectious-riding",
   "metadata": {},
   "outputs": [
    {
     "name": "stdout",
     "output_type": "stream",
     "text": [
      "0.9340000152587891\n",
      "0.9419999718666077\n",
      "0.9319999814033508\n",
      "0.9599999785423279\n",
      "0.9259999990463257\n"
     ]
    }
   ],
   "source": [
    "for result in results_static_noise_no_periodic:\n",
    "    print(result['mean_coverage'])"
   ]
  },
  {
   "cell_type": "code",
   "execution_count": 1032,
   "id": "egyptian-outline",
   "metadata": {},
   "outputs": [
    {
     "name": "stdout",
     "output_type": "stream",
     "text": [
      "18.98226318359375 4.399156436727257\n",
      "18.958587837219238 4.600028160168579\n",
      "16.47946090698242 3.8880627418537834\n",
      "19.227809333801268 4.537699392235461\n",
      "18.278448486328124 3.8197988884793235\n"
     ]
    }
   ],
   "source": [
    "for result in results_static_noise_no_periodic:\n",
    "    print(np.mean(result['interval_widths']), np.std(result['interval_widths']))"
   ]
  },
  {
   "cell_type": "code",
   "execution_count": 1033,
   "id": "surface-consistency",
   "metadata": {},
   "outputs": [
    {
     "data": {
      "text/plain": [
       "(33.828432782, 2.491333472113982)"
      ]
     },
     "execution_count": 1033,
     "metadata": {},
     "output_type": "execute_result"
    }
   ],
   "source": [
    "np.mean([29.70712175, 32.2419688,  36.25516169, 35.82950735, 35.10840432]), np.std([29.70712175, 32.2419688,  36.25516169, 35.82950735, 35.10840432])"
   ]
  },
  {
   "cell_type": "code",
   "execution_count": 1133,
   "id": "banned-bradford",
   "metadata": {},
   "outputs": [],
   "source": [
    "def plot_compare(datasets, coverages, intervals, idx=None, forecast_only=False):\n",
    "    fig, axs = plt.subplots(nrows=1, ncols=len(datasets), figsize=(30, 4), sharey=True)\n",
    "    \n",
    "    if idx is None:\n",
    "        idx = range(len(datasets[0]))\n",
    "    \n",
    "    \n",
    "    \n",
    "    for j, ax in enumerate(axs.flat):\n",
    "        i = np.random.choice(idx)\n",
    "        dataset = datasets[j]\n",
    "        \n",
    "        if j == 0:\n",
    "            ax.set(ylabel='Prediction')\n",
    "        \n",
    "        # Derive unpadded sequences and targets\n",
    "        sequence, target, length = dataset[i]\n",
    "        \n",
    "        interval = intervals[j]\n",
    "        \n",
    "        horizon = min(len(target), length)\n",
    "        sequence, target = sequence[:length].flatten().tolist(), target[:horizon].flatten().tolist()\n",
    "        \n",
    "        if not forecast_only:\n",
    "            # (Scatter)plot of the time series\n",
    "            ax.plot(range(1, length+1), sequence, color=\"black\")\n",
    "            \n",
    "            # Prediction start vertical\n",
    "            ax.axvline(length, linestyle=\"--\", color=\"black\")\n",
    "        \n",
    "        ax.scatter(range(length + 1, length + horizon + 1), target, color=\"black\")\n",
    "        \n",
    "        # Interval boundaries\n",
    "        lower = [sequence[-1]] + interval[i, 0].flatten().tolist()[:horizon]\n",
    "        upper = [sequence[-1]] + interval[i, 1].flatten().tolist()[:horizon]\n",
    "        pred = [sequence[-1]] + (interval[i, 0] + (interval[i, 1] - interval[i, 0]) / 2).flatten().tolist()[:horizon]\n",
    "        \n",
    "        ax.fill_between(range(length, length + horizon + 1), lower, upper, color=\"r\", alpha=0.25)\n",
    "        ax.plot(range(length, length + horizon + 1), lower, linestyle=\"--\", color=\"r\")\n",
    "        ax.plot(range(length, length + horizon + 1), upper, linestyle=\"--\", color=\"r\")\n",
    "        ax.plot(range(length, length + horizon + 1), pred, linestyle=\"--\", linewidth=3, color=\"r\")\n",
    "\n",
    "#         ax.set(ylabel='Prediction')\n",
    "        ax.set(xlabel='Time step')\n",
    "        ax.set_title('$\\sigma_t^2$={:.1f}$t$'.format(0.1 * (j+1)))\n",
    "    \n",
    "#     plt.xlabel('Time step')\n",
    "#     plt.ylabel('Prediction')\n",
    "    plt.subplots_adjust(wspace=0.1, hspace=0)\n",
    "    plt.savefig('time_dependent_noise.png', bbox_inches='tight')\n",
    "    plt.show()"
   ]
  },
  {
   "cell_type": "code",
   "execution_count": 1137,
   "id": "extraordinary-carnival",
   "metadata": {},
   "outputs": [
    {
     "data": {
      "image/png": "[encoded data removed]",
      "text/plain": [
       "<Figure size 2160x288 with 5 Axes>"
      ]
     },
     "metadata": {
      "needs_background": "light"
     },
     "output_type": "display_data"
    }
   ],
   "source": [
    "plot_compare(test_datasets, all_coverages, all_intervals)\n"
   ]
  },
  {
   "cell_type": "code",
   "execution_count": 1049,
   "id": "modified-people",
   "metadata": {},
   "outputs": [],
   "source": [
    "all_coverages = [result['coverages'] for result in results_time_dependent_noise_no_periodic]\n",
    "all_intervals = [result['intervals'] for result in results_time_dependent_noise_no_periodic]"
   ]
  },
  {
   "cell_type": "code",
   "execution_count": null,
   "id": "boring-luxury",
   "metadata": {},
   "outputs": [],
   "source": []
  }
 ],
 "metadata": {
  "kernelspec": {
   "display_name": "Python 3",
   "language": "python",
   "name": "python3"
  },
  "language_info": {
   "codemirror_mode": {
    "name": "ipython",
    "version": 3
   },
   "file_extension": ".py",
   "mimetype": "text/x-python",
   "name": "python",
   "nbconvert_exporter": "python",
   "pygments_lexer": "ipython3",
   "version": "3.7.9"
  }
 },
 "nbformat": 4,
 "nbformat_minor": 5
}
