{
 "cells": [
  {
   "cell_type": "code",
   "execution_count": 1,
   "id": "professional-furniture",
   "metadata": {},
   "outputs": [],
   "source": [
    "import torch\n",
    "import numpy as np"
   ]
  },
  {
   "cell_type": "code",
   "execution_count": 3,
   "id": "wired-prince",
   "metadata": {},
   "outputs": [],
   "source": [
    "from utils.make_data import autoregressive, generate_autoregressive_forecast_dataset\n",
    "from models.conformal import nonconformity, cover, ConformalForecaster"
   ]
  },
  {
   "cell_type": "code",
   "execution_count": 4,
   "id": "organizational-vancouver",
   "metadata": {},
   "outputs": [],
   "source": [
    "train_dataset = generate_autoregressive_forecast_dataset(n_samples=1000, seq_len=100, horizon=10)\n",
    "calibration_dataset = generate_autoregressive_forecast_dataset(n_samples=1000, seq_len=100, horizon=10)\n",
    "test_dataset = generate_autoregressive_forecast_dataset(n_samples=100, seq_len=100, horizon=10)"
   ]
  },
  {
   "cell_type": "code",
   "execution_count": 5,
   "id": "political-thesis",
   "metadata": {},
   "outputs": [],
   "source": [
    "model = ConformalForecaster(embedding_size=8, horizon=10, error_rate=0.05)"
   ]
  },
  {
   "cell_type": "code",
   "execution_count": 6,
   "id": "processed-worst",
   "metadata": {},
   "outputs": [
    {
     "name": "stdout",
     "output_type": "stream",
     "text": [
      "Epoch: 0\tTrain loss: 117.00947952270508\n",
      "Epoch: 50\tTrain loss: 15.443363380432128\n"
     ]
    }
   ],
   "source": [
    "model.fit(train_dataset, calibration_dataset, epochs=100, lr=0.01, batch_size=100)"
   ]
  },
  {
   "cell_type": "code",
   "execution_count": 10,
   "id": "progressive-fifty",
   "metadata": {},
   "outputs": [
    {
     "name": "stdout",
     "output_type": "stream",
     "text": [
      "Achieved coverage: 0.71\n"
     ]
    }
   ],
   "source": [
    "test_dataset = generate_autoregressive_forecast_dataset(n_samples=100, seq_len=100, horizon=10)\n",
    "model.eval()\n",
    "c = []\n",
    "for sequences, target in test_dataset:\n",
    "    sequences = sequences.unsqueeze(dim=0)\n",
    "    out = model(sequences).squeeze()\n",
    "    pred = torch.vstack([out - model.critical_calibration_scores,\n",
    "                         out + model.critical_calibration_scores]).T\n",
    "    c.append(cover(pred, target))\n",
    "print('Achieved coverage: {}'.format(np.mean(c)))"
   ]
  },
  {
   "cell_type": "code",
   "execution_count": null,
   "id": "touched-remedy",
   "metadata": {},
   "outputs": [],
   "source": []
  }
 ],
 "metadata": {
  "kernelspec": {
   "display_name": "Python 3",
   "language": "python",
   "name": "python3"
  },
  "language_info": {
   "codemirror_mode": {
    "name": "ipython",
    "version": 3
   },
   "file_extension": ".py",
   "mimetype": "text/x-python",
   "name": "python",
   "nbconvert_exporter": "python",
   "pygments_lexer": "ipython3",
   "version": "3.7.9"
  }
 },
 "nbformat": 4,
 "nbformat_minor": 5
}