{
 "cells": [
  {
   "cell_type": "code",
   "execution_count": 9,
   "id": "e8602d8b-cb7c-488b-9787-1e624204f8f2",
   "metadata": {},
   "outputs": [
    {
     "name": "stdout",
     "output_type": "stream",
     "text": [
      "The autoreload extension is already loaded. To reload it, use:\n",
      "  %reload_ext autoreload\n"
     ]
    }
   ],
   "source": [
    "%load_ext autoreload\n",
    "%autoreload 2\n",
    "\n",
    "import pickle\n",
    "import numpy as np\n",
    "import matplotlib.pyplot as plt"
   ]
  },
  {
   "cell_type": "code",
   "execution_count": 2,
   "id": "320dd9be-5f0c-4685-b068-677c5de4ce2d",
   "metadata": {},
   "outputs": [],
   "source": [
    "from utils.train_medical import run_mimic_experiments, run_eeg_experiments, run_medical_experiments"
   ]
  },
  {
   "cell_type": "markdown",
   "id": "25f26614-5553-437b-9af5-2618e9aec6f1",
   "metadata": {},
   "source": [
    "# MIMIC-III: forecasting white blood cell count"
   ]
  },
  {
   "cell_type": "code",
   "execution_count": 3,
   "id": "418b0da7-a749-471e-9fec-9bca56da50ec",
   "metadata": {},
   "outputs": [
    {
     "name": "stdout",
     "output_type": "stream",
     "text": [
      "Training CPRNN\n",
      "Epoch: 0\tTrain loss: 156.74915640694755\n",
      "Epoch: 50\tTrain loss: 53.13235078539167\n",
      "Epoch: 100\tTrain loss: 53.64533070155552\n",
      "Epoch: 150\tTrain loss: 51.56313732692173\n",
      "Epoch: 200\tTrain loss: 55.60751519884382\n",
      "Epoch: 250\tTrain loss: 51.39998326982771\n",
      "Epoch: 300\tTrain loss: 50.69910785130092\n",
      "Epoch: 350\tTrain loss: 51.46189144679478\n",
      "Epoch: 400\tTrain loss: 51.4951046534947\n",
      "Epoch: 450\tTrain loss: 51.346938133239746\n",
      "Epoch: 500\tTrain loss: 52.24199744633266\n",
      "Epoch: 550\tTrain loss: 52.51100335802351\n",
      "Epoch: 600\tTrain loss: 50.9170960017613\n",
      "Epoch: 650\tTrain loss: 55.39422171456473\n",
      "Epoch: 700\tTrain loss: 67.61379609789167\n",
      "Epoch: 750\tTrain loss: 50.58711297171457\n",
      "Epoch: 800\tTrain loss: 51.071151869637625\n",
      "Epoch: 850\tTrain loss: 50.609366689409526\n",
      "Epoch: 900\tTrain loss: 51.22157260349819\n",
      "Epoch: 950\tTrain loss: 51.123785155160085\n",
      "Training QRNN\n",
      "Epoch:  0 | train loss: 2.4016\n",
      "Epoch:  1 | train loss: 1.7792\n",
      "Epoch:  2 | train loss: 1.4248\n",
      "Epoch:  3 | train loss: 1.1771\n",
      "Epoch:  4 | train loss: 1.6504\n",
      "Epoch:  5 | train loss: 1.1324\n",
      "Epoch:  6 | train loss: 1.2462\n",
      "Epoch:  7 | train loss: 1.7878\n",
      "Epoch:  8 | train loss: 1.2373\n",
      "Epoch:  9 | train loss: 1.1860\n",
      "Training DPRNN\n",
      "Epoch:  0 | train loss: 74.2658\n",
      "Epoch:  1 | train loss: 37.2284\n",
      "Epoch:  2 | train loss: 63.0646\n",
      "Epoch:  3 | train loss: 51.7807\n",
      "Epoch:  4 | train loss: 44.6597\n",
      "Epoch:  5 | train loss: 10.2365\n",
      "Epoch:  6 | train loss: 12.7850\n",
      "Epoch:  7 | train loss: 7.7949\n",
      "Epoch:  8 | train loss: 11.3807\n",
      "Epoch:  9 | train loss: 11.3964\n"
     ]
    }
   ],
   "source": [
    "mimic_results = run_medical_experiments(retrain=True, dataset='mimic')"
   ]
  },
  {
   "cell_type": "markdown",
   "id": "084ed32a-2470-415c-aa6d-38f4c1d533fb",
   "metadata": {},
   "source": [
    "# EEG dataset: forecasting EEG signals\n",
    "Signals come from different distributions. Patients are shown different combinations of stimuli, and the recordings are taken from different parts of the brain.\n",
    "\n",
    "Split 896 training instances to 600 / 296 true training/calibration.\n",
    "\n",
    "(if using control data only, then 448 = 300 + 148)\n",
    "\n",
    "Downsample training sequences to 50 steps\n",
    "* 40 steps input, 10 prediction"
   ]
  },
  {
   "cell_type": "code",
   "execution_count": 4,
   "id": "2303b3ee-c6f0-4999-8624-e504ab66c5eb",
   "metadata": {},
   "outputs": [
    {
     "name": "stdout",
     "output_type": "stream",
     "text": [
      "Training CPRNN\n",
      "Epoch: 0\tTrain loss: 178.0243228430887\n",
      "Epoch: 50\tTrain loss: 79.83200954696507\n",
      "Training QRNN\n",
      "Epoch:  0 | train loss: 2.4025\n",
      "Epoch:  1 | train loss: 4.0240\n",
      "Epoch:  2 | train loss: 2.2210\n",
      "Epoch:  3 | train loss: 1.5019\n",
      "Epoch:  4 | train loss: 1.5708\n",
      "Epoch:  5 | train loss: 1.1723\n",
      "Epoch:  6 | train loss: 1.7083\n",
      "Epoch:  7 | train loss: 1.2255\n",
      "Epoch:  8 | train loss: 1.6199\n",
      "Epoch:  9 | train loss: 1.2447\n",
      "Training DPRNN\n",
      "Epoch:  0 | train loss: 76.9477\n",
      "Epoch:  1 | train loss: 112.3602\n",
      "Epoch:  2 | train loss: 117.2525\n",
      "Epoch:  3 | train loss: 111.4457\n",
      "Epoch:  4 | train loss: 62.4106\n",
      "Epoch:  5 | train loss: 106.0785\n",
      "Epoch:  6 | train loss: 94.1434\n",
      "Epoch:  7 | train loss: 115.3275\n",
      "Epoch:  8 | train loss: 132.0747\n",
      "Epoch:  9 | train loss: 84.9091\n"
     ]
    }
   ],
   "source": [
    "eeg_results = run_medical_experiments(retrain=True, dataset='eeg')"
   ]
  },
  {
   "cell_type": "markdown",
   "id": "9f9ef4c7-3d17-4969-825f-d5bb23be825c",
   "metadata": {},
   "source": [
    "## The results"
   ]
  },
  {
   "cell_type": "markdown",
   "id": "06633d01-34d0-46c6-9124-e5ff254815e1",
   "metadata": {},
   "source": [
    "### MIMIC"
   ]
  },
  {
   "cell_type": "code",
   "execution_count": 7,
   "id": "66a680d3-8ca2-44db-aac6-0e735e9925f0",
   "metadata": {},
   "outputs": [
    {
     "data": {
      "text/plain": [
       "dict_keys(['Point predictions', 'Errors', 'Independent coverage indicators', 'Joint coverage indicators', 'Upper limit', 'Lower limit', 'Mean independent coverage', 'Mean joint coverage', 'Confidence interval widths', 'Mean confidence interval widths'])"
      ]
     },
     "execution_count": 7,
     "metadata": {},
     "output_type": "execute_result"
    }
   ],
   "source": [
    "mimic_results['CPRNN'].keys()"
   ]
  },
  {
   "cell_type": "markdown",
   "id": "c09cd0bf-e070-4bad-81d6-341bae24c32b",
   "metadata": {},
   "source": [
    "**Joint coverage**"
   ]
  },
  {
   "cell_type": "code",
   "execution_count": 6,
   "id": "0c5cc538-1099-470d-bb89-ac0f5445362b",
   "metadata": {},
   "outputs": [
    {
     "name": "stdout",
     "output_type": "stream",
     "text": [
      "0.406\n",
      "0.884\n",
      "0.9340000152587891\n"
     ]
    }
   ],
   "source": [
    "mimic_results = run_medical_experiments(dataset='mimic')\n",
    "for baseline in ['DPRNN', 'QRNN', 'CPRNN']:\n",
    "    print(mimic_results[baseline]['Mean joint coverage'])"
   ]
  },
  {
   "cell_type": "markdown",
   "id": "d1dd9885-cfaa-4aa3-9b56-43f39218b687",
   "metadata": {},
   "source": [
    "**Independent coverage**"
   ]
  },
  {
   "cell_type": "code",
   "execution_count": 8,
   "id": "3a7297c3-6250-4e03-bd5c-df4d0e4a4a9c",
   "metadata": {},
   "outputs": [
    {
     "name": "stdout",
     "output_type": "stream",
     "text": [
      "[0.488 0.446]\n",
      "[0.888 0.9  ]\n",
      "tensor([0.9440, 0.9420])\n"
     ]
    }
   ],
   "source": [
    "mimic_results = run_medical_experiments(dataset='mimic')\n",
    "for baseline in ['DPRNN', 'QRNN', 'CPRNN']:\n",
    "    print(mimic_results[baseline]['Mean independent coverage'])"
   ]
  },
  {
   "cell_type": "markdown",
   "id": "86a864bd-9b70-4170-af03-3bb7265a7b34",
   "metadata": {},
   "source": [
    "**Mean absolute error**"
   ]
  },
  {
   "cell_type": "code",
   "execution_count": 16,
   "id": "0de9dbe5-e925-4742-a28e-7ae64ad7011b",
   "metadata": {},
   "outputs": [
    {
     "name": "stdout",
     "output_type": "stream",
     "text": [
      "[1.927075   2.21184482] 2.0694599076459554\n",
      "[4.81655517 4.92795841] 4.872256786923633\n",
      "tensor([4.5027, 4.4842], grad_fn=<MeanBackward1>) tensor(4.4935, grad_fn=<MeanBackward0>)\n"
     ]
    }
   ],
   "source": [
    "mimic_results = run_medical_experiments(dataset='mimic')\n",
    "for baseline in ['DPRNN', 'QRNN', 'CPRNN']:\n",
    "    print(mimic_results[baseline]['Errors'].mean(axis=0), mimic_results[baseline]['Errors'].mean())"
   ]
  },
  {
   "cell_type": "markdown",
   "id": "22b2e890-412c-4772-a2a8-48f54d040b90",
   "metadata": {},
   "source": [
    "### EEG"
   ]
  },
  {
   "cell_type": "code",
   "execution_count": 17,
   "id": "79ab5459-866f-4df8-a882-0809bc46bfb7",
   "metadata": {},
   "outputs": [
    {
     "data": {
      "text/plain": [
       "dict_keys(['Point predictions', 'Errors', 'Independent coverage indicators', 'Joint coverage indicators', 'Upper limit', 'Lower limit', 'Mean independent coverage', 'Mean joint coverage', 'Confidence interval widths', 'Mean confidence interval widths'])"
      ]
     },
     "execution_count": 17,
     "metadata": {},
     "output_type": "execute_result"
    }
   ],
   "source": [
    "eeg_results['CPRNN'].keys()"
   ]
  },
  {
   "cell_type": "markdown",
   "id": "5632b61b-f535-4812-a389-084939062133",
   "metadata": {},
   "source": [
    "**Joint coverage**"
   ]
  },
  {
   "cell_type": "code",
   "execution_count": 18,
   "id": "5285e523-2eee-4f46-bc9b-4fb7d9ab5ad6",
   "metadata": {},
   "outputs": [
    {
     "name": "stdout",
     "output_type": "stream",
     "text": [
      "0.03697916666666667\n",
      "0.48333333333333334\n",
      "0.9624479413032532\n"
     ]
    }
   ],
   "source": [
    "mimic_results = run_medical_experiments(dataset='mimic')\n",
    "for baseline in ['DPRNN', 'QRNN', 'CPRNN']:\n",
    "    print(eeg_results[baseline]['Mean joint coverage'])"
   ]
  },
  {
   "cell_type": "markdown",
   "id": "c8c49e29-0029-4f59-9e57-6d41d16532b9",
   "metadata": {},
   "source": [
    "**Independent coverage**"
   ]
  },
  {
   "cell_type": "code",
   "execution_count": 21,
   "id": "94779fa9-0bb2-405d-b684-29689a352bde",
   "metadata": {},
   "outputs": [
    {
     "name": "stdout",
     "output_type": "stream",
     "text": [
      "[0.54802083 0.47260417 0.44598958 0.45963542 0.44895833 0.38666667\n",
      " 0.35869792 0.39276042 0.40338542 0.41234375]\n",
      "0.43290625\n",
      "\n",
      "[0.87979167 0.86119792 0.85307292 0.87854167 0.9021875  0.89640625\n",
      " 0.88052083 0.88921875 0.89645833 0.87557292]\n",
      "0.881296875\n",
      "\n",
      "tensor([0.9834, 0.9874, 0.9880, 0.9913, 0.9957, 0.9959, 0.9964, 0.9945, 0.9956,\n",
      "        0.9955])\n",
      "tensor(0.9924)\n",
      "\n"
     ]
    }
   ],
   "source": [
    "mimic_results = run_medical_experiments(dataset='mimic')\n",
    "for baseline in ['DPRNN', 'QRNN', 'CPRNN']:\n",
    "    independent_coverages = eeg_results[baseline]['Mean independent coverage']\n",
    "    print(independent_coverages)\n",
    "    print(independent_coverages.mean())\n",
    "    print()"
   ]
  },
  {
   "cell_type": "markdown",
   "id": "af9490b4-04b3-4e49-8141-72b3681aae67",
   "metadata": {},
   "source": [
    "**Mean absolute error**"
   ]
  },
  {
   "cell_type": "code",
   "execution_count": 23,
   "id": "70619763-1097-48ba-acbf-b3122de3826a",
   "metadata": {},
   "outputs": [
    {
     "name": "stdout",
     "output_type": "stream",
     "text": [
      "[4.17153255 5.0958436  5.45019966 5.32705752 5.31719101 5.84255341\n",
      " 6.06781587 6.17297151 5.79370593 6.80491573]\n",
      "5.60437868009277\n",
      "\n",
      "[4.17282614 5.17806286 5.62175002 5.54051706 5.42578804 5.75217385\n",
      " 5.92399208 6.03327778 5.50890278 5.84697887]\n",
      "5.500426947043279\n",
      "\n",
      "tensor([3.9408, 4.9060, 5.2894, 5.2271, 5.0685, 5.3623, 5.5810, 5.7798, 5.3333,\n",
      "        5.6978], grad_fn=<MeanBackward1>)\n",
      "tensor(5.2186, grad_fn=<MeanBackward0>)\n",
      "\n"
     ]
    }
   ],
   "source": [
    "mimic_results = run_medical_experiments(dataset='mimic')\n",
    "for baseline in ['DPRNN', 'QRNN', 'CPRNN']:\n",
    "    errors = eeg_results[baseline]['Errors']\n",
    "    print(errors.mean(axis=0)) \n",
    "    print(errors.mean())\n",
    "    print()"
   ]
  },
  {
   "cell_type": "code",
   "execution_count": null,
   "id": "52e62c41-2563-4088-bccb-01c9d15677f0",
   "metadata": {},
   "outputs": [],
   "source": []
  }
 ],
 "metadata": {
  "kernelspec": {
   "display_name": "Python 3",
   "language": "python",
   "name": "python3"
  },
  "language_info": {
   "codemirror_mode": {
    "name": "ipython",
    "version": 3
   },
   "file_extension": ".py",
   "mimetype": "text/x-python",
   "name": "python",
   "nbconvert_exporter": "python",
   "pygments_lexer": "ipython3",
   "version": "3.7.9"
  }
 },
 "nbformat": 4,
 "nbformat_minor": 5
}
