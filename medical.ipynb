{
 "cells": [
  {
   "cell_type": "code",
   "execution_count": 1,
   "id": "e8602d8b-cb7c-488b-9787-1e624204f8f2",
   "metadata": {},
   "outputs": [],
   "source": [
    "%load_ext autoreload\n",
    "%autoreload 2\n",
    "\n",
    "import pickle\n",
    "import numpy as np\n",
    "import matplotlib.pyplot as plt"
   ]
  },
  {
   "cell_type": "code",
   "execution_count": 2,
   "id": "320dd9be-5f0c-4685-b068-677c5de4ce2d",
   "metadata": {},
   "outputs": [],
   "source": [
    "from utils.train_medical import run_mimic_experiments, run_eeg_experiments, run_medical_experiments"
   ]
  },
  {
   "cell_type": "markdown",
   "id": "25f26614-5553-437b-9af5-2618e9aec6f1",
   "metadata": {},
   "source": [
    "# MIMIC-III: forecasting white blood cell count"
   ]
  },
  {
   "cell_type": "code",
   "execution_count": 3,
   "id": "418b0da7-a749-471e-9fec-9bca56da50ec",
   "metadata": {},
   "outputs": [
    {
     "name": "stdout",
     "output_type": "stream",
     "text": [
      "Training CPRNN\n",
      "Epoch: 0\tTrain loss: 156.74915640694755\n",
      "Epoch: 50\tTrain loss: 53.13235078539167\n",
      "Epoch: 100\tTrain loss: 53.64533070155552\n",
      "Epoch: 150\tTrain loss: 51.56313732692173\n",
      "Epoch: 200\tTrain loss: 55.60751519884382\n",
      "Epoch: 250\tTrain loss: 51.39998326982771\n",
      "Epoch: 300\tTrain loss: 50.69910785130092\n",
      "Epoch: 350\tTrain loss: 51.46189144679478\n",
      "Epoch: 400\tTrain loss: 51.4951046534947\n",
      "Epoch: 450\tTrain loss: 51.346938133239746\n",
      "Epoch: 500\tTrain loss: 52.24199744633266\n",
      "Epoch: 550\tTrain loss: 52.51100335802351\n",
      "Epoch: 600\tTrain loss: 50.9170960017613\n",
      "Epoch: 650\tTrain loss: 55.39422171456473\n",
      "Epoch: 700\tTrain loss: 67.61379609789167\n",
      "Epoch: 750\tTrain loss: 50.58711297171457\n",
      "Epoch: 800\tTrain loss: 51.071151869637625\n",
      "Epoch: 850\tTrain loss: 50.609366689409526\n",
      "Epoch: 900\tTrain loss: 51.22157260349819\n",
      "Epoch: 950\tTrain loss: 51.123785155160085\n",
      "Training QRNN\n",
      "Epoch:  0 | train loss: 2.4016\n",
      "Epoch:  1 | train loss: 1.7792\n",
      "Epoch:  2 | train loss: 1.4248\n",
      "Epoch:  3 | train loss: 1.1771\n",
      "Epoch:  4 | train loss: 1.6504\n",
      "Epoch:  5 | train loss: 1.1324\n",
      "Epoch:  6 | train loss: 1.2462\n",
      "Epoch:  7 | train loss: 1.7878\n",
      "Epoch:  8 | train loss: 1.2373\n",
      "Epoch:  9 | train loss: 1.1860\n",
      "Training DPRNN\n",
      "Epoch:  0 | train loss: 74.2658\n",
      "Epoch:  1 | train loss: 37.2284\n",
      "Epoch:  2 | train loss: 63.0646\n",
      "Epoch:  3 | train loss: 51.7807\n",
      "Epoch:  4 | train loss: 44.6597\n",
      "Epoch:  5 | train loss: 10.2365\n",
      "Epoch:  6 | train loss: 12.7850\n",
      "Epoch:  7 | train loss: 7.7949\n",
      "Epoch:  8 | train loss: 11.3807\n",
      "Epoch:  9 | train loss: 11.3964\n"
     ]
    }
   ],
   "source": [
    "mimic_results = run_medical_experiments(retrain=False, dataset='mimic')"
   ]
  },
  {
   "cell_type": "markdown",
   "id": "084ed32a-2470-415c-aa6d-38f4c1d533fb",
   "metadata": {},
   "source": [
    "# EEG dataset: forecasting EEG signals\n",
    "Signals come from different distributions. Patients are shown different combinations of stimuli, and the recordings are taken from different parts of the brain.\n",
    "\n",
    "Split 896 training instances to 600 / 296 true training/calibration.\n",
    "\n",
    "(if using control data only, then 448 = 300 + 148)\n",
    "\n",
    "Downsample training sequences to 50 steps\n",
    "* 40 steps input, 10 prediction"
   ]
  },
  {
   "cell_type": "code",
   "execution_count": 4,
   "id": "2303b3ee-c6f0-4999-8624-e504ab66c5eb",
   "metadata": {},
   "outputs": [
    {
     "name": "stdout",
     "output_type": "stream",
     "text": [
      "Training CPRNN\n",
      "Epoch: 0\tTrain loss: 178.0243228430887\n",
      "Epoch: 50\tTrain loss: 79.83200954696507\n",
      "Training QRNN\n",
      "Epoch:  0 | train loss: 2.4025\n",
      "Epoch:  1 | train loss: 4.0240\n",
      "Epoch:  2 | train loss: 2.2210\n",
      "Epoch:  3 | train loss: 1.5019\n",
      "Epoch:  4 | train loss: 1.5708\n",
      "Epoch:  5 | train loss: 1.1723\n",
      "Epoch:  6 | train loss: 1.7083\n",
      "Epoch:  7 | train loss: 1.2255\n",
      "Epoch:  8 | train loss: 1.6199\n",
      "Epoch:  9 | train loss: 1.2447\n",
      "Training DPRNN\n",
      "Epoch:  0 | train loss: 76.9477\n",
      "Epoch:  1 | train loss: 112.3602\n",
      "Epoch:  2 | train loss: 117.2525\n",
      "Epoch:  3 | train loss: 111.4457\n",
      "Epoch:  4 | train loss: 62.4106\n",
      "Epoch:  5 | train loss: 106.0785\n",
      "Epoch:  6 | train loss: 94.1434\n",
      "Epoch:  7 | train loss: 115.3275\n",
      "Epoch:  8 | train loss: 132.0747\n",
      "Epoch:  9 | train loss: 84.9091\n"
     ]
    }
   ],
   "source": [
    "eeg_results = run_medical_experiments(retrain=False, dataset='eeg')"
   ]
  },
  {
   "cell_type": "markdown",
   "id": "20370c7c-eaca-49aa-8e45-7f91c01c4faa",
   "metadata": {},
   "source": [
    "## COVID-19: forecasting daily cases"
   ]
  },
  {
   "cell_type": "code",
   "execution_count": null,
   "id": "84cb28a9-05b8-4be6-9656-44cc61953beb",
   "metadata": {},
   "outputs": [],
   "source": [
    "eeg_results = run_medical_experiments(retrain=False, dataset='covid')"
   ]
  },
  {
   "cell_type": "markdown",
   "id": "9f9ef4c7-3d17-4969-825f-d5bb23be825c",
   "metadata": {},
   "source": [
    "## The results"
   ]
  },
  {
   "cell_type": "markdown",
   "id": "06633d01-34d0-46c6-9124-e5ff254815e1",
   "metadata": {},
   "source": [
    "### MIMIC"
   ]
  },
  {
   "cell_type": "code",
   "execution_count": null,
   "id": "c37e7142-108d-4121-a1db-efd667268c48",
   "metadata": {},
   "outputs": [],
   "source": [
    "mimic_results = run_medical_experiments(dataset='mimic')"
   ]
  },
  {
   "cell_type": "code",
   "execution_count": 7,
   "id": "66a680d3-8ca2-44db-aac6-0e735e9925f0",
   "metadata": {},
   "outputs": [
    {
     "data": {
      "text/plain": [
       "dict_keys(['Point predictions', 'Errors', 'Independent coverage indicators', 'Joint coverage indicators', 'Upper limit', 'Lower limit', 'Mean independent coverage', 'Mean joint coverage', 'Confidence interval widths', 'Mean confidence interval widths'])"
      ]
     },
     "execution_count": 7,
     "metadata": {},
     "output_type": "execute_result"
    }
   ],
   "source": [
    "mimic_results['CPRNN'].keys()"
   ]
  },
  {
   "cell_type": "markdown",
   "id": "c09cd0bf-e070-4bad-81d6-341bae24c32b",
   "metadata": {},
   "source": [
    "**Joint coverage**"
   ]
  },
  {
   "cell_type": "code",
   "execution_count": 6,
   "id": "0c5cc538-1099-470d-bb89-ac0f5445362b",
   "metadata": {},
   "outputs": [
    {
     "name": "stdout",
     "output_type": "stream",
     "text": [
      "0.406\n",
      "0.884\n",
      "0.9340000152587891\n"
     ]
    }
   ],
   "source": [
    "for baseline in ['DPRNN', 'QRNN', 'CPRNN']:\n",
    "    print(mimic_results[baseline]['Mean joint coverage'])"
   ]
  },
  {
   "cell_type": "markdown",
   "id": "d1dd9885-cfaa-4aa3-9b56-43f39218b687",
   "metadata": {},
   "source": [
    "**Independent coverage**"
   ]
  },
  {
   "cell_type": "code",
   "execution_count": 56,
   "id": "3a7297c3-6250-4e03-bd5c-df4d0e4a4a9c",
   "metadata": {},
   "outputs": [
    {
     "name": "stdout",
     "output_type": "stream",
     "text": [
      "[0.488 0.446]\n",
      "[44.6\\%, 48.8\\%]\n",
      "\n",
      "[0.888 0.9  ]\n",
      "[88.8\\%, 90.0\\%]\n",
      "\n",
      "tensor([0.9440, 0.9420])\n",
      "[94.2\\%, 94.4\\%]\n",
      "\n"
     ]
    }
   ],
   "source": [
    "for baseline in ['DPRNN', 'QRNN', 'CPRNN']:\n",
    "    independent_coverages = mimic_results[baseline]['Mean independent coverage']\n",
    "    print(independent_coverages)\n",
    "#     print(mimic_results[baseline]['Mean independent coverage'].mean(), mimic_results[baseline]['Mean independent coverage'].std())\n",
    "    print('[{:.1f}\\\\%, {:.1f}\\\\%]'.format(independent_coverages.min() * 100, independent_coverages.max() * 100))\n",
    "    print()"
   ]
  },
  {
   "cell_type": "markdown",
   "id": "86a864bd-9b70-4170-af03-3bb7265a7b34",
   "metadata": {},
   "source": [
    "**Mean absolute error**"
   ]
  },
  {
   "cell_type": "code",
   "execution_count": 48,
   "id": "0de9dbe5-e925-4742-a28e-7ae64ad7011b",
   "metadata": {},
   "outputs": [
    {
     "name": "stdout",
     "output_type": "stream",
     "text": [
      "[1.927075   2.21184482]\n",
      "2.07 \\(\\pm\\) 2.22\n",
      "\n",
      "[4.81655517 4.92795841]\n",
      "4.87 \\(\\pm\\) 5.16\n",
      "\n",
      "tensor([4.5027, 4.4842], grad_fn=<MeanBackward1>)\n",
      "4.49 \\(\\pm\\) 5.41\n",
      "\n"
     ]
    }
   ],
   "source": [
    "for baseline in ['DPRNN', 'QRNN', 'CPRNN']:\n",
    "    print(mimic_results[baseline]['Errors'].mean(axis=0))\n",
    "    print('{:.2f} \\\\(\\\\pm\\\\) {:.2f}'.format(mimic_results[baseline]['Errors'].mean(), mimic_results[baseline]['Errors'].std()))\n",
    "    print()"
   ]
  },
  {
   "cell_type": "markdown",
   "id": "d74cc699-9ffc-44ca-b2b2-c0e54ca7f043",
   "metadata": {},
   "source": [
    "**Interval widths**"
   ]
  },
  {
   "cell_type": "code",
   "execution_count": 39,
   "id": "bbb06c1e-71b7-49fb-afba-4f6345fbdcb6",
   "metadata": {},
   "outputs": [
    {
     "name": "stdout",
     "output_type": "stream",
     "text": [
      "3.708849 0.0013008118\n",
      "17.327356 0.31484222\n",
      "tensor(22.1189, grad_fn=<MeanBackward0>) tensor(0.0175, grad_fn=<StdBackward0>)\n"
     ]
    }
   ],
   "source": [
    "for baseline in ['DPRNN', 'QRNN', 'CPRNN']:\n",
    "    print(mimic_results[baseline]['Mean confidence interval widths'].mean(), mimic_results[baseline]['Mean confidence interval widths'].std())"
   ]
  },
  {
   "cell_type": "markdown",
   "id": "22b2e890-412c-4772-a2a8-48f54d040b90",
   "metadata": {},
   "source": [
    "### EEG"
   ]
  },
  {
   "cell_type": "code",
   "execution_count": 28,
   "id": "30e77a98-33ed-47d3-8d59-715e7a164e52",
   "metadata": {},
   "outputs": [],
   "source": [
    "eeg_results = run_medical_experiments(dataset='eeg')"
   ]
  },
  {
   "cell_type": "code",
   "execution_count": 17,
   "id": "79ab5459-866f-4df8-a882-0809bc46bfb7",
   "metadata": {},
   "outputs": [
    {
     "data": {
      "text/plain": [
       "dict_keys(['Point predictions', 'Errors', 'Independent coverage indicators', 'Joint coverage indicators', 'Upper limit', 'Lower limit', 'Mean independent coverage', 'Mean joint coverage', 'Confidence interval widths', 'Mean confidence interval widths'])"
      ]
     },
     "execution_count": 17,
     "metadata": {},
     "output_type": "execute_result"
    }
   ],
   "source": [
    "eeg_results['CPRNN'].keys()"
   ]
  },
  {
   "cell_type": "markdown",
   "id": "5632b61b-f535-4812-a389-084939062133",
   "metadata": {},
   "source": [
    "**Joint coverage**"
   ]
  },
  {
   "cell_type": "code",
   "execution_count": 18,
   "id": "5285e523-2eee-4f46-bc9b-4fb7d9ab5ad6",
   "metadata": {},
   "outputs": [
    {
     "name": "stdout",
     "output_type": "stream",
     "text": [
      "0.03697916666666667\n",
      "0.48333333333333334\n",
      "0.9624479413032532\n"
     ]
    }
   ],
   "source": [
    "for baseline in ['DPRNN', 'QRNN', 'CPRNN']:\n",
    "    print(eeg_results[baseline]['Mean joint coverage'])"
   ]
  },
  {
   "cell_type": "markdown",
   "id": "c8c49e29-0029-4f59-9e57-6d41d16532b9",
   "metadata": {},
   "source": [
    "**Independent coverage**"
   ]
  },
  {
   "cell_type": "code",
   "execution_count": 57,
   "id": "94779fa9-0bb2-405d-b684-29689a352bde",
   "metadata": {},
   "outputs": [
    {
     "name": "stdout",
     "output_type": "stream",
     "text": [
      "[0.54802083 0.47260417 0.44598958 0.45963542 0.44895833 0.38666667\n",
      " 0.35869792 0.39276042 0.40338542 0.41234375]\n",
      "[35.9\\%, 54.8\\%]\n",
      "\n",
      "[0.87979167 0.86119792 0.85307292 0.87854167 0.9021875  0.89640625\n",
      " 0.88052083 0.88921875 0.89645833 0.87557292]\n",
      "[85.3\\%, 90.2\\%]\n",
      "\n",
      "tensor([0.9834, 0.9874, 0.9880, 0.9913, 0.9957, 0.9959, 0.9964, 0.9945, 0.9956,\n",
      "        0.9955])\n",
      "[98.3\\%, 99.6\\%]\n",
      "\n"
     ]
    }
   ],
   "source": [
    "for baseline in ['DPRNN', 'QRNN', 'CPRNN']:\n",
    "    independent_coverages = eeg_results[baseline]['Mean independent coverage']\n",
    "    print(independent_coverages)\n",
    "#     print('{:.1f} \\\\(\\\\pm\\\\) {:.1f}\\\\%'.format(independent_coverages.mean() * 100, independent_coverages.std() * 100))\n",
    "    print('[{:.1f}\\\\%, {:.1f}\\\\%]'.format(independent_coverages.min() * 100, independent_coverages.max() * 100))\n",
    "    print()"
   ]
  },
  {
   "cell_type": "markdown",
   "id": "af9490b4-04b3-4e49-8141-72b3681aae67",
   "metadata": {},
   "source": [
    "**Mean absolute error**"
   ]
  },
  {
   "cell_type": "code",
   "execution_count": 51,
   "id": "70619763-1097-48ba-acbf-b3122de3826a",
   "metadata": {},
   "outputs": [
    {
     "name": "stdout",
     "output_type": "stream",
     "text": [
      "[4.17153255 5.0958436  5.45019966 5.32705752 5.31719101 5.84255341\n",
      " 6.06781587 6.17297151 5.79370593 6.80491573]\n",
      "5.60 \\(\\pm\\) 6.29\n",
      "\n",
      "[4.17282614 5.17806286 5.62175002 5.54051706 5.42578804 5.75217385\n",
      " 5.92399208 6.03327778 5.50890278 5.84697887]\n",
      "5.50 \\(\\pm\\) 6.26\n",
      "\n",
      "tensor([3.9408, 4.9060, 5.2894, 5.2271, 5.0685, 5.3623, 5.5810, 5.7798, 5.3333,\n",
      "        5.6978], grad_fn=<MeanBackward1>)\n",
      "5.22 \\(\\pm\\) 5.56\n",
      "\n"
     ]
    }
   ],
   "source": [
    "for baseline in ['DPRNN', 'QRNN', 'CPRNN']:\n",
    "    errors = eeg_results[baseline]['Errors']\n",
    "    print(errors.mean(axis=0)) \n",
    "    print('{:.2f} \\\\(\\\\pm\\\\) {:.2f}'.format(errors.mean(), errors.std()))\n",
    "    print()"
   ]
  },
  {
   "cell_type": "markdown",
   "id": "447ced73-a5eb-4def-a4da-ec6de20bfc0f",
   "metadata": {},
   "source": [
    "**Interval widths**"
   ]
  },
  {
   "cell_type": "code",
   "execution_count": 40,
   "id": "77d6a77b-b064-42a5-837b-1aab33dca596",
   "metadata": {},
   "outputs": [
    {
     "name": "stdout",
     "output_type": "stream",
     "text": [
      "[8.069833  8.346925  8.362585  8.371454  7.9061728 7.4074526 6.7820783\n",
      " 7.6167903 7.5277386 8.71496  ]\n",
      "7.9105988 0.55127597\n",
      "\n",
      "[16.25452  18.90969  20.12203  21.13504  21.987425 23.122583 22.757807\n",
      " 24.13705  23.045837 22.754507]\n",
      "21.42265 2.2708325\n",
      "\n",
      "tensor([30.9324, 42.4698, 47.8244, 52.9717, 61.8503, 67.3673, 71.6503, 66.6332,\n",
      "        60.3954, 60.6945], requires_grad=True)\n",
      "tensor(56.2789, grad_fn=<MeanBackward0>) tensor(12.6907, grad_fn=<StdBackward0>)\n",
      "\n"
     ]
    }
   ],
   "source": [
    "for baseline in ['DPRNN', 'QRNN', 'CPRNN']:\n",
    "    print(eeg_results[baseline]['Mean confidence interval widths'])\n",
    "    print(eeg_results[baseline]['Mean confidence interval widths'].mean(), eeg_results[baseline]['Mean confidence interval widths'].std())\n",
    "    print()"
   ]
  },
  {
   "cell_type": "markdown",
   "id": "f2146f7e-3b11-4103-9313-a849d51d35d8",
   "metadata": {},
   "source": [
    "## COVID"
   ]
  },
  {
   "cell_type": "code",
   "execution_count": 30,
   "id": "993047ae-071d-45da-b9a1-b336d51f8b7d",
   "metadata": {},
   "outputs": [],
   "source": [
    "covid_results = run_medical_experiments(dataset='covid')"
   ]
  },
  {
   "cell_type": "code",
   "execution_count": 31,
   "id": "8c67fa46-6280-4040-a402-d3f10632b612",
   "metadata": {},
   "outputs": [
    {
     "data": {
      "text/plain": [
       "dict_keys(['Point predictions', 'Errors', 'Independent coverage indicators', 'Joint coverage indicators', 'Upper limit', 'Lower limit', 'Mean independent coverage', 'Mean joint coverage', 'Confidence interval widths', 'Mean confidence interval widths'])"
      ]
     },
     "execution_count": 31,
     "metadata": {},
     "output_type": "execute_result"
    }
   ],
   "source": [
    "covid_results['CPRNN'].keys()"
   ]
  },
  {
   "cell_type": "markdown",
   "id": "ba8adf98-e3c9-4cb8-9dd9-bbc64d648eec",
   "metadata": {},
   "source": [
    "**Joint coverage**"
   ]
  },
  {
   "cell_type": "code",
   "execution_count": 32,
   "id": "6b935c92-b210-464f-8679-a35f41fc0a40",
   "metadata": {},
   "outputs": [
    {
     "name": "stdout",
     "output_type": "stream",
     "text": [
      "0.0\n",
      "0.175\n",
      "0.8999999761581421\n"
     ]
    }
   ],
   "source": [
    "for baseline in ['DPRNN', 'QRNN', 'CPRNN']:\n",
    "    print(covid_results[baseline]['Mean joint coverage'])"
   ]
  },
  {
   "cell_type": "markdown",
   "id": "d06c4002-be95-4380-862c-bd3fdaafef60",
   "metadata": {},
   "source": [
    "**Independent coverage**"
   ]
  },
  {
   "cell_type": "code",
   "execution_count": 58,
   "id": "cd117936-9816-44f2-8c90-90a68045c2fe",
   "metadata": {},
   "outputs": [
    {
     "name": "stdout",
     "output_type": "stream",
     "text": [
      "[0.5125 0.4125 0.5875 0.45   0.4625 0.6    0.6125 0.55   0.425  0.5875\n",
      " 0.3875 0.675  0.475  0.6    0.6375 0.6    0.475  0.5125 0.525  0.5375\n",
      " 0.5125 0.4875 0.4625 0.45   0.55   0.4875 0.4625 0.5    0.525  0.4375\n",
      " 0.4375 0.4625 0.4125 0.3375 0.4    0.425  0.3875 0.5125 0.375  0.4125\n",
      " 0.35   0.425  0.4375 0.225  0.3375 0.4375 0.425  0.3125 0.4    0.375 ]\n",
      "[22.5\\%, 67.5\\%]\n",
      "\n",
      "[0.8875 0.9    0.9125 0.9375 0.9    0.8875 0.9125 0.9    0.875  0.9375\n",
      " 0.825  0.8625 0.825  0.875  0.925  0.9375 0.8    0.8625 0.8875 0.9125\n",
      " 0.825  0.9    0.9125 0.875  0.8875 0.875  0.85   0.9    0.875  0.8375\n",
      " 0.9125 0.9125 0.9    0.85   0.875  0.8875 0.875  0.875  0.8375 0.9\n",
      " 0.85   0.9125 0.925  0.875  0.8875 0.825  0.8875 0.8875 0.9125 0.925 ]\n",
      "[80.0\\%, 93.8\\%]\n",
      "\n",
      "tensor([1.0000, 1.0000, 1.0000, 0.9875, 1.0000, 1.0000, 1.0000, 1.0000, 1.0000,\n",
      "        1.0000, 0.9875, 1.0000, 1.0000, 1.0000, 1.0000, 1.0000, 1.0000, 1.0000,\n",
      "        1.0000, 1.0000, 0.9875, 0.9875, 1.0000, 1.0000, 0.9875, 0.9500, 1.0000,\n",
      "        1.0000, 0.9875, 0.9875, 1.0000, 0.9875, 0.9625, 0.9750, 0.9875, 0.9500,\n",
      "        0.9375, 1.0000, 0.9750, 0.9500, 1.0000, 0.9375, 0.9750, 0.9500, 0.9500,\n",
      "        0.9750, 0.9625, 0.9750, 0.9375, 0.9750])\n",
      "[93.8\\%, 100.0\\%]\n",
      "\n"
     ]
    }
   ],
   "source": [
    "for baseline in ['DPRNN', 'QRNN', 'CPRNN']:\n",
    "    independent_coverages = covid_results[baseline]['Mean independent coverage']\n",
    "    print(independent_coverages)\n",
    "#     print('{:.1f} \\\\(\\\\pm\\\\) {:.1f}\\\\%'.format(independent_coverages.mean() * 100, independent_coverages.std() * 100))\n",
    "    print('[{:.1f}\\\\%, {:.1f}\\\\%]'.format(independent_coverages.min() * 100, independent_coverages.max() * 100))\n",
    "    print()"
   ]
  },
  {
   "cell_type": "markdown",
   "id": "c6f7518a-b022-4fd5-b9b0-14119691d385",
   "metadata": {},
   "source": [
    "**Mean absolute error**"
   ]
  },
  {
   "cell_type": "code",
   "execution_count": 59,
   "id": "53c46f90-4671-4d98-b45d-1ad6284a08ed",
   "metadata": {},
   "outputs": [
    {
     "name": "stdout",
     "output_type": "stream",
     "text": [
      "[26.97504623 32.57773203 31.92236607 50.51874752 33.31683068 30.96810756\n",
      " 39.31214361 38.07249489 47.52924287 40.58087173 77.72143636 34.72577419\n",
      " 37.82538037 42.15173335 37.79715958 35.93316519 38.90744836 31.94915254\n",
      " 32.74504292 35.42230754 43.70599546 31.72545025 28.49586694 32.49414511\n",
      " 24.71610966 31.93105226 30.0884201  28.28909514 24.80507407 28.97256672\n",
      " 19.61235943 15.08943982 22.04079721 27.79802461 24.37239838 20.31419938\n",
      " 21.07703619 16.09761379 15.46887436 17.20097473 21.12093523 18.71931522\n",
      " 16.45040598 18.79145856 15.72367762 12.98239961 14.60055821 15.74511507\n",
      " 15.50405216 14.11775924]\n",
      "28.90 \\(\\pm\\) 41.53\n",
      "\n",
      "[ 33.52337441  50.66439042  39.22138562  93.98998008  39.53558545\n",
      "  40.55727644  53.70167918  37.8676162   58.96395545  62.20272632\n",
      " 109.21893759  47.96838341  51.3905757   59.68902984  53.68585525\n",
      "  45.47452796  49.41207874  40.29836102  40.10424583  44.16673131\n",
      "  46.25927124  34.27556081  33.96662767  34.49436793  25.35419364\n",
      "  34.70719352  31.31733963  30.46832945  24.12684257  30.10935225\n",
      "  20.47979566  17.58915857  22.83429127  28.72786679  24.44508111\n",
      "  19.29873674  20.55314181  15.83617522  14.8263281   16.37399817\n",
      "  21.43851508  19.34090641  15.90802351  17.28197324  15.78917387\n",
      "  13.29398081  13.99089377  13.99288237  14.55724794  12.32829337]\n",
      "34.71 \\(\\pm\\) 43.87\n",
      "\n",
      "tensor([30.9210, 40.5390, 37.2376, 55.6096, 39.9467, 42.4761, 47.3667, 45.9693,\n",
      "        54.6542, 44.4005, 83.4372, 42.8521, 40.3520, 49.4260, 42.5412, 42.2131,\n",
      "        42.0442, 33.5720, 39.7852, 39.0101, 46.5141, 36.1637, 32.2139, 34.1698,\n",
      "        27.2140, 35.2330, 34.6015, 31.4991, 28.4207, 29.9077, 18.4521, 17.4489,\n",
      "        22.7571, 27.8471, 24.6114, 21.5295, 22.5372, 17.9791, 16.4607, 18.4257,\n",
      "        23.0168, 21.2658, 19.1329, 18.3974, 17.0711, 13.8305, 15.6993, 17.3219,\n",
      "        16.9159, 15.0180], grad_fn=<MeanBackward1>)\n",
      "32.32 \\(\\pm\\) 46.38\n",
      "\n"
     ]
    }
   ],
   "source": [
    "for baseline in ['DPRNN', 'QRNN', 'CPRNN']:\n",
    "    errors = covid_results[baseline]['Errors']\n",
    "    print(errors.mean(axis=0)) \n",
    "#     print(errors.mean())\n",
    "    print('{:.2f} \\\\(\\\\pm\\\\) {:.2f}'.format(errors.mean(), errors.std()))\n",
    "    print()"
   ]
  },
  {
   "cell_type": "markdown",
   "id": "7a369c35-85d5-4868-9fe7-9e5f73ba4a5b",
   "metadata": {},
   "source": [
    "**Interval widths**"
   ]
  },
  {
   "cell_type": "code",
   "execution_count": 41,
   "id": "960123dd-62c6-4c10-8703-383ea00e21dc",
   "metadata": {},
   "outputs": [
    {
     "name": "stdout",
     "output_type": "stream",
     "text": [
      "[ 51.840065  52.641747  67.66374   86.188156  72.15914   76.58455\n",
      "  86.01396   77.52096   81.1303    87.5789    86.51241   90.99999\n",
      "  68.62694  100.663956  88.9168    79.891365  69.00343   61.686237\n",
      "  64.38324   65.70366   77.57215   55.294502  54.124138  52.78939\n",
      "  45.313698  49.681126  50.33487   52.38623   45.740437  39.29765\n",
      "  32.34513   27.900503  34.210007  35.987747  38.15323   31.979813\n",
      "  30.156734  26.264294  23.106731  26.860783  26.160183  28.119675\n",
      "  26.287159  24.661898  19.918873  19.520336  21.276546  21.52469\n",
      "  20.865788  19.642467]\n",
      "51.46373 24.015495\n",
      "\n",
      "[130.20517  150.56528  138.79602  267.15173  154.28131  162.25314\n",
      " 187.25002  170.32484  187.98453  239.28757  274.72977  174.75998\n",
      " 157.07388  214.1491   194.06798  181.813    161.52237  139.72867\n",
      " 143.52423  163.8711   155.8483   135.89915  135.84308  116.808304\n",
      "  98.679474 115.39     111.8651   122.151344 107.72264   97.54476\n",
      "  76.66484   65.836624  83.52915   95.524635  81.07128   73.15938\n",
      "  66.489944  64.17645   52.441704  67.57267   69.201096  71.96443\n",
      "  70.258514  59.96761   54.57389   43.112904  50.85088   56.11375\n",
      "  57.07008   52.35388 ]\n",
      "122.060524 57.978905\n",
      "\n",
      "tensor([ 666.7881,  596.1321, 1119.3994, 1049.7791,  858.2130,  949.2713,\n",
      "         961.2528,  788.6133, 1076.8585, 1821.6365, 1086.3420, 1355.7014,\n",
      "         645.4177, 1370.5428, 1080.2372,  976.9092,  801.1016,  510.6933,\n",
      "         619.5741,  623.4209,  695.0013,  502.0172,  705.2425,  572.0879,\n",
      "         357.7100,  238.2846,  506.1959,  444.7713,  354.7558,  290.8116,\n",
      "         391.6040,  191.0950,  170.9129,  234.6484,  234.6701,  146.9228,\n",
      "         140.7168,  195.9787,  155.4564,  121.6840,  223.0066,  121.2264,\n",
      "         129.8685,  112.0604,   86.3883,   98.7380,  119.0664,  128.3616,\n",
      "         106.8226,  109.9215], requires_grad=True)\n",
      "tensor(536.8782, grad_fn=<MeanBackward0>) tensor(417.3823, grad_fn=<StdBackward0>)\n",
      "\n"
     ]
    }
   ],
   "source": [
    "for baseline in ['DPRNN', 'QRNN', 'CPRNN']:\n",
    "    print(covid_results[baseline]['Mean confidence interval widths'])\n",
    "    print(covid_results[baseline]['Mean confidence interval widths'].mean(), covid_results[baseline]['Mean confidence interval widths'].std())\n",
    "    print()"
   ]
  },
  {
   "cell_type": "markdown",
   "id": "b0b6d7af-a7c6-46eb-aead-23336fa9a665",
   "metadata": {},
   "source": [
    "## Ablation: Uncorrected calibration scores"
   ]
  },
  {
   "cell_type": "code",
   "execution_count": 3,
   "id": "4c7208ee-eb0e-437d-8f2d-884715bbda5b",
   "metadata": {},
   "outputs": [
    {
     "name": "stdout",
     "output_type": "stream",
     "text": [
      "Training CPRNN\n",
      "Epoch: 0\tTrain loss: 156.74915640694755\n",
      "Epoch: 50\tTrain loss: 53.13235078539167\n",
      "Epoch: 100\tTrain loss: 53.64533070155552\n",
      "Epoch: 150\tTrain loss: 51.56313732692173\n",
      "Epoch: 200\tTrain loss: 55.60751519884382\n",
      "Epoch: 250\tTrain loss: 51.39998326982771\n",
      "Epoch: 300\tTrain loss: 50.69910785130092\n",
      "Epoch: 350\tTrain loss: 51.46189144679478\n",
      "Epoch: 400\tTrain loss: 51.4951046534947\n",
      "Epoch: 450\tTrain loss: 51.346938133239746\n",
      "Epoch: 500\tTrain loss: 52.24199744633266\n",
      "Epoch: 550\tTrain loss: 52.51100335802351\n",
      "Epoch: 600\tTrain loss: 50.9170960017613\n",
      "Epoch: 650\tTrain loss: 55.39422171456473\n",
      "Epoch: 700\tTrain loss: 67.61379609789167\n",
      "Epoch: 750\tTrain loss: 50.58711297171457\n",
      "Epoch: 800\tTrain loss: 51.071151869637625\n",
      "Epoch: 850\tTrain loss: 50.609366689409526\n",
      "Epoch: 900\tTrain loss: 51.22157260349819\n",
      "Epoch: 950\tTrain loss: 51.123785155160085\n"
     ]
    }
   ],
   "source": [
    "uncorrected_mimic_results = run_medical_experiments(retrain=True, dataset='mimic', baselines=['CPRNN'], correct_conformal=False)"
   ]
  },
  {
   "cell_type": "code",
   "execution_count": 4,
   "id": "274cff9a-8330-4396-990a-f933f2f85cd1",
   "metadata": {},
   "outputs": [
    {
     "name": "stdout",
     "output_type": "stream",
     "text": [
      "Training CPRNN\n",
      "Epoch: 0\tTrain loss: 176.12619096330067\n",
      "Epoch: 50\tTrain loss: 70.02112205283156\n"
     ]
    }
   ],
   "source": [
    "uncorrected_eeg_results = run_medical_experiments(retrain=True, dataset='eeg', baselines=['CPRNN'], correct_conformal=False)"
   ]
  },
  {
   "cell_type": "code",
   "execution_count": 5,
   "id": "0a24bd5b-73c6-4796-b98e-dd4fd0d97fc1",
   "metadata": {},
   "outputs": [
    {
     "name": "stdout",
     "output_type": "stream",
     "text": [
      "Training CPRNN\n",
      "Epoch: 0\tTrain loss: 21535.14892578125\n",
      "Epoch: 50\tTrain loss: 25549.7890625\n",
      "Epoch: 100\tTrain loss: 16120.76025390625\n",
      "Epoch: 150\tTrain loss: 16037.5634765625\n",
      "Epoch: 200\tTrain loss: 17874.72412109375\n",
      "Epoch: 250\tTrain loss: 12487.63916015625\n",
      "Epoch: 300\tTrain loss: 16668.26171875\n",
      "Epoch: 350\tTrain loss: 16572.97705078125\n",
      "Epoch: 400\tTrain loss: 17035.70703125\n",
      "Epoch: 450\tTrain loss: 12338.59619140625\n",
      "Epoch: 500\tTrain loss: 16142.823974609375\n",
      "Epoch: 550\tTrain loss: 13261.345703125\n",
      "Epoch: 600\tTrain loss: 8626.06103515625\n",
      "Epoch: 650\tTrain loss: 7449.1832275390625\n",
      "Epoch: 700\tTrain loss: 8231.992919921875\n",
      "Epoch: 750\tTrain loss: 7136.664794921875\n",
      "Epoch: 800\tTrain loss: 7600.473876953125\n",
      "Epoch: 850\tTrain loss: 7180.849609375\n",
      "Epoch: 900\tTrain loss: 6766.817626953125\n",
      "Epoch: 950\tTrain loss: 7472.531982421875\n"
     ]
    }
   ],
   "source": [
    "uncorrected_covid_results = run_medical_experiments(retrain=True, dataset='covid', baselines=['CPRNN'], correct_conformal=False)"
   ]
  },
  {
   "cell_type": "markdown",
   "id": "b47ec5d4-9d93-44d3-9b8a-fe4517ed1ca7",
   "metadata": {},
   "source": [
    "## Ablation: uncorrected score results"
   ]
  },
  {
   "cell_type": "markdown",
   "id": "4eae9c5f-0688-4e0b-83da-b00fc3ae4cde",
   "metadata": {},
   "source": [
    "#### MIMIC-III"
   ]
  },
  {
   "cell_type": "code",
   "execution_count": 6,
   "id": "810ad00f-4897-4a56-a614-b64e700a9c7e",
   "metadata": {},
   "outputs": [],
   "source": [
    "uncorrected_mimic_results = run_medical_experiments(retrain=False, dataset='mimic', baselines=['CPRNN'], correct_conformal=False)"
   ]
  },
  {
   "cell_type": "code",
   "execution_count": 7,
   "id": "121b7032-4fb5-4bd1-a629-4fe78801cdd1",
   "metadata": {},
   "outputs": [
    {
     "data": {
      "text/plain": [
       "0.878000020980835"
      ]
     },
     "execution_count": 7,
     "metadata": {},
     "output_type": "execute_result"
    }
   ],
   "source": [
    "uncorrected_mimic_results['CPRNN']['Mean joint coverage']"
   ]
  },
  {
   "cell_type": "code",
   "execution_count": 8,
   "id": "ff4445d1-e5f3-46d2-a7b4-edf517c67d95",
   "metadata": {},
   "outputs": [
    {
     "name": "stdout",
     "output_type": "stream",
     "text": [
      "[89.0\\%, 89.8\\%]\n"
     ]
    }
   ],
   "source": [
    "independent_coverages = uncorrected_mimic_results['CPRNN']['Mean independent coverage']\n",
    "print('[{:.1f}\\\\%, {:.1f}\\\\%]'.format(independent_coverages.min() * 100, independent_coverages.max() * 100))"
   ]
  },
  {
   "cell_type": "markdown",
   "id": "d146c828-ecf1-447b-a3ba-aa511f6b28b6",
   "metadata": {},
   "source": [
    "#### EEG"
   ]
  },
  {
   "cell_type": "code",
   "execution_count": 9,
   "id": "43c3db39-0219-4eef-9f45-22d751ba8861",
   "metadata": {},
   "outputs": [],
   "source": [
    "uncorrected_eeg_results = run_medical_experiments(retrain=False, dataset='eeg', baselines=['CPRNN'], correct_conformal=False)"
   ]
  },
  {
   "cell_type": "code",
   "execution_count": 10,
   "id": "5332d49c-854b-41c5-a6c8-4cf966c7de95",
   "metadata": {},
   "outputs": [
    {
     "data": {
      "text/plain": [
       "0.5795312523841858"
      ]
     },
     "execution_count": 10,
     "metadata": {},
     "output_type": "execute_result"
    }
   ],
   "source": [
    "uncorrected_eeg_results['CPRNN']['Mean joint coverage']"
   ]
  },
  {
   "cell_type": "code",
   "execution_count": 11,
   "id": "45d61849-9581-432e-8ad0-5fd53dca8df4",
   "metadata": {},
   "outputs": [
    {
     "name": "stdout",
     "output_type": "stream",
     "text": [
      "[85.8\\%, 90.6\\%]\n"
     ]
    }
   ],
   "source": [
    "independent_coverages = uncorrected_eeg_results['CPRNN']['Mean independent coverage']\n",
    "print('[{:.1f}\\\\%, {:.1f}\\\\%]'.format(independent_coverages.min() * 100, independent_coverages.max() * 100))"
   ]
  },
  {
   "cell_type": "markdown",
   "id": "2c58171e-7675-4983-851c-5a963d25aeec",
   "metadata": {},
   "source": [
    "#### COVID-19"
   ]
  },
  {
   "cell_type": "code",
   "execution_count": 12,
   "id": "752fa9ad-f6cc-43d3-9fb5-5bfdb071888e",
   "metadata": {},
   "outputs": [],
   "source": [
    "uncorrected_covid_results = run_medical_experiments(retrain=False, dataset='covid', baselines=['CPRNN'], correct_conformal=False)"
   ]
  },
  {
   "cell_type": "code",
   "execution_count": 13,
   "id": "86d905e4-dc31-47ae-9b47-bda58c4c59aa",
   "metadata": {},
   "outputs": [
    {
     "data": {
      "text/plain": [
       "0.574999988079071"
      ]
     },
     "execution_count": 13,
     "metadata": {},
     "output_type": "execute_result"
    }
   ],
   "source": [
    "uncorrected_covid_results['CPRNN']['Mean joint coverage']"
   ]
  },
  {
   "cell_type": "code",
   "execution_count": 14,
   "id": "ab9b269d-13d6-4f21-8848-d6eaeb6bc8cb",
   "metadata": {},
   "outputs": [
    {
     "name": "stdout",
     "output_type": "stream",
     "text": [
      "[77.5\\%, 98.8\\%]\n"
     ]
    }
   ],
   "source": [
    "independent_coverages = uncorrected_covid_results['CPRNN']['Mean independent coverage']\n",
    "print('[{:.1f}\\\\%, {:.1f}\\\\%]'.format(independent_coverages.min() * 100, independent_coverages.max() * 100))"
   ]
  },
  {
   "cell_type": "code",
   "execution_count": 15,
   "id": "af962c0f-0dab-4e17-b4bd-f0833548fbe4",
   "metadata": {},
   "outputs": [
    {
     "data": {
      "text/plain": [
       "torch.return_types.sort(\n",
       "values=tensor([0.7750, 0.8000, 0.8125, 0.8125, 0.8125, 0.8250, 0.8250, 0.8375, 0.8500,\n",
       "        0.8500, 0.8500, 0.8750, 0.8750, 0.8750, 0.8750, 0.8750, 0.8750, 0.8875,\n",
       "        0.8875, 0.9000, 0.9000, 0.9000, 0.9000, 0.9000, 0.9000, 0.9125, 0.9125,\n",
       "        0.9125, 0.9250, 0.9250, 0.9250, 0.9375, 0.9375, 0.9375, 0.9375, 0.9500,\n",
       "        0.9500, 0.9500, 0.9500, 0.9500, 0.9625, 0.9625, 0.9625, 0.9625, 0.9625,\n",
       "        0.9750, 0.9750, 0.9750, 0.9875, 0.9875]),\n",
       "indices=tensor([48, 38, 44, 33, 41, 34, 43, 47, 16, 29, 25, 39, 37, 36, 35, 40, 46, 45,\n",
       "        42, 32, 20, 21, 27, 23, 26, 49, 18, 19, 30, 31,  7, 10, 28, 12, 15, 11,\n",
       "         5,  4,  1, 24, 13,  8, 22, 17,  9,  6,  2, 14,  3,  0]))"
      ]
     },
     "execution_count": 15,
     "metadata": {},
     "output_type": "execute_result"
    }
   ],
   "source": [
    "independent_coverages.sort()"
   ]
  },
  {
   "cell_type": "code",
   "execution_count": 16,
   "id": "a1e91157-f151-416e-91b5-1f1254c81bd7",
   "metadata": {},
   "outputs": [
    {
     "data": {
      "text/plain": [
       "tensor(0.9040)"
      ]
     },
     "execution_count": 16,
     "metadata": {},
     "output_type": "execute_result"
    }
   ],
   "source": [
    "independent_coverages.mean()"
   ]
  },
  {
   "cell_type": "markdown",
   "id": "971b810b-ffbd-4789-ac78-e85b70a860bf",
   "metadata": {},
   "source": [
    "## Plotting"
   ]
  },
  {
   "cell_type": "code",
   "execution_count": 73,
   "id": "a6668fef-01c6-4897-ad65-a285458a6d1a",
   "metadata": {},
   "outputs": [],
   "source": [
    "def plot_timeseries(dataset, baseline, index=None, forecast_only=False):\n",
    "    fig, axs = plt.subplots(nrows=5, ncols=1, figsize=(12, 8), sharex=True)\n",
    "    \n",
    "    with open('processed_data/{}_test_vis.pkl'.format(dataset), 'rb') as f:\n",
    "        X, Y = pickle.load(f)\n",
    "        \n",
    "    with open('saved_results/{}_{}.pkl'.format(dataset, baseline), 'rb') as f:\n",
    "        results = pickle.load(f)\n",
    "    \n",
    "    if index is None:\n",
    "        index = range(len(X))\n",
    "\n",
    "    for ax in axs.flat:\n",
    "        i = np.random.choice(index)\n",
    "        \n",
    "        # Derive unpadded sequences and targets\n",
    "        sequence, target = X[i], Y[i]\n",
    "        \n",
    "        horizon = len(target)\n",
    "        length = len(sequence)\n",
    "        \n",
    "        if not forecast_only:\n",
    "            # (Scatter)plot of the time series\n",
    "            ax.plot(range(1, length+1), sequence, color=\"black\")\n",
    "            \n",
    "            # Prediction start vertical\n",
    "            ax.axvline(length, linestyle=\"--\", color=\"black\")\n",
    "        \n",
    "        ax.scatter(range(length + 1, length + horizon + 1), target, color=\"black\")\n",
    "        \n",
    "        # Interval boundaries\n",
    "        upper_limit = results['Upper limit']\n",
    "        lower_limit = results['Lower limit']\n",
    "        \n",
    "        lower = [sequence[-1]] + lower_limit[i].flatten().tolist()\n",
    "        upper = [sequence[-1]] + upper_limit[i].flatten().tolist()\n",
    "        preds = [sequence[-1]] + results['Point predictions'][i].flatten().tolist()\n",
    "        \n",
    "\n",
    "        ax.fill_between(range(length, length + horizon + 1), lower, upper, color=\"r\", alpha=0.25)\n",
    "        ax.plot(range(length, length + horizon + 1), lower, linestyle=\"--\", color=\"r\")\n",
    "        ax.plot(range(length, length + horizon + 1), upper, linestyle=\"--\", color=\"r\")\n",
    "        ax.plot(range(length, length + horizon + 1), preds, linestyle=\"--\", linewidth=3, color=\"r\")\n",
    "\n",
    "        ax.set(ylabel='Prediction')\n",
    "    \n",
    "    plt.xlabel('Time step')\n",
    "    #     plt.ylabel('Prediction')\n",
    "    plt.show()"
   ]
  },
  {
   "cell_type": "code",
   "execution_count": 85,
   "id": "0e98df84-0b8a-4690-8baa-d46de698855c",
   "metadata": {},
   "outputs": [
    {
     "data": {
      "image/png": "[encoded data removed]",
      "text/plain": [
       "<Figure size 864x576 with 5 Axes>"
      ]
     },
     "metadata": {
      "needs_background": "light"
     },
     "output_type": "display_data"
    }
   ],
   "source": [
    "plot_timeseries(dataset='covid', baseline='CPRNN')"
   ]
  },
  {
   "cell_type": "code",
   "execution_count": 79,
   "id": "be09ddc3-4091-4f49-8763-0298be4c7b1c",
   "metadata": {},
   "outputs": [
    {
     "data": {
      "image/png": "[encoded data removed]",
      "text/plain": [
       "<Figure size 864x576 with 5 Axes>"
      ]
     },
     "metadata": {
      "needs_background": "light"
     },
     "output_type": "display_data"
    }
   ],
   "source": [
    "plot_timeseries(dataset='eeg', baseline='CPRNN')"
   ]
  },
  {
   "cell_type": "code",
   "execution_count": 81,
   "id": "4da8dba1-9737-4560-892e-21918741411e",
   "metadata": {},
   "outputs": [
    {
     "data": {
      "image/png": "[encoded data removed]",
      "text/plain": [
       "<Figure size 864x576 with 5 Axes>"
      ]
     },
     "metadata": {
      "needs_background": "light"
     },
     "output_type": "display_data"
    }
   ],
   "source": [
    "plot_timeseries(dataset='mimic', baseline='CPRNN')"
   ]
  },
  {
   "cell_type": "markdown",
   "id": "aadd26da-81cf-406f-ac1f-087e5e38fb0a",
   "metadata": {},
   "source": [
    "## Retraining models"
   ]
  },
  {
   "cell_type": "code",
   "execution_count": 1,
   "id": "5c885f06-a04b-4438-b670-36d2f7b75423",
   "metadata": {},
   "outputs": [
    {
     "name": "stdout",
     "output_type": "stream",
     "text": [
      "Training CPRNN\n",
      "Epoch: 0\tTrain loss: 156.74915640694755\n",
      "Epoch: 50\tTrain loss: 53.13235078539167\n",
      "Epoch: 100\tTrain loss: 53.64533070155552\n",
      "Epoch: 150\tTrain loss: 51.56313732692173\n",
      "Epoch: 200\tTrain loss: 55.60751519884382\n",
      "Epoch: 250\tTrain loss: 51.39998326982771\n",
      "Epoch: 300\tTrain loss: 50.69910785130092\n",
      "Epoch: 350\tTrain loss: 51.46189144679478\n",
      "Epoch: 400\tTrain loss: 51.4951046534947\n",
      "Epoch: 450\tTrain loss: 51.346938133239746\n",
      "Epoch: 500\tTrain loss: 52.24199744633266\n",
      "Epoch: 550\tTrain loss: 52.51100335802351\n",
      "Epoch: 600\tTrain loss: 50.9170960017613\n",
      "Epoch: 650\tTrain loss: 55.39422171456473\n",
      "Epoch: 700\tTrain loss: 67.61379609789167\n",
      "Epoch: 750\tTrain loss: 50.58711297171457\n",
      "Epoch: 800\tTrain loss: 51.071151869637625\n",
      "Epoch: 850\tTrain loss: 50.609366689409526\n",
      "Epoch: 900\tTrain loss: 51.22157260349819\n",
      "Epoch: 950\tTrain loss: 51.123785155160085\n"
     ]
    }
   ],
   "source": [
    "from utils.train_medical import run_medical_experiments\n",
    "mimic_results = run_medical_experiments(retrain=True, dataset='mimic', baselines=['CPRNN'], save_results=False, save_model=True)"
   ]
  },
  {
   "cell_type": "code",
   "execution_count": null,
   "id": "3c78de37-391b-4b4d-8b09-ff859f72c11b",
   "metadata": {},
   "outputs": [
    {
     "name": "stdout",
     "output_type": "stream",
     "text": [
      "Training CPRNN\n",
      "Epoch: 0\tTrain loss: 176.12619096330067\n",
      "Epoch: 50\tTrain loss: 70.02112205283156\n"
     ]
    }
   ],
   "source": [
    "eeg_results = run_medical_experiments(retrain=True, dataset='eeg', baselines=['CPRNN'], save_results=False, save_model=True)"
   ]
  },
  {
   "cell_type": "code",
   "execution_count": null,
   "id": "cbfd6497-505f-4ce9-97a0-aee84ac16afa",
   "metadata": {},
   "outputs": [],
   "source": [
    "eeg_results = run_medical_experiments(retrain=True, dataset='eeg', baselines=['CPRNN'], save_results=False, save_model=True)"
   ]
  },
  {
   "cell_type": "code",
   "execution_count": null,
   "id": "4499a675-fc47-4ad3-8265-c139a1e29f7c",
   "metadata": {},
   "outputs": [],
   "source": []
  }
 ],
 "metadata": {
  "kernelspec": {
   "display_name": "Python 3",
   "language": "python",
   "name": "python3"
  },
  "language_info": {
   "codemirror_mode": {
    "name": "ipython",
    "version": 3
   },
   "file_extension": ".py",
   "mimetype": "text/x-python",
   "name": "python",
   "nbconvert_exporter": "python",
   "pygments_lexer": "ipython3",
   "version": "3.7.9"
  }
 },
 "nbformat": 4,
 "nbformat_minor": 5
}
