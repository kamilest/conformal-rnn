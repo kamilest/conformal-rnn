{
 "cells": [
  {
   "cell_type": "markdown",
   "id": "bfaf9e81-c095-4d66-812e-3459dbc93c65",
   "metadata": {},
   "source": [
    "# Experiments on real-world data\n",
    "\n",
    "Code to obtain the results in Section 4 of NeurIPS 2021 Paper6977 submission,\n",
    "for the proposed Conformal RNN model."
   ]
  },
  {
   "cell_type": "code",
   "execution_count": 1,
   "id": "e8602d8b-cb7c-488b-9787-1e624204f8f2",
   "metadata": {},
   "outputs": [],
   "source": [
    "%load_ext autoreload\n",
    "%autoreload 2\n",
    "\n",
    "import numpy as np\n",
    "import pickle\n",
    "import torch\n",
    "\n",
    "from matplotlib import pyplot as plt\n",
    "%matplotlib inline\n",
    "\n",
    "from utils.train_medical import run_medical_experiments"
   ]
  },
  {
   "cell_type": "markdown",
   "id": "9455748f-ff7b-4fa6-8c02-45dfd5509810",
   "metadata": {},
   "source": [
    "To obtain the results as presented in the paper, run the following three sections."
   ]
  },
  {
   "cell_type": "markdown",
   "id": "25f26614-5553-437b-9af5-2618e9aec6f1",
   "metadata": {},
   "source": [
    "## MIMIC-III dataset"
   ]
  },
  {
   "cell_type": "markdown",
   "id": "4aeabd29-0893-4b2b-af10-79795fdd12b5",
   "metadata": {},
   "source": [
    "Training procedure for 5 different seeds:\n",
    "\n",
    "```python\n",
    "all_mimic_results = []\n",
    "for seed in range(5):\n",
    "    mimic_results = run_medical_experiments(retrain=True, dataset='mimic', seed=seed)\n",
    "    all_mimic_results.append(mimic_results)\n",
    "    \n",
    "with open('saved_results/all_mimic_results.pkl', 'wb') as f:\n",
    "    pickle.dump(all_mimic_results, f, protocol=pickle.HIGHEST_PROTOCOL)\n",
    "```"
   ]
  },
  {
   "cell_type": "markdown",
   "id": "a8765090-e422-479c-9d4d-c633e4e52216",
   "metadata": {},
   "source": [
    "Loading results:"
   ]
  },
  {
   "cell_type": "code",
   "execution_count": 5,
   "id": "a8968bb5-8ffa-483b-b2d2-707c90827ee1",
   "metadata": {},
   "outputs": [],
   "source": [
    "with open('saved_results/all_mimic_results.pkl', 'rb') as f:\n",
    "    all_mimic_results = pickle.load(f)"
   ]
  },
  {
   "cell_type": "code",
   "execution_count": 10,
   "id": "18d1b6be-c432-4f43-b770-a84de007cb17",
   "metadata": {},
   "outputs": [
    {
     "name": "stdout",
     "output_type": "stream",
     "text": [
      "39.0 \\(\\pm\\) 5.4\\%\n",
      "87.6 \\(\\pm\\) 2.7\\%\n",
      "94.0 \\(\\pm\\) 1.2\\%\n"
     ]
    }
   ],
   "source": [
    "coverages = []\n",
    "for mimic_results in all_mimic_results:\n",
    "    cc = []\n",
    "    for baseline in ['DPRNN', 'QRNN', 'CPRNN']:\n",
    "        cc.append(mimic_results[baseline]['Mean joint coverage'])\n",
    "    coverages.append(cc)\n",
    "\n",
    "coverages = np.array(coverages)\n",
    "\n",
    "for i, j in zip(coverages.mean(axis=0) * 100, coverages.std(axis=0) * 100):\n",
    "    print('{:.1f} \\\\(\\\\pm\\\\) {:.1f}\\\\%'.format(i, j))"
   ]
  },
  {
   "cell_type": "markdown",
   "id": "084ed32a-2470-415c-aa6d-38f4c1d533fb",
   "metadata": {},
   "source": [
    "## EEG dataset\n",
    "\n",
    "Training same as above, except:\n",
    "```python\n",
    "eeg_results = run_medical_experiments(retrain=True, dataset='eeg', seed=seed)\n",
    "```"
   ]
  },
  {
   "cell_type": "code",
   "execution_count": null,
   "id": "646b7d52-f305-4f40-8319-2b0272447e96",
   "metadata": {},
   "outputs": [],
   "source": [
    "with open('saved_results/all_eeg_results.pkl', 'rb') as f:\n",
    "    all_eeg_results = pickle.load(f)"
   ]
  },
  {
   "cell_type": "markdown",
   "id": "20370c7c-eaca-49aa-8e45-7f91c01c4faa",
   "metadata": {},
   "source": [
    "## COVID-19 dataset"
   ]
  },
  {
   "cell_type": "markdown",
   "id": "fd0c29f5-6905-4545-91e6-32c4ef8683ef",
   "metadata": {},
   "source": [
    "Training same as above, except:\n",
    "```python\n",
    "covid_results = run_medical_experiments(retrain=True, dataset='covid', seed=seed)\n",
    "```"
   ]
  },
  {
   "cell_type": "code",
   "execution_count": null,
   "id": "84cb28a9-05b8-4be6-9656-44cc61953beb",
   "metadata": {},
   "outputs": [],
   "source": [
    "with open('saved_results/all_covid_results.pkl', 'rb') as f:\n",
    "    all_covid_results = pickle.load(f)"
   ]
  },
  {
   "cell_type": "markdown",
   "id": "9f9ef4c7-3d17-4969-825f-d5bb23be825c",
   "metadata": {},
   "source": [
    "## Example results analysis\n",
    "\n",
    "This is for one seed and COVID-19 dataset; analysis of other datasets is analogous."
   ]
  },
  {
   "cell_type": "code",
   "execution_count": 30,
   "id": "993047ae-071d-45da-b9a1-b336d51f8b7d",
   "metadata": {},
   "outputs": [],
   "source": [
    "# This will load cached results for each baseline for the MIMIC-III dataset\n",
    "covid_results = run_medical_experiments(dataset='covid')"
   ]
  },
  {
   "cell_type": "markdown",
   "id": "d28fcd52-803a-4a9d-bfdc-0ab2856a6a9d",
   "metadata": {},
   "source": [
    "Note that in this code CPRNN is equivalent to CoRNN."
   ]
  },
  {
   "cell_type": "code",
   "execution_count": 31,
   "id": "8c67fa46-6280-4040-a402-d3f10632b612",
   "metadata": {},
   "outputs": [
    {
     "data": {
      "text/plain": [
       "dict_keys(['Point predictions', 'Errors', 'Independent coverage indicators', 'Joint coverage indicators', 'Upper limit', 'Lower limit', 'Mean independent coverage', 'Mean joint coverage', 'Confidence interval widths', 'Mean confidence interval widths'])"
      ]
     },
     "execution_count": 31,
     "metadata": {},
     "output_type": "execute_result"
    }
   ],
   "source": [
    "covid_results['CPRNN'].keys()"
   ]
  },
  {
   "cell_type": "markdown",
   "id": "ba8adf98-e3c9-4cb8-9dd9-bbc64d648eec",
   "metadata": {},
   "source": [
    "**Joint coverage**"
   ]
  },
  {
   "cell_type": "code",
   "execution_count": null,
   "id": "6b935c92-b210-464f-8679-a35f41fc0a40",
   "metadata": {},
   "outputs": [],
   "source": [
    "for baseline in ['DPRNN', 'QRNN', 'CPRNN']:\n",
    "    print(covid_results[baseline]['Mean joint coverage'])"
   ]
  },
  {
   "cell_type": "markdown",
   "id": "d06c4002-be95-4380-862c-bd3fdaafef60",
   "metadata": {},
   "source": [
    "**Independent coverage**"
   ]
  },
  {
   "cell_type": "code",
   "execution_count": null,
   "id": "cd117936-9816-44f2-8c90-90a68045c2fe",
   "metadata": {},
   "outputs": [],
   "source": [
    "for baseline in ['DPRNN', 'QRNN', 'CPRNN']:\n",
    "    independent_coverages = covid_results[baseline]['Mean independent coverage']\n",
    "    print(independent_coverages)\n",
    "    print('[{:.1f}\\\\%, {:.1f}\\\\%]'.format(independent_coverages.min() * 100, independent_coverages.max() * 100))\n",
    "    print()"
   ]
  },
  {
   "cell_type": "markdown",
   "id": "c6f7518a-b022-4fd5-b9b0-14119691d385",
   "metadata": {},
   "source": [
    "**Mean absolute error**"
   ]
  },
  {
   "cell_type": "code",
   "execution_count": null,
   "id": "53c46f90-4671-4d98-b45d-1ad6284a08ed",
   "metadata": {},
   "outputs": [],
   "source": [
    "for baseline in ['DPRNN', 'QRNN', 'CPRNN']:\n",
    "    errors = covid_results[baseline]['Errors']\n",
    "    print(errors.mean(axis=0)) \n",
    "    print('{:.2f} \\\\(\\\\pm\\\\) {:.2f}'.format(errors.mean(), errors.std()))\n",
    "    print()"
   ]
  },
  {
   "cell_type": "markdown",
   "id": "7a369c35-85d5-4868-9fe7-9e5f73ba4a5b",
   "metadata": {},
   "source": [
    "**Interval widths**"
   ]
  },
  {
   "cell_type": "code",
   "execution_count": null,
   "id": "960123dd-62c6-4c10-8703-383ea00e21dc",
   "metadata": {},
   "outputs": [],
   "source": [
    "for baseline in ['DPRNN', 'QRNN', 'CPRNN']:\n",
    "    print(covid_results[baseline]['Mean confidence interval widths'])\n",
    "    print(covid_results[baseline]['Mean confidence interval widths'].mean(), covid_results[baseline]['Mean confidence interval widths'].std())\n",
    "    print()"
   ]
  },
  {
   "cell_type": "markdown",
   "id": "b0b6d7af-a7c6-46eb-aead-23336fa9a665",
   "metadata": {},
   "source": [
    "## Ablation: Uncorrected calibration scores"
   ]
  },
  {
   "cell_type": "markdown",
   "id": "5adead53-a74c-4283-b632-81d2313ec0ad",
   "metadata": {},
   "source": [
    "The results have been obtained by running:\n",
    "\n",
    "```python\n",
    "uncorrected_mimic_results = run_medical_experiments(retrain=True, dataset='mimic', baselines=['CPRNN'], correct_conformal=False)\n",
    "uncorrected_eeg_results = run_medical_experiments(retrain=True, dataset='eeg', baselines=['CPRNN'], correct_conformal=False)\n",
    "uncorrected_covid_results = run_medical_experiments(retrain=True, dataset='covid', baselines=['CPRNN'], correct_conformal=False)\n",
    "```\n",
    "\n",
    "The following will load the saved results."
   ]
  },
  {
   "cell_type": "markdown",
   "id": "4eae9c5f-0688-4e0b-83da-b00fc3ae4cde",
   "metadata": {},
   "source": [
    "#### MIMIC-III"
   ]
  },
  {
   "cell_type": "code",
   "execution_count": 6,
   "id": "810ad00f-4897-4a56-a614-b64e700a9c7e",
   "metadata": {},
   "outputs": [],
   "source": [
    "uncorrected_mimic_results = run_medical_experiments(retrain=False, dataset='mimic', baselines=['CPRNN'], correct_conformal=False)"
   ]
  },
  {
   "cell_type": "code",
   "execution_count": 7,
   "id": "121b7032-4fb5-4bd1-a629-4fe78801cdd1",
   "metadata": {},
   "outputs": [
    {
     "data": {
      "text/plain": [
       "0.878000020980835"
      ]
     },
     "execution_count": 7,
     "metadata": {},
     "output_type": "execute_result"
    }
   ],
   "source": [
    "uncorrected_mimic_results['CPRNN']['Mean joint coverage']"
   ]
  },
  {
   "cell_type": "code",
   "execution_count": 8,
   "id": "ff4445d1-e5f3-46d2-a7b4-edf517c67d95",
   "metadata": {},
   "outputs": [
    {
     "name": "stdout",
     "output_type": "stream",
     "text": [
      "[89.0\\%, 89.8\\%]\n"
     ]
    }
   ],
   "source": [
    "independent_coverages = uncorrected_mimic_results['CPRNN']['Mean independent coverage']\n",
    "print('[{:.1f}\\\\%, {:.1f}\\\\%]'.format(independent_coverages.min() * 100, independent_coverages.max() * 100))"
   ]
  },
  {
   "cell_type": "markdown",
   "id": "d146c828-ecf1-447b-a3ba-aa511f6b28b6",
   "metadata": {},
   "source": [
    "#### EEG"
   ]
  },
  {
   "cell_type": "code",
   "execution_count": 9,
   "id": "43c3db39-0219-4eef-9f45-22d751ba8861",
   "metadata": {},
   "outputs": [],
   "source": [
    "uncorrected_eeg_results = run_medical_experiments(retrain=False, dataset='eeg', baselines=['CPRNN'], correct_conformal=False)"
   ]
  },
  {
   "cell_type": "code",
   "execution_count": 10,
   "id": "5332d49c-854b-41c5-a6c8-4cf966c7de95",
   "metadata": {},
   "outputs": [
    {
     "data": {
      "text/plain": [
       "0.5795312523841858"
      ]
     },
     "execution_count": 10,
     "metadata": {},
     "output_type": "execute_result"
    }
   ],
   "source": [
    "uncorrected_eeg_results['CPRNN']['Mean joint coverage']"
   ]
  },
  {
   "cell_type": "code",
   "execution_count": 11,
   "id": "45d61849-9581-432e-8ad0-5fd53dca8df4",
   "metadata": {},
   "outputs": [
    {
     "name": "stdout",
     "output_type": "stream",
     "text": [
      "[85.8\\%, 90.6\\%]\n"
     ]
    }
   ],
   "source": [
    "independent_coverages = uncorrected_eeg_results['CPRNN']['Mean independent coverage']\n",
    "print('[{:.1f}\\\\%, {:.1f}\\\\%]'.format(independent_coverages.min() * 100, independent_coverages.max() * 100))"
   ]
  },
  {
   "cell_type": "markdown",
   "id": "2c58171e-7675-4983-851c-5a963d25aeec",
   "metadata": {},
   "source": [
    "#### COVID-19"
   ]
  },
  {
   "cell_type": "code",
   "execution_count": 12,
   "id": "752fa9ad-f6cc-43d3-9fb5-5bfdb071888e",
   "metadata": {},
   "outputs": [],
   "source": [
    "uncorrected_covid_results = run_medical_experiments(retrain=False, dataset='covid', baselines=['CPRNN'], correct_conformal=False)"
   ]
  },
  {
   "cell_type": "code",
   "execution_count": 13,
   "id": "86d905e4-dc31-47ae-9b47-bda58c4c59aa",
   "metadata": {},
   "outputs": [
    {
     "data": {
      "text/plain": [
       "0.574999988079071"
      ]
     },
     "execution_count": 13,
     "metadata": {},
     "output_type": "execute_result"
    }
   ],
   "source": [
    "uncorrected_covid_results['CPRNN']['Mean joint coverage']"
   ]
  },
  {
   "cell_type": "code",
   "execution_count": 14,
   "id": "ab9b269d-13d6-4f21-8848-d6eaeb6bc8cb",
   "metadata": {},
   "outputs": [
    {
     "name": "stdout",
     "output_type": "stream",
     "text": [
      "[77.5\\%, 98.8\\%]\n"
     ]
    }
   ],
   "source": [
    "independent_coverages = uncorrected_covid_results['CPRNN']['Mean independent coverage']\n",
    "print('[{:.1f}\\\\%, {:.1f}\\\\%]'.format(independent_coverages.min() * 100, independent_coverages.max() * 100))"
   ]
  },
  {
   "cell_type": "markdown",
   "id": "8b955510-d8bf-4988-bee5-5334f5060d8e",
   "metadata": {},
   "source": [
    "## Long horizon analysis"
   ]
  },
  {
   "cell_type": "markdown",
   "id": "e00000fe-eafc-4e08-8014-9a7c7ec15ea1",
   "metadata": {},
   "source": [
    "### EEG"
   ]
  },
  {
   "cell_type": "code",
   "execution_count": 14,
   "id": "d52cdfcd-0376-41ff-aabb-0fdd4e719e38",
   "metadata": {},
   "outputs": [],
   "source": [
    "import torch\n",
    "import numpy as np\n",
    "\n",
    "import matplotlib.pyplot as plt"
   ]
  },
  {
   "cell_type": "code",
   "execution_count": 45,
   "id": "b2efd3c5-800b-4a7b-82c9-de4e4263cf86",
   "metadata": {},
   "outputs": [],
   "source": [
    "widths = {}\n",
    "for rnn_model in ['LSTM', 'RNN', 'GRU']:\n",
    "    model = torch.load('saved_models/eeg_CPRNN_{}.pt'.format(rnn_model))\n",
    "    n_train = 15360\n",
    "    \n",
    "    ws = []\n",
    "    alphas = np.arange(100) * 0.01\n",
    "    for alpha in alphas:\n",
    "        corrected_alpha = alpha / model.horizon\n",
    "        corrected_critical_calibration_scores = torch.tensor([[\n",
    "                torch.quantile(\n",
    "                    position_calibration_scores,\n",
    "                    q=1 - corrected_alpha * n_train / (n_train + 1))\n",
    "                for position_calibration_scores in feature_calibration_scores]\n",
    "                for feature_calibration_scores in model.calibration_scores]).T\n",
    "        ws.append(corrected_critical_calibration_scores.flatten().tolist())\n",
    "    ws = np.array(ws)\n",
    "    ws = ws * 2\n",
    "    widths[rnn_model] = ws"
   ]
  },
  {
   "cell_type": "code",
   "execution_count": 46,
   "id": "3533f850-fc86-451a-8984-3ef8a4dfcb7f",
   "metadata": {},
   "outputs": [],
   "source": [
    "def compute_valid_horizons(threshold_width=15):\n",
    "    valid_horizons = {}\n",
    "    for rnn_model in ['LSTM', 'RNN', 'GRU']:    \n",
    "        T = []\n",
    "        ws = widths[rnn_model]\n",
    "        for i, _ in enumerate(alphas):\n",
    "            t = 0\n",
    "            while t < ws.shape[1] and ws[i, t] < threshold_width:\n",
    "                t += 1\n",
    "            T.append(t)\n",
    "        valid_horizons[rnn_model] = np.array(T)\n",
    "    return valid_horizons"
   ]
  },
  {
   "cell_type": "code",
   "execution_count": 15,
   "id": "251b80c9-e029-4390-bdc3-0323244af9cf",
   "metadata": {},
   "outputs": [],
   "source": [
    "plt.rcParams.update({\n",
    "    \"text.usetex\": False,\n",
    "    \"font.family\": \"sans-serif\",\n",
    "    \"font.sans-serif\": [\"Helvetica\"]})\n",
    "plt.rcParams.update({'axes.labelsize': 12})"
   ]
  },
  {
   "cell_type": "code",
   "execution_count": 49,
   "id": "1d543644-dbfd-415b-8234-841cad0c3992",
   "metadata": {},
   "outputs": [
    {
     "data": {
      "image/png": "[encoded data removed]",
      "text/plain": [
       "<Figure size 432x288 with 1 Axes>"
      ]
     },
     "metadata": {
      "needs_background": "light"
     },
     "output_type": "display_data"
    }
   ],
   "source": [
    "threshold_width = 25\n",
    "valid_horizons = compute_valid_horizons(threshold_width)\n",
    "for rnn_model in valid_horizons.keys():\n",
    "    plt.plot(1-alphas, valid_horizons[rnn_model], label='Co{}'.format(rnn_model))\n",
    "plt.xlabel('Coverage $\\\\alpha$')\n",
    "plt.ylabel('Horizon $H$')\n",
    "plt.legend()\n",
    "plt.show()"
   ]
  },
  {
   "cell_type": "code",
   "execution_count": 30,
   "id": "56c731a5-e504-4f38-87c5-ba101235163c",
   "metadata": {},
   "outputs": [],
   "source": [
    "widths = {}\n",
    "for rnn_model in ['LSTM', 'RNN', 'GRU']:\n",
    "    model = torch.load('saved_models/covid_CPRNN_{}.pt'.format(rnn_model))\n",
    "    n_train = 15360\n",
    "    \n",
    "    ws = []\n",
    "    alphas = np.arange(100) * 0.01\n",
    "    for alpha in alphas:\n",
    "        corrected_alpha = alpha / model.horizon\n",
    "        corrected_critical_calibration_scores = torch.tensor([[\n",
    "                torch.quantile(\n",
    "                    position_calibration_scores,\n",
    "                    q=1 - corrected_alpha * n_train / (n_train + 1))\n",
    "                for position_calibration_scores in feature_calibration_scores]\n",
    "                for feature_calibration_scores in model.calibration_scores]).T\n",
    "        ws.append(corrected_critical_calibration_scores.flatten().tolist())\n",
    "    ws = np.array(ws)\n",
    "    ws = ws * 2\n",
    "    widths[rnn_model] = ws"
   ]
  }
 ],
 "metadata": {
  "kernelspec": {
   "display_name": "Python 3",
   "language": "python",
   "name": "python3"
  },
  "language_info": {
   "codemirror_mode": {
    "name": "ipython",
    "version": 3
   },
   "file_extension": ".py",
   "mimetype": "text/x-python",
   "name": "python",
   "nbconvert_exporter": "python",
   "pygments_lexer": "ipython3",
   "version": "3.7.9"
  }
 },
 "nbformat": 4,
 "nbformat_minor": 5
}
