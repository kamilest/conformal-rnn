{
 "cells": [
  {
   "cell_type": "markdown",
   "metadata": {},
   "source": [
    "#### International Conference on Machine Learning (ICML), 2020.\n",
    "\n",
    "## Frequentist Uncertainty in Recurrent Neural Networks via Blockwise Influence Functions\n",
    "\n",
    "*Ahmed M. Alaa and Mihaela van der Schaar*"
   ]
  },
  {
   "cell_type": "markdown",
   "metadata": {},
   "source": [
    "Recurrent neural networks (RNNs) are instrumental in modelling sequential and time-series data. Yet, when using RNNs to inform decision-making,  predictions by themselves are not sufficient — we also need estimates of predictive uncertainty. The *blockwise Jackknife* method capitalizes on ideas from classical jackknife resampling to develop a frequentist approach for quantifying uncertainty in RNN predictions. This approach does not interfere with model training or compromise its accuracy, and applies to any RNN architecture. The blockwise Jackknife operates by estimating the variability of the (jackknife) sampling distribution of the RNN outputs, which is estimated by repeatedly deleting “blocks” of (temporally-correlated) training data, and collecting the predictions of the RNN re-trained on the remaining data. To avoid exhaustive re-training, we utilize *influence functions* to estimate the effect of removing training data blocks on the learned RNN parameters. This notebook provides a tutorial on how to use our method through a synthetic data example."
   ]
  },
  {
   "cell_type": "markdown",
   "metadata": {},
   "source": [
    "#### Step 1: Import all necessary libraries"
   ]
  },
  {
   "cell_type": "code",
   "execution_count": 7,
   "metadata": {
    "collapsed": false,
    "jupyter": {
     "outputs_hidden": false
    }
   },
   "outputs": [],
   "source": [
    "import numpy as np\n",
    "from matplotlib import pyplot as plt\n",
    "%matplotlib inline \n",
    "\n",
    "from models.rnn import RNN     # library containing the base RNN model implementation in torch\n",
    "from models.uncertainty import RNN_uncertainty_wrapper\n",
    "from utils.make_data import *       # library for generating synthetic data  "
   ]
  },
  {
   "cell_type": "markdown",
   "metadata": {},
   "source": [
    "#### Step 2: Set all data and model parameters"
   ]
  },
  {
   "cell_type": "code",
   "execution_count": 3,
   "metadata": {},
   "outputs": [],
   "source": [
    "seq_len      = 10                                  # length of temporal sequences\n",
    "n_samples    = 1000                                # number of samples\n",
    "\n",
    "INPUT_SIZE   = 1                                   # feature dimensions\n",
    "EPOCH        = 10                                  # number of epochs\n",
    "N_STEPS      = 500                                 # number of steps \n",
    "BATCH_SIZE   = 100                                 # batch size \n",
    "MAX_STEPS    = seq_len \n",
    "mode         = \"RNN\"                               # RNN architecture: RNN, LSTM, GRU \n",
    "coverage     = 0.9                                 # Target coverage probability \n",
    "\n",
    "params       = dict({\"INPUT_SIZE\":INPUT_SIZE,      # RNN parameters\n",
    "                     \"EPOCH\":EPOCH, \n",
    "                     \"N_STEPS\":N_STEPS, \n",
    "                     \"BATCH_SIZE\":BATCH_SIZE, \n",
    "                     \"MAX_STEPS\":MAX_STEPS, \n",
    "                     \"mode\":mode})"
   ]
  },
  {
   "cell_type": "markdown",
   "metadata": {},
   "source": [
    "#### Step 3: Generate synthetic data"
   ]
  },
  {
   "cell_type": "code",
   "execution_count": 4,
   "metadata": {
    "collapsed": false,
    "jupyter": {
     "outputs_hidden": false
    }
   },
   "outputs": [],
   "source": [
    "noise_profile = [0.1 * k for k in range(seq_len)]       # variance of label noise within a sequence = [0.1, 0.2, ... , 0.9]\n",
    "\n",
    "X, Y          = create_autoregressive_data(n_samples=n_samples, noise_profile=noise_profile,\n",
    "                                           seq_len=seq_len, mode=\"time-dependent\")"
   ]
  },
  {
   "cell_type": "markdown",
   "metadata": {},
   "source": [
    "#### Step 4: Instantiate and train a vanilla RNN model"
   ]
  },
  {
   "cell_type": "code",
   "execution_count": 5,
   "metadata": {
    "collapsed": false,
    "jupyter": {
     "outputs_hidden": false
    }
   },
   "outputs": [
    {
     "name": "stdout",
     "output_type": "stream",
     "text": [
      "Epoch:  0 | train loss: 31.3216\n",
      "Epoch:  0 | train loss: 5.3053\n",
      "Epoch:  0 | train loss: 1.0049\n",
      "Epoch:  0 | train loss: 0.5838\n",
      "Epoch:  0 | train loss: 0.5871\n",
      "Epoch:  0 | train loss: 0.4190\n",
      "Epoch:  0 | train loss: 0.3149\n",
      "Epoch:  0 | train loss: 0.3751\n",
      "Epoch:  0 | train loss: 0.2895\n",
      "Epoch:  0 | train loss: 0.3172\n",
      "Epoch:  1 | train loss: 0.2962\n",
      "Epoch:  1 | train loss: 0.3978\n",
      "Epoch:  1 | train loss: 0.3406\n",
      "Epoch:  1 | train loss: 0.4137\n",
      "Epoch:  1 | train loss: 0.3367\n",
      "Epoch:  1 | train loss: 0.2787\n",
      "Epoch:  1 | train loss: 0.4153\n",
      "Epoch:  1 | train loss: 0.2972\n",
      "Epoch:  1 | train loss: 0.3420\n",
      "Epoch:  1 | train loss: 0.2976\n",
      "Epoch:  2 | train loss: 0.2926\n",
      "Epoch:  2 | train loss: 0.2994\n",
      "Epoch:  2 | train loss: 0.3447\n",
      "Epoch:  2 | train loss: 0.3315\n",
      "Epoch:  2 | train loss: 0.2826\n",
      "Epoch:  2 | train loss: 0.2850\n",
      "Epoch:  2 | train loss: 0.2951\n",
      "Epoch:  2 | train loss: 0.3092\n",
      "Epoch:  2 | train loss: 0.2765\n",
      "Epoch:  2 | train loss: 0.3061\n",
      "Epoch:  3 | train loss: 0.2501\n",
      "Epoch:  3 | train loss: 0.2755\n",
      "Epoch:  3 | train loss: 0.2964\n",
      "Epoch:  3 | train loss: 0.3009\n",
      "Epoch:  3 | train loss: 0.2726\n",
      "Epoch:  3 | train loss: 0.2937\n",
      "Epoch:  3 | train loss: 0.2949\n",
      "Epoch:  3 | train loss: 0.3383\n",
      "Epoch:  3 | train loss: 0.3281\n",
      "Epoch:  3 | train loss: 0.2883\n",
      "Epoch:  4 | train loss: 0.2924\n",
      "Epoch:  4 | train loss: 0.2973\n",
      "Epoch:  4 | train loss: 0.2824\n",
      "Epoch:  4 | train loss: 0.2914\n",
      "Epoch:  4 | train loss: 0.2973\n",
      "Epoch:  4 | train loss: 0.2980\n",
      "Epoch:  4 | train loss: 0.2574\n",
      "Epoch:  4 | train loss: 0.2796\n",
      "Epoch:  4 | train loss: 0.3466\n",
      "Epoch:  4 | train loss: 0.2997\n",
      "Epoch:  5 | train loss: 0.3575\n",
      "Epoch:  5 | train loss: 0.2972\n",
      "Epoch:  5 | train loss: 0.2792\n",
      "Epoch:  5 | train loss: 0.2984\n",
      "Epoch:  5 | train loss: 0.2976\n",
      "Epoch:  5 | train loss: 0.2756\n",
      "Epoch:  5 | train loss: 0.2877\n",
      "Epoch:  5 | train loss: 0.3010\n",
      "Epoch:  5 | train loss: 0.2977\n",
      "Epoch:  5 | train loss: 0.2937\n",
      "Epoch:  6 | train loss: 0.2883\n",
      "Epoch:  6 | train loss: 0.2744\n",
      "Epoch:  6 | train loss: 0.2690\n",
      "Epoch:  6 | train loss: 0.3153\n",
      "Epoch:  6 | train loss: 0.2970\n",
      "Epoch:  6 | train loss: 0.3036\n",
      "Epoch:  6 | train loss: 0.3150\n",
      "Epoch:  6 | train loss: 0.2996\n",
      "Epoch:  6 | train loss: 0.2796\n",
      "Epoch:  6 | train loss: 0.2933\n",
      "Epoch:  7 | train loss: 0.2685\n",
      "Epoch:  7 | train loss: 0.3044\n",
      "Epoch:  7 | train loss: 0.3257\n",
      "Epoch:  7 | train loss: 0.3172\n",
      "Epoch:  7 | train loss: 0.2776\n",
      "Epoch:  7 | train loss: 0.3464\n",
      "Epoch:  7 | train loss: 0.2728\n",
      "Epoch:  7 | train loss: 0.2889\n",
      "Epoch:  7 | train loss: 0.3530\n",
      "Epoch:  7 | train loss: 0.2999\n",
      "Epoch:  8 | train loss: 0.3105\n",
      "Epoch:  8 | train loss: 0.3390\n",
      "Epoch:  8 | train loss: 0.3067\n",
      "Epoch:  8 | train loss: 0.2765\n",
      "Epoch:  8 | train loss: 0.3394\n",
      "Epoch:  8 | train loss: 0.3000\n",
      "Epoch:  8 | train loss: 0.3009\n",
      "Epoch:  8 | train loss: 0.2992\n",
      "Epoch:  8 | train loss: 0.2718\n",
      "Epoch:  8 | train loss: 0.2504\n",
      "Epoch:  9 | train loss: 0.2878\n",
      "Epoch:  9 | train loss: 0.2938\n",
      "Epoch:  9 | train loss: 0.3037\n",
      "Epoch:  9 | train loss: 0.2792\n",
      "Epoch:  9 | train loss: 0.3015\n",
      "Epoch:  9 | train loss: 0.3163\n",
      "Epoch:  9 | train loss: 0.2562\n",
      "Epoch:  9 | train loss: 0.3005\n",
      "Epoch:  9 | train loss: 0.3107\n",
      "Epoch:  9 | train loss: 0.3005\n"
     ]
    }
   ],
   "source": [
    "RNN_model      = RNN(**params)\n",
    "    \n",
    "RNN_model.fit(X, Y)"
   ]
  },
  {
   "cell_type": "markdown",
   "metadata": {},
   "source": [
    "#### Step 5: Post-hoc uncertainty computation\n",
    "\n",
    "Our method computes uncertainty estimates in a post-hoc fashion. The function *RNN_uncertainty_wrapper* takes the trained RNN model as an input, and computes the influence functions per training point in order to evaluate confidence intervals on a new testing point. The object returned by *RNN_uncertainty_wrapper* is a super class containing the RNN object with extra attributes needed to computer confidence intervals on test data. "
   ]
  },
  {
   "cell_type": "code",
   "execution_count": 11,
   "metadata": {},
   "outputs": [
    {
     "ename": "RuntimeError",
     "evalue": "one of the variables needed for gradient computation has been modified by an inplace operation: [torch.FloatTensor [20, 1]], which is output 0 of TBackward, is at version 5001; expected version 5000 instead. Hint: the backtrace further above shows the operation that failed to compute its gradient. The variable in question was changed in there or anywhere later. Good luck!",
     "output_type": "error",
     "traceback": [
      "\u001b[0;31m---------------------------------------------------------------------------\u001b[0m",
      "\u001b[0;31mRuntimeError\u001b[0m                              Traceback (most recent call last)",
      "\u001b[0;32m<ipython-input-11-42e23c07272e>\u001b[0m in \u001b[0;36m<module>\u001b[0;34m\u001b[0m\n\u001b[1;32m      1\u001b[0m \u001b[0;32mwith\u001b[0m \u001b[0mtorch\u001b[0m\u001b[0;34m.\u001b[0m\u001b[0mautograd\u001b[0m\u001b[0;34m.\u001b[0m\u001b[0mset_detect_anomaly\u001b[0m\u001b[0;34m(\u001b[0m\u001b[0;32mTrue\u001b[0m\u001b[0;34m)\u001b[0m\u001b[0;34m:\u001b[0m\u001b[0;34m\u001b[0m\u001b[0;34m\u001b[0m\u001b[0m\n\u001b[0;32m----> 2\u001b[0;31m     \u001b[0mRNN_model_\u001b[0m     \u001b[0;34m=\u001b[0m \u001b[0mRNN_uncertainty_wrapper\u001b[0m\u001b[0;34m(\u001b[0m\u001b[0mRNN_model\u001b[0m\u001b[0;34m)\u001b[0m\u001b[0;34m\u001b[0m\u001b[0;34m\u001b[0m\u001b[0m\n\u001b[0m",
      "\u001b[0;32m~/Documents/Oxford/dissertation/conformal-rnn/models/uncertainty.py\u001b[0m in \u001b[0;36m__init__\u001b[0;34m(self, model, mode, damp)\u001b[0m\n\u001b[1;32m     12\u001b[0m         self.IF = influence_function(model,\n\u001b[1;32m     13\u001b[0m                                      \u001b[0mtrain_index\u001b[0m\u001b[0;34m=\u001b[0m\u001b[0mlist\u001b[0m\u001b[0;34m(\u001b[0m\u001b[0mrange\u001b[0m\u001b[0;34m(\u001b[0m\u001b[0mmodel\u001b[0m\u001b[0;34m.\u001b[0m\u001b[0mX\u001b[0m\u001b[0;34m.\u001b[0m\u001b[0mshape\u001b[0m\u001b[0;34m[\u001b[0m\u001b[0;36m0\u001b[0m\u001b[0;34m]\u001b[0m\u001b[0;34m)\u001b[0m\u001b[0;34m)\u001b[0m\u001b[0;34m,\u001b[0m\u001b[0;34m\u001b[0m\u001b[0;34m\u001b[0m\u001b[0m\n\u001b[0;32m---> 14\u001b[0;31m                                      mode=mode, damp=damp)\n\u001b[0m\u001b[1;32m     15\u001b[0m \u001b[0;34m\u001b[0m\u001b[0m\n\u001b[1;32m     16\u001b[0m         X_ = [model.X[k][:int(torch.sum(model.masks[k, :]).detach().numpy())]\n",
      "\u001b[0;32m~/Documents/Oxford/dissertation/conformal-rnn/influence/influence_computation.py\u001b[0m in \u001b[0;36minfluence_function\u001b[0;34m(model, train_index, W, mode, batch_size, damp, scale, order, recursion_depth)\u001b[0m\n\u001b[1;32m     50\u001b[0m     \u001b[0;32mif\u001b[0m \u001b[0mmode\u001b[0m\u001b[0;34m==\u001b[0m\u001b[0;34m\"exact\"\u001b[0m\u001b[0;34m:\u001b[0m\u001b[0;34m\u001b[0m\u001b[0;34m\u001b[0m\u001b[0m\n\u001b[1;32m     51\u001b[0m \u001b[0;34m\u001b[0m\u001b[0m\n\u001b[0;32m---> 52\u001b[0;31m         \u001b[0mIF\u001b[0m \u001b[0;34m=\u001b[0m \u001b[0mexact_influence\u001b[0m\u001b[0;34m(\u001b[0m\u001b[0mmodel\u001b[0m\u001b[0;34m,\u001b[0m \u001b[0mtrain_index\u001b[0m\u001b[0;34m,\u001b[0m \u001b[0mdamp\u001b[0m\u001b[0;34m,\u001b[0m \u001b[0mW\u001b[0m\u001b[0;34m,\u001b[0m \u001b[0morder\u001b[0m\u001b[0;34m)\u001b[0m\u001b[0;34m\u001b[0m\u001b[0;34m\u001b[0m\u001b[0m\n\u001b[0m\u001b[1;32m     53\u001b[0m \u001b[0;34m\u001b[0m\u001b[0m\n\u001b[1;32m     54\u001b[0m     \u001b[0;32mreturn\u001b[0m \u001b[0mIF\u001b[0m\u001b[0;34m\u001b[0m\u001b[0;34m\u001b[0m\u001b[0m\n",
      "\u001b[0;32m~/Documents/Oxford/dissertation/conformal-rnn/influence/influence_computation.py\u001b[0m in \u001b[0;36mexact_influence\u001b[0;34m(model, train_index, damp, W, order)\u001b[0m\n\u001b[1;32m    117\u001b[0m \u001b[0;34m\u001b[0m\u001b[0m\n\u001b[1;32m    118\u001b[0m     \u001b[0mnum_par\u001b[0m \u001b[0;34m=\u001b[0m \u001b[0mstack_torch_tensors\u001b[0m\u001b[0;34m(\u001b[0m\u001b[0mparams_\u001b[0m\u001b[0;34m)\u001b[0m\u001b[0;34m.\u001b[0m\u001b[0mshape\u001b[0m\u001b[0;34m[\u001b[0m\u001b[0;36m0\u001b[0m\u001b[0;34m]\u001b[0m\u001b[0;34m\u001b[0m\u001b[0;34m\u001b[0m\u001b[0m\n\u001b[0;32m--> 119\u001b[0;31m     \u001b[0mHinv\u001b[0m    \u001b[0;34m=\u001b[0m \u001b[0mtorch\u001b[0m\u001b[0;34m.\u001b[0m\u001b[0minverse\u001b[0m\u001b[0;34m(\u001b[0m\u001b[0mexact_hessian\u001b[0m\u001b[0;34m(\u001b[0m\u001b[0mmodel\u001b[0m\u001b[0;34m)\u001b[0m \u001b[0;34m+\u001b[0m \u001b[0mdamp\u001b[0m \u001b[0;34m*\u001b[0m \u001b[0mtorch\u001b[0m\u001b[0;34m.\u001b[0m\u001b[0meye\u001b[0m\u001b[0;34m(\u001b[0m\u001b[0mnum_par\u001b[0m\u001b[0;34m)\u001b[0m\u001b[0;34m)\u001b[0m\u001b[0;34m\u001b[0m\u001b[0;34m\u001b[0m\u001b[0m\n\u001b[0m\u001b[1;32m    120\u001b[0m \u001b[0;34m\u001b[0m\u001b[0m\n\u001b[1;32m    121\u001b[0m     \u001b[0;32mif\u001b[0m \u001b[0morder\u001b[0m\u001b[0;34m==\u001b[0m\u001b[0;36m2\u001b[0m\u001b[0;34m:\u001b[0m\u001b[0;34m\u001b[0m\u001b[0;34m\u001b[0m\u001b[0m\n",
      "\u001b[0;32m~/Documents/Oxford/dissertation/conformal-rnn/influence/influence_utils.py\u001b[0m in \u001b[0;36mexact_hessian\u001b[0;34m(model)\u001b[0m\n\u001b[1;32m     59\u001b[0m \u001b[0;32mdef\u001b[0m \u001b[0mexact_hessian\u001b[0m\u001b[0;34m(\u001b[0m\u001b[0mmodel\u001b[0m\u001b[0;34m)\u001b[0m\u001b[0;34m:\u001b[0m\u001b[0;34m\u001b[0m\u001b[0;34m\u001b[0m\u001b[0m\n\u001b[1;32m     60\u001b[0m \u001b[0;34m\u001b[0m\u001b[0m\n\u001b[0;32m---> 61\u001b[0;31m     \u001b[0mgrad_params\u001b[0m \u001b[0;34m=\u001b[0m \u001b[0mtorch\u001b[0m\u001b[0;34m.\u001b[0m\u001b[0mautograd\u001b[0m\u001b[0;34m.\u001b[0m\u001b[0mgrad\u001b[0m\u001b[0;34m(\u001b[0m\u001b[0mmodel\u001b[0m\u001b[0;34m.\u001b[0m\u001b[0mloss\u001b[0m\u001b[0;34m,\u001b[0m \u001b[0mmodel\u001b[0m\u001b[0;34m.\u001b[0m\u001b[0mparameters\u001b[0m\u001b[0;34m(\u001b[0m\u001b[0;34m)\u001b[0m\u001b[0;34m,\u001b[0m \u001b[0mretain_graph\u001b[0m\u001b[0;34m=\u001b[0m\u001b[0;32mTrue\u001b[0m\u001b[0;34m,\u001b[0m \u001b[0mcreate_graph\u001b[0m\u001b[0;34m=\u001b[0m\u001b[0;32mTrue\u001b[0m\u001b[0;34m)\u001b[0m\u001b[0;34m\u001b[0m\u001b[0;34m\u001b[0m\u001b[0m\n\u001b[0m\u001b[1;32m     62\u001b[0m     \u001b[0mgrad_params\u001b[0m \u001b[0;34m=\u001b[0m \u001b[0mstack_torch_tensors\u001b[0m\u001b[0;34m(\u001b[0m\u001b[0mgrad_params\u001b[0m\u001b[0;34m)\u001b[0m\u001b[0;34m\u001b[0m\u001b[0;34m\u001b[0m\u001b[0m\n\u001b[1;32m     63\u001b[0m     \u001b[0mhess_params\u001b[0m \u001b[0;34m=\u001b[0m \u001b[0mtorch\u001b[0m\u001b[0;34m.\u001b[0m\u001b[0mzeros\u001b[0m\u001b[0;34m(\u001b[0m\u001b[0;34m(\u001b[0m\u001b[0mlen\u001b[0m\u001b[0;34m(\u001b[0m\u001b[0mgrad_params\u001b[0m\u001b[0;34m)\u001b[0m\u001b[0;34m,\u001b[0m \u001b[0mlen\u001b[0m\u001b[0;34m(\u001b[0m\u001b[0mgrad_params\u001b[0m\u001b[0;34m)\u001b[0m\u001b[0;34m)\u001b[0m\u001b[0;34m)\u001b[0m\u001b[0;34m\u001b[0m\u001b[0;34m\u001b[0m\u001b[0m\n",
      "\u001b[0;32m~/anaconda3/envs/aml/lib/python3.7/site-packages/torch/autograd/__init__.py\u001b[0m in \u001b[0;36mgrad\u001b[0;34m(outputs, inputs, grad_outputs, retain_graph, create_graph, only_inputs, allow_unused)\u001b[0m\n\u001b[1;32m    223\u001b[0m     return Variable._execution_engine.run_backward(\n\u001b[1;32m    224\u001b[0m         \u001b[0moutputs\u001b[0m\u001b[0;34m,\u001b[0m \u001b[0mgrad_outputs_\u001b[0m\u001b[0;34m,\u001b[0m \u001b[0mretain_graph\u001b[0m\u001b[0;34m,\u001b[0m \u001b[0mcreate_graph\u001b[0m\u001b[0;34m,\u001b[0m\u001b[0;34m\u001b[0m\u001b[0;34m\u001b[0m\u001b[0m\n\u001b[0;32m--> 225\u001b[0;31m         inputs, allow_unused, accumulate_grad=False)\n\u001b[0m\u001b[1;32m    226\u001b[0m \u001b[0;34m\u001b[0m\u001b[0m\n\u001b[1;32m    227\u001b[0m \u001b[0;34m\u001b[0m\u001b[0m\n",
      "\u001b[0;31mRuntimeError\u001b[0m: one of the variables needed for gradient computation has been modified by an inplace operation: [torch.FloatTensor [20, 1]], which is output 0 of TBackward, is at version 5001; expected version 5000 instead. Hint: the backtrace further above shows the operation that failed to compute its gradient. The variable in question was changed in there or anywhere later. Good luck!"
     ]
    }
   ],
   "source": [
    "with torch.autograd.set_detect_anomaly(True):\n",
    "    RNN_model_     = RNN_uncertainty_wrapper(RNN_model)"
   ]
  },
  {
   "cell_type": "markdown",
   "metadata": {},
   "source": [
    "#### Step 6: Generate a test sequence and compute confidence intervals"
   ]
  },
  {
   "cell_type": "code",
   "execution_count": 9,
   "metadata": {
    "collapsed": false,
    "jupyter": {
     "outputs_hidden": false
    }
   },
   "outputs": [],
   "source": [
    "X_test, Y_test = create_autoregressive_data(n_samples=1, noise_profile=noise_profile, seq_len=seq_len, mode=\"time-dependent\")"
   ]
  },
  {
   "cell_type": "code",
   "execution_count": 10,
   "metadata": {
    "collapsed": false,
    "jupyter": {
     "outputs_hidden": false
    }
   },
   "outputs": [
    {
     "ename": "NameError",
     "evalue": "name 'RNN_model_' is not defined",
     "output_type": "error",
     "traceback": [
      "\u001b[0;31m---------------------------------------------------------------------------\u001b[0m",
      "\u001b[0;31mNameError\u001b[0m                                 Traceback (most recent call last)",
      "\u001b[0;32m<ipython-input-10-f7d19066a101>\u001b[0m in \u001b[0;36m<module>\u001b[0;34m\u001b[0m\n\u001b[0;32m----> 1\u001b[0;31m \u001b[0mY_predicted\u001b[0m    \u001b[0;34m=\u001b[0m \u001b[0mRNN_model_\u001b[0m\u001b[0;34m.\u001b[0m\u001b[0mpredict\u001b[0m\u001b[0;34m(\u001b[0m\u001b[0mX_test\u001b[0m\u001b[0;34m)\u001b[0m\u001b[0;34m\u001b[0m\u001b[0;34m\u001b[0m\u001b[0m\n\u001b[0m",
      "\u001b[0;31mNameError\u001b[0m: name 'RNN_model_' is not defined"
     ]
    }
   ],
   "source": [
    "Y_predicted    = RNN_model_.predict(X_test)"
   ]
  },
  {
   "cell_type": "markdown",
   "metadata": {},
   "source": [
    "The predict function retrieves three outputs: the mean prediction (RNN output), and a lower and upper limits on the confidence intervals associated by this prediction over time. In what follows, we plot these predictions and show how they compare with the original test labels."
   ]
  },
  {
   "cell_type": "code",
   "execution_count": 36,
   "metadata": {
    "collapsed": false,
    "jupyter": {
     "outputs_hidden": false
    }
   },
   "outputs": [
    {
     "data": {
      "text/plain": [
       "Text(0, 0.5, 'Prediction')"
      ]
     },
     "execution_count": 36,
     "metadata": {},
     "output_type": "execute_result"
    },
    {
     "data": {
      "image/png": "[encoded data removed]",
      "text/plain": [
       "<Figure size 432x288 with 1 Axes>"
      ]
     },
     "metadata": {
      "needs_background": "light"
     },
     "output_type": "display_data"
    }
   ],
   "source": [
    "plt.fill_between(range(len(Y_test[0])), Y_predicted[1][0], Y_predicted[2][0], color=\"r\", alpha=0.25)\n",
    "plt.plot(Y_predicted[1][0], linestyle=\"--\", color=\"r\")\n",
    "plt.plot(Y_predicted[2][0], linestyle=\"--\", color=\"r\")\n",
    "plt.plot(Y_predicted[0][0], linestyle=\"--\", linewidth=3, color=\"r\")\n",
    "\n",
    "plt.scatter(range(len(Y_test[0])), Y_test[0], color=\"black\")\n",
    "\n",
    "plt.xlabel(\"Time step\", fontsize=12)\n",
    "plt.ylabel(\"Prediction\", fontsize=12)"
   ]
  },
  {
   "cell_type": "markdown",
   "metadata": {},
   "source": [
    "Here, the black dots correspond to the original test labels, the red line corresponds to the RNN predictions and the shaded area corresponds to the sequential confidence intervals. As we can see, because the noise variance increases progressively over the time steps, the RNN predictions deviates more and more over time, and the corresponding confidence intervals widen. "
   ]
  }
 ],
 "metadata": {
  "kernelspec": {
   "display_name": "Python 3",
   "language": "python",
   "name": "python3"
  },
  "language_info": {
   "codemirror_mode": {
    "name": "ipython",
    "version": 3
   },
   "file_extension": ".py",
   "mimetype": "text/x-python",
   "name": "python",
   "nbconvert_exporter": "python",
   "pygments_lexer": "ipython3",
   "version": "3.7.9"
  }
 },
 "nbformat": 4,
 "nbformat_minor": 4
}
