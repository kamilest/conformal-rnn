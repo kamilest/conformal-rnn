{
 "cells": [
  {
   "cell_type": "markdown",
   "metadata": {},
   "source": [
    "#### International Conference on Machine Learning (ICML), 2020.\n",
    "\n",
    "## Frequentist Uncertainty in Recurrent Neural Networks via Blockwise Influence Functions\n",
    "\n",
    "*Ahmed M. Alaa and Mihaela van der Schaar*"
   ]
  },
  {
   "cell_type": "markdown",
   "metadata": {},
   "source": [
    "Recurrent neural networks (RNNs) are instrumental in modelling sequential and time-series data. Yet, when using RNNs to inform decision-making,  predictions by themselves are not sufficient — we also need estimates of predictive uncertainty. The *blockwise Jackknife* method capitalizes on ideas from classical jackknife resampling to develop a frequentist approach for quantifying uncertainty in RNN predictions. This approach does not interfere with model training or compromise its accuracy, and applies to any RNN architecture. The blockwise Jackknife operates by estimating the variability of the (jackknife) sampling distribution of the RNN outputs, which is estimated by repeatedly deleting “blocks” of (temporally-correlated) training data, and collecting the predictions of the RNN re-trained on the remaining data. To avoid exhaustive re-training, we utilize *influence functions* to estimate the effect of removing training data blocks on the learned RNN parameters. This notebook provides a tutorial on how to use our method through a synthetic data example."
   ]
  },
  {
   "cell_type": "markdown",
   "metadata": {},
   "source": [
    "#### Step 1: Import all necessary libraries"
   ]
  },
  {
   "cell_type": "code",
   "execution_count": 1,
   "metadata": {},
   "outputs": [],
   "source": [
    "%load_ext autoreload\n",
    "%autoreload 2"
   ]
  },
  {
   "cell_type": "code",
   "execution_count": 2,
   "metadata": {
    "collapsed": false,
    "jupyter": {
     "outputs_hidden": false
    }
   },
   "outputs": [],
   "source": [
    "import numpy as np\n",
    "from matplotlib import pyplot as plt\n",
    "%matplotlib inline\n",
    "\n",
    "import torch\n",
    "\n",
    "from models.rnn import RNN     # library containing the base RNN model implementation in torch\n",
    "from models.uncertainty import RNN_uncertainty_wrapper\n",
    "from utils.make_data import *       # library for generating synthetic data  "
   ]
  },
  {
   "cell_type": "markdown",
   "metadata": {},
   "source": [
    "#### Step 2: Set all data and model parameters"
   ]
  },
  {
   "cell_type": "code",
   "execution_count": 27,
   "metadata": {},
   "outputs": [],
   "source": [
    "seq_len      = 10                                  # length of temporal sequences\n",
    "n_samples    = 1000                                # number of samples\n",
    "\n",
    "INPUT_SIZE   = 1                                   # feature dimensions\n",
    "EPOCH        = 10                                  # number of epochs\n",
    "N_STEPS      = 500                                 # number of steps \n",
    "BATCH_SIZE   = 100                                 # batch size \n",
    "OUTPUT_SIZE  = 5\n",
    "horizon      = OUTPUT_SIZE\n",
    "MAX_STEPS    = seq_len \n",
    "mode         = \"RNN\"                               # RNN architecture: RNN, LSTM, GRU \n",
    "coverage     = 0.9                                 # Target coverage probability \n",
    "\n",
    "params       = dict({\"INPUT_SIZE\":INPUT_SIZE,      # RNN parameters\n",
    "                     \"EPOCH\":EPOCH, \n",
    "                     \"N_STEPS\":N_STEPS, \n",
    "                     \"BATCH_SIZE\":BATCH_SIZE, \n",
    "                     \"MAX_STEPS\":MAX_STEPS,\n",
    "                     \"OUTPUT_SIZE\":OUTPUT_SIZE,\n",
    "                     \"mode\":mode})"
   ]
  },
  {
   "cell_type": "markdown",
   "metadata": {},
   "source": [
    "#### Step 3: Generate synthetic data"
   ]
  },
  {
   "cell_type": "code",
   "execution_count": null,
   "metadata": {
    "collapsed": false,
    "jupyter": {
     "outputs_hidden": false
    }
   },
   "outputs": [],
   "source": [
    "noise_profile = [0.1 * k for k in range(seq_len)]       # variance of label noise within a sequence = [0.1, 0.2, ... , 0.9]\n",
    "\n",
    "X, Y          = create_autoregressive_data(n_samples=n_samples, noise_profile=noise_profile,\n",
    "                                           seq_len=seq_len, mode=\"time-dependent\")"
   ]
  },
  {
   "cell_type": "code",
   "execution_count": 83,
   "metadata": {},
   "outputs": [],
   "source": [
    "noise_profile = [0.1 * k for k in range(seq_len + horizon)]\n",
    "X, Y = generate_autoregressive_forecast_dataset(n_samples=n_samples, \n",
    "                                                seq_len=seq_len, \n",
    "                                                horizon=horizon, \n",
    "                                                periodicity=2, \n",
    "                                                noise_profile=noise_profile, \n",
    "                                                return_raw=True)"
   ]
  },
  {
   "cell_type": "markdown",
   "metadata": {},
   "source": [
    "#### Step 4: Instantiate and train a vanilla RNN model"
   ]
  },
  {
   "cell_type": "code",
   "execution_count": 84,
   "metadata": {
    "collapsed": false,
    "jupyter": {
     "outputs_hidden": false
    }
   },
   "outputs": [
    {
     "ename": "ValueError",
     "evalue": "negative dimensions are not allowed",
     "output_type": "error",
     "traceback": [
      "\u001b[0;31m---------------------------------------------------------------------------\u001b[0m",
      "\u001b[0;31mValueError\u001b[0m                                Traceback (most recent call last)",
      "\u001b[0;32m<ipython-input-84-03efa170c897>\u001b[0m in \u001b[0;36m<module>\u001b[0;34m\u001b[0m\n\u001b[1;32m      2\u001b[0m \u001b[0mRNN_model\u001b[0m      \u001b[0;34m=\u001b[0m \u001b[0mRNN\u001b[0m\u001b[0;34m(\u001b[0m\u001b[0;34m**\u001b[0m\u001b[0mparams\u001b[0m\u001b[0;34m)\u001b[0m\u001b[0;34m\u001b[0m\u001b[0;34m\u001b[0m\u001b[0m\n\u001b[1;32m      3\u001b[0m \u001b[0;34m\u001b[0m\u001b[0m\n\u001b[0;32m----> 4\u001b[0;31m \u001b[0mRNN_model\u001b[0m\u001b[0;34m.\u001b[0m\u001b[0mfit\u001b[0m\u001b[0;34m(\u001b[0m\u001b[0mX\u001b[0m\u001b[0;34m,\u001b[0m \u001b[0mY\u001b[0m\u001b[0;34m)\u001b[0m\u001b[0;34m\u001b[0m\u001b[0;34m\u001b[0m\u001b[0m\n\u001b[0m",
      "\u001b[0;32m~/Documents/Oxford/dissertation/conformal-rnn/models/rnn.py\u001b[0m in \u001b[0;36mfit\u001b[0;34m(self, X, Y)\u001b[0m\n\u001b[1;32m     76\u001b[0m \u001b[0;34m\u001b[0m\u001b[0m\n\u001b[1;32m     77\u001b[0m     \u001b[0;32mdef\u001b[0m \u001b[0mfit\u001b[0m\u001b[0;34m(\u001b[0m\u001b[0mself\u001b[0m\u001b[0;34m,\u001b[0m \u001b[0mX\u001b[0m\u001b[0;34m,\u001b[0m \u001b[0mY\u001b[0m\u001b[0;34m)\u001b[0m\u001b[0;34m:\u001b[0m\u001b[0;34m\u001b[0m\u001b[0;34m\u001b[0m\u001b[0m\n\u001b[0;32m---> 78\u001b[0;31m         \u001b[0mX_padded\u001b[0m\u001b[0;34m,\u001b[0m \u001b[0m_\u001b[0m \u001b[0;34m=\u001b[0m \u001b[0mpadd_arrays\u001b[0m\u001b[0;34m(\u001b[0m\u001b[0mX\u001b[0m\u001b[0;34m,\u001b[0m \u001b[0mmax_length\u001b[0m\u001b[0;34m=\u001b[0m\u001b[0mself\u001b[0m\u001b[0;34m.\u001b[0m\u001b[0mMAX_STEPS\u001b[0m\u001b[0;34m)\u001b[0m\u001b[0;34m\u001b[0m\u001b[0;34m\u001b[0m\u001b[0m\n\u001b[0m\u001b[1;32m     79\u001b[0m         Y_padded, loss_masks = np.squeeze(\n\u001b[1;32m     80\u001b[0m             \u001b[0mpadd_arrays\u001b[0m\u001b[0;34m(\u001b[0m\u001b[0mY\u001b[0m\u001b[0;34m,\u001b[0m \u001b[0mmax_length\u001b[0m\u001b[0;34m=\u001b[0m\u001b[0mself\u001b[0m\u001b[0;34m.\u001b[0m\u001b[0mMAX_STEPS\u001b[0m\u001b[0;34m)\u001b[0m\u001b[0;34m[\u001b[0m\u001b[0;36m0\u001b[0m\u001b[0;34m]\u001b[0m\u001b[0;34m,\u001b[0m \u001b[0maxis\u001b[0m\u001b[0;34m=\u001b[0m\u001b[0;36m2\u001b[0m\u001b[0;34m)\u001b[0m\u001b[0;34m,\u001b[0m \u001b[0mnp\u001b[0m\u001b[0;34m.\u001b[0m\u001b[0msqueeze\u001b[0m\u001b[0;34m(\u001b[0m\u001b[0;34m\u001b[0m\u001b[0;34m\u001b[0m\u001b[0m\n",
      "\u001b[0;32m~/Documents/Oxford/dissertation/conformal-rnn/utils/data_padding.py\u001b[0m in \u001b[0;36mpadd_arrays\u001b[0;34m(X, max_length)\u001b[0m\n\u001b[1;32m     37\u001b[0m     X_output = [np.expand_dims(np.vstack(\n\u001b[1;32m     38\u001b[0m         (X[k], np.zeros((max_length - X[k].shape[0], X[0].shape[1])))), axis=0)\n\u001b[0;32m---> 39\u001b[0;31m         for k in range(len(X))]\n\u001b[0m\u001b[1;32m     40\u001b[0m     _mask = [np.expand_dims(np.vstack((np.ones((X[k].shape[0], X[k].shape[1])),\n\u001b[1;32m     41\u001b[0m                                        np.zeros((max_length - X[k].shape[0],\n",
      "\u001b[0;32m~/Documents/Oxford/dissertation/conformal-rnn/utils/data_padding.py\u001b[0m in \u001b[0;36m<listcomp>\u001b[0;34m(.0)\u001b[0m\n\u001b[1;32m     37\u001b[0m     X_output = [np.expand_dims(np.vstack(\n\u001b[1;32m     38\u001b[0m         (X[k], np.zeros((max_length - X[k].shape[0], X[0].shape[1])))), axis=0)\n\u001b[0;32m---> 39\u001b[0;31m         for k in range(len(X))]\n\u001b[0m\u001b[1;32m     40\u001b[0m     _mask = [np.expand_dims(np.vstack((np.ones((X[k].shape[0], X[k].shape[1])),\n\u001b[1;32m     41\u001b[0m                                        np.zeros((max_length - X[k].shape[0],\n",
      "\u001b[0;31mValueError\u001b[0m: negative dimensions are not allowed"
     ]
    }
   ],
   "source": [
    "from models.rnn import RNN\n",
    "RNN_model      = RNN(**params)\n",
    "    \n",
    "RNN_model.fit(X, Y)"
   ]
  },
  {
   "cell_type": "markdown",
   "metadata": {},
   "source": [
    "#### Step 5: Post-hoc uncertainty computation\n",
    "\n",
    "Our method computes uncertainty estimates in a post-hoc fashion. The function *RNN_uncertainty_wrapper* takes the trained RNN model as an input, and computes the influence functions per training point in order to evaluate confidence intervals on a new testing point. The object returned by *RNN_uncertainty_wrapper* is a super class containing the RNN object with extra attributes needed to computer confidence intervals on test data. "
   ]
  },
  {
   "cell_type": "code",
   "execution_count": 35,
   "metadata": {},
   "outputs": [],
   "source": [
    "from models.uncertainty import RNN_uncertainty_wrapper\n",
    "with torch.autograd.set_detect_anomaly(True):\n",
    "    RNN_model_     = RNN_uncertainty_wrapper(RNN_model)"
   ]
  },
  {
   "cell_type": "markdown",
   "metadata": {},
   "source": [
    "#### Step 6: Generate a test sequence and compute confidence intervals"
   ]
  },
  {
   "cell_type": "code",
   "execution_count": 45,
   "metadata": {
    "collapsed": false,
    "jupyter": {
     "outputs_hidden": false
    }
   },
   "outputs": [],
   "source": [
    "noise_profile = [0.1 * k for k in range(seq_len)] \n",
    "X_test, Y_test = create_autoregressive_data(n_samples=1, noise_profile=noise_profile, seq_len=seq_len, mode=\"time-dependent\")"
   ]
  },
  {
   "cell_type": "code",
   "execution_count": 77,
   "metadata": {},
   "outputs": [],
   "source": [
    "noise_profile = [0.1 * k for k in range(seq_len + horizon)]\n",
    "X_test, Y_test = generate_autoregressive_forecast_dataset(n_samples=100,\n",
    "                                                          seq_len=seq_len,\n",
    "                                                          horizon=horizon,\n",
    "                                                          periodicity=2,\n",
    "                                                          noise_profile=noise_profile,\n",
    "                                                          return_raw=True)"
   ]
  },
  {
   "cell_type": "code",
   "execution_count": 78,
   "metadata": {
    "collapsed": false,
    "jupyter": {
     "outputs_hidden": false
    }
   },
   "outputs": [
    {
     "name": "stdout",
     "output_type": "stream",
     "text": [
      "Example 0\n",
      "Example 50\n",
      "% of series within predicted intervals: 1.0\n"
     ]
    }
   ],
   "source": [
    "def coverage(intervals, target, coverage_mode='joint'):\n",
    "    \"\"\" Determines whether intervals coverage the target prediction.\n",
    "\n",
    "    Depending on the coverage_mode (either 'joint' or 'independent), will return\n",
    "    either a list of whether each target or all targets satisfy the coverage.\n",
    "    \"\"\"\n",
    "\n",
    "    lower, upper = intervals[0], intervals[1]\n",
    "\n",
    "    horizon_coverages = np.logical_and(target >= lower, target <= upper)\n",
    "    if coverage_mode == 'independent':\n",
    "        return horizon_coverages\n",
    "    else:  # joint coverage\n",
    "        return np.all(horizon_coverages, axis=0)\n",
    "\n",
    "    \n",
    "coverages = []\n",
    "\n",
    "for i, (x, y) in enumerate(zip(X_test, Y_test)): \n",
    "    y_pred, y_l_approx, y_u_approx = RNN_model_.predict(x)\n",
    "    intervals = np.array([y_l_approx[0], y_u_approx[0]])\n",
    "    coverages.append(covers)\n",
    "    if i % 50 == 0:\n",
    "        print('Example {}'.format(i))\n",
    "print('% of series within predicted intervals: {}'.format(np.mean(coverages)))"
   ]
  },
  {
   "cell_type": "markdown",
   "metadata": {},
   "source": [
    "The predict function retrieves three outputs: the mean prediction (RNN output), and a lower and upper limits on the confidence intervals associated by this prediction over time. In what follows, we plot these predictions and show how they compare with the original test labels."
   ]
  },
  {
   "cell_type": "code",
   "execution_count": 80,
   "metadata": {
    "collapsed": false,
    "jupyter": {
     "outputs_hidden": false
    }
   },
   "outputs": [
    {
     "data": {
      "text/plain": [
       "Text(0, 0.5, 'Prediction')"
      ]
     },
     "execution_count": 80,
     "metadata": {},
     "output_type": "execute_result"
    },
    {
     "data": {
      "image/png": "[encoded data removed]",
      "text/plain": [
       "<Figure size 432x288 with 1 Axes>"
      ]
     },
     "metadata": {
      "needs_background": "light"
     },
     "output_type": "display_data"
    }
   ],
   "source": [
    "plt.fill_between(range(len(y)), y_l_approx[0], y_u_approx[0], color=\"r\", alpha=0.25)\n",
    "plt.plot(y_l_approx[0], linestyle=\"--\", color=\"r\")\n",
    "plt.plot(y_u_approx[0], linestyle=\"--\", color=\"r\")\n",
    "plt.plot(y_pred[0], linestyle=\"--\", linewidth=3, color=\"r\")\n",
    "\n",
    "plt.scatter(range(len(y)), y, color=\"black\")\n",
    "\n",
    "plt.xlabel(\"Time step\", fontsize=12)\n",
    "plt.ylabel(\"Prediction\", fontsize=12)"
   ]
  },
  {
   "cell_type": "markdown",
   "metadata": {},
   "source": [
    "Here, the black dots correspond to the original test labels, the red line corresponds to the RNN predictions and the shaded area corresponds to the sequential confidence intervals. As we can see, because the noise variance increases progressively over the time steps, the RNN predictions deviates more and more over time, and the corresponding confidence intervals widen. "
   ]
  }
 ],
 "metadata": {
  "kernelspec": {
   "display_name": "Python 3",
   "language": "python",
   "name": "python3"
  },
  "language_info": {
   "codemirror_mode": {
    "name": "ipython",
    "version": 3
   },
   "file_extension": ".py",
   "mimetype": "text/x-python",
   "name": "python",
   "nbconvert_exporter": "python",
   "pygments_lexer": "ipython3",
   "version": "3.6.13"
  }
 },
 "nbformat": 4,
 "nbformat_minor": 4
}
