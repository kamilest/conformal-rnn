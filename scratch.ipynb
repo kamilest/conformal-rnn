{
 "cells": [
  {
   "cell_type": "markdown",
   "id": "914b7bf4-68fa-4fac-a647-d5b1cd1ebf5f",
   "metadata": {},
   "source": [
    "# Experiments on synthetic data\n",
    "\n",
    "Code to obtain the results in Section 4 of NeurIPS 2021 Paper6977 submission,\n",
    "for the proposed Conformal RNN model. This also briefly reviews the code to run the\n",
    "BJRNN baseline."
   ]
  },
  {
   "cell_type": "code",
   "execution_count": 6,
   "id": "be0d03b0-8a87-4ddf-b36a-76f9d1487593",
   "metadata": {},
   "outputs": [],
   "source": [
    "%load_ext autoreload\n",
    "%autoreload 2"
   ]
  },
  {
   "cell_type": "markdown",
   "id": "8fd82b32-af0f-40df-bbdc-e49edb0cd701",
   "metadata": {},
   "source": [
    "Required imports"
   ]
  },
  {
   "cell_type": "code",
   "execution_count": 7,
   "id": "48954bd0-b3b0-486e-8be1-a78b9e272868",
   "metadata": {
    "collapsed": false,
    "jupyter": {
     "outputs_hidden": false
    }
   },
   "outputs": [],
   "source": [
    "import numpy as np\n",
    "import pickle\n",
    "import torch\n",
    "\n",
    "from matplotlib import pyplot as plt\n",
    "%matplotlib inline\n",
    "\n",
    "from utils.data_processing_synthetic import get_synthetic_splits\n",
    "from utils.train_synthetic import train_conformal_forecaster"
   ]
  },
  {
   "cell_type": "code",
   "execution_count": 278,
   "id": "a778ac5b-c5e7-499b-9ba9-e9ba345b30c3",
   "metadata": {},
   "outputs": [],
   "source": [
    "from models.cornn import CoRNN\n",
    "from utils.train_synthetic import DEFAULT_SYNTHETIC_PARAMS, run_synthetic_experiments"
   ]
  },
  {
   "cell_type": "code",
   "execution_count": 276,
   "id": "4a4f9108-4126-4629-b559-aa7488dcd212",
   "metadata": {},
   "outputs": [
    {
     "name": "stdout",
     "output_type": "stream",
     "text": [
      "Training QRNN\n",
      "Training dataset 0\n",
      "Epoch:  0 | train loss: 0.6736\n",
      "Epoch:  1 | train loss: 0.6871\n",
      "Epoch:  2 | train loss: 0.6839\n",
      "Epoch:  3 | train loss: 0.6070\n",
      "Epoch:  4 | train loss: 0.6698\n",
      "Epoch:  5 | train loss: 0.6499\n",
      "Epoch:  6 | train loss: 0.6393\n",
      "Epoch:  7 | train loss: 0.5880\n",
      "Epoch:  8 | train loss: 0.6533\n",
      "Epoch:  9 | train loss: 0.6061\n",
      "Training dataset 1\n",
      "Epoch:  0 | train loss: 0.7626\n",
      "Epoch:  1 | train loss: 0.8442\n",
      "Epoch:  2 | train loss: 0.8417\n",
      "Epoch:  3 | train loss: 0.9462\n",
      "Epoch:  4 | train loss: 0.7959\n",
      "Epoch:  5 | train loss: 0.8056\n",
      "Epoch:  6 | train loss: 0.7959\n",
      "Epoch:  7 | train loss: 0.8005\n",
      "Epoch:  8 | train loss: 0.7632\n",
      "Epoch:  9 | train loss: 0.8072\n",
      "Training dataset 2\n",
      "Epoch:  0 | train loss: 1.0116\n",
      "Epoch:  1 | train loss: 0.9885\n",
      "Epoch:  2 | train loss: 0.9941\n",
      "Epoch:  3 | train loss: 0.9656\n",
      "Epoch:  4 | train loss: 0.9650\n",
      "Epoch:  5 | train loss: 0.9563\n",
      "Epoch:  6 | train loss: 0.9144\n",
      "Epoch:  7 | train loss: 0.9493\n",
      "Epoch:  8 | train loss: 0.9085\n",
      "Epoch:  9 | train loss: 1.0193\n",
      "Training dataset 3\n",
      "Epoch:  0 | train loss: 1.2869\n",
      "Epoch:  1 | train loss: 1.2423\n",
      "Epoch:  2 | train loss: 1.2243\n",
      "Epoch:  3 | train loss: 1.2760\n",
      "Epoch:  4 | train loss: 1.2460\n",
      "Epoch:  5 | train loss: 1.2044\n",
      "Epoch:  6 | train loss: 1.1396\n",
      "Epoch:  7 | train loss: 1.2354\n",
      "Epoch:  8 | train loss: 1.2498\n",
      "Epoch:  9 | train loss: 1.1402\n",
      "Training dataset 4\n",
      "Epoch:  0 | train loss: 1.5716\n",
      "Epoch:  1 | train loss: 1.4174\n",
      "Epoch:  2 | train loss: 1.4141\n",
      "Epoch:  3 | train loss: 1.4631\n",
      "Epoch:  4 | train loss: 1.3977\n",
      "Epoch:  5 | train loss: 1.4285\n",
      "Epoch:  6 | train loss: 1.4664\n",
      "Epoch:  7 | train loss: 1.3425\n",
      "Epoch:  8 | train loss: 1.3869\n",
      "Epoch:  9 | train loss: 1.4056\n"
     ]
    }
   ],
   "source": [
    "results_qrnn = run_synthetic_experiments(params=None, baselines=['QRNN'], retrain=True,\n",
    "                              generate_datasets=False,\n",
    "                              experiment='time-dependent',\n",
    "                              correct_conformal=True, save_model=False,\n",
    "                              save_results=True, rnn_mode='RNN', seed=0)"
   ]
  },
  {
   "cell_type": "code",
   "execution_count": 279,
   "id": "30baf9ff-e47b-4f7b-8f9b-a222cdbd6e0d",
   "metadata": {},
   "outputs": [
    {
     "name": "stdout",
     "output_type": "stream",
     "text": [
      "Training DPRNN\n",
      "Training dataset 0\n",
      "Epoch:  0 | train loss: 11.2059\n",
      "Epoch:  1 | train loss: 13.5496\n",
      "Epoch:  2 | train loss: 11.1306\n",
      "Epoch:  3 | train loss: 13.3762\n",
      "Epoch:  4 | train loss: 10.8653\n",
      "Epoch:  5 | train loss: 11.4850\n",
      "Epoch:  6 | train loss: 10.4239\n",
      "Epoch:  7 | train loss: 11.2724\n",
      "Epoch:  8 | train loss: 9.3682\n",
      "Epoch:  9 | train loss: 10.3301\n",
      "Training dataset 1\n",
      "Epoch:  0 | train loss: 20.4983\n",
      "Epoch:  1 | train loss: 18.2219\n",
      "Epoch:  2 | train loss: 15.7987\n",
      "Epoch:  3 | train loss: 18.3304\n",
      "Epoch:  4 | train loss: 16.9499\n",
      "Epoch:  5 | train loss: 14.8345\n",
      "Epoch:  6 | train loss: 17.3644\n",
      "Epoch:  7 | train loss: 17.0669\n",
      "Epoch:  8 | train loss: 13.6837\n",
      "Epoch:  9 | train loss: 12.9853\n",
      "Training dataset 2\n",
      "Epoch:  0 | train loss: 25.9788\n",
      "Epoch:  1 | train loss: 28.7743\n",
      "Epoch:  2 | train loss: 25.1717\n",
      "Epoch:  3 | train loss: 26.4531\n",
      "Epoch:  4 | train loss: 27.1879\n",
      "Epoch:  5 | train loss: 23.4812\n",
      "Epoch:  6 | train loss: 24.7267\n",
      "Epoch:  7 | train loss: 24.2386\n",
      "Epoch:  8 | train loss: 21.2951\n",
      "Epoch:  9 | train loss: 21.4616\n",
      "Training dataset 3\n",
      "Epoch:  0 | train loss: 34.5853\n",
      "Epoch:  1 | train loss: 37.0375\n",
      "Epoch:  2 | train loss: 38.9224\n",
      "Epoch:  3 | train loss: 37.1426\n",
      "Epoch:  4 | train loss: 41.3218\n",
      "Epoch:  5 | train loss: 32.3797\n",
      "Epoch:  6 | train loss: 35.0370\n",
      "Epoch:  7 | train loss: 31.9125\n",
      "Epoch:  8 | train loss: 30.4794\n",
      "Epoch:  9 | train loss: 35.3926\n",
      "Training dataset 4\n",
      "Epoch:  0 | train loss: 50.0225\n",
      "Epoch:  1 | train loss: 54.5729\n",
      "Epoch:  2 | train loss: 49.7367\n",
      "Epoch:  3 | train loss: 48.8310\n",
      "Epoch:  4 | train loss: 52.6655\n",
      "Epoch:  5 | train loss: 44.6214\n",
      "Epoch:  6 | train loss: 43.9150\n",
      "Epoch:  7 | train loss: 45.0167\n",
      "Epoch:  8 | train loss: 42.2408\n",
      "Epoch:  9 | train loss: 45.1745\n"
     ]
    }
   ],
   "source": [
    "results_dprnn = run_synthetic_experiments(params=None, baselines=['DPRNN'], retrain=True,\n",
    "                              generate_datasets=False,\n",
    "                              experiment='time-dependent',\n",
    "                              correct_conformal=True, save_model=False,\n",
    "                              save_results=True, rnn_mode='RNN', seed=0)"
   ]
  },
  {
   "cell_type": "code",
   "execution_count": 269,
   "id": "141a5c55-02fe-42a6-8ffd-263090ae675f",
   "metadata": {},
   "outputs": [
    {
     "name": "stdout",
     "output_type": "stream",
     "text": [
      "Training QRNN\n",
      "Training dataset 0\n",
      "Epoch:  0 | train loss: 0.6866\n",
      "Epoch:  1 | train loss: 0.6700\n",
      "Epoch:  2 | train loss: 0.6769\n",
      "Epoch:  3 | train loss: 0.6681\n",
      "Epoch:  4 | train loss: 0.6366\n",
      "Epoch:  5 | train loss: 0.6517\n",
      "Epoch:  6 | train loss: 0.6032\n",
      "Epoch:  7 | train loss: 0.6011\n",
      "Epoch:  8 | train loss: 0.5875\n",
      "Epoch:  9 | train loss: 0.5943\n",
      "Example 0\n",
      "Example 50\n",
      "Example 100\n",
      "Example 150\n",
      "Example 200\n",
      "Example 250\n",
      "Example 300\n",
      "Example 350\n",
      "Example 400\n",
      "Example 450\n",
      "Training dataset 1\n",
      "Epoch:  0 | train loss: 0.7666\n",
      "Epoch:  1 | train loss: 0.8529\n",
      "Epoch:  2 | train loss: 0.8841\n",
      "Epoch:  3 | train loss: 0.8776\n",
      "Epoch:  4 | train loss: 0.8041\n",
      "Epoch:  5 | train loss: 0.7746\n",
      "Epoch:  6 | train loss: 0.8050\n",
      "Epoch:  7 | train loss: 0.7724\n",
      "Epoch:  8 | train loss: 0.8092\n",
      "Epoch:  9 | train loss: 0.7488\n",
      "Example 0\n",
      "Example 50\n",
      "Example 100\n",
      "Example 150\n",
      "Example 200\n",
      "Example 250\n",
      "Example 300\n",
      "Example 350\n",
      "Example 400\n",
      "Example 450\n",
      "Training dataset 2\n",
      "Epoch:  0 | train loss: 1.0197\n",
      "Epoch:  1 | train loss: 0.9993\n",
      "Epoch:  2 | train loss: 0.9998\n",
      "Epoch:  3 | train loss: 0.9789\n",
      "Epoch:  4 | train loss: 1.0757\n",
      "Epoch:  5 | train loss: 1.0086\n",
      "Epoch:  6 | train loss: 1.0219\n",
      "Epoch:  7 | train loss: 0.9803\n",
      "Epoch:  8 | train loss: 0.9282\n",
      "Epoch:  9 | train loss: 0.9800\n",
      "Example 0\n",
      "Example 50\n",
      "Example 100\n",
      "Example 150\n",
      "Example 200\n",
      "Example 250\n",
      "Example 300\n",
      "Example 350\n",
      "Example 400\n",
      "Example 450\n",
      "Training dataset 3\n",
      "Epoch:  0 | train loss: 1.4109\n",
      "Epoch:  1 | train loss: 1.1819\n",
      "Epoch:  2 | train loss: 1.1494\n",
      "Epoch:  3 | train loss: 1.1571\n",
      "Epoch:  4 | train loss: 1.1160\n",
      "Epoch:  5 | train loss: 1.1589\n",
      "Epoch:  6 | train loss: 1.2121\n",
      "Epoch:  7 | train loss: 1.1941\n",
      "Epoch:  8 | train loss: 1.1855\n",
      "Epoch:  9 | train loss: 1.2248\n",
      "Example 0\n",
      "Example 50\n",
      "Example 100\n",
      "Example 150\n",
      "Example 200\n",
      "Example 250\n",
      "Example 300\n",
      "Example 350\n",
      "Example 400\n",
      "Example 450\n",
      "Training dataset 4\n",
      "Epoch:  0 | train loss: 1.5816\n",
      "Epoch:  1 | train loss: 1.5847\n",
      "Epoch:  2 | train loss: 1.4914\n",
      "Epoch:  3 | train loss: 1.4536\n",
      "Epoch:  4 | train loss: 1.4323\n",
      "Epoch:  5 | train loss: 1.4432\n",
      "Epoch:  6 | train loss: 1.3928\n",
      "Epoch:  7 | train loss: 1.4217\n",
      "Epoch:  8 | train loss: 1.4286\n",
      "Epoch:  9 | train loss: 1.4564\n",
      "Example 0\n",
      "Example 50\n",
      "Example 100\n",
      "Example 150\n",
      "Example 200\n",
      "Example 250\n",
      "Example 300\n",
      "Example 350\n",
      "Example 400\n",
      "Example 450\n",
      "Training DPRNN\n",
      "Training dataset 0\n",
      "Epoch:  0 | train loss: 12.2250\n",
      "Epoch:  1 | train loss: 12.0021\n",
      "Epoch:  2 | train loss: 14.5917\n",
      "Epoch:  3 | train loss: 12.6818\n",
      "Epoch:  4 | train loss: 10.7595\n",
      "Epoch:  5 | train loss: 11.1517\n",
      "Epoch:  6 | train loss: 11.5023\n",
      "Epoch:  7 | train loss: 8.3731\n",
      "Epoch:  8 | train loss: 10.0149\n",
      "Epoch:  9 | train loss: 10.5357\n",
      "Example 0\n",
      "Example 50\n",
      "Example 100\n",
      "Example 150\n",
      "Example 200\n",
      "Example 250\n",
      "Example 300\n",
      "Example 350\n",
      "Example 400\n",
      "Example 450\n",
      "Training dataset 1\n",
      "Epoch:  0 | train loss: 19.3618\n",
      "Epoch:  1 | train loss: 17.7242\n",
      "Epoch:  2 | train loss: 16.5983\n",
      "Epoch:  3 | train loss: 18.3886\n",
      "Epoch:  4 | train loss: 17.2252\n",
      "Epoch:  5 | train loss: 16.1969\n",
      "Epoch:  6 | train loss: 15.9391\n",
      "Epoch:  7 | train loss: 15.3969\n",
      "Epoch:  8 | train loss: 14.5460\n",
      "Epoch:  9 | train loss: 11.8266\n",
      "Example 0\n",
      "Example 50\n",
      "Example 100\n",
      "Example 150\n",
      "Example 200\n",
      "Example 250\n",
      "Example 300\n",
      "Example 350\n",
      "Example 400\n",
      "Example 450\n",
      "Training dataset 2\n",
      "Epoch:  0 | train loss: 28.7544\n",
      "Epoch:  1 | train loss: 25.4828\n",
      "Epoch:  2 | train loss: 24.6746\n",
      "Epoch:  3 | train loss: 25.9009\n",
      "Epoch:  4 | train loss: 25.9876\n",
      "Epoch:  5 | train loss: 21.9600\n",
      "Epoch:  6 | train loss: 25.2228\n",
      "Epoch:  7 | train loss: 19.0626\n",
      "Epoch:  8 | train loss: 20.4640\n",
      "Epoch:  9 | train loss: 21.5767\n",
      "Example 0\n",
      "Example 50\n",
      "Example 100\n",
      "Example 150\n",
      "Example 200\n",
      "Example 250\n",
      "Example 300\n",
      "Example 350\n",
      "Example 400\n",
      "Example 450\n",
      "Training dataset 3\n",
      "Epoch:  0 | train loss: 40.6967\n",
      "Epoch:  1 | train loss: 36.9566\n",
      "Epoch:  2 | train loss: 32.0455\n",
      "Epoch:  3 | train loss: 32.9202\n",
      "Epoch:  4 | train loss: 35.3259\n",
      "Epoch:  5 | train loss: 33.1450\n",
      "Epoch:  6 | train loss: 33.7413\n",
      "Epoch:  7 | train loss: 33.1551\n",
      "Epoch:  8 | train loss: 31.0444\n",
      "Epoch:  9 | train loss: 31.1863\n",
      "Example 0\n",
      "Example 50\n",
      "Example 100\n",
      "Example 150\n",
      "Example 200\n",
      "Example 250\n",
      "Example 300\n",
      "Example 350\n",
      "Example 400\n",
      "Example 450\n",
      "Training dataset 4\n",
      "Epoch:  0 | train loss: 47.8711\n",
      "Epoch:  1 | train loss: 52.4045\n",
      "Epoch:  2 | train loss: 46.0611\n",
      "Epoch:  3 | train loss: 51.2647\n",
      "Epoch:  4 | train loss: 47.5096\n",
      "Epoch:  5 | train loss: 47.1752\n",
      "Epoch:  6 | train loss: 43.4223\n",
      "Epoch:  7 | train loss: 47.7109\n",
      "Epoch:  8 | train loss: 46.1427\n",
      "Epoch:  9 | train loss: 39.9362\n",
      "Example 0\n",
      "Example 50\n",
      "Example 100\n",
      "Example 150\n",
      "Example 200\n",
      "Example 250\n",
      "Example 300\n",
      "Example 350\n",
      "Example 400\n",
      "Example 450\n"
     ]
    }
   ],
   "source": [
    "results = run_synthetic_experiments(params=None, baselines=['QRNN', 'DPRNN'], retrain=True,\n",
    "                              generate_datasets=False,\n",
    "                              experiment='time-dependent',\n",
    "                              correct_conformal=True, save_model=False,\n",
    "                              save_results=True, rnn_mode='RNN', seed=0)"
   ]
  },
  {
   "cell_type": "code",
   "execution_count": 256,
   "id": "332feeee-c2a1-4830-8be5-d281b177e7d4",
   "metadata": {},
   "outputs": [
    {
     "name": "stdout",
     "output_type": "stream",
     "text": [
      "CPRNN\n",
      "tensor([12.9511, 15.3495, 18.5207, 21.5026, 22.7859], grad_fn=<MeanBackward1>) 0.9200000166893005\n",
      "tensor([16.7277, 18.5400, 19.6937, 20.8678, 21.6073], grad_fn=<MeanBackward1>) 0.9039999842643738\n",
      "tensor([19.8832, 23.7368, 23.5400, 27.2586, 28.9963], grad_fn=<MeanBackward1>) 0.9079999923706055\n",
      "tensor([22.9493, 24.5373, 28.4677, 30.3819, 33.4077], grad_fn=<MeanBackward1>) 0.8999999761581421\n",
      "tensor([26.4023, 31.4824, 32.5492, 35.9741, 39.4215], grad_fn=<MeanBackward1>) 0.9100000262260437\n",
      "\n",
      "CPRNN-normalised\n",
      "tensor([12.7866, 15.0968, 18.5979, 20.9320, 23.0319], grad_fn=<MeanBackward1>) 0.8920000195503235\n",
      "tensor([16.4482, 18.5707, 20.0904, 21.4002, 22.2892], grad_fn=<MeanBackward1>) 0.9079999923706055\n",
      "tensor([19.9742, 24.3301, 24.1771, 27.2557, 29.7749], grad_fn=<MeanBackward1>) 0.9200000166893005\n",
      "tensor([22.7421, 24.3797, 29.0538, 30.4655, 34.1906], grad_fn=<MeanBackward1>) 0.8960000276565552\n",
      "tensor([26.7563, 32.8340, 32.6192, 34.7802, 40.4933], grad_fn=<MeanBackward1>) 0.921999990940094\n",
      "\n",
      "BJRNN\n",
      "\n",
      "QRNN\n",
      "\n",
      "DPRNN\n",
      "\n"
     ]
    }
   ],
   "source": [
    "for baseline in results.keys():\n",
    "    print(baseline)\n",
    "    for i in range(len(results[baseline])):\n",
    "        print(results[baseline][i]['Mean confidence interval widths'], results[baseline][i]['Mean joint coverage'])\n",
    "    print()"
   ]
  },
  {
   "cell_type": "code",
   "execution_count": 272,
   "id": "ef4b79ff-1ca1-459f-aefa-49c796877d07",
   "metadata": {},
   "outputs": [
    {
     "name": "stdout",
     "output_type": "stream",
     "text": [
      "CPRNN\n",
      "\n",
      "CPRNN-normalised\n",
      "\n",
      "BJRNN\n",
      "\n",
      "QRNN\n",
      "[[ 7.5249033]\n",
      " [ 9.43994  ]\n",
      " [11.226031 ]\n",
      " [13.487157 ]\n",
      " [14.962022 ]] 0.4064\n",
      "[[10.080579]\n",
      " [11.42857 ]\n",
      " [12.815769]\n",
      " [12.488897]\n",
      " [15.765036]] 0.672\n",
      "[[13.824842]\n",
      " [15.762233]\n",
      " [17.800226]\n",
      " [20.10096 ]\n",
      " [20.232811]] 0.7608\n",
      "[[14.793912]\n",
      " [16.197235]\n",
      " [19.38772 ]\n",
      " [20.641893]\n",
      " [19.125643]] 0.7052\n",
      "[[18.902   ]\n",
      " [22.660154]\n",
      " [23.333727]\n",
      " [23.809486]\n",
      " [26.395449]] 0.7956\n",
      "\n",
      "DPRNN\n",
      "[[7.6389017]\n",
      " [7.1191316]\n",
      " [7.086136 ]\n",
      " [7.0100965]\n",
      " [6.446491 ]] 0.25\n",
      "[[1.4255496 ]\n",
      " [1.0067878 ]\n",
      " [0.8377309 ]\n",
      " [0.74006915]\n",
      " [0.6891741 ]] 0.0\n",
      "[[3.848425 ]\n",
      " [3.5828753]\n",
      " [3.584048 ]\n",
      " [3.5035236]\n",
      " [3.0751982]] 0.2084\n",
      "[[3.5424511]\n",
      " [3.602528 ]\n",
      " [3.2469482]\n",
      " [3.9407895]\n",
      " [3.5507135]] 0.1032\n",
      "[[6.1087713]\n",
      " [6.2613196]\n",
      " [6.827024 ]\n",
      " [6.7695246]\n",
      " [7.94724  ]] 0.2036\n",
      "\n"
     ]
    }
   ],
   "source": [
    "for baseline in results.keys():\n",
    "    print(baseline)\n",
    "    for i in range(len(results[baseline])):\n",
    "        print(results[baseline][i]['interval_widths'], results[baseline][i]['mean_coverage'])\n",
    "    print()"
   ]
  },
  {
   "cell_type": "code",
   "execution_count": 277,
   "id": "1e1a2a8a-058f-43ca-bd63-456b77d70213",
   "metadata": {},
   "outputs": [
    {
     "name": "stdout",
     "output_type": "stream",
     "text": [
      "CPRNN\n",
      "\n",
      "CPRNN-normalised\n",
      "\n",
      "BJRNN\n",
      "\n",
      "QRNN\n",
      "[ 7.72704   9.357125 10.990964 11.934395 12.500709] 0.63\n",
      "[10.227398  11.35734   12.573654  13.402909  15.2695055] 0.574\n",
      "[12.696457 14.474907 16.353626 17.807388 18.785158] 0.58\n",
      "[15.826129 17.153152 19.079737 21.4164   22.057575] 0.562\n",
      "[18.285498 20.992868 22.809141 23.970427 25.856745] 0.62\n",
      "\n",
      "DPRNN\n",
      "\n"
     ]
    }
   ],
   "source": [
    "for baseline in results.keys():\n",
    "    print(baseline)\n",
    "    for i in range(len(results_qrnn[baseline])):\n",
    "        print(results_qrnn[baseline][i]['Mean confidence interval widths'], results_qrnn[baseline][i]['Mean joint coverage'])\n",
    "    print()"
   ]
  },
  {
   "cell_type": "code",
   "execution_count": 280,
   "id": "caf82800-6a30-45d5-aee3-510e53317dd5",
   "metadata": {},
   "outputs": [
    {
     "name": "stdout",
     "output_type": "stream",
     "text": [
      "CPRNN\n",
      "\n",
      "CPRNN-normalised\n",
      "\n",
      "BJRNN\n",
      "\n",
      "QRNN\n",
      "\n",
      "DPRNN\n",
      "[3.7458959 3.4510856 3.3635511 3.242023  2.9528723] 0.038\n",
      "[3.4916246 3.1744852 2.9266303 2.7746978 2.64875  ] 0.006\n",
      "[3.8773158 3.7548902 3.697274  3.751678  3.559165 ] 0.008\n",
      "[3.7084422 3.3833694 3.4921312 3.3912055 3.3155577] 0.004\n",
      "[3.7737503 3.7983296 3.838728  3.510264  4.1043124] 0.002\n",
      "\n"
     ]
    }
   ],
   "source": [
    "for baseline in results.keys():\n",
    "    print(baseline)\n",
    "    for i in range(len(results_dprnn[baseline])):\n",
    "        print(results_dprnn[baseline][i]['Mean confidence interval widths'], results_dprnn[baseline][i]['Mean joint coverage'])\n",
    "    print()"
   ]
  },
  {
   "cell_type": "code",
   "execution_count": 250,
   "id": "97495d32-6374-4034-b875-53b5978775b3",
   "metadata": {},
   "outputs": [
    {
     "data": {
      "text/plain": [
       "tensor([[[ 6.1158],\n",
       "         [ 7.2552],\n",
       "         [ 7.2383],\n",
       "         [ 7.0832],\n",
       "         [ 8.2965]],\n",
       "\n",
       "        [[ 6.0883],\n",
       "         [ 7.0689],\n",
       "         [ 6.7759],\n",
       "         [ 6.5124],\n",
       "         [ 7.6677]],\n",
       "\n",
       "        [[ 9.3525],\n",
       "         [10.2137],\n",
       "         [10.7093],\n",
       "         [10.8073],\n",
       "         [11.6597]],\n",
       "\n",
       "        ...,\n",
       "\n",
       "        [[ 3.3704],\n",
       "         [ 4.5560],\n",
       "         [ 4.3383],\n",
       "         [ 4.6860],\n",
       "         [ 6.0410]],\n",
       "\n",
       "        [[ 3.7637],\n",
       "         [ 4.4065],\n",
       "         [ 4.5491],\n",
       "         [ 4.8839],\n",
       "         [ 5.7806]],\n",
       "\n",
       "        [[ 1.0628],\n",
       "         [ 1.8155],\n",
       "         [ 2.0628],\n",
       "         [ 2.2048],\n",
       "         [ 3.0477]]], grad_fn=<CatBackward>)"
      ]
     },
     "execution_count": 250,
     "metadata": {},
     "output_type": "execute_result"
    }
   ],
   "source": [
    "results['CPRNN'][0]['Point predictions']"
   ]
  },
  {
   "cell_type": "code",
   "execution_count": 245,
   "id": "fc63905e-d2da-43c8-9004-f69282b1a242",
   "metadata": {},
   "outputs": [
    {
     "name": "stdout",
     "output_type": "stream",
     "text": [
      "dict_keys(['CPRNN', 'CPRNN-normalised', 'BJRNN', 'QRNN', 'DPRNN'])\n"
     ]
    }
   ],
   "source": [
    "print(results.keys())"
   ]
  },
  {
   "cell_type": "code",
   "execution_count": 10,
   "id": "bc27a3db-6686-44eb-8c70-eacf03241bff",
   "metadata": {},
   "outputs": [],
   "source": [
    "datasets = get_synthetic_splits(noise_mode='static', cached=False)"
   ]
  },
  {
   "cell_type": "code",
   "execution_count": 11,
   "id": "f6bc2d7e-1586-4f2a-8aba-bb412185c136",
   "metadata": {},
   "outputs": [
    {
     "data": {
      "text/plain": [
       "[(<utils.data_processing_synthetic.AutoregressiveForecastDataset at 0x7fd0bfa387d0>,\n",
       "  <utils.data_processing_synthetic.AutoregressiveForecastDataset at 0x7fd0bf9cba50>,\n",
       "  <utils.data_processing_synthetic.AutoregressiveForecastDataset at 0x7fd0bd408e10>),\n",
       " (<utils.data_processing_synthetic.AutoregressiveForecastDataset at 0x7fd0bfae8690>,\n",
       "  <utils.data_processing_synthetic.AutoregressiveForecastDataset at 0x7fd0bfaab190>,\n",
       "  <utils.data_processing_synthetic.AutoregressiveForecastDataset at 0x7fd0b9a57dd0>),\n",
       " (<utils.data_processing_synthetic.AutoregressiveForecastDataset at 0x7fd0bfaabcd0>,\n",
       "  <utils.data_processing_synthetic.AutoregressiveForecastDataset at 0x7fd0bd7948d0>,\n",
       "  <utils.data_processing_synthetic.AutoregressiveForecastDataset at 0x7fd0bfaab910>),\n",
       " (<utils.data_processing_synthetic.AutoregressiveForecastDataset at 0x7fd0beaafe10>,\n",
       "  <utils.data_processing_synthetic.AutoregressiveForecastDataset at 0x7fd0bc3bf310>,\n",
       "  <utils.data_processing_synthetic.AutoregressiveForecastDataset at 0x7fd0bf9cbf50>),\n",
       " (<utils.data_processing_synthetic.AutoregressiveForecastDataset at 0x7fd0bbe56510>,\n",
       "  <utils.data_processing_synthetic.AutoregressiveForecastDataset at 0x7fd0bfb92510>,\n",
       "  <utils.data_processing_synthetic.AutoregressiveForecastDataset at 0x7fd0b9aab410>)]"
      ]
     },
     "execution_count": 11,
     "metadata": {},
     "output_type": "execute_result"
    }
   ],
   "source": [
    "datasets"
   ]
  },
  {
   "cell_type": "code",
   "execution_count": 119,
   "id": "5234537e-6168-446e-bb2d-19baa41904ad",
   "metadata": {},
   "outputs": [],
   "source": [
    "results = []"
   ]
  },
  {
   "cell_type": "code",
   "execution_count": 227,
   "id": "64eefca0-e477-408d-93af-830ea05dae49",
   "metadata": {},
   "outputs": [
    {
     "name": "stdout",
     "output_type": "stream",
     "text": [
      "Epoch: 0\tTrain loss: 41.13853347301483\n",
      "Epoch: 50\tTrain loss: 8.785969078540802\n",
      "Epoch: 100\tTrain loss: 7.302737772464752\n",
      "Epoch: 150\tTrain loss: 5.847483649849892\n",
      "Epoch: 200\tTrain loss: 5.461999289691448\n",
      "Epoch: 250\tTrain loss: 4.667337715625763\n",
      "Epoch: 300\tTrain loss: 5.211041137576103\n",
      "Epoch: 350\tTrain loss: 4.0589210614562035\n",
      "Epoch: 400\tTrain loss: 3.700950913131237\n",
      "Epoch: 450\tTrain loss: 3.554953597486019\n",
      "Epoch: 500\tTrain loss: 3.3208678141236305\n",
      "Epoch: 550\tTrain loss: 5.675628140568733\n",
      "Epoch: 600\tTrain loss: 3.318308435380459\n",
      "Epoch: 650\tTrain loss: 5.0843754559755325\n",
      "Epoch: 700\tTrain loss: 3.9424339905381203\n",
      "Epoch: 750\tTrain loss: 3.2784859389066696\n",
      "Epoch: 800\tTrain loss: 3.614255338907242\n",
      "Epoch: 850\tTrain loss: 3.172774203121662\n",
      "Epoch: 900\tTrain loss: 5.170785337686539\n",
      "Epoch: 950\tTrain loss: 2.912680871784687\n",
      "Epoch: 0\tNormalisation loss: 1.4207360930740833\n",
      "Epoch: 0\tTrain loss: 47.674999356269836\n",
      "Epoch: 50\tTrain loss: 8.575003504753113\n",
      "Epoch: 100\tTrain loss: 6.931078642606735\n",
      "Epoch: 150\tTrain loss: 5.638742588460445\n",
      "Epoch: 200\tTrain loss: 4.850436843931675\n",
      "Epoch: 250\tTrain loss: 4.724396288394928\n",
      "Epoch: 300\tTrain loss: 4.7039210721850395\n",
      "Epoch: 350\tTrain loss: 8.058183446526527\n",
      "Epoch: 400\tTrain loss: 4.3646958619356155\n",
      "Epoch: 450\tTrain loss: 4.0626320242881775\n",
      "Epoch: 500\tTrain loss: 5.29785867780447\n",
      "Epoch: 550\tTrain loss: 4.9246988371014595\n",
      "Epoch: 600\tTrain loss: 4.437371388077736\n",
      "Epoch: 650\tTrain loss: 4.520459353923798\n",
      "Epoch: 700\tTrain loss: 5.565034978091717\n",
      "Epoch: 750\tTrain loss: 5.339506432414055\n",
      "Epoch: 800\tTrain loss: 4.611810326576233\n",
      "Epoch: 850\tTrain loss: 3.9425567388534546\n",
      "Epoch: 900\tTrain loss: 4.862588405609131\n",
      "Epoch: 950\tTrain loss: 4.540275923907757\n",
      "Epoch: 0\tNormalisation loss: 1.3193366639316082\n",
      "Epoch: 0\tTrain loss: 43.91275030374527\n",
      "Epoch: 50\tTrain loss: 9.251985281705856\n",
      "Epoch: 100\tTrain loss: 8.057702824473381\n",
      "Epoch: 150\tTrain loss: 7.0466159880161285\n",
      "Epoch: 200\tTrain loss: 7.169034719467163\n",
      "Epoch: 250\tTrain loss: 5.53981226682663\n",
      "Epoch: 300\tTrain loss: 5.375348679721355\n",
      "Epoch: 350\tTrain loss: 5.605258926749229\n",
      "Epoch: 400\tTrain loss: 5.749250814318657\n",
      "Epoch: 450\tTrain loss: 4.301914386451244\n",
      "Epoch: 500\tTrain loss: 4.96633718162775\n",
      "Epoch: 550\tTrain loss: 4.805521123111248\n",
      "Epoch: 600\tTrain loss: 4.648245260119438\n",
      "Epoch: 650\tTrain loss: 4.743605360388756\n",
      "Epoch: 700\tTrain loss: 5.313542820513248\n",
      "Epoch: 750\tTrain loss: 4.898123666644096\n",
      "Epoch: 800\tTrain loss: 4.2207749634981155\n",
      "Epoch: 850\tTrain loss: 4.875032164156437\n",
      "Epoch: 900\tTrain loss: 5.4313188046216965\n",
      "Epoch: 950\tTrain loss: 4.722687125205994\n",
      "Epoch: 0\tNormalisation loss: 1.2278336267918348\n",
      "Epoch: 0\tTrain loss: 40.16529452800751\n",
      "Epoch: 50\tTrain loss: 9.283498644828796\n",
      "Epoch: 100\tTrain loss: 7.402007758617401\n",
      "Epoch: 150\tTrain loss: 5.998634621500969\n",
      "Epoch: 200\tTrain loss: 5.461969375610352\n",
      "Epoch: 250\tTrain loss: 5.433791466057301\n",
      "Epoch: 300\tTrain loss: 4.2849437817931175\n",
      "Epoch: 350\tTrain loss: 4.194468542933464\n",
      "Epoch: 400\tTrain loss: 3.63282360881567\n",
      "Epoch: 450\tTrain loss: 6.350733667612076\n",
      "Epoch: 500\tTrain loss: 4.074782378971577\n",
      "Epoch: 550\tTrain loss: 5.065853349864483\n",
      "Epoch: 600\tTrain loss: 4.176836133003235\n",
      "Epoch: 650\tTrain loss: 3.5606728941202164\n",
      "Epoch: 700\tTrain loss: 3.662984572350979\n",
      "Epoch: 750\tTrain loss: 3.7809840962290764\n",
      "Epoch: 800\tTrain loss: 4.591605983674526\n",
      "Epoch: 850\tTrain loss: 3.7396344020962715\n",
      "Epoch: 900\tTrain loss: 3.499194286763668\n",
      "Epoch: 950\tTrain loss: 5.528059110045433\n",
      "Epoch: 0\tNormalisation loss: 1.4703038018196821\n",
      "Epoch: 0\tTrain loss: 51.54217293858528\n",
      "Epoch: 50\tTrain loss: 9.004223108291626\n",
      "Epoch: 100\tTrain loss: 7.142869874835014\n",
      "Epoch: 150\tTrain loss: 6.054516687989235\n",
      "Epoch: 200\tTrain loss: 4.881776534020901\n",
      "Epoch: 250\tTrain loss: 4.447586461901665\n",
      "Epoch: 300\tTrain loss: 4.3698477149009705\n",
      "Epoch: 350\tTrain loss: 5.159301973879337\n",
      "Epoch: 400\tTrain loss: 5.794108867645264\n",
      "Epoch: 450\tTrain loss: 4.6645603105425835\n",
      "Epoch: 500\tTrain loss: 6.436181604862213\n",
      "Epoch: 550\tTrain loss: 3.877998575568199\n",
      "Epoch: 600\tTrain loss: 3.730599097907543\n",
      "Epoch: 650\tTrain loss: 4.919796571135521\n",
      "Epoch: 700\tTrain loss: 3.8098528161644936\n",
      "Epoch: 750\tTrain loss: 3.935965523123741\n",
      "Epoch: 800\tTrain loss: 4.663879789412022\n",
      "Epoch: 850\tTrain loss: 3.6498787477612495\n",
      "Epoch: 900\tTrain loss: 3.153403177857399\n",
      "Epoch: 950\tTrain loss: 5.234277345240116\n",
      "Epoch: 0\tNormalisation loss: 1.3708781488239765\n"
     ]
    }
   ],
   "source": [
    "input_size=1\n",
    "embedding_size=20\n",
    "coverage=0.9\n",
    "epochs=1000\n",
    "lr=0.01\n",
    "batch_size=32\n",
    "rnn_mode='LSTM'\n",
    "experiment_mode='static'\n",
    "\n",
    "results=[]\n",
    "normalised_results=[]\n",
    "\n",
    "for i, dataset in enumerate(datasets):\n",
    "    if experiment_mode == 'long-horizon':\n",
    "        horizon = EXPERIMENT_MODES[experiment_mode][i]\n",
    "    else:\n",
    "        horizon = HORIZONS[experiment_mode]\n",
    "\n",
    "    train_dataset, calibration_dataset, test_dataset = dataset\n",
    "\n",
    "    model = CoRNN(embedding_size=embedding_size, horizon=horizon,error_rate=1 - coverage, mode=rnn_mode)\n",
    "    model.fit(train_dataset, calibration_dataset, epochs=epochs, lr=lr,\n",
    "              batch_size=batch_size)\n",
    "\n",
    "\n",
    "    result = evaluate_cornn_performance(model, test_dataset, normalised=False)\n",
    "    results.append(result)\n",
    "\n",
    "    normalised_result = evaluate_cornn_performance(model, test_dataset, normalised=True)\n",
    "    normalised_results.append(normalised_result)"
   ]
  },
  {
   "cell_type": "code",
   "execution_count": 224,
   "id": "5edfaae3-7da2-47f9-b8c5-130459d104ab",
   "metadata": {},
   "outputs": [
    {
     "data": {
      "text/plain": [
       "dict_keys(['Point predictions', 'Errors', 'Independent coverage indicators', 'Joint coverage indicators', 'Upper limit', 'Lower limit', 'Mean independent coverage', 'Mean joint coverage', 'Confidence interval widths', 'Mean confidence interval widths'])"
      ]
     },
     "execution_count": 224,
     "metadata": {},
     "output_type": "execute_result"
    }
   ],
   "source": [
    "results[0].keys()"
   ]
  },
  {
   "cell_type": "markdown",
   "id": "0b5ffebe-5f13-4d7c-b6b4-e91e4f63866a",
   "metadata": {},
   "source": [
    "beta = 10"
   ]
  },
  {
   "cell_type": "code",
   "execution_count": 228,
   "id": "96a9ce68-3c26-4f5c-8915-aff8f227511a",
   "metadata": {},
   "outputs": [
    {
     "name": "stdout",
     "output_type": "stream",
     "text": [
      "tensor([11.8933, 16.0001, 18.0092, 19.4610, 20.1420], grad_fn=<MeanBackward1>)\n",
      "tensor([11.8977, 16.1370, 18.1335, 19.4793, 20.3947], grad_fn=<MeanBackward1>)\n",
      "\n",
      "tensor([11.8004, 16.0806, 18.3719, 19.0989, 19.8601], grad_fn=<MeanBackward1>)\n",
      "tensor([11.8505, 15.9837, 18.1783, 19.3589, 19.9890], grad_fn=<MeanBackward1>)\n",
      "\n",
      "tensor([12.1827, 15.7478, 18.2316, 19.8605, 23.3259], grad_fn=<MeanBackward1>)\n",
      "tensor([12.1382, 15.8411, 18.2825, 19.5191, 23.4165], grad_fn=<MeanBackward1>)\n",
      "\n",
      "tensor([11.2390, 14.9808, 17.7509, 19.7164, 21.5000], grad_fn=<MeanBackward1>)\n",
      "tensor([11.3804, 15.0361, 17.7476, 19.7371, 21.5955], grad_fn=<MeanBackward1>)\n",
      "\n",
      "tensor([11.9142, 15.6461, 19.2478, 21.3445, 22.1178], grad_fn=<MeanBackward1>)\n",
      "tensor([11.6942, 15.8416, 19.1317, 21.5692, 22.1283], grad_fn=<MeanBackward1>)\n",
      "\n"
     ]
    }
   ],
   "source": [
    "for i in range(len(datasets)):\n",
    "    print(results[i]['Mean confidence interval widths'])\n",
    "    print(normalised_results[i]['Mean confidence interval widths'])\n",
    "    print()\n",
    "# print(results[1]['Mean confidence interval widths'])"
   ]
  },
  {
   "cell_type": "markdown",
   "id": "d2cc3430-b2f7-4bba-8f07-8d809037a081",
   "metadata": {},
   "source": [
    "beta = 5"
   ]
  },
  {
   "cell_type": "code",
   "execution_count": 225,
   "id": "0cfc0a25-1585-461a-a4ed-0d8ce55004b0",
   "metadata": {},
   "outputs": [
    {
     "name": "stdout",
     "output_type": "stream",
     "text": [
      "tensor([11.4452, 15.5842, 17.9923, 19.1451, 21.9740], grad_fn=<MeanBackward1>)\n",
      "tensor([11.4144, 15.5037, 18.0730, 19.3088, 21.5220], grad_fn=<MeanBackward1>)\n",
      "\n",
      "tensor([12.6807, 16.7591, 19.8282, 22.5709, 23.6736], grad_fn=<MeanBackward1>)\n",
      "tensor([12.6937, 16.9692, 20.4929, 22.2832, 22.8056], grad_fn=<MeanBackward1>)\n",
      "\n",
      "tensor([11.3268, 14.7228, 17.6204, 19.1182, 21.5176], grad_fn=<MeanBackward1>)\n",
      "tensor([11.2684, 14.7711, 17.6920, 19.1326, 21.7591], grad_fn=<MeanBackward1>)\n",
      "\n",
      "tensor([11.2458, 14.8314, 16.7045, 18.4192, 20.3285], grad_fn=<MeanBackward1>)\n",
      "tensor([11.3188, 15.0354, 16.9378, 18.4587, 20.5030], grad_fn=<MeanBackward1>)\n",
      "\n",
      "tensor([11.5727, 15.1697, 18.6059, 20.8479, 22.1037], grad_fn=<MeanBackward1>)\n",
      "tensor([11.6164, 14.9272, 18.5793, 20.9912, 22.4142], grad_fn=<MeanBackward1>)\n",
      "\n"
     ]
    }
   ],
   "source": [
    "for i in range(len(datasets)):\n",
    "    print(results[i]['Mean confidence interval widths'])\n",
    "    print(normalised_results[i]['Mean confidence interval widths'])\n",
    "    print()\n",
    "# print(results[1]['Mean confidence interval widths'])"
   ]
  },
  {
   "cell_type": "markdown",
   "id": "a61ff6d3-71dc-45e0-8e5b-ac7e28e8595d",
   "metadata": {},
   "source": [
    "beta <= 1"
   ]
  },
  {
   "cell_type": "code",
   "execution_count": 215,
   "id": "17481c0c-ed3f-42ff-bef5-f580cc1f3034",
   "metadata": {},
   "outputs": [
    {
     "name": "stdout",
     "output_type": "stream",
     "text": [
      "tensor([11.1046, 14.6474, 17.7534, 20.6654, 22.2522], grad_fn=<MeanBackward1>)\n",
      "tensor([11.6641, 15.5433, 18.9478, 22.3507, 26.7966], grad_fn=<MeanBackward1>)\n",
      "\n",
      "tensor([12.0450, 15.0401, 18.4608, 20.0643, 19.3256], grad_fn=<MeanBackward1>)\n",
      "tensor([12.4043, 17.1748, 20.9464, 21.2146, 22.2224], grad_fn=<MeanBackward1>)\n",
      "\n",
      "tensor([11.7879, 15.4926, 18.6746, 20.2470, 22.1670], grad_fn=<MeanBackward1>)\n",
      "tensor([12.8238, 16.8156, 21.1878, 22.1664, 25.2456], grad_fn=<MeanBackward1>)\n",
      "\n",
      "tensor([11.1238, 15.4579, 16.4373, 19.8149, 20.6064], grad_fn=<MeanBackward1>)\n",
      "tensor([11.1300, 16.3174, 18.8205, 21.6866, 21.6510], grad_fn=<MeanBackward1>)\n",
      "\n",
      "tensor([11.2460, 14.2197, 18.5439, 20.1186, 21.0079], grad_fn=<MeanBackward1>)\n",
      "tensor([11.9492, 14.3833, 19.3308, 21.8882, 21.3039], grad_fn=<MeanBackward1>)\n",
      "\n"
     ]
    }
   ],
   "source": [
    "for i in range(len(datasets)):\n",
    "    print(results[i]['Mean confidence interval widths'])\n",
    "    print(normalised_results[i]['Mean confidence interval widths'])\n",
    "    print()\n",
    "# print(results[1]['Mean confidence interval widths'])"
   ]
  },
  {
   "cell_type": "code",
   "execution_count": 233,
   "id": "e09cb176-579e-4d0c-a729-11d5b326ebd0",
   "metadata": {},
   "outputs": [
    {
     "name": "stdout",
     "output_type": "stream",
     "text": [
      "0.9259999990463257\n",
      "0.9300000071525574\n",
      "\n",
      "0.9240000247955322\n",
      "0.921999990940094\n",
      "\n",
      "0.9520000219345093\n",
      "0.9440000057220459\n",
      "\n",
      "0.9100000262260437\n",
      "0.9160000085830688\n",
      "\n",
      "0.9399999976158142\n",
      "0.9359999895095825\n",
      "\n"
     ]
    }
   ],
   "source": [
    "for i in range(len(datasets)):\n",
    "    print(results[i]['Mean joint coverage'])\n",
    "    print(normalised_results[i]['Mean joint coverage'])\n",
    "    print()\n",
    "# print(results[1]['Mean joint coverage'])"
   ]
  },
  {
   "cell_type": "code",
   "execution_count": 234,
   "id": "aef9b5a8-0f9e-44df-8262-f2784e194440",
   "metadata": {},
   "outputs": [
    {
     "name": "stdout",
     "output_type": "stream",
     "text": [
      "tensor([0.9760, 0.9840, 0.9680, 0.9780, 0.9780])\n",
      "tensor([0.9760, 0.9840, 0.9700, 0.9780, 0.9800])\n",
      "\n",
      "tensor([0.9780, 0.9800, 0.9760, 0.9620, 0.9540])\n",
      "tensor([0.9780, 0.9760, 0.9760, 0.9640, 0.9540])\n",
      "\n",
      "tensor([0.9860, 0.9900, 0.9880, 0.9720, 0.9920])\n",
      "tensor([0.9820, 0.9940, 0.9840, 0.9680, 0.9920])\n",
      "\n",
      "tensor([0.9720, 0.9720, 0.9740, 0.9680, 0.9780])\n",
      "tensor([0.9740, 0.9740, 0.9760, 0.9700, 0.9760])\n",
      "\n",
      "tensor([0.9820, 0.9740, 0.9880, 0.9880, 0.9840])\n",
      "tensor([0.9820, 0.9740, 0.9840, 0.9880, 0.9800])\n",
      "\n"
     ]
    }
   ],
   "source": [
    "for i in range(len(datasets)):\n",
    "    print(results[i]['Mean independent coverage'])\n",
    "    print(normalised_results[i]['Mean independent coverage'])\n",
    "    print()\n",
    "# print(results[1]['Mean independent coverage'])"
   ]
  },
  {
   "cell_type": "code",
   "execution_count": 231,
   "id": "b85a9eb1-0b67-4220-8d1b-4cc16f9dec69",
   "metadata": {},
   "outputs": [
    {
     "data": {
      "text/plain": [
       "tensor([[ 5.9571],\n",
       "        [ 7.8230],\n",
       "        [ 9.6239],\n",
       "        [10.6723],\n",
       "        [11.0589]])"
      ]
     },
     "execution_count": 231,
     "metadata": {},
     "output_type": "execute_result"
    }
   ],
   "source": [
    "model.corrected_critical_calibration_scores"
   ]
  },
  {
   "cell_type": "code",
   "execution_count": 232,
   "id": "308cbb50-04d1-4829-b104-777d7cb00ce4",
   "metadata": {},
   "outputs": [
    {
     "data": {
      "text/plain": [
       "tensor([[0.5269],\n",
       "        [0.6971],\n",
       "        [0.8393],\n",
       "        [0.9350],\n",
       "        [0.9550]])"
      ]
     },
     "execution_count": 232,
     "metadata": {},
     "output_type": "execute_result"
    }
   ],
   "source": [
    "model.normalised_corrected_critical_calibration_scores"
   ]
  },
  {
   "cell_type": "code",
   "execution_count": 125,
   "id": "1f12659b-fa4a-4f05-a0ac-27ab02d7920d",
   "metadata": {},
   "outputs": [
    {
     "name": "stdout",
     "output_type": "stream",
     "text": [
      "tensor([11.5653, 16.9678, 21.2433, 23.5103, 23.4713], grad_fn=<MeanBackward1>)\n",
      "tensor([11.2240, 15.1474, 18.4298, 19.8885, 20.9379], grad_fn=<MeanBackward1>)\n"
     ]
    }
   ],
   "source": [
    "print(results[0]['Mean confidence interval widths'])\n",
    "print(results[1]['Mean confidence interval widths'])"
   ]
  },
  {
   "cell_type": "code",
   "execution_count": 126,
   "id": "d3a4b281-a03a-46aa-829e-a535aacb9eb5",
   "metadata": {},
   "outputs": [
    {
     "name": "stdout",
     "output_type": "stream",
     "text": [
      "0.9419999718666077\n",
      "0.9380000233650208\n"
     ]
    }
   ],
   "source": [
    "print(results[0]['Mean joint coverage'])\n",
    "print(results[1]['Mean joint coverage'])"
   ]
  },
  {
   "cell_type": "code",
   "execution_count": 127,
   "id": "e9207815-061b-4012-b449-373457b43e4e",
   "metadata": {},
   "outputs": [
    {
     "name": "stdout",
     "output_type": "stream",
     "text": [
      "tensor([0.9700, 0.9900, 0.9840, 0.9860, 0.9860])\n",
      "tensor([0.9700, 0.9780, 0.9860, 0.9820, 0.9800])\n"
     ]
    }
   ],
   "source": [
    "print(results[0]['Mean independent coverage'])\n",
    "print(results[1]['Mean independent coverage'])"
   ]
  },
  {
   "cell_type": "markdown",
   "id": "44b20839-8d13-4bec-aa89-520607fc701d",
   "metadata": {},
   "source": [
    "## Time-dependent noise profile (Figure 3, Table 2)"
   ]
  },
  {
   "cell_type": "markdown",
   "id": "ac684653-f507-4b39-8106-69f400e3bf4e",
   "metadata": {},
   "source": [
    "Dataset generation process:\n",
    "\n",
    "```python\n",
    "# Generate a new dataset\n",
    "all_time_dependent_results = []\n",
    "for i in range(5):\n",
    "    get_synthetic_splits(noise_mode='time-dependent', cached=False)\n",
    "    time_dependent_results = train_conformal_forecaster(noise_mode='time-dependent', retrain=True)\n",
    "    all_time_dependent_results.append(time_dependent_results)\n",
    "    \n",
    "with open('saved_results/all_time_dependent_results.pkl', 'wb') as f:\n",
    "    pickle.dump(all_time_dependent_results, f, protocol=pickle.HIGHEST_PROTOCOL)\n",
    "```"
   ]
  },
  {
   "cell_type": "markdown",
   "id": "c015a857-7af1-49e4-bde0-7468065ee817",
   "metadata": {},
   "source": [
    "Loading saved results:"
   ]
  },
  {
   "cell_type": "code",
   "execution_count": null,
   "id": "8bdd28fb-1344-4be9-973b-5eba52ea2dcc",
   "metadata": {},
   "outputs": [],
   "source": [
    "with open('saved_results/all_time_dependent_results.pkl', 'wb') as f:\n",
    "    all_time_dependent_results = pickle.load(f)"
   ]
  },
  {
   "cell_type": "markdown",
   "id": "7b804369-7db0-4871-a3c1-d9601a3a92cd",
   "metadata": {},
   "source": [
    "Evaluation:"
   ]
  },
  {
   "cell_type": "markdown",
   "id": "50f64fb5-c642-4c30-8bbd-f792f9523a40",
   "metadata": {},
   "source": [
    "**Joint coverage**"
   ]
  },
  {
   "cell_type": "code",
   "execution_count": 20,
   "id": "b536ff8d-3766-4faf-be5e-30f583066bb9",
   "metadata": {},
   "outputs": [
    {
     "name": "stdout",
     "output_type": "stream",
     "text": [
      "93.5 \\(\\pm\\) 1.1\\%\n",
      "92.9 \\(\\pm\\) 1.4\\%\n",
      "92.1 \\(\\pm\\) 1.9\\%\n",
      "89.6 \\(\\pm\\) 2.3\\%\n",
      "90.8 \\(\\pm\\) 1.2\\%\n"
     ]
    }
   ],
   "source": [
    "coverages = []\n",
    "for time_dependent_results in all_time_dependent_results:\n",
    "    c = []\n",
    "    for result in time_dependent_results:\n",
    "        c.append(result['Mean joint coverage'] * 100)\n",
    "    coverages.append(c)\n",
    "coverages = np.array(coverages)\n",
    "for m, s in zip(coverages.mean(axis=0), coverages.std(axis=0)):\n",
    "    print('{:.1f} \\\\(\\\\pm\\\\) {:.1f}\\\\%'.format(m, s))"
   ]
  },
  {
   "cell_type": "markdown",
   "id": "d5c8ba56-b58c-49a1-b91a-5c0994739774",
   "metadata": {},
   "source": [
    "**Independent coverage**"
   ]
  },
  {
   "cell_type": "code",
   "execution_count": 33,
   "id": "3f5e653d-9660-4034-91df-1fa1945f0c69",
   "metadata": {},
   "outputs": [
    {
     "name": "stdout",
     "output_type": "stream",
     "text": [
      "tensor([0.9600, 0.9840, 0.9820, 0.9940, 0.9820])\n",
      "[96.0\\%, 99.4\\%]\n",
      "\n",
      "tensor([0.9840, 0.9880, 0.9840, 0.9560, 0.9840])\n",
      "[95.6\\%, 98.8\\%]\n",
      "\n",
      "tensor([0.9820, 0.9820, 0.9720, 0.9760, 0.9780])\n",
      "[97.2\\%, 98.2\\%]\n",
      "\n",
      "tensor([0.9800, 0.9800, 0.9740, 0.9920, 0.9840])\n",
      "[97.4\\%, 99.2\\%]\n",
      "\n",
      "tensor([0.9780, 0.9800, 0.9900, 0.9780, 0.9800])\n",
      "[97.8\\%, 99.0\\%]\n",
      "\n"
     ]
    }
   ],
   "source": [
    "for result in time_dependent_results:\n",
    "    independent_coverages = result['Mean independent coverage']\n",
    "    print(independent_coverages)\n",
    "    print('[{:.1f}\\\\%, {:.1f}\\\\%]'.format(independent_coverages.min() * 100, independent_coverages.max() * 100))\n",
    "    print()"
   ]
  },
  {
   "cell_type": "markdown",
   "id": "2eb38e8d-05c7-461e-b7d7-e36aee16796e",
   "metadata": {},
   "source": [
    "**Mean absolute error**"
   ]
  },
  {
   "cell_type": "code",
   "execution_count": 34,
   "id": "d645d01e-0f46-4f95-a460-d106dca3a39f",
   "metadata": {},
   "outputs": [
    {
     "name": "stdout",
     "output_type": "stream",
     "text": [
      "tensor([2.3385, 3.1437, 3.7521, 4.0304, 4.2055], grad_fn=<MeanBackward1>)\n",
      "3.49 \\(\\pm\\) 2.69\n",
      "\n",
      "tensor([2.8506, 3.5456, 4.1636, 4.6017, 4.7974], grad_fn=<MeanBackward1>)\n",
      "3.99 \\(\\pm\\) 3.13\n",
      "\n",
      "tensor([3.9038, 4.5945, 5.0242, 5.6742, 5.4950], grad_fn=<MeanBackward1>)\n",
      "4.94 \\(\\pm\\) 3.79\n",
      "\n",
      "tensor([4.3761, 5.1412, 6.1135, 5.9675, 6.7823], grad_fn=<MeanBackward1>)\n",
      "5.68 \\(\\pm\\) 4.35\n",
      "\n",
      "tensor([5.4778, 6.2312, 7.0181, 7.4857, 7.7957], grad_fn=<MeanBackward1>)\n",
      "6.80 \\(\\pm\\) 5.33\n",
      "\n"
     ]
    }
   ],
   "source": [
    "for result in time_dependent_results:\n",
    "    errors = result['Errors']\n",
    "    print(errors.mean(axis=0)) \n",
    "    print('{:.2f} \\\\(\\\\pm\\\\) {:.2f}'.format(errors.mean(), errors.std()))\n",
    "    print()"
   ]
  },
  {
   "cell_type": "markdown",
   "id": "123b3c6f-dce7-4ca5-8cbe-2c03f273899e",
   "metadata": {},
   "source": [
    "**Interval widths**"
   ]
  },
  {
   "cell_type": "code",
   "execution_count": 29,
   "id": "2f8193b7-685a-43c8-8662-fda1a3dfa560",
   "metadata": {},
   "outputs": [
    {
     "name": "stdout",
     "output_type": "stream",
     "text": [
      "20.07 \\(\\pm\\) 4.89 & 18.91 \\(\\pm\\) 3.66 & 18.37 \\(\\pm\\) 3.82 & 21.40 \\(\\pm\\) 5.40 & 19.58 \\(\\pm\\) 3.69\n",
      "22.98 \\(\\pm\\) 3.88 & 23.13 \\(\\pm\\) 4.43 & 22.55 \\(\\pm\\) 4.37 & 22.97 \\(\\pm\\) 4.59 & 23.31 \\(\\pm\\) 4.00\n",
      "27.90 \\(\\pm\\) 4.74 & 27.75 \\(\\pm\\) 4.10 & 27.97 \\(\\pm\\) 4.81 & 27.10 \\(\\pm\\) 4.38 & 26.78 \\(\\pm\\) 4.53\n",
      "32.56 \\(\\pm\\) 6.68 & 35.05 \\(\\pm\\) 6.89 & 32.73 \\(\\pm\\) 5.30 & 33.70 \\(\\pm\\) 6.00 & 33.00 \\(\\pm\\) 6.33\n",
      "37.97 \\(\\pm\\) 5.96 & 38.99 \\(\\pm\\) 7.71 & 38.68 \\(\\pm\\) 7.07 & 39.21 \\(\\pm\\) 7.43 & 38.79 \\(\\pm\\) 6.85\n"
     ]
    }
   ],
   "source": [
    "wws = []\n",
    "for results in all_time_dependent_results:\n",
    "    ws = []\n",
    "    for result in results:\n",
    "        widths = result['Mean confidence interval widths']\n",
    "        ws.append('{:.2f} \\\\(\\\\pm\\\\) {:.2f}'.format(widths.mean(), widths.std()))\n",
    "    wws.append(ws)\n",
    "\n",
    "for i in range(5):\n",
    "    print('{} & {} & {} & {} & {}'.format(wws[0][i], wws[1][i], wws[2][i], wws[3][i], wws[4][i]))"
   ]
  },
  {
   "cell_type": "code",
   "execution_count": 138,
   "id": "d3402c47-1346-445e-a5f6-a9806540bcde",
   "metadata": {},
   "outputs": [
    {
     "name": "stdout",
     "output_type": "stream",
     "text": [
      "tensor([12.8132, 17.8813, 21.2491, 23.2933, 23.6637], requires_grad=True)\n",
      "19.78 \\(\\pm\\) 4.52\n",
      "\n",
      "tensor([17.1109, 20.6710, 22.1549, 23.8422, 27.9436], requires_grad=True)\n",
      "22.34 \\(\\pm\\) 3.99\n",
      "\n",
      "tensor([22.0895, 25.7180, 28.0620, 32.3142, 33.7863], requires_grad=True)\n",
      "28.39 \\(\\pm\\) 4.78\n",
      "\n",
      "tensor([25.1534, 29.1088, 32.5214, 39.1727, 41.6589], requires_grad=True)\n",
      "33.52 \\(\\pm\\) 6.87\n",
      "\n",
      "tensor([31.4864, 34.9797, 43.5343, 42.1337, 47.7705], requires_grad=True)\n",
      "39.98 \\(\\pm\\) 6.62\n",
      "\n"
     ]
    }
   ],
   "source": [
    "for result in time_dependent_results:\n",
    "    print(result['Mean confidence interval widths'])\n",
    "    widths = result['Mean confidence interval widths']\n",
    "    print('{:.2f} \\\\(\\\\pm\\\\) {:.2f}'.format(widths.mean(), widths.std()))\n",
    "    print()"
   ]
  },
  {
   "cell_type": "markdown",
   "id": "ca6aea73-2506-4d0c-9cce-4aa8cff9ba50",
   "metadata": {},
   "source": [
    "## Static noise, no periodic component (Table 2)"
   ]
  },
  {
   "cell_type": "markdown",
   "id": "6ddad477-bc0d-42ae-a290-a90018f771ff",
   "metadata": {},
   "source": [
    "Dataset generation process:\n",
    "\n",
    "```python\n",
    "# Generate a new dataset\n",
    "all_static_results = []\n",
    "for i in range(5):\n",
    "    get_synthetic_splits(noise_mode='static', cached=False)\n",
    "    static_results = train_conformal_forecaster(noise_mode='static', retrain=True)\n",
    "    all_static_results.append(static_results)\n",
    "    \n",
    "with open('saved_results/all_static_results.pkl', 'wb') as f:\n",
    "    pickle.dump(all_static_results, f, protocol=pickle.HIGHEST_PROTOCOL)\n",
    "```"
   ]
  },
  {
   "cell_type": "markdown",
   "id": "eed99dc7-ecf5-46c0-9149-26f2d5220eaf",
   "metadata": {},
   "source": [
    "Load results"
   ]
  },
  {
   "cell_type": "code",
   "execution_count": 136,
   "id": "4ce01c51-4ad2-48a1-9103-51d6310102d5",
   "metadata": {},
   "outputs": [],
   "source": [
    "with open('saved_results/all_static_results.pkl', 'wb') as f:\n",
    "    all_static_results = pickle.load(f)"
   ]
  },
  {
   "cell_type": "markdown",
   "id": "e7fb6b02-c018-45ca-b059-8938bab34a5f",
   "metadata": {},
   "source": [
    "**Joint coverage**"
   ]
  },
  {
   "cell_type": "code",
   "execution_count": 24,
   "id": "28cd99e1-5148-46e2-9af7-2ef2d202fd1b",
   "metadata": {},
   "outputs": [
    {
     "name": "stdout",
     "output_type": "stream",
     "text": [
      "93.0 \\(\\pm\\) 1.3\\%\n",
      "94.8 \\(\\pm\\) 0.9\\%\n",
      "92.8 \\(\\pm\\) 1.3\\%\n",
      "93.7 \\(\\pm\\) 1.9\\%\n",
      "93.6 \\(\\pm\\) 1.1\\%\n"
     ]
    }
   ],
   "source": [
    "coverages = []\n",
    "for static_results in all_static_results:\n",
    "    c = []\n",
    "    for result in static_results:\n",
    "        c.append(result['Mean joint coverage'] * 100)\n",
    "    coverages.append(c)\n",
    "coverages = np.array(coverages)\n",
    "for m, s in zip(coverages.mean(axis=0), coverages.std(axis=0)):\n",
    "    print('{:.1f} \\\\(\\\\pm\\\\) {:.1f}\\\\%'.format(m, s))"
   ]
  },
  {
   "cell_type": "markdown",
   "id": "4539bf52-2943-4ce7-be26-a2c07af362e5",
   "metadata": {},
   "source": [
    "**Independent coverage**"
   ]
  },
  {
   "cell_type": "code",
   "execution_count": 176,
   "id": "5d4b8c4c-312e-4382-8755-7d911752e140",
   "metadata": {},
   "outputs": [
    {
     "name": "stdout",
     "output_type": "stream",
     "text": [
      "tensor([0.9800, 0.9720, 0.9600, 0.9840, 0.9860])\n",
      "[96.0\\%, 98.6\\%]\n",
      "\n",
      "tensor([0.9820, 0.9820, 0.9920, 0.9800, 0.9840])\n",
      "[98.0\\%, 99.2\\%]\n",
      "\n",
      "tensor([0.9840, 0.9760, 0.9920, 0.9860, 0.9820])\n",
      "[97.6\\%, 99.2\\%]\n",
      "\n",
      "tensor([0.9840, 0.9740, 0.9740, 0.9780, 0.9800])\n",
      "[97.4\\%, 98.4\\%]\n",
      "\n",
      "tensor([0.9760, 0.9820, 0.9800, 0.9820, 0.9760])\n",
      "[97.6\\%, 98.2\\%]\n",
      "\n"
     ]
    }
   ],
   "source": [
    "for result in static_results:\n",
    "    independent_coverages = result['Mean independent coverage']\n",
    "    print(independent_coverages)\n",
    "    print('[{:.1f}\\\\%, {:.1f}\\\\%]'.format(independent_coverages.min() * 100, independent_coverages.max() * 100))\n",
    "    print()"
   ]
  },
  {
   "cell_type": "markdown",
   "id": "b28f4ebb-c4be-436e-a580-9b7a99002fd6",
   "metadata": {},
   "source": [
    "**Mean absolute error**"
   ]
  },
  {
   "cell_type": "code",
   "execution_count": 177,
   "id": "ce1d9a79-ab5c-4a67-afa9-9ac44ca01191",
   "metadata": {},
   "outputs": [
    {
     "name": "stdout",
     "output_type": "stream",
     "text": [
      "tensor([2.0872, 2.9400, 3.5203, 3.9272, 4.1159], grad_fn=<MeanBackward1>)\n",
      "3.32 \\(\\pm\\) 2.64\n",
      "\n",
      "tensor([1.8089, 2.6188, 3.2409, 3.6305, 3.8306], grad_fn=<MeanBackward1>)\n",
      "3.03 \\(\\pm\\) 2.49\n",
      "\n",
      "tensor([1.9565, 2.6556, 3.3701, 3.8385, 4.0479], grad_fn=<MeanBackward1>)\n",
      "3.17 \\(\\pm\\) 2.51\n",
      "\n",
      "tensor([1.9175, 2.6714, 3.2163, 3.7312, 3.7828], grad_fn=<MeanBackward1>)\n",
      "3.06 \\(\\pm\\) 2.45\n",
      "\n",
      "tensor([1.9798, 2.7544, 3.3348, 3.8711, 4.1161], grad_fn=<MeanBackward1>)\n",
      "3.21 \\(\\pm\\) 2.65\n",
      "\n"
     ]
    }
   ],
   "source": [
    "for result in static_results:\n",
    "    errors = result['Errors']\n",
    "    print(errors.mean(axis=0)) \n",
    "#     print(errors.mean())\n",
    "    print('{:.2f} \\\\(\\\\pm\\\\) {:.2f}'.format(errors.mean(), errors.std()))\n",
    "    print()"
   ]
  },
  {
   "cell_type": "markdown",
   "id": "fd1eb112-e51f-46c9-9c06-a743a03b76db",
   "metadata": {},
   "source": [
    "**Interval widths**"
   ]
  },
  {
   "cell_type": "code",
   "execution_count": 28,
   "id": "7fee9fc1-fe4c-40ab-8c33-020552d92d07",
   "metadata": {},
   "outputs": [
    {
     "name": "stdout",
     "output_type": "stream",
     "text": [
      "17.33 \\(\\pm\\) 4.04 & 18.01 \\(\\pm\\) 4.15 & 19.02 \\(\\pm\\) 5.20 & 18.33 \\(\\pm\\) 4.63 & 18.32 \\(\\pm\\) 4.72\n",
      "18.73 \\(\\pm\\) 5.09 & 19.85 \\(\\pm\\) 4.92 & 18.30 \\(\\pm\\) 4.46 & 18.33 \\(\\pm\\) 4.66 & 17.49 \\(\\pm\\) 3.87\n",
      "16.99 \\(\\pm\\) 3.81 & 18.42 \\(\\pm\\) 4.91 & 16.86 \\(\\pm\\) 4.21 & 17.83 \\(\\pm\\) 4.35 & 18.75 \\(\\pm\\) 4.55\n",
      "18.77 \\(\\pm\\) 5.10 & 18.51 \\(\\pm\\) 4.01 & 17.59 \\(\\pm\\) 4.73 & 18.01 \\(\\pm\\) 4.28 & 17.71 \\(\\pm\\) 4.64\n",
      "18.47 \\(\\pm\\) 4.14 & 18.00 \\(\\pm\\) 3.82 & 19.08 \\(\\pm\\) 4.94 & 19.31 \\(\\pm\\) 4.80 & 19.09 \\(\\pm\\) 5.01\n"
     ]
    }
   ],
   "source": [
    "wws = []\n",
    "for static_results in all_static_results:\n",
    "    ws = []\n",
    "    for result in static_results:\n",
    "        widths = result['Mean confidence interval widths']\n",
    "        ws.append('{:.2f} \\\\(\\\\pm\\\\) {:.2f}'.format(widths.mean(), widths.std()))\n",
    "    wws.append(ws)\n",
    "\n",
    "for i in range(5):\n",
    "    print('{} & {} & {} & {} & {}'.format(wws[0][i], wws[1][i], wws[2][i], wws[3][i], wws[4][i]))"
   ]
  },
  {
   "cell_type": "code",
   "execution_count": 137,
   "id": "a81554b6-0c99-4888-ab5d-7a9a15aee6d0",
   "metadata": {},
   "outputs": [
    {
     "name": "stdout",
     "output_type": "stream",
     "text": [
      "tensor([11.4049, 15.6011, 18.4794, 21.4902, 22.7816], requires_grad=True)\n",
      "17.95 \\(\\pm\\) 4.60\n",
      "\n",
      "tensor([11.3676, 15.2927, 20.2274, 21.7256, 22.5205], requires_grad=True)\n",
      "18.23 \\(\\pm\\) 4.75\n",
      "\n",
      "tensor([11.8162, 15.4993, 19.1731, 21.7291, 22.6258], requires_grad=True)\n",
      "18.17 \\(\\pm\\) 4.50\n",
      "\n",
      "tensor([11.9010, 14.8107, 18.2220, 20.3336, 21.5495], requires_grad=True)\n",
      "17.36 \\(\\pm\\) 3.98\n",
      "\n",
      "tensor([11.6268, 15.8042, 19.8905, 22.2562, 23.6211], requires_grad=True)\n",
      "18.64 \\(\\pm\\) 4.92\n",
      "\n"
     ]
    }
   ],
   "source": [
    "for result in static_results:\n",
    "    print(result['Mean confidence interval widths'])\n",
    "    widths = result['Mean confidence interval widths']\n",
    "    print('{:.2f} \\\\(\\\\pm\\\\) {:.2f}'.format(widths.mean(), widths.std()))\n",
    "    print()"
   ]
  },
  {
   "cell_type": "markdown",
   "id": "53d65095-f306-4b4d-bac8-264f3d1aa710",
   "metadata": {},
   "source": [
    "## Periodic component (Figure 3)"
   ]
  },
  {
   "cell_type": "code",
   "execution_count": 179,
   "id": "a389c574-22e8-4e56-9fa5-b771744886b0",
   "metadata": {},
   "outputs": [],
   "source": [
    "periodic_results = train_conformal_forecaster(noise_mode='periodic')"
   ]
  },
  {
   "cell_type": "markdown",
   "id": "37831245-ba2b-4d73-9c28-eeeec3fb4e55",
   "metadata": {},
   "source": [
    "**Joint coverage**"
   ]
  },
  {
   "cell_type": "code",
   "execution_count": 180,
   "id": "b145789f-c176-4331-9268-05d1b32d6cae",
   "metadata": {},
   "outputs": [
    {
     "name": "stdout",
     "output_type": "stream",
     "text": [
      "93.6\\%\n",
      "90.8\\%\n"
     ]
    }
   ],
   "source": [
    "for result in periodic_results:\n",
    "    print('{:.1f}\\\\%'.format(result['Mean joint coverage'] * 100))"
   ]
  },
  {
   "cell_type": "markdown",
   "id": "3000ed82-6b16-4e52-ae62-1a8c9139b173",
   "metadata": {},
   "source": [
    "**Independent coverage**"
   ]
  },
  {
   "cell_type": "code",
   "execution_count": 181,
   "id": "fc12c448-d18e-4442-8097-195c0f4e8842",
   "metadata": {},
   "outputs": [
    {
     "name": "stdout",
     "output_type": "stream",
     "text": [
      "tensor([0.9800, 0.9880, 0.9840, 0.9940, 0.9860, 0.9980, 0.9940, 0.9960, 0.9960,\n",
      "        0.9840])\n",
      "[98.0\\%, 99.8\\%]\n",
      "\n",
      "tensor([0.9920, 0.9900, 0.9880, 0.9880, 0.9980, 0.9820, 0.9900, 0.9820, 0.9880,\n",
      "        0.9860])\n",
      "[98.2\\%, 99.8\\%]\n",
      "\n"
     ]
    }
   ],
   "source": [
    "for result in periodic_results:\n",
    "    independent_coverages = result['Mean independent coverage']\n",
    "    print(independent_coverages)\n",
    "    print('[{:.1f}\\\\%, {:.1f}\\\\%]'.format(independent_coverages.min() * 100, independent_coverages.max() * 100))\n",
    "    print()"
   ]
  },
  {
   "cell_type": "markdown",
   "id": "9523982f-a027-48ca-a64e-405272f60502",
   "metadata": {},
   "source": [
    "**Mean absolute error**"
   ]
  },
  {
   "cell_type": "code",
   "execution_count": 182,
   "id": "c8486344-4ce4-41d3-9a9e-bd273136083b",
   "metadata": {},
   "outputs": [
    {
     "name": "stdout",
     "output_type": "stream",
     "text": [
      "tensor([ 9.2719,  8.7163, 11.2114, 10.9359, 12.1758, 12.1385, 14.2406, 13.7489,\n",
      "        14.9719, 14.9102], grad_fn=<MeanBackward1>)\n",
      "12.23 \\(\\pm\\) 9.45\n",
      "\n",
      "tensor([13.7796, 14.7361, 16.0265, 16.0010, 16.5716, 17.8106, 18.4755, 19.6435,\n",
      "        19.2586, 19.6999], grad_fn=<MeanBackward1>)\n",
      "17.20 \\(\\pm\\) 13.22\n",
      "\n"
     ]
    }
   ],
   "source": [
    "for result in periodic_results:\n",
    "    errors = result['Errors']\n",
    "    print(errors.mean(axis=0)) \n",
    "#     print(errors.mean())\n",
    "    print('{:.2f} \\\\(\\\\pm\\\\) {:.2f}'.format(errors.mean(), errors.std()))\n",
    "    print()"
   ]
  },
  {
   "cell_type": "markdown",
   "id": "e6fcfb88-3a8a-4db0-a612-7125fa040154",
   "metadata": {},
   "source": [
    "**Interval widths**"
   ]
  },
  {
   "cell_type": "code",
   "execution_count": 183,
   "id": "f97f54cf-7431-42ec-add5-ff6e04e384ba",
   "metadata": {},
   "outputs": [
    {
     "name": "stdout",
     "output_type": "stream",
     "text": [
      "tensor([59.7701, 61.1170, 70.0357, 74.4743, 79.0557, 87.5056, 93.0214, 92.5021,\n",
      "        95.7963, 95.7216], requires_grad=True)\n",
      "tensor(80.9000, grad_fn=<MeanBackward0>) tensor(14.0132, grad_fn=<StdBackward0>)\n",
      "\n",
      "tensor([ 84.4764,  97.2791, 108.4707, 103.8025, 110.0651, 112.0813, 118.9014,\n",
      "        116.7674, 112.3318, 127.5560], requires_grad=True)\n",
      "tensor(109.1732, grad_fn=<MeanBackward0>) tensor(11.9731, grad_fn=<StdBackward0>)\n",
      "\n"
     ]
    }
   ],
   "source": [
    "for result in periodic_results:\n",
    "    print(result['Mean confidence interval widths'])\n",
    "    print(result['Mean confidence interval widths'].mean(), result['Mean confidence interval widths'].std())\n",
    "    print()"
   ]
  },
  {
   "cell_type": "markdown",
   "id": "7d212564-3272-48df-b63a-8261e4afd445",
   "metadata": {},
   "source": [
    "## Plotting"
   ]
  },
  {
   "cell_type": "code",
   "execution_count": 34,
   "id": "d143be15-0859-41f4-beba-cdb0512c3523",
   "metadata": {},
   "outputs": [],
   "source": [
    "def plot_timeseries(noise_mode, baseline, index=None, forecast_only=False, figsize=(28,4), figure_name=None):\n",
    "     \n",
    "    plt.rcParams.update({\n",
    "    \"text.usetex\": False,\n",
    "    \"font.family\": \"sans-serif\",\n",
    "    \"font.sans-serif\": [\"Helvetica\"]})\n",
    "    plt.rcParams.update({'axes.titlesize': 16,\n",
    "                         'axes.labelsize': 13})\n",
    "    \n",
    "    datasets = []\n",
    "    for i in ([2, 10] if noise_mode == 'periodic' else range(1, 6)):\n",
    "        with open('processed_data/synthetic_{}_raw_{}.pkl'.format(noise_mode, i), 'rb') as f:\n",
    "            datasets.append(pickle.load(f))\n",
    "        \n",
    "    with open('saved_results/{}_{}.pkl'.format(noise_mode, baseline), 'rb') as f:\n",
    "        all_results = pickle.load(f)\n",
    "        \n",
    "    fig, axs = plt.subplots(nrows=1, ncols=len(datasets), figsize=figsize, sharey=True)\n",
    "\n",
    "    for j, ax in enumerate(axs.flat):\n",
    "        _, _, dataset = datasets[j]\n",
    "        results = all_results[j]\n",
    "        \n",
    "        X, Y = dataset\n",
    "            \n",
    "        if index is None:\n",
    "            index = range(len(X))\n",
    "        i = np.random.choice(index)\n",
    "\n",
    "        \n",
    "        # Derive unpadded sequences and targets\n",
    "        sequence, target = X[i], Y[i]\n",
    "        \n",
    "        horizon = len(target)\n",
    "        length = len(sequence)\n",
    "        \n",
    "        if not forecast_only:\n",
    "            # (Scatter)plot of the time series\n",
    "            ax.plot(range(1, length+1), sequence, color=\"black\")\n",
    "            \n",
    "            # Prediction start vertical\n",
    "            ax.axvline(length, linestyle=\"--\", color=\"black\")\n",
    "        \n",
    "        ax.scatter(range(length + 1, length + horizon + 1), target, color=\"black\")\n",
    "        \n",
    "        # Interval boundaries\n",
    "        upper_limit = results['Upper limit']\n",
    "        lower_limit = results['Lower limit']\n",
    "        \n",
    "        lower = [sequence[-1].item()] + lower_limit[i].flatten().tolist()\n",
    "        upper = [sequence[-1].item()] + upper_limit[i].flatten().tolist()\n",
    "        preds = [sequence[-1].item()] + results['Point predictions'][i].flatten().tolist()\n",
    "\n",
    "        ax.fill_between(range(length, length + horizon + 1), lower, upper, color=\"r\", alpha=0.25)\n",
    "        ax.plot(range(length, length + horizon + 1), lower, linestyle=\"--\", color=\"r\")\n",
    "        ax.plot(range(length, length + horizon + 1), upper, linestyle=\"--\", color=\"r\")\n",
    "        ax.plot(range(length, length + horizon + 1), preds, linestyle=\"--\", linewidth=3, color=\"r\")\n",
    "\n",
    "        if j == 0:\n",
    "            ax.set(ylabel='Prediction')  \n",
    "        ax.set(xlabel='Time step')\n",
    "        if noise_mode == 'time-dependent':\n",
    "            ax.set(title='$\\sigma_t^2 =${:.1f}$t$'.format((j+1)*0.1))\n",
    "    \n",
    "    plt.subplots_adjust(left=0.1,\n",
    "                    bottom=0.1, \n",
    "                    right=0.9, \n",
    "                    top=0.9, \n",
    "                    wspace=0.1, \n",
    "                    hspace=0.4)\n",
    "    \n",
    "    if figure_name is not None:\n",
    "        plt.savefig('{}.png'.format(figure_name) , bbox_inches='tight')\n",
    "    plt.show()\n",
    "    \n",
    "plt.rcParams.update({\n",
    "    \"text.usetex\": False,\n",
    "    \"font.family\": \"sans-serif\",\n",
    "    \"font.sans-serif\": [\"Helvetica\"]})\n",
    "plt.rcParams.update({'axes.labelsize': 12,\n",
    "                     'axes.titlesize': 12})"
   ]
  },
  {
   "cell_type": "code",
   "execution_count": 35,
   "id": "43c42650-e21a-4f41-8d32-bebcef5a6d79",
   "metadata": {},
   "outputs": [
    {
     "data": {
      "image/png": "[encoded data removed]",
      "text/plain": [
       "<Figure size 2016x288 with 5 Axes>"
      ]
     },
     "metadata": {
      "needs_background": "light"
     },
     "output_type": "display_data"
    }
   ],
   "source": [
    "plot_timeseries(noise_mode='time-dependent', baseline='CPRNN', figure_name='time-dependent')"
   ]
  },
  {
   "cell_type": "code",
   "execution_count": 36,
   "id": "046d8632-e981-41fc-bd1c-c6bdc769c0d5",
   "metadata": {},
   "outputs": [
    {
     "data": {
      "image/png": "[encoded data removed]",
      "text/plain": [
       "<Figure size 1440x216 with 2 Axes>"
      ]
     },
     "metadata": {
      "needs_background": "light"
     },
     "output_type": "display_data"
    }
   ],
   "source": [
    "plot_timeseries(noise_mode='periodic', baseline='CPRNN', figsize=(20,3), figure_name='periodic')"
   ]
  },
  {
   "cell_type": "markdown",
   "id": "fe5e45f9-81da-4260-8124-3eab5e31a84d",
   "metadata": {},
   "source": [
    "## Long horizon analysis (Figure 4)"
   ]
  },
  {
   "cell_type": "markdown",
   "id": "8cf02e37-a873-4b8e-be31-f34b59c15c8a",
   "metadata": {},
   "source": [
    "Training code for the three underlying RNN models:\n",
    "\n",
    "```python\n",
    "train_conformal_forecaster(noise_mode='long-horizon', retrain=True, save_model=True, save_results=False, rnn_mode='GRU')\n",
    "train_conformal_forecaster(noise_mode='long-horizon', retrain=True, save_model=True, save_results=False, rnn_mode='RNN')\n",
    "train_conformal_forecaster(noise_mode='long-horizon', retrain=True, save_model=True, save_results=False, rnn_mode='LSTM')\n",
    "```"
   ]
  },
  {
   "cell_type": "markdown",
   "id": "26c4101a-304c-4013-aa10-b06829760d78",
   "metadata": {},
   "source": [
    "Analyzing interval widths:"
   ]
  },
  {
   "cell_type": "code",
   "execution_count": 75,
   "id": "c7a050ca-07c5-4b67-b805-75a0686913a7",
   "metadata": {},
   "outputs": [],
   "source": [
    "widths = {}\n",
    "for rnn_model in ['LSTM', 'RNN', 'GRU']:\n",
    "    model = torch.load('saved_models/long-horizon_CPRNN_{}_100.pt'.format(rnn_model))\n",
    "    \n",
    "    ws = []\n",
    "    alphas = np.arange(100) * 0.01\n",
    "    for alpha in alphas:\n",
    "        corrected_alpha = alpha / model.horizon\n",
    "        corrected_critical_calibration_scores = torch.tensor([[\n",
    "                torch.quantile(\n",
    "                    position_calibration_scores,\n",
    "                    q=1 - corrected_alpha * model.n_train / (model.n_train + 1))\n",
    "                for position_calibration_scores in feature_calibration_scores]\n",
    "                for feature_calibration_scores in model.calibration_scores]).T\n",
    "        ws.append(corrected_critical_calibration_scores.flatten().tolist())\n",
    "    ws = np.array(ws)\n",
    "    ws = ws * 2\n",
    "    widths[rnn_model] = ws"
   ]
  },
  {
   "cell_type": "code",
   "execution_count": 118,
   "id": "1c14d267-d0c9-45e5-a5c1-0e93284b90d5",
   "metadata": {},
   "outputs": [],
   "source": [
    "def compute_valid_horizons(threshold_width=15):\n",
    "    valid_horizons = {}\n",
    "    for rnn_model in ['LSTM', 'RNN', 'GRU']:    \n",
    "        T = []\n",
    "        ws = widths[rnn_model]\n",
    "        for i, _ in enumerate(alphas):\n",
    "            t = 0\n",
    "            while t < ws.shape[1] and ws[i, t] < threshold_width:\n",
    "                t += 1\n",
    "            T.append(t)\n",
    "        valid_horizons[rnn_model] = np.array(T)\n",
    "    return valid_horizons"
   ]
  },
  {
   "cell_type": "code",
   "execution_count": 132,
   "id": "b3315cc8-ca7a-406c-af65-3e5334e05605",
   "metadata": {},
   "outputs": [
    {
     "data": {
      "image/png": "[encoded data removed]",
      "text/plain": [
       "<Figure size 432x288 with 1 Axes>"
      ]
     },
     "metadata": {
      "needs_background": "light"
     },
     "output_type": "display_data"
    }
   ],
   "source": [
    "for threshold_width in [16]:\n",
    "    valid_horizons = compute_valid_horizons(threshold_width)\n",
    "    for rnn_model in valid_horizons.keys():\n",
    "        plt.plot(1-alphas, valid_horizons[rnn_model], label='Co{}'.format(rnn_model))\n",
    "plt.xlabel('Coverage $\\\\alpha$')\n",
    "plt.ylabel('Horizon $H$')\n",
    "plt.legend()\n",
    "plt.savefig('{}.png'.format('tradeoff') , bbox_inches='tight', dpi=1000)\n",
    "plt.show()"
   ]
  },
  {
   "cell_type": "markdown",
   "id": "f2e54620-981e-4791-903b-675045e684a3",
   "metadata": {},
   "source": [
    "## BJRNN baseline\n",
    "\n",
    "Example for training the time-dependent noise profile, for a single seed."
   ]
  },
  {
   "cell_type": "code",
   "execution_count": null,
   "id": "aadf8553-3b10-4d0d-9f57-7cda5569d5c1",
   "metadata": {},
   "outputs": [],
   "source": [
    "from utils.train_synthetic import train_bjrnn\n",
    "results = train_bjrnn(noise_mode='time-dependent')"
   ]
  }
 ],
 "metadata": {
  "kernelspec": {
   "display_name": "Python 3",
   "language": "python",
   "name": "python3"
  },
  "language_info": {
   "codemirror_mode": {
    "name": "ipython",
    "version": 3
   },
   "file_extension": ".py",
   "mimetype": "text/x-python",
   "name": "python",
   "nbconvert_exporter": "python",
   "pygments_lexer": "ipython3",
   "version": "3.7.9"
  }
 },
 "nbformat": 4,
 "nbformat_minor": 5
}
